{
 "cells": [
  {
   "cell_type": "code",
   "execution_count": 1,
   "id": "3e051871-1f83-4476-90f1-f9b689bc547a",
   "metadata": {},
   "outputs": [],
   "source": [
    "load(\"dataset_inf.Rdata\")"
   ]
  },
  {
   "cell_type": "code",
   "execution_count": 2,
   "id": "762d2cc5-88ea-4838-9835-4b57cfc6381a",
   "metadata": {},
   "outputs": [
    {
     "data": {
      "text/html": [
       "<style>\n",
       ".list-inline {list-style: none; margin:0; padding: 0}\n",
       ".list-inline>li {display: inline-block}\n",
       ".list-inline>li:not(:last-child)::after {content: \"\\00b7\"; padding: 0 .5ex}\n",
       "</style>\n",
       "<ol class=list-inline><li>'cpi'</li><li>'fake.testing.X'</li><li>'ppi'</li><li>'X'</li></ol>\n"
      ],
      "text/latex": [
       "\\begin{enumerate*}\n",
       "\\item 'cpi'\n",
       "\\item 'fake.testing.X'\n",
       "\\item 'ppi'\n",
       "\\item 'X'\n",
       "\\end{enumerate*}\n"
      ],
      "text/markdown": [
       "1. 'cpi'\n",
       "2. 'fake.testing.X'\n",
       "3. 'ppi'\n",
       "4. 'X'\n",
       "\n",
       "\n"
      ],
      "text/plain": [
       "[1] \"cpi\"            \"fake.testing.X\" \"ppi\"            \"X\"             "
      ]
     },
     "metadata": {},
     "output_type": "display_data"
    }
   ],
   "source": [
    "ls()"
   ]
  },
  {
   "cell_type": "markdown",
   "id": "36295989-db18-4f9f-850c-f94d8e75b092",
   "metadata": {
    "tags": []
   },
   "source": [
    "### A. Conduct a Principal Component Analysis at first."
   ]
  },
  {
   "cell_type": "code",
   "execution_count": 3,
   "id": "3a4fc2d5-bdba-4f4e-9dfe-3bfa962e5a40",
   "metadata": {},
   "outputs": [],
   "source": [
    "#use all data to do PCA\n",
    "scale_X=scale(X[,-1])\n",
    "xpca=prcomp(scale_X)\n",
    "xdir=as.data.frame(predict(xpca))"
   ]
  },
  {
   "cell_type": "markdown",
   "id": "d8452fd7-91e2-4719-b742-2d8e5c25b48f",
   "metadata": {
    "tags": []
   },
   "source": [
    "#### The first 4 loadings already feature a lot among the data set."
   ]
  },
  {
   "cell_type": "code",
   "execution_count": 4,
   "id": "f7d0b2e8-063f-4446-8a2c-c80fac62253e",
   "metadata": {},
   "outputs": [
    {
     "data": {
      "image/png": "[encoded data removed]",
      "text/plain": [
       "Plot with title \"\""
      ]
     },
     "metadata": {
      "image/png": {
       "height": 420,
       "width": 420
      }
     },
     "output_type": "display_data"
    }
   ],
   "source": [
    "par(mfrow=c(2,2))\n",
    "loadings=xpca$rotation\n",
    "plot(xpca,type = \"l\", main =\"Principal Components\")\n",
    "hist(loadings[,1], main=\"\", xlab=\"1st Principal Component Loadings\",\n",
    "     col=8, border=grey(.9))\n",
    "hist(loadings[,2], main=\"\", xlab=\"2nd Principal Component Loadings\",\n",
    "     col=8, border=grey(.9))\n",
    "hist(loadings[,3], main=\"\", xlab=\"3rd Principal Component Loadings\",\n",
    "     col=8, border=grey(.9))"
   ]
  },
  {
   "cell_type": "markdown",
   "id": "1345d0d7-3e07-4fbe-bde5-d98c0fe022b9",
   "metadata": {
    "tags": []
   },
   "source": [
    "#### High loadings in PC1 are similar. They all indicate a price factor. High loadings in PC2 are similar too, which all indicate an interest rate factor.\n",
    "#### This makes sence because firstly price is the key to the inflation, and secondly interest rate would influence the inflation. Remember a lot of economic theories explain the relationship between inflation and interest rate.\n",
    "#### However, when it comes to PC3, it is hard to conclude any common feature from the high loadings."
   ]
  },
  {
   "cell_type": "code",
   "execution_count": 5,
   "id": "ab0afe5a-a9d8-418d-aadb-4d2b43e7ee76",
   "metadata": {
    "tags": []
   },
   "outputs": [
    {
     "data": {
      "text/html": [
       "<table class=\"dataframe\">\n",
       "<caption>A data.frame: 6 × 1</caption>\n",
       "<thead>\n",
       "\t<tr><th></th><th scope=col>loadings[order(abs(loadings[, 1]), decreasing = TRUE), 1]</th></tr>\n",
       "\t<tr><th></th><th scope=col>&lt;dbl&gt;</th></tr>\n",
       "</thead>\n",
       "<tbody>\n",
       "\t<tr><th scope=row>企业商品价格指数上年同期100_矿产品_当期</th><td>-0.1615486</td></tr>\n",
       "\t<tr><th scope=row>企业商品价格指数上年同期100_当期</th><td>-0.1565425</td></tr>\n",
       "\t<tr><th scope=row>国房景气指数_当期</th><td>-0.1519678</td></tr>\n",
       "\t<tr><th scope=row>工业生产者出厂价格指数上年同期100_原料_当期</th><td>-0.1510111</td></tr>\n",
       "\t<tr><th scope=row>规模以上工业增加值_当期同比实际增速</th><td>-0.1468754</td></tr>\n",
       "\t<tr><th scope=row>工业生产者出厂价格指数上年同期100_当期</th><td>-0.1464410</td></tr>\n",
       "</tbody>\n",
       "</table>\n"
      ],
      "text/latex": [
       "A data.frame: 6 × 1\n",
       "\\begin{tabular}{r|l}\n",
       "  & loadings{[}order(abs(loadings{[}, 1{]}), decreasing = TRUE), 1{]}\\\\\n",
       "  & <dbl>\\\\\n",
       "\\hline\n",
       "\t企业商品价格指数上年同期100\\_矿产品\\_当期 & -0.1615486\\\\\n",
       "\t企业商品价格指数上年同期100\\_当期 & -0.1565425\\\\\n",
       "\t国房景气指数\\_当期 & -0.1519678\\\\\n",
       "\t工业生产者出厂价格指数上年同期100\\_原料\\_当期 & -0.1510111\\\\\n",
       "\t规模以上工业增加值\\_当期同比实际增速 & -0.1468754\\\\\n",
       "\t工业生产者出厂价格指数上年同期100\\_当期 & -0.1464410\\\\\n",
       "\\end{tabular}\n"
      ],
      "text/markdown": [
       "\n",
       "A data.frame: 6 × 1\n",
       "\n",
       "| <!--/--> | loadings[order(abs(loadings[, 1]), decreasing = TRUE), 1] &lt;dbl&gt; |\n",
       "|---|---|\n",
       "| 企业商品价格指数上年同期100_矿产品_当期 | -0.1615486 |\n",
       "| 企业商品价格指数上年同期100_当期 | -0.1565425 |\n",
       "| 国房景气指数_当期 | -0.1519678 |\n",
       "| 工业生产者出厂价格指数上年同期100_原料_当期 | -0.1510111 |\n",
       "| 规模以上工业增加值_当期同比实际增速 | -0.1468754 |\n",
       "| 工业生产者出厂价格指数上年同期100_当期 | -0.1464410 |\n",
       "\n"
      ],
      "text/plain": [
       "                                            loadings[order(abs(loadings[, 1]), decreasing = TRUE), 1]\n",
       "企业商品价格指数上年同期100_矿产品_当期     -0.1615486                                               \n",
       "企业商品价格指数上年同期100_当期            -0.1565425                                               \n",
       "国房景气指数_当期                           -0.1519678                                               \n",
       "工业生产者出厂价格指数上年同期100_原料_当期 -0.1510111                                               \n",
       "规模以上工业增加值_当期同比实际增速         -0.1468754                                               \n",
       "工业生产者出厂价格指数上年同期100_当期      -0.1464410                                               "
      ]
     },
     "metadata": {},
     "output_type": "display_data"
    },
    {
     "data": {
      "text/html": [
       "<table class=\"dataframe\">\n",
       "<caption>A data.frame: 6 × 1</caption>\n",
       "<thead>\n",
       "\t<tr><th></th><th scope=col>loadings[order(abs(loadings[, 2]), decreasing = TRUE), 2]</th></tr>\n",
       "\t<tr><th></th><th scope=col>&lt;dbl&gt;</th></tr>\n",
       "</thead>\n",
       "<tbody>\n",
       "\t<tr><th scope=row>工业生产者购进价格指数上年同期100_木材及纸浆类_当期</th><td>-0.1471566</td></tr>\n",
       "\t<tr><th scope=row>中债银行间债券总指数收益率</th><td>-0.1471133</td></tr>\n",
       "\t<tr><th scope=row>中债固定利率债券指数收益率</th><td>-0.1469681</td></tr>\n",
       "\t<tr><th scope=row>中债中短期债券指数收益率</th><td>-0.1459921</td></tr>\n",
       "\t<tr><th scope=row>中债综合指数收益率</th><td>-0.1459845</td></tr>\n",
       "\t<tr><th scope=row>中债国债到期收益率3年_一阶差分</th><td> 0.1453954</td></tr>\n",
       "</tbody>\n",
       "</table>\n"
      ],
      "text/latex": [
       "A data.frame: 6 × 1\n",
       "\\begin{tabular}{r|l}\n",
       "  & loadings{[}order(abs(loadings{[}, 2{]}), decreasing = TRUE), 2{]}\\\\\n",
       "  & <dbl>\\\\\n",
       "\\hline\n",
       "\t工业生产者购进价格指数上年同期100\\_木材及纸浆类\\_当期 & -0.1471566\\\\\n",
       "\t中债银行间债券总指数收益率 & -0.1471133\\\\\n",
       "\t中债固定利率债券指数收益率 & -0.1469681\\\\\n",
       "\t中债中短期债券指数收益率 & -0.1459921\\\\\n",
       "\t中债综合指数收益率 & -0.1459845\\\\\n",
       "\t中债国债到期收益率3年\\_一阶差分 &  0.1453954\\\\\n",
       "\\end{tabular}\n"
      ],
      "text/markdown": [
       "\n",
       "A data.frame: 6 × 1\n",
       "\n",
       "| <!--/--> | loadings[order(abs(loadings[, 2]), decreasing = TRUE), 2] &lt;dbl&gt; |\n",
       "|---|---|\n",
       "| 工业生产者购进价格指数上年同期100_木材及纸浆类_当期 | -0.1471566 |\n",
       "| 中债银行间债券总指数收益率 | -0.1471133 |\n",
       "| 中债固定利率债券指数收益率 | -0.1469681 |\n",
       "| 中债中短期债券指数收益率 | -0.1459921 |\n",
       "| 中债综合指数收益率 | -0.1459845 |\n",
       "| 中债国债到期收益率3年_一阶差分 |  0.1453954 |\n",
       "\n"
      ],
      "text/plain": [
       "                                                    loadings[order(abs(loadings[, 2]), decreasing = TRUE), 2]\n",
       "工业生产者购进价格指数上年同期100_木材及纸浆类_当期 -0.1471566                                               \n",
       "中债银行间债券总指数收益率                          -0.1471133                                               \n",
       "中债固定利率债券指数收益率                          -0.1469681                                               \n",
       "中债中短期债券指数收益率                            -0.1459921                                               \n",
       "中债综合指数收益率                                  -0.1459845                                               \n",
       "中债国债到期收益率3年_一阶差分                       0.1453954                                               "
      ]
     },
     "metadata": {},
     "output_type": "display_data"
    },
    {
     "data": {
      "text/html": [
       "<table class=\"dataframe\">\n",
       "<caption>A data.frame: 6 × 1</caption>\n",
       "<thead>\n",
       "\t<tr><th></th><th scope=col>loadings[order(abs(loadings[, 3]), decreasing = TRUE), 3]</th></tr>\n",
       "\t<tr><th></th><th scope=col>&lt;dbl&gt;</th></tr>\n",
       "</thead>\n",
       "<tbody>\n",
       "\t<tr><th scope=row>金融机构人民币各项存款_期末同比增速</th><td>-0.1950442</td></tr>\n",
       "\t<tr><th scope=row>货币和准货币M2_期末同比增速</th><td>-0.1801703</td></tr>\n",
       "\t<tr><th scope=row>居民消费价格指数上年同期100_衣着_当期</th><td> 0.1705012</td></tr>\n",
       "\t<tr><th scope=row>社会融资规模存量同比增速</th><td>-0.1664006</td></tr>\n",
       "\t<tr><th scope=row>固定资产投资完成额不含农户_当期实际同比增速</th><td>-0.1609939</td></tr>\n",
       "\t<tr><th scope=row>期货成交量_上海期货交易所_当期同比增速</th><td>-0.1587762</td></tr>\n",
       "</tbody>\n",
       "</table>\n"
      ],
      "text/latex": [
       "A data.frame: 6 × 1\n",
       "\\begin{tabular}{r|l}\n",
       "  & loadings{[}order(abs(loadings{[}, 3{]}), decreasing = TRUE), 3{]}\\\\\n",
       "  & <dbl>\\\\\n",
       "\\hline\n",
       "\t金融机构人民币各项存款\\_期末同比增速 & -0.1950442\\\\\n",
       "\t货币和准货币M2\\_期末同比增速 & -0.1801703\\\\\n",
       "\t居民消费价格指数上年同期100\\_衣着\\_当期 &  0.1705012\\\\\n",
       "\t社会融资规模存量同比增速 & -0.1664006\\\\\n",
       "\t固定资产投资完成额不含农户\\_当期实际同比增速 & -0.1609939\\\\\n",
       "\t期货成交量\\_上海期货交易所\\_当期同比增速 & -0.1587762\\\\\n",
       "\\end{tabular}\n"
      ],
      "text/markdown": [
       "\n",
       "A data.frame: 6 × 1\n",
       "\n",
       "| <!--/--> | loadings[order(abs(loadings[, 3]), decreasing = TRUE), 3] &lt;dbl&gt; |\n",
       "|---|---|\n",
       "| 金融机构人民币各项存款_期末同比增速 | -0.1950442 |\n",
       "| 货币和准货币M2_期末同比增速 | -0.1801703 |\n",
       "| 居民消费价格指数上年同期100_衣着_当期 |  0.1705012 |\n",
       "| 社会融资规模存量同比增速 | -0.1664006 |\n",
       "| 固定资产投资完成额不含农户_当期实际同比增速 | -0.1609939 |\n",
       "| 期货成交量_上海期货交易所_当期同比增速 | -0.1587762 |\n",
       "\n"
      ],
      "text/plain": [
       "                                            loadings[order(abs(loadings[, 3]), decreasing = TRUE), 3]\n",
       "金融机构人民币各项存款_期末同比增速         -0.1950442                                               \n",
       "货币和准货币M2_期末同比增速                 -0.1801703                                               \n",
       "居民消费价格指数上年同期100_衣着_当期        0.1705012                                               \n",
       "社会融资规模存量同比增速                    -0.1664006                                               \n",
       "固定资产投资完成额不含农户_当期实际同比增速 -0.1609939                                               \n",
       "期货成交量_上海期货交易所_当期同比增速      -0.1587762                                               "
      ]
     },
     "metadata": {},
     "output_type": "display_data"
    }
   ],
   "source": [
    "head(as.data.frame(loadings[order(abs(loadings[,1]),decreasing=TRUE),1]))\n",
    "head(as.data.frame(loadings[order(abs(loadings[,2]),decreasing=TRUE),2]))\n",
    "head(as.data.frame(loadings[order(abs(loadings[,3]),decreasing=TRUE),3]))"
   ]
  },
  {
   "cell_type": "markdown",
   "id": "1ef4e7e2-93fe-41a8-959d-19c937a7693f",
   "metadata": {
    "tags": []
   },
   "source": [
    "#### It is more clear if the observations are plotted by groups. In the left graph, the observations are divided by the mean of a price variable, and in the right graph, divided by the mean of an interest rate variable."
   ]
  },
  {
   "cell_type": "code",
   "execution_count": 6,
   "id": "f1abd1fe-408b-4232-aa96-ab91c343124a",
   "metadata": {},
   "outputs": [
    {
     "data": {
      "image/png": "[encoded data removed]",
      "text/plain": [
       "Plot with title \"中债综合指数收益率\""
      ]
     },
     "metadata": {
      "image/png": {
       "height": 420,
       "width": 420
      }
     },
     "output_type": "display_data"
    }
   ],
   "source": [
    "f1=scale_X[,'企业商品价格指数上年同期100_当期']\n",
    "m_f1=mean(f1)\n",
    "f2=scale_X[,'中债综合指数收益率']\n",
    "m_f2=mean(f2)\n",
    "par(mfrow=c(2,2))\n",
    "plot(xdir[,1:2], pch=21,bg=(c(2,3))[factor(f1<m_f1)], main=\"企业商品价格指数上年同期100_当期\")\n",
    "plot(xdir[,1:2], pch=21,bg=(c(2,3))[factor(f2<m_f2)], main=\"中债综合指数收益率\")"
   ]
  },
  {
   "cell_type": "markdown",
   "id": "eda67bc1-d7d1-4692-b1f3-51c3f2070588",
   "metadata": {
    "tags": []
   },
   "source": [
    "### B. Fit a time series factor model "
   ]
  },
  {
   "cell_type": "markdown",
   "id": "26a52e8f-5e9d-4612-af25-346fdc6d52c8",
   "metadata": {
    "tags": []
   },
   "source": [
    "#### Data preparation\n",
    "##### Since the useful cpi and ppi number is 144 (period 25 to 168 since we need lag 12), we partition the data into 10 different data to conduct time series cross validation. For example, train data 1:108 and test data 109:135; train data 2:109 and test data 110:136; e.g."
   ]
  },
  {
   "cell_type": "code",
   "execution_count": 7,
   "id": "4a392cf5-9c52-4db2-8032-30ccbb5e71a6",
   "metadata": {},
   "outputs": [],
   "source": [
    "lncpi=log(cpi[13:168,2])-log(cpi[1:156,2])\n",
    "lnppi=log(ppi[13:168,2])-log(ppi[1:156,2])\n",
    "\n",
    "cpi_t=lncpi[13:156]\n",
    "cpi_t_1=lncpi[12:155]\n",
    "cpi_t_2=lncpi[11:154]\n",
    "cpi_t_12=lncpi[1:144]\n",
    "\n",
    "ppi_t=lnppi[13:156]\n",
    "ppi_t_1=lnppi[12:155]\n",
    "ppi_t_2=lnppi[11:154]\n",
    "ppi_t_12=lnppi[1:144]"
   ]
  },
  {
   "cell_type": "code",
   "execution_count": 8,
   "id": "cbc393ae-c80b-4bdd-8cf2-c6210cbdba0a",
   "metadata": {},
   "outputs": [],
   "source": [
    "table_best=function(table_oosr2){\n",
    "    best_pc_cpi=rep(0,t)\n",
    "    best_pc_ppi=rep(0,t)\n",
    "    best_oosr2_cpi=rep(0,t)\n",
    "    best_oosr2_ppi=rep(0,t)\n",
    "    for (i in 1:t){\n",
    "        temp=table_oosr2[table_oosr2[,'#CV']==i,]\n",
    "        n=which.max(temp[,3])\n",
    "        best_pc_cpi[i]=temp[n,'#PC']\n",
    "        best_oosr2_cpi[i]=best_oosr2_cpi[i]+temp[n,3]\n",
    "    \n",
    "        temp=table_oosr2[table_oosr2[,'#CV']==i,]\n",
    "        n=which.max(temp[,4])\n",
    "        best_pc_ppi[i]=temp[n,'#PC']\n",
    "        best_oosr2_ppi[i]=best_oosr2_ppi[i]+temp[n,4]\n",
    "        }\n",
    "    cpi_best=cbind(best_pc_cpi,best_oosr2_cpi)\n",
    "    ppi_best=cbind(best_pc_ppi,best_oosr2_ppi)\n",
    "    table_best=cbind(cpi_best,ppi_best)\n",
    "    table_best=cbind('#CV'=seq(1,t),table_best)\n",
    "    return(table_best)\n",
    "    }"
   ]
  },
  {
   "cell_type": "markdown",
   "id": "782690e8-0482-4a06-977d-7913481766c3",
   "metadata": {
    "tags": []
   },
   "source": [
    "#### When fitting the model, 3 main problems appear."
   ]
  },
  {
   "cell_type": "markdown",
   "id": "33ee4121-1936-405d-97df-64cf2da1bd09",
   "metadata": {},
   "source": [
    "##### 1st Problem: Different PC numbers give VERY different outcomes.\n",
    "##### 2nd Problem: Different train sets give VERY different outcomes."
   ]
  },
  {
   "cell_type": "markdown",
   "id": "68baaff4-046b-4363-ab71-dc266734722d",
   "metadata": {
    "tags": []
   },
   "source": [
    "##### Under basic model:\n",
    "##### $$ y_t=\\alpha+\\beta X_t+e$$\n",
    "##### where the dimension of $X_t$ is reduced by PCA."
   ]
  },
  {
   "cell_type": "code",
   "execution_count": 9,
   "id": "6697fda7-c23d-4d5e-bc6d-cfd4ed5bb367",
   "metadata": {},
   "outputs": [
    {
     "data": {
      "text/html": [
       "<table class=\"dataframe\">\n",
       "<caption>A matrix: 10 × 5 of type dbl</caption>\n",
       "<thead>\n",
       "\t<tr><th scope=col>#CV</th><th scope=col>best_pc_cpi</th><th scope=col>best_oosr2_cpi</th><th scope=col>best_pc_ppi</th><th scope=col>best_oosr2_ppi</th></tr>\n",
       "</thead>\n",
       "<tbody>\n",
       "\t<tr><td> 1</td><td>52</td><td> 0.062958897</td><td> 3</td><td>0.5949628</td></tr>\n",
       "\t<tr><td> 2</td><td>53</td><td> 0.016683108</td><td> 3</td><td>0.5512692</td></tr>\n",
       "\t<tr><td> 3</td><td>54</td><td> 0.001233880</td><td>22</td><td>0.5480883</td></tr>\n",
       "\t<tr><td> 4</td><td>54</td><td>-0.043828469</td><td>21</td><td>0.5933749</td></tr>\n",
       "\t<tr><td> 5</td><td>54</td><td>-0.060625293</td><td>21</td><td>0.6457537</td></tr>\n",
       "\t<tr><td> 6</td><td>54</td><td>-0.002656752</td><td>21</td><td>0.6955670</td></tr>\n",
       "\t<tr><td> 7</td><td>54</td><td> 0.016477799</td><td>21</td><td>0.7644020</td></tr>\n",
       "\t<tr><td> 8</td><td>54</td><td> 0.172945801</td><td>32</td><td>0.8278961</td></tr>\n",
       "\t<tr><td> 9</td><td>54</td><td> 0.302561335</td><td>32</td><td>0.8735299</td></tr>\n",
       "\t<tr><td>10</td><td>56</td><td> 0.277399806</td><td>32</td><td>0.9016391</td></tr>\n",
       "</tbody>\n",
       "</table>\n"
      ],
      "text/latex": [
       "A matrix: 10 × 5 of type dbl\n",
       "\\begin{tabular}{lllll}\n",
       " \\#CV & best\\_pc\\_cpi & best\\_oosr2\\_cpi & best\\_pc\\_ppi & best\\_oosr2\\_ppi\\\\\n",
       "\\hline\n",
       "\t  1 & 52 &  0.062958897 &  3 & 0.5949628\\\\\n",
       "\t  2 & 53 &  0.016683108 &  3 & 0.5512692\\\\\n",
       "\t  3 & 54 &  0.001233880 & 22 & 0.5480883\\\\\n",
       "\t  4 & 54 & -0.043828469 & 21 & 0.5933749\\\\\n",
       "\t  5 & 54 & -0.060625293 & 21 & 0.6457537\\\\\n",
       "\t  6 & 54 & -0.002656752 & 21 & 0.6955670\\\\\n",
       "\t  7 & 54 &  0.016477799 & 21 & 0.7644020\\\\\n",
       "\t  8 & 54 &  0.172945801 & 32 & 0.8278961\\\\\n",
       "\t  9 & 54 &  0.302561335 & 32 & 0.8735299\\\\\n",
       "\t 10 & 56 &  0.277399806 & 32 & 0.9016391\\\\\n",
       "\\end{tabular}\n"
      ],
      "text/markdown": [
       "\n",
       "A matrix: 10 × 5 of type dbl\n",
       "\n",
       "| #CV | best_pc_cpi | best_oosr2_cpi | best_pc_ppi | best_oosr2_ppi |\n",
       "|---|---|---|---|---|\n",
       "|  1 | 52 |  0.062958897 |  3 | 0.5949628 |\n",
       "|  2 | 53 |  0.016683108 |  3 | 0.5512692 |\n",
       "|  3 | 54 |  0.001233880 | 22 | 0.5480883 |\n",
       "|  4 | 54 | -0.043828469 | 21 | 0.5933749 |\n",
       "|  5 | 54 | -0.060625293 | 21 | 0.6457537 |\n",
       "|  6 | 54 | -0.002656752 | 21 | 0.6955670 |\n",
       "|  7 | 54 |  0.016477799 | 21 | 0.7644020 |\n",
       "|  8 | 54 |  0.172945801 | 32 | 0.8278961 |\n",
       "|  9 | 54 |  0.302561335 | 32 | 0.8735299 |\n",
       "| 10 | 56 |  0.277399806 | 32 | 0.9016391 |\n",
       "\n"
      ],
      "text/plain": [
       "      #CV best_pc_cpi best_oosr2_cpi best_pc_ppi best_oosr2_ppi\n",
       " [1,]  1  52           0.062958897    3          0.5949628     \n",
       " [2,]  2  53           0.016683108    3          0.5512692     \n",
       " [3,]  3  54           0.001233880   22          0.5480883     \n",
       " [4,]  4  54          -0.043828469   21          0.5933749     \n",
       " [5,]  5  54          -0.060625293   21          0.6457537     \n",
       " [6,]  6  54          -0.002656752   21          0.6955670     \n",
       " [7,]  7  54           0.016477799   21          0.7644020     \n",
       " [8,]  8  54           0.172945801   32          0.8278961     \n",
       " [9,]  9  54           0.302561335   32          0.8735299     \n",
       "[10,] 10  56           0.277399806   32          0.9016391     "
      ]
     },
     "metadata": {},
     "output_type": "display_data"
    }
   ],
   "source": [
    "#For Pb1:\n",
    "k=100 #max PC number\n",
    "l=2 #min PC number\n",
    "#For Pb2:\n",
    "s=107 #partition train data from 1:s+1, test set from s+2:135\n",
    "      #better no more than 107 since 135X0.8=108\n",
    "OOSR2_cpi_fun=function(fit){\n",
    "    var_test_cpi_t=var(test_cpi_t)\n",
    "    test_data=test_X_t\n",
    "    colnames(test_data)=seq(1,j)\n",
    "    pred_y=predict(fit,as.data.frame(test_data))\n",
    "    OOSR2=1-var(test_cpi_t-pred_y)/var_test_cpi_t\n",
    "    return(OOSR2)\n",
    "    }\n",
    "\n",
    "OOSR2_ppi_fun=function(fit){\n",
    "    var_test_ppi_t=var(test_ppi_t)\n",
    "    test_data=test_X_t\n",
    "    colnames(test_data)=seq(1,j)\n",
    "    pred_y=predict(fit,as.data.frame(test_data))\n",
    "    OOSR2=1-var(test_ppi_t-pred_y)/var_test_ppi_t\n",
    "    return(OOSR2)\n",
    "    }\n",
    "\n",
    "v_oosr2_cpi=rep(0,k-l+1)\n",
    "v_oosr2_ppi=rep(0,k-l+1)\n",
    "table_oosr2=data.frame()\n",
    "X_t=predict(prcomp(scale(X[25:168,-1])))\n",
    "t=10 #CV number\n",
    "for (i in 1:t){\n",
    "    for (j in l:k){\n",
    "        #train data\n",
    "        e=i+s\n",
    "        train_cpi_t=cpi_t[i:e]\n",
    "        train_ppi_t=ppi_t[i:e]\n",
    "        \n",
    "        train_X_t=X_t[i:e,1:j]\n",
    "    \n",
    "        #test data\n",
    "        f=e+1\n",
    "        g=i+134\n",
    "        test_cpi_t=cpi_t[f:g]\n",
    "        test_ppi_t=ppi_t[f:g]\n",
    "        \n",
    "        test_X_t=X_t[f:g,1:j]\n",
    "\n",
    "        #fit model\n",
    "        train_data=train_X_t\n",
    "        colnames(train_data)=seq(1,j)\n",
    "        fit_cpi <- glm(train_cpi_t ~ ., data=as.data.frame(train_data))\n",
    "    \n",
    "        train_data=train_X_t\n",
    "        colnames(train_data)=seq(1,j)\n",
    "        fit_ppi <- glm(train_ppi_t ~ ., data=as.data.frame(train_data))\n",
    "    \n",
    "        #calculate oosr2\n",
    "        u=j-l+1\n",
    "        v_oosr2_cpi[u] = OOSR2_cpi_fun(fit_cpi)\n",
    "        v_oosr2_ppi[u] = OOSR2_ppi_fun(fit_ppi)\n",
    "    }\n",
    "    value=cbind(v_oosr2_cpi,v_oosr2_ppi)\n",
    "    number=cbind('#CV'=rep(i,k-l+1),'#PC'=seq(l,k))\n",
    "    temp=cbind(number,value)\n",
    "    table_oosr2=rbind(table_oosr2,temp)\n",
    "}\n",
    "\n",
    "table_best(table_oosr2)"
   ]
  },
  {
   "cell_type": "markdown",
   "id": "58160dae-d311-4db3-aec5-b42ca13b06f1",
   "metadata": {},
   "source": [
    "##### We can see from the table above that different PC numbers and different train sets would all result in very different outcomes."
   ]
  },
  {
   "cell_type": "markdown",
   "id": "0eeefa6e-3a05-41bf-ae87-ef9e387e78f1",
   "metadata": {
    "tags": []
   },
   "source": [
    "##### 3rd Problem: Different lags give VERY different outcomes."
   ]
  },
  {
   "cell_type": "markdown",
   "id": "4428a1f2-cb1c-4b08-9939-a0061c9c0c9e",
   "metadata": {
    "tags": []
   },
   "source": [
    "##### Under model:\n",
    "##### $$ y_t=\\alpha+\\gamma y_{t-1}+\\beta X_t+e$$\n",
    "##### where the dimension of $X_t$ is reduced by PCA, for each $\\hat{y}_{t+1}$, using predicted $ \\hat{y}_{t} $ as the AR1 variable.\n",
    "##### Repeat the above steps."
   ]
  },
  {
   "cell_type": "code",
   "execution_count": 10,
   "id": "46ab7441-fce4-43d3-82f3-5735def59c6e",
   "metadata": {
    "tags": []
   },
   "outputs": [
    {
     "data": {
      "text/html": [
       "<table class=\"dataframe\">\n",
       "<caption>A matrix: 10 × 5 of type dbl</caption>\n",
       "<thead>\n",
       "\t<tr><th scope=col>#CV</th><th scope=col>best_pc_cpi</th><th scope=col>best_oosr2_cpi</th><th scope=col>best_pc_ppi</th><th scope=col>best_oosr2_ppi</th></tr>\n",
       "</thead>\n",
       "<tbody>\n",
       "\t<tr><td> 1</td><td> 89</td><td>-3.8526945860</td><td> 5</td><td> 0.02002734</td></tr>\n",
       "\t<tr><td> 2</td><td> 89</td><td>-8.3439963794</td><td> 3</td><td>-0.09112098</td></tr>\n",
       "\t<tr><td> 3</td><td>  3</td><td>-0.9182839455</td><td> 4</td><td> 0.08433274</td></tr>\n",
       "\t<tr><td> 4</td><td>100</td><td>-2.0322984645</td><td> 7</td><td>-0.39692220</td></tr>\n",
       "\t<tr><td> 5</td><td> 99</td><td>-0.9043796699</td><td> 7</td><td>-1.95702379</td></tr>\n",
       "\t<tr><td> 6</td><td>  7</td><td>-0.8166398980</td><td> 3</td><td>-3.59144144</td></tr>\n",
       "\t<tr><td> 7</td><td> 99</td><td>-0.8676568883</td><td>22</td><td> 0.41061688</td></tr>\n",
       "\t<tr><td> 8</td><td> 99</td><td>-0.2837312373</td><td>22</td><td> 0.75246969</td></tr>\n",
       "\t<tr><td> 9</td><td> 96</td><td>-0.2660381313</td><td>21</td><td> 0.84749877</td></tr>\n",
       "\t<tr><td>10</td><td>  5</td><td> 0.0006310613</td><td>23</td><td> 0.84602398</td></tr>\n",
       "</tbody>\n",
       "</table>\n"
      ],
      "text/latex": [
       "A matrix: 10 × 5 of type dbl\n",
       "\\begin{tabular}{lllll}\n",
       " \\#CV & best\\_pc\\_cpi & best\\_oosr2\\_cpi & best\\_pc\\_ppi & best\\_oosr2\\_ppi\\\\\n",
       "\\hline\n",
       "\t  1 &  89 & -3.8526945860 &  5 &  0.02002734\\\\\n",
       "\t  2 &  89 & -8.3439963794 &  3 & -0.09112098\\\\\n",
       "\t  3 &   3 & -0.9182839455 &  4 &  0.08433274\\\\\n",
       "\t  4 & 100 & -2.0322984645 &  7 & -0.39692220\\\\\n",
       "\t  5 &  99 & -0.9043796699 &  7 & -1.95702379\\\\\n",
       "\t  6 &   7 & -0.8166398980 &  3 & -3.59144144\\\\\n",
       "\t  7 &  99 & -0.8676568883 & 22 &  0.41061688\\\\\n",
       "\t  8 &  99 & -0.2837312373 & 22 &  0.75246969\\\\\n",
       "\t  9 &  96 & -0.2660381313 & 21 &  0.84749877\\\\\n",
       "\t 10 &   5 &  0.0006310613 & 23 &  0.84602398\\\\\n",
       "\\end{tabular}\n"
      ],
      "text/markdown": [
       "\n",
       "A matrix: 10 × 5 of type dbl\n",
       "\n",
       "| #CV | best_pc_cpi | best_oosr2_cpi | best_pc_ppi | best_oosr2_ppi |\n",
       "|---|---|---|---|---|\n",
       "|  1 |  89 | -3.8526945860 |  5 |  0.02002734 |\n",
       "|  2 |  89 | -8.3439963794 |  3 | -0.09112098 |\n",
       "|  3 |   3 | -0.9182839455 |  4 |  0.08433274 |\n",
       "|  4 | 100 | -2.0322984645 |  7 | -0.39692220 |\n",
       "|  5 |  99 | -0.9043796699 |  7 | -1.95702379 |\n",
       "|  6 |   7 | -0.8166398980 |  3 | -3.59144144 |\n",
       "|  7 |  99 | -0.8676568883 | 22 |  0.41061688 |\n",
       "|  8 |  99 | -0.2837312373 | 22 |  0.75246969 |\n",
       "|  9 |  96 | -0.2660381313 | 21 |  0.84749877 |\n",
       "| 10 |   5 |  0.0006310613 | 23 |  0.84602398 |\n",
       "\n"
      ],
      "text/plain": [
       "      #CV best_pc_cpi best_oosr2_cpi best_pc_ppi best_oosr2_ppi\n",
       " [1,]  1   89         -3.8526945860   5           0.02002734   \n",
       " [2,]  2   89         -8.3439963794   3          -0.09112098   \n",
       " [3,]  3    3         -0.9182839455   4           0.08433274   \n",
       " [4,]  4  100         -2.0322984645   7          -0.39692220   \n",
       " [5,]  5   99         -0.9043796699   7          -1.95702379   \n",
       " [6,]  6    7         -0.8166398980   3          -3.59144144   \n",
       " [7,]  7   99         -0.8676568883  22           0.41061688   \n",
       " [8,]  8   99         -0.2837312373  22           0.75246969   \n",
       " [9,]  9   96         -0.2660381313  21           0.84749877   \n",
       "[10,] 10    5          0.0006310613  23           0.84602398   "
      ]
     },
     "metadata": {},
     "output_type": "display_data"
    }
   ],
   "source": [
    "#For Pb1:\n",
    "k=100 #max PC number\n",
    "l=2 #min PC number\n",
    "#For Pb2:\n",
    "s=107 #partition train data from 1:s+1, test set from s+2:135\n",
    "      #better no more than 107 since 135X0.8=108\n",
    "OOSR2_cpi_fun=function(fit){\n",
    "    h=135-s-1\n",
    "    pred_cpi_t=rep(0,h)\n",
    "    temp_yt1=cpi_t[e]\n",
    "    for (i in 1:h){\n",
    "        pred_X=predict(xpca,test_X_t[i,])[,1:j]\n",
    "        test_data=cbind('yt-1'=temp_yt1,t(pred_X))\n",
    "        pred_cpi_t[i]=predict(fit_cpi,as.data.frame(test_data))\n",
    "        temp_yt1=pred_cpi_t[i]\n",
    "    }\n",
    "    \n",
    "    var_test_cpi_t=var(test_cpi_t)\n",
    "    OOSR2=1-var(test_cpi_t-pred_cpi_t)/var_test_cpi_t\n",
    "    return(OOSR2)\n",
    "    }\n",
    "    \n",
    "OOSR2_ppi_fun=function(fit){\n",
    "    h=135-s-1\n",
    "    pred_ppi_t=rep(0,h)\n",
    "    temp_yt1=ppi_t[e]\n",
    "    for (i in 1:h){\n",
    "        pred_X=predict(xpca,test_X_t[i,])[,1:j]\n",
    "        test_data=cbind('yt-1'=temp_yt1,t(pred_X))\n",
    "        pred_ppi_t[i]=predict(fit_ppi,as.data.frame(test_data))\n",
    "        temp_yt1=pred_ppi_t[i]\n",
    "    }\n",
    "    \n",
    "    var_test_ppi_t=var(test_ppi_t)\n",
    "    OOSR2=1-var(test_ppi_t-pred_ppi_t)/var_test_ppi_t\n",
    "    return(OOSR2)\n",
    "    }\n",
    "    \n",
    "v_oosr2_cpi=rep(0,k-l+1)\n",
    "v_oosr2_ppi=rep(0,k-l+1)\n",
    "table_oosr2=data.frame()\n",
    "X_t=X[25:168,-1]\n",
    "t=10 #CV number\n",
    "for (i in 1:t){\n",
    "    #train data\n",
    "    e=i+s\n",
    "    xpca=prcomp(scale(X_t[i:e,-1]))\n",
    "    xdir=predict(xpca)\n",
    "    train_cpi_t=cpi_t[i:e]\n",
    "    train_cpi_t_1=cpi_t_1[i:e]\n",
    "    train_ppi_t=ppi_t[i:e]\n",
    "    train_ppi_t_1=ppi_t_1[i:e]\n",
    "    \n",
    "    for (j in l:k){\n",
    "        train_X_t=xdir[,1:j]\n",
    "        #test data\n",
    "        f=e+1\n",
    "        g=i+134\n",
    "        test_cpi_t=cpi_t[f:g]\n",
    "        test_ppi_t=ppi_t[f:g]\n",
    "        test_X_t=X_t[f:g,]\n",
    "        \n",
    "        #fit model\n",
    "        train_data=cbind('yt-1'=train_cpi_t_1,train_X_t)\n",
    "        fit_cpi <- glm(train_cpi_t ~ ., data=as.data.frame(train_data))\n",
    "    \n",
    "        train_data=cbind('yt-1'=train_ppi_t_1,train_X_t)\n",
    "        fit_ppi <- glm(train_ppi_t ~ ., data=as.data.frame(train_data))\n",
    "        \n",
    "        #calculate oosr2\n",
    "        u=j-l+1\n",
    "        v_oosr2_cpi[u] = OOSR2_cpi_fun(fit_cpi)\n",
    "        v_oosr2_ppi[u] = OOSR2_ppi_fun(fit_ppi)\n",
    "    }\n",
    "    value=cbind(v_oosr2_cpi,v_oosr2_ppi)\n",
    "    number=cbind('#CV'=rep(i,k-l+1),'#PC'=seq(l,k))\n",
    "    temp=cbind(number,value)\n",
    "    table_oosr2=rbind(table_oosr2,temp)\n",
    "}\n",
    "\n",
    "table_best(table_oosr2)"
   ]
  },
  {
   "cell_type": "markdown",
   "id": "bd3c5983-45bf-4318-b989-22af36a91a05",
   "metadata": {},
   "source": [
    "##### The outcome is getting worse. So we don't think it is good to use AR1 since we would use predicted value to predict."
   ]
  },
  {
   "cell_type": "markdown",
   "id": "a84dd538-e691-4128-812c-6c523fd45a48",
   "metadata": {},
   "source": [
    "##### Under model:\n",
    "##### $$ y_t=\\alpha+\\beta_1 X_t+\\beta_2 X_{t-12}+e$$\n",
    "##### where first cbind $X_t$ and $X_{t-12}$, and then reduce the dimension of by PCA.\n",
    "##### We use both OLS and Random Forest to fit the factor model."
   ]
  },
  {
   "cell_type": "code",
   "execution_count": 11,
   "id": "82f7e8b7-9665-4e09-abc6-044ecdd318cd",
   "metadata": {},
   "outputs": [
    {
     "name": "stderr",
     "output_type": "stream",
     "text": [
      "randomForest 4.7-1.1\n",
      "\n",
      "Type rfNews() to see new features/changes/bug fixes.\n",
      "\n"
     ]
    }
   ],
   "source": [
    "library(randomForest)"
   ]
  },
  {
   "cell_type": "code",
   "execution_count": 12,
   "id": "9c124c38-4f2a-4d9b-8831-81546b4ebedf",
   "metadata": {},
   "outputs": [
    {
     "data": {
      "text/html": [
       "<table class=\"dataframe\">\n",
       "<caption>A matrix: 10 × 5 of type dbl</caption>\n",
       "<thead>\n",
       "\t<tr><th scope=col>#CV</th><th scope=col>best_pc_cpi</th><th scope=col>best_oosr2_cpi</th><th scope=col>best_pc_ppi</th><th scope=col>best_oosr2_ppi</th></tr>\n",
       "</thead>\n",
       "<tbody>\n",
       "\t<tr><td> 1</td><td>58</td><td>0.3834204</td><td>40</td><td>0.9208017</td></tr>\n",
       "\t<tr><td> 2</td><td>58</td><td>0.4359224</td><td>44</td><td>0.9185875</td></tr>\n",
       "\t<tr><td> 3</td><td>59</td><td>0.4393418</td><td>44</td><td>0.9190998</td></tr>\n",
       "\t<tr><td> 4</td><td>59</td><td>0.4269779</td><td>43</td><td>0.9178469</td></tr>\n",
       "\t<tr><td> 5</td><td>60</td><td>0.3985725</td><td>43</td><td>0.9257458</td></tr>\n",
       "\t<tr><td> 6</td><td>59</td><td>0.3457073</td><td>47</td><td>0.9465313</td></tr>\n",
       "\t<tr><td> 7</td><td>59</td><td>0.3829022</td><td>60</td><td>0.9639440</td></tr>\n",
       "\t<tr><td> 8</td><td>59</td><td>0.4172123</td><td>59</td><td>0.9724432</td></tr>\n",
       "\t<tr><td> 9</td><td>59</td><td>0.4232951</td><td>71</td><td>0.9758013</td></tr>\n",
       "\t<tr><td>10</td><td>73</td><td>0.2973776</td><td>47</td><td>0.9734390</td></tr>\n",
       "</tbody>\n",
       "</table>\n"
      ],
      "text/latex": [
       "A matrix: 10 × 5 of type dbl\n",
       "\\begin{tabular}{lllll}\n",
       " \\#CV & best\\_pc\\_cpi & best\\_oosr2\\_cpi & best\\_pc\\_ppi & best\\_oosr2\\_ppi\\\\\n",
       "\\hline\n",
       "\t  1 & 58 & 0.3834204 & 40 & 0.9208017\\\\\n",
       "\t  2 & 58 & 0.4359224 & 44 & 0.9185875\\\\\n",
       "\t  3 & 59 & 0.4393418 & 44 & 0.9190998\\\\\n",
       "\t  4 & 59 & 0.4269779 & 43 & 0.9178469\\\\\n",
       "\t  5 & 60 & 0.3985725 & 43 & 0.9257458\\\\\n",
       "\t  6 & 59 & 0.3457073 & 47 & 0.9465313\\\\\n",
       "\t  7 & 59 & 0.3829022 & 60 & 0.9639440\\\\\n",
       "\t  8 & 59 & 0.4172123 & 59 & 0.9724432\\\\\n",
       "\t  9 & 59 & 0.4232951 & 71 & 0.9758013\\\\\n",
       "\t 10 & 73 & 0.2973776 & 47 & 0.9734390\\\\\n",
       "\\end{tabular}\n"
      ],
      "text/markdown": [
       "\n",
       "A matrix: 10 × 5 of type dbl\n",
       "\n",
       "| #CV | best_pc_cpi | best_oosr2_cpi | best_pc_ppi | best_oosr2_ppi |\n",
       "|---|---|---|---|---|\n",
       "|  1 | 58 | 0.3834204 | 40 | 0.9208017 |\n",
       "|  2 | 58 | 0.4359224 | 44 | 0.9185875 |\n",
       "|  3 | 59 | 0.4393418 | 44 | 0.9190998 |\n",
       "|  4 | 59 | 0.4269779 | 43 | 0.9178469 |\n",
       "|  5 | 60 | 0.3985725 | 43 | 0.9257458 |\n",
       "|  6 | 59 | 0.3457073 | 47 | 0.9465313 |\n",
       "|  7 | 59 | 0.3829022 | 60 | 0.9639440 |\n",
       "|  8 | 59 | 0.4172123 | 59 | 0.9724432 |\n",
       "|  9 | 59 | 0.4232951 | 71 | 0.9758013 |\n",
       "| 10 | 73 | 0.2973776 | 47 | 0.9734390 |\n",
       "\n"
      ],
      "text/plain": [
       "      #CV best_pc_cpi best_oosr2_cpi best_pc_ppi best_oosr2_ppi\n",
       " [1,]  1  58          0.3834204      40          0.9208017     \n",
       " [2,]  2  58          0.4359224      44          0.9185875     \n",
       " [3,]  3  59          0.4393418      44          0.9190998     \n",
       " [4,]  4  59          0.4269779      43          0.9178469     \n",
       " [5,]  5  60          0.3985725      43          0.9257458     \n",
       " [6,]  6  59          0.3457073      47          0.9465313     \n",
       " [7,]  7  59          0.3829022      60          0.9639440     \n",
       " [8,]  8  59          0.4172123      59          0.9724432     \n",
       " [9,]  9  59          0.4232951      71          0.9758013     \n",
       "[10,] 10  73          0.2973776      47          0.9734390     "
      ]
     },
     "metadata": {},
     "output_type": "display_data"
    },
    {
     "data": {
      "text/html": [
       "<table class=\"dataframe\">\n",
       "<caption>A matrix: 10 × 5 of type dbl</caption>\n",
       "<thead>\n",
       "\t<tr><th scope=col>#CV</th><th scope=col>best_pc_cpi</th><th scope=col>best_oosr2_cpi</th><th scope=col>best_pc_ppi</th><th scope=col>best_oosr2_ppi</th></tr>\n",
       "</thead>\n",
       "<tbody>\n",
       "\t<tr><td> 1</td><td>4</td><td>-0.29394391</td><td> 3</td><td>0.2857552</td></tr>\n",
       "\t<tr><td> 2</td><td>5</td><td>-0.16788227</td><td> 3</td><td>0.2526062</td></tr>\n",
       "\t<tr><td> 3</td><td>5</td><td>-0.06192212</td><td> 3</td><td>0.2254426</td></tr>\n",
       "\t<tr><td> 4</td><td>3</td><td>-0.16679885</td><td> 3</td><td>0.2067899</td></tr>\n",
       "\t<tr><td> 5</td><td>4</td><td>-0.07671133</td><td> 3</td><td>0.2155045</td></tr>\n",
       "\t<tr><td> 6</td><td>4</td><td>-0.13676166</td><td> 3</td><td>0.2182890</td></tr>\n",
       "\t<tr><td> 7</td><td>5</td><td> 0.10569185</td><td>33</td><td>0.2200247</td></tr>\n",
       "\t<tr><td> 8</td><td>5</td><td> 0.23911793</td><td> 4</td><td>0.1899190</td></tr>\n",
       "\t<tr><td> 9</td><td>5</td><td> 0.33664279</td><td> 3</td><td>0.2321367</td></tr>\n",
       "\t<tr><td>10</td><td>4</td><td> 0.46377466</td><td> 3</td><td>0.3365364</td></tr>\n",
       "</tbody>\n",
       "</table>\n"
      ],
      "text/latex": [
       "A matrix: 10 × 5 of type dbl\n",
       "\\begin{tabular}{lllll}\n",
       " \\#CV & best\\_pc\\_cpi & best\\_oosr2\\_cpi & best\\_pc\\_ppi & best\\_oosr2\\_ppi\\\\\n",
       "\\hline\n",
       "\t  1 & 4 & -0.29394391 &  3 & 0.2857552\\\\\n",
       "\t  2 & 5 & -0.16788227 &  3 & 0.2526062\\\\\n",
       "\t  3 & 5 & -0.06192212 &  3 & 0.2254426\\\\\n",
       "\t  4 & 3 & -0.16679885 &  3 & 0.2067899\\\\\n",
       "\t  5 & 4 & -0.07671133 &  3 & 0.2155045\\\\\n",
       "\t  6 & 4 & -0.13676166 &  3 & 0.2182890\\\\\n",
       "\t  7 & 5 &  0.10569185 & 33 & 0.2200247\\\\\n",
       "\t  8 & 5 &  0.23911793 &  4 & 0.1899190\\\\\n",
       "\t  9 & 5 &  0.33664279 &  3 & 0.2321367\\\\\n",
       "\t 10 & 4 &  0.46377466 &  3 & 0.3365364\\\\\n",
       "\\end{tabular}\n"
      ],
      "text/markdown": [
       "\n",
       "A matrix: 10 × 5 of type dbl\n",
       "\n",
       "| #CV | best_pc_cpi | best_oosr2_cpi | best_pc_ppi | best_oosr2_ppi |\n",
       "|---|---|---|---|---|\n",
       "|  1 | 4 | -0.29394391 |  3 | 0.2857552 |\n",
       "|  2 | 5 | -0.16788227 |  3 | 0.2526062 |\n",
       "|  3 | 5 | -0.06192212 |  3 | 0.2254426 |\n",
       "|  4 | 3 | -0.16679885 |  3 | 0.2067899 |\n",
       "|  5 | 4 | -0.07671133 |  3 | 0.2155045 |\n",
       "|  6 | 4 | -0.13676166 |  3 | 0.2182890 |\n",
       "|  7 | 5 |  0.10569185 | 33 | 0.2200247 |\n",
       "|  8 | 5 |  0.23911793 |  4 | 0.1899190 |\n",
       "|  9 | 5 |  0.33664279 |  3 | 0.2321367 |\n",
       "| 10 | 4 |  0.46377466 |  3 | 0.3365364 |\n",
       "\n"
      ],
      "text/plain": [
       "      #CV best_pc_cpi best_oosr2_cpi best_pc_ppi best_oosr2_ppi\n",
       " [1,]  1  4           -0.29394391     3          0.2857552     \n",
       " [2,]  2  5           -0.16788227     3          0.2526062     \n",
       " [3,]  3  5           -0.06192212     3          0.2254426     \n",
       " [4,]  4  3           -0.16679885     3          0.2067899     \n",
       " [5,]  5  4           -0.07671133     3          0.2155045     \n",
       " [6,]  6  4           -0.13676166     3          0.2182890     \n",
       " [7,]  7  5            0.10569185    33          0.2200247     \n",
       " [8,]  8  5            0.23911793     4          0.1899190     \n",
       " [9,]  9  5            0.33664279     3          0.2321367     \n",
       "[10,] 10  4            0.46377466     3          0.3365364     "
      ]
     },
     "metadata": {},
     "output_type": "display_data"
    }
   ],
   "source": [
    "#For Pb1:\n",
    "k=100 #max PC number\n",
    "l=2 #min PC number\n",
    "#For Pb2:\n",
    "s=107 #partition train data from 1:s+1, test set from s+2:135\n",
    "      #better no more than 107 since 135X0.8=108\n",
    "OOSR2_cpi_fun=function(fit){\n",
    "    var_test_cpi_t=var(test_cpi_t)\n",
    "    test_data=test_X_t\n",
    "    pred_y=predict(fit,as.data.frame(test_data))\n",
    "    OOSR2=1-var(test_cpi_t-pred_y)/var_test_cpi_t\n",
    "    return(OOSR2)\n",
    "    }\n",
    "\n",
    "OOSR2_ppi_fun=function(fit){\n",
    "    var_test_ppi_t=var(test_ppi_t)\n",
    "    test_data=test_X_t\n",
    "    pred_y=predict(fit,as.data.frame(test_data))\n",
    "    OOSR2=1-var(test_ppi_t-pred_y)/var_test_ppi_t\n",
    "    return(OOSR2)\n",
    "    }\n",
    "\n",
    "v_oosr2_cpi=rep(0,k-l+1)\n",
    "v_oosr2_ppi=rep(0,k-l+1)\n",
    "rf_oosr2_cpi=rep(0,k-l+1)\n",
    "rf_oosr2_ppi=rep(0,k-l+1)\n",
    "\n",
    "table_oosr2_ols=data.frame()\n",
    "table_oosr2_rf=data.frame()\n",
    "\n",
    "X_t=predict(prcomp(scale(cbind(X[25:168,-1],X[13:156,-1]))))\n",
    "t=10 #CV number\n",
    "for (i in 1:t){\n",
    "    for (j in l:k){\n",
    "        #train data\n",
    "        e=i+s\n",
    "        train_cpi_t=cpi_t[i:e]\n",
    "        train_ppi_t=ppi_t[i:e]\n",
    "        \n",
    "        train_X_t=X_t[i:e,1:j]\n",
    "    \n",
    "        #test data\n",
    "        f=e+1\n",
    "        g=i+134\n",
    "        test_cpi_t=cpi_t[f:g]\n",
    "        test_ppi_t=ppi_t[f:g]\n",
    "        \n",
    "        test_X_t=X_t[f:g,1:j]\n",
    "\n",
    "        #fit model\n",
    "        train_data=train_X_t\n",
    "        \n",
    "        fit_cpi <- glm(train_cpi_t ~ ., data=as.data.frame(train_data))\n",
    "        fit_ppi <- glm(train_ppi_t ~ ., data=as.data.frame(train_data))\n",
    "        \n",
    "        rf_cpi <- randomForest(train_cpi_t ~ ., data=as.data.frame(train_data))\n",
    "        rf_ppi <- randomForest(train_ppi_t ~ ., data=as.data.frame(train_data))\n",
    "        \n",
    "        #calculate oosr2\n",
    "        u=j-l+1\n",
    "        v_oosr2_cpi[u] = OOSR2_cpi_fun(fit_cpi)\n",
    "        v_oosr2_ppi[u] = OOSR2_ppi_fun(fit_ppi)\n",
    "        \n",
    "        rf_oosr2_cpi[u] = OOSR2_cpi_fun(rf_cpi)\n",
    "        rf_oosr2_ppi[u] = OOSR2_ppi_fun(rf_ppi)\n",
    "        \n",
    "    }\n",
    "    value=cbind(v_oosr2_cpi,v_oosr2_ppi)\n",
    "    number=cbind('#CV'=rep(i,k-l+1),'#PC'=seq(l,k))\n",
    "    temp=cbind(number,value)\n",
    "    table_oosr2_ols=rbind(table_oosr2_ols,temp)\n",
    "    \n",
    "    value=cbind(rf_oosr2_cpi,rf_oosr2_ppi)\n",
    "    temp=cbind(number,value)\n",
    "    table_oosr2_rf=rbind(table_oosr2_rf,temp)\n",
    "}\n",
    "\n",
    "table_best(table_oosr2_ols)\n",
    "table_best(table_oosr2_rf)"
   ]
  },
  {
   "cell_type": "markdown",
   "id": "3f4b9e52-9b01-4fc7-a22d-bffb85abd50d",
   "metadata": {},
   "source": [
    "##### It is clearly that Random Forest outcome is worse than ols."
   ]
  },
  {
   "cell_type": "markdown",
   "id": "633c366d-67ec-4345-9120-4e90464e1102",
   "metadata": {},
   "source": [
    "##### Under model:\n",
    "##### $$ y_t=\\alpha+\\beta_1 X_t+\\beta_2 X_{t-1} +\\beta_3 X_{t-12}+e$$\n",
    "##### where first cbind $X_t$, $X_{t-1}$ and $X_{t-12}$, and then reduce the dimension of by PCA.\n",
    "##### This time we only do OLS."
   ]
  },
  {
   "cell_type": "code",
   "execution_count": 13,
   "id": "7fc4fdaf-9494-4a75-9286-cfaf830023a2",
   "metadata": {},
   "outputs": [
    {
     "data": {
      "text/html": [
       "<table class=\"dataframe\">\n",
       "<caption>A matrix: 10 × 5 of type dbl</caption>\n",
       "<thead>\n",
       "\t<tr><th scope=col>#CV</th><th scope=col>best_pc_cpi</th><th scope=col>best_oosr2_cpi</th><th scope=col>best_pc_ppi</th><th scope=col>best_oosr2_ppi</th></tr>\n",
       "</thead>\n",
       "<tbody>\n",
       "\t<tr><td> 1</td><td>30</td><td>0.303662792</td><td>55</td><td>0.9160079</td></tr>\n",
       "\t<tr><td> 2</td><td>45</td><td>0.342775165</td><td>58</td><td>0.9309515</td></tr>\n",
       "\t<tr><td> 3</td><td>48</td><td>0.218780067</td><td>61</td><td>0.9351277</td></tr>\n",
       "\t<tr><td> 4</td><td>17</td><td>0.259576347</td><td>58</td><td>0.9455796</td></tr>\n",
       "\t<tr><td> 5</td><td>17</td><td>0.240212108</td><td>57</td><td>0.9493953</td></tr>\n",
       "\t<tr><td> 6</td><td>17</td><td>0.047716091</td><td>57</td><td>0.9674956</td></tr>\n",
       "\t<tr><td> 7</td><td>17</td><td>0.002966696</td><td>58</td><td>0.9706327</td></tr>\n",
       "\t<tr><td> 8</td><td>55</td><td>0.028570872</td><td>54</td><td>0.9834977</td></tr>\n",
       "\t<tr><td> 9</td><td>77</td><td>0.158586609</td><td>69</td><td>0.9714920</td></tr>\n",
       "\t<tr><td>10</td><td>77</td><td>0.150478105</td><td>44</td><td>0.9682543</td></tr>\n",
       "</tbody>\n",
       "</table>\n"
      ],
      "text/latex": [
       "A matrix: 10 × 5 of type dbl\n",
       "\\begin{tabular}{lllll}\n",
       " \\#CV & best\\_pc\\_cpi & best\\_oosr2\\_cpi & best\\_pc\\_ppi & best\\_oosr2\\_ppi\\\\\n",
       "\\hline\n",
       "\t  1 & 30 & 0.303662792 & 55 & 0.9160079\\\\\n",
       "\t  2 & 45 & 0.342775165 & 58 & 0.9309515\\\\\n",
       "\t  3 & 48 & 0.218780067 & 61 & 0.9351277\\\\\n",
       "\t  4 & 17 & 0.259576347 & 58 & 0.9455796\\\\\n",
       "\t  5 & 17 & 0.240212108 & 57 & 0.9493953\\\\\n",
       "\t  6 & 17 & 0.047716091 & 57 & 0.9674956\\\\\n",
       "\t  7 & 17 & 0.002966696 & 58 & 0.9706327\\\\\n",
       "\t  8 & 55 & 0.028570872 & 54 & 0.9834977\\\\\n",
       "\t  9 & 77 & 0.158586609 & 69 & 0.9714920\\\\\n",
       "\t 10 & 77 & 0.150478105 & 44 & 0.9682543\\\\\n",
       "\\end{tabular}\n"
      ],
      "text/markdown": [
       "\n",
       "A matrix: 10 × 5 of type dbl\n",
       "\n",
       "| #CV | best_pc_cpi | best_oosr2_cpi | best_pc_ppi | best_oosr2_ppi |\n",
       "|---|---|---|---|---|\n",
       "|  1 | 30 | 0.303662792 | 55 | 0.9160079 |\n",
       "|  2 | 45 | 0.342775165 | 58 | 0.9309515 |\n",
       "|  3 | 48 | 0.218780067 | 61 | 0.9351277 |\n",
       "|  4 | 17 | 0.259576347 | 58 | 0.9455796 |\n",
       "|  5 | 17 | 0.240212108 | 57 | 0.9493953 |\n",
       "|  6 | 17 | 0.047716091 | 57 | 0.9674956 |\n",
       "|  7 | 17 | 0.002966696 | 58 | 0.9706327 |\n",
       "|  8 | 55 | 0.028570872 | 54 | 0.9834977 |\n",
       "|  9 | 77 | 0.158586609 | 69 | 0.9714920 |\n",
       "| 10 | 77 | 0.150478105 | 44 | 0.9682543 |\n",
       "\n"
      ],
      "text/plain": [
       "      #CV best_pc_cpi best_oosr2_cpi best_pc_ppi best_oosr2_ppi\n",
       " [1,]  1  30          0.303662792    55          0.9160079     \n",
       " [2,]  2  45          0.342775165    58          0.9309515     \n",
       " [3,]  3  48          0.218780067    61          0.9351277     \n",
       " [4,]  4  17          0.259576347    58          0.9455796     \n",
       " [5,]  5  17          0.240212108    57          0.9493953     \n",
       " [6,]  6  17          0.047716091    57          0.9674956     \n",
       " [7,]  7  17          0.002966696    58          0.9706327     \n",
       " [8,]  8  55          0.028570872    54          0.9834977     \n",
       " [9,]  9  77          0.158586609    69          0.9714920     \n",
       "[10,] 10  77          0.150478105    44          0.9682543     "
      ]
     },
     "metadata": {},
     "output_type": "display_data"
    }
   ],
   "source": [
    "#For Pb1:\n",
    "k=100 #max PC number\n",
    "l=2 #min PC number\n",
    "#For Pb2:\n",
    "s=107 #partition train data from 1:s+1, test set from s+2:135\n",
    "      #better no more than 107 since 135X0.8=108\n",
    "OOSR2_cpi_fun=function(fit){\n",
    "    var_test_cpi_t=var(test_cpi_t)\n",
    "    test_data=test_X_t\n",
    "    pred_y=predict(fit,as.data.frame(test_data))\n",
    "    OOSR2=1-var(test_cpi_t-pred_y)/var_test_cpi_t\n",
    "    return(OOSR2)\n",
    "    }\n",
    "\n",
    "OOSR2_ppi_fun=function(fit){\n",
    "    var_test_ppi_t=var(test_ppi_t)\n",
    "    test_data=test_X_t\n",
    "    pred_y=predict(fit,as.data.frame(test_data))\n",
    "    OOSR2=1-var(test_ppi_t-pred_y)/var_test_ppi_t\n",
    "    return(OOSR2)\n",
    "    }\n",
    "\n",
    "v_oosr2_cpi=rep(0,k-l+1)\n",
    "v_oosr2_ppi=rep(0,k-l+1)\n",
    "\n",
    "table_oosr2_ols=data.frame()\n",
    "\n",
    "X_temp=cbind(X[25:168,-1],X[24:167,-1])\n",
    "X_t=predict(prcomp(scale(cbind(X_temp,X[13:156,-1]))))\n",
    "t=10 #CV number\n",
    "for (i in 1:t){\n",
    "    for (j in l:k){\n",
    "        #train data\n",
    "        e=i+s\n",
    "        train_cpi_t=cpi_t[i:e]\n",
    "        train_ppi_t=ppi_t[i:e]\n",
    "        \n",
    "        train_X_t=X_t[i:e,1:j]\n",
    "    \n",
    "        #test data\n",
    "        f=e+1\n",
    "        g=i+134\n",
    "        test_cpi_t=cpi_t[f:g]\n",
    "        test_ppi_t=ppi_t[f:g]\n",
    "        \n",
    "        test_X_t=X_t[f:g,1:j]\n",
    "\n",
    "        #fit model\n",
    "        train_data=train_X_t\n",
    "        \n",
    "        fit_cpi <- glm(train_cpi_t ~ ., data=as.data.frame(train_data))\n",
    "        fit_ppi <- glm(train_ppi_t ~ ., data=as.data.frame(train_data))\n",
    "        \n",
    "        #calculate oosr2\n",
    "        u=j-l+1\n",
    "        v_oosr2_cpi[u] = OOSR2_cpi_fun(fit_cpi)\n",
    "        v_oosr2_ppi[u] = OOSR2_ppi_fun(fit_ppi)\n",
    "        \n",
    "    }\n",
    "    value=cbind(v_oosr2_cpi,v_oosr2_ppi)\n",
    "    number=cbind('#CV'=rep(i,k-l+1),'#PC'=seq(l,k))\n",
    "    temp=cbind(number,value)\n",
    "    table_oosr2_ols=rbind(table_oosr2_ols,temp)\n",
    "}\n",
    "\n",
    "table_best(table_oosr2_ols)"
   ]
  },
  {
   "cell_type": "markdown",
   "id": "7e11fc76-3934-4658-a8bd-5efd65965023",
   "metadata": {},
   "source": [
    "##### Not better than the previous model when adding $X_{t-1}$."
   ]
  },
  {
   "cell_type": "markdown",
   "id": "206f00c2-543c-4bd4-b714-e1f0a55f44e0",
   "metadata": {
    "tags": []
   },
   "source": [
    "##### So what should we lag in order to make the outcome best? To find this, we write a modularized code."
   ]
  },
  {
   "cell_type": "code",
   "execution_count": 14,
   "id": "88561c80-d254-4af9-92bd-785f37c5f366",
   "metadata": {},
   "outputs": [],
   "source": [
    "lncpi=log(cpi[13:168,2])-log(cpi[1:156,2])\n",
    "lnppi=log(ppi[13:168,2])-log(ppi[1:156,2])\n",
    "\n",
    "data=list()\n",
    "for (i in 1:12){\n",
    "    a=25-i\n",
    "    b=168-i\n",
    "    data[[i]]=cbind(X[25:168,-1],X[a:b,-1])\n",
    "}"
   ]
  },
  {
   "cell_type": "markdown",
   "id": "8b3e4f57-c2e9-481b-b035-5cdd6cea7f54",
   "metadata": {
    "tags": []
   },
   "source": [
    "##### Input coefficients here:\n",
    "##### Basic model:\n",
    "##### $$ y_t=\\alpha+\\beta_1 X_t+\\beta_2 X_{t-q}+e $$\n",
    "##### where first cbind $X_t$ and $X_{t-q}$, and then reduce the dimension of by PCA."
   ]
  },
  {
   "cell_type": "code",
   "execution_count": 15,
   "id": "57691737-cb30-4b1d-9ce1-7a64cada7807",
   "metadata": {},
   "outputs": [],
   "source": [
    "q=9 #Xlag period X_{t-q}, >=1\n",
    "k=100 #max PC number\n",
    "l=2 #min PC number\n",
    "s=107 #partition train data from 1:s+1, test set from s+2:135\n",
    "      #better <=107 since 135X0.8=108"
   ]
  },
  {
   "cell_type": "code",
   "execution_count": 16,
   "id": "fcb75899-ed78-4b61-83ff-94189cc32c87",
   "metadata": {
    "tags": []
   },
   "outputs": [
    {
     "data": {
      "text/html": [
       "<table class=\"dataframe\">\n",
       "<caption>A matrix: 10 × 5 of type dbl</caption>\n",
       "<thead>\n",
       "\t<tr><th scope=col>#CV</th><th scope=col>best_pc_cpi</th><th scope=col>best_oosr2_cpi</th><th scope=col>best_pc_ppi</th><th scope=col>best_oosr2_ppi</th></tr>\n",
       "</thead>\n",
       "<tbody>\n",
       "\t<tr><td> 1</td><td>14</td><td>0.1886458</td><td> 8</td><td>0.6791113</td></tr>\n",
       "\t<tr><td> 2</td><td>14</td><td>0.2179057</td><td> 8</td><td>0.6371977</td></tr>\n",
       "\t<tr><td> 3</td><td>14</td><td>0.2921329</td><td> 8</td><td>0.6251604</td></tr>\n",
       "\t<tr><td> 4</td><td>14</td><td>0.4083194</td><td> 8</td><td>0.6224832</td></tr>\n",
       "\t<tr><td> 5</td><td>14</td><td>0.3698473</td><td>10</td><td>0.6224119</td></tr>\n",
       "\t<tr><td> 6</td><td>14</td><td>0.2778944</td><td>18</td><td>0.6106991</td></tr>\n",
       "\t<tr><td> 7</td><td>14</td><td>0.2450124</td><td>18</td><td>0.5925194</td></tr>\n",
       "\t<tr><td> 8</td><td>15</td><td>0.3006603</td><td>23</td><td>0.6751393</td></tr>\n",
       "\t<tr><td> 9</td><td>22</td><td>0.2866547</td><td>67</td><td>0.8187297</td></tr>\n",
       "\t<tr><td>10</td><td>56</td><td>0.0932647</td><td>67</td><td>0.8778347</td></tr>\n",
       "</tbody>\n",
       "</table>\n"
      ],
      "text/latex": [
       "A matrix: 10 × 5 of type dbl\n",
       "\\begin{tabular}{lllll}\n",
       " \\#CV & best\\_pc\\_cpi & best\\_oosr2\\_cpi & best\\_pc\\_ppi & best\\_oosr2\\_ppi\\\\\n",
       "\\hline\n",
       "\t  1 & 14 & 0.1886458 &  8 & 0.6791113\\\\\n",
       "\t  2 & 14 & 0.2179057 &  8 & 0.6371977\\\\\n",
       "\t  3 & 14 & 0.2921329 &  8 & 0.6251604\\\\\n",
       "\t  4 & 14 & 0.4083194 &  8 & 0.6224832\\\\\n",
       "\t  5 & 14 & 0.3698473 & 10 & 0.6224119\\\\\n",
       "\t  6 & 14 & 0.2778944 & 18 & 0.6106991\\\\\n",
       "\t  7 & 14 & 0.2450124 & 18 & 0.5925194\\\\\n",
       "\t  8 & 15 & 0.3006603 & 23 & 0.6751393\\\\\n",
       "\t  9 & 22 & 0.2866547 & 67 & 0.8187297\\\\\n",
       "\t 10 & 56 & 0.0932647 & 67 & 0.8778347\\\\\n",
       "\\end{tabular}\n"
      ],
      "text/markdown": [
       "\n",
       "A matrix: 10 × 5 of type dbl\n",
       "\n",
       "| #CV | best_pc_cpi | best_oosr2_cpi | best_pc_ppi | best_oosr2_ppi |\n",
       "|---|---|---|---|---|\n",
       "|  1 | 14 | 0.1886458 |  8 | 0.6791113 |\n",
       "|  2 | 14 | 0.2179057 |  8 | 0.6371977 |\n",
       "|  3 | 14 | 0.2921329 |  8 | 0.6251604 |\n",
       "|  4 | 14 | 0.4083194 |  8 | 0.6224832 |\n",
       "|  5 | 14 | 0.3698473 | 10 | 0.6224119 |\n",
       "|  6 | 14 | 0.2778944 | 18 | 0.6106991 |\n",
       "|  7 | 14 | 0.2450124 | 18 | 0.5925194 |\n",
       "|  8 | 15 | 0.3006603 | 23 | 0.6751393 |\n",
       "|  9 | 22 | 0.2866547 | 67 | 0.8187297 |\n",
       "| 10 | 56 | 0.0932647 | 67 | 0.8778347 |\n",
       "\n"
      ],
      "text/plain": [
       "      #CV best_pc_cpi best_oosr2_cpi best_pc_ppi best_oosr2_ppi\n",
       " [1,]  1  14          0.1886458       8          0.6791113     \n",
       " [2,]  2  14          0.2179057       8          0.6371977     \n",
       " [3,]  3  14          0.2921329       8          0.6251604     \n",
       " [4,]  4  14          0.4083194       8          0.6224832     \n",
       " [5,]  5  14          0.3698473      10          0.6224119     \n",
       " [6,]  6  14          0.2778944      18          0.6106991     \n",
       " [7,]  7  14          0.2450124      18          0.5925194     \n",
       " [8,]  8  15          0.3006603      23          0.6751393     \n",
       " [9,]  9  22          0.2866547      67          0.8187297     \n",
       "[10,] 10  56          0.0932647      67          0.8778347     "
      ]
     },
     "metadata": {},
     "output_type": "display_data"
    }
   ],
   "source": [
    "OOSR2_cpi_fun=function(fit){\n",
    "    var_test_cpi_t=var(test_cpi_t)\n",
    "    test_data=test_X\n",
    "    pred_y=predict(fit,as.data.frame(test_data))\n",
    "    OOSR2=1-var(test_cpi_t-pred_y)/var_test_cpi_t\n",
    "    return(OOSR2)\n",
    "    }\n",
    "\n",
    "OOSR2_ppi_fun=function(fit){\n",
    "    var_test_ppi_t=var(test_ppi_t)\n",
    "    test_data=test_X\n",
    "    pred_y=predict(fit,as.data.frame(test_data))\n",
    "    OOSR2=1-var(test_ppi_t-pred_y)/var_test_ppi_t\n",
    "    return(OOSR2)\n",
    "    }\n",
    "\n",
    "v_oosr2_cpi=rep(0,k-l+1)\n",
    "v_oosr2_ppi=rep(0,k-l+1)\n",
    "table_oosr2=data.frame()\n",
    "t=10 #CV number\n",
    "\n",
    "xdir=predict(prcomp(scale(data[[q]])))\n",
    "for (i in 1:t){\n",
    "    for (j in l:k){\n",
    "        #train data\n",
    "        e=i+s\n",
    "        train_cpi_t=lncpi[13:156][i:e]\n",
    "        train_ppi_t=lnppi[13:156][i:e]\n",
    "        \n",
    "        train_X=xdir[i:e,1:j]\n",
    "        \n",
    "        #test data\n",
    "        f=e+1\n",
    "        g=i+134\n",
    "        test_cpi_t=lncpi[13:156][f:g]\n",
    "        test_ppi_t=lnppi[13:156][f:g]\n",
    "        \n",
    "        test_X=xdir[f:g,1:j]\n",
    "        \n",
    "        #fit model\n",
    "        train_data=train_X\n",
    "        fit_cpi <- glm(train_cpi_t ~ ., data=as.data.frame(train_data))\n",
    "        fit_ppi <- glm(train_ppi_t ~ ., data=as.data.frame(train_data))\n",
    "        \n",
    "        #calculate oosr2\n",
    "        u=j-l+1\n",
    "        v_oosr2_cpi[u] = OOSR2_cpi_fun(fit_cpi)\n",
    "        v_oosr2_ppi[u] = OOSR2_ppi_fun(fit_ppi)\n",
    "        }\n",
    "    value=cbind(v_oosr2_cpi,v_oosr2_ppi)\n",
    "    number=cbind('#CV'=rep(i,k-l+1),'#PC'=seq(l,k))\n",
    "    temp=cbind(number,value)\n",
    "    table_oosr2=rbind(table_oosr2,temp)\n",
    "}\n",
    "\n",
    "table_best(table_oosr2)"
   ]
  },
  {
   "cell_type": "markdown",
   "id": "4ddb9d6c-a9d5-4186-989f-75e3a350ca16",
   "metadata": {},
   "source": [
    "##### We tried all possible comination, finding that the outcome is also good when adding $X_{t-9}$."
   ]
  },
  {
   "cell_type": "markdown",
   "id": "4d2676d9-4d1b-41ba-8759-b2fd31c067ba",
   "metadata": {},
   "source": [
    "### C. tsCV and auto.arima function"
   ]
  },
  {
   "cell_type": "markdown",
   "id": "81a3e63d-c67c-4e44-9324-20e15c69da43",
   "metadata": {},
   "source": [
    "##### Since the cross validation above is chosen simply, we then use tsCV and auto.arima function to test which is the best X lag."
   ]
  },
  {
   "cell_type": "code",
   "execution_count": 4,
   "id": "dbc8f073-9501-4a47-906c-9459f8f2aac6",
   "metadata": {},
   "outputs": [],
   "source": [
    "lncpi=log(cpi[13:168,2])-log(cpi[1:156,2])\n",
    "lnppi=log(ppi[13:168,2])-log(ppi[1:156,2])"
   ]
  },
  {
   "cell_type": "code",
   "execution_count": 5,
   "id": "39937b3b-a874-48e0-8b3f-f0796de9cebc",
   "metadata": {},
   "outputs": [],
   "source": [
    "cpi_ts <- ts(lncpi, start = c(1, 1), frequency = 12)\n",
    "ppi_ts <- ts(lnppi, start = c(1, 1), frequency = 12)\n",
    "data=list()\n",
    "for (i in 1:12){\n",
    "    a=13-i\n",
    "    b=168-i\n",
    "    data[[i]]=cbind(X[13:168,-1],X[a:b,-1])\n",
    "}\n",
    "X_ts <- ts(data[[12]], start = c(1, 1), frequency = 12)\n",
    "xdir=predict(prcomp(scale(X_ts)))[,1:50]"
   ]
  },
  {
   "cell_type": "code",
   "execution_count": 6,
   "id": "91fa6804-6100-4ba4-8be3-2ae99d501c98",
   "metadata": {},
   "outputs": [],
   "source": [
    "library(forecast)\n",
    "fc=function(y,h,xreg,newxreg){\n",
    "    fit=auto.arima(y,xreg=xreg)\n",
    "    forecast(fit,xreg=newxreg,h=h)\n",
    "    }\n",
    "\n",
    "sq=function(u){u^2}\n",
    "e_cpi=tsCV(cpi_ts,fc,xreg=xdir,h=1)\n",
    "e_ppi=tsCV(ppi_ts,fc,xreg=xdir,h=1)"
   ]
  },
  {
   "cell_type": "code",
   "execution_count": 7,
   "id": "f7165d8c-b126-492c-8b14-4550bac966a2",
   "metadata": {
    "collapsed": true,
    "jupyter": {
     "outputs_hidden": true
    },
    "tags": []
   },
   "outputs": [
    {
     "data": {
      "text/html": [
       "<style>\n",
       ".list-inline {list-style: none; margin:0; padding: 0}\n",
       ".list-inline>li {display: inline-block}\n",
       ".list-inline>li:not(:last-child)::after {content: \"\\00b7\"; padding: 0 .5ex}\n",
       "</style>\n",
       "<ol class=list-inline><li>-0.00747554692664322</li><li>-0.0169800111480445</li><li>-0.018019823245453</li><li>-0.0385229272957888</li><li>0.0166822959858918</li><li>-0.0203778166593661</li><li>0.0150391557435384</li><li>-0.0241624336942332</li><li>0.0356660430961796</li><li>0.0462525398326074</li><li>-0.0059304481128697</li><li>-0.00377906554568351</li><li>-0.0108718174162914</li><li>0.00263829542809894</li><li>-0.00954827723004725</li><li>0.0110522888903535</li><li>0.00767896501960451</li><li>0.0172767691894195</li><li>-0.0194488532679073</li><li>0.00244134278214338</li><li>0.0371108093454478</li><li>-0.0165169535149316</li><li>-0.0195012730821813</li><li>-0.0164670557649372</li><li>0.00813965678529968</li><li>0.00743579483109579</li><li>-0.0167967637279778</li><li>0.00340033443483125</li><li>-0.0202391400639772</li><li>-0.0100048903251001</li><li>-0.0103375387314187</li><li>-0.0316574239946308</li><li>-0.0175755622236325</li><li>-0.0255507396391861</li><li>-0.00485538902969703</li><li>0.0077463344894088</li><li>-0.000919025769102098</li><li>0.00781904511087647</li><li>-0.000724088329067347</li><li>-0.00277279393765648</li><li>-0.00330613887635837</li><li>-0.0020846260895298</li><li>-0.002798510144455</li><li>-0.00701015547191801</li><li>0.0132044004880154</li><li>0.0298818042301287</li><li>0.0025541478874461</li><li>0.00685174933582326</li><li>-0.00774823680382768</li><li>0.00257310506810908</li><li>0.0112709452307071</li><li>-0.0106165329842371</li><li>0.00355392349663777</li><li>-0.00239363501698785</li><li>-0.00854529103548272</li><li>0.00201565470660857</li><li>-0.00361030437220959</li><li>0.0147003600365913</li><li>-0.00903538430243226</li><li>0.00654730704911553</li><li>0.0024404399155132</li><li>-0.00304176402996313</li><li>0.0104457237062039</li><li>-0.00893982797587146</li><li>-0.00117928434262918</li><li>0.0039204971712297</li><li>-0.00597993792732943</li><li>-0.00356484302502879</li><li>-0.00574987897288701</li><li>-0.00159112779215887</li><li>0.00717319548847143</li><li>-0.00194483427484632</li><li>0.011512960911049</li><li>-0.00327183462460406</li><li>-0.00859017032825692</li><li>-0.00401915759463082</li><li>-0.0101478602255906</li><li>0.00161681224415055</li><li>0.00127092922554874</li><li>0.0019255071408005</li><li>-0.000430258046295241</li><li>0.0052532538590724</li><li>0.0117321951441534</li><li>-0.00457680401009814</li><li>0.00180529452169382</li><li>0.00043082885437409</li><li>0.00489080333804185</li><li>0.00637434230313948</li><li>-0.00204553396447626</li><li>0.00183371731753705</li><li>-0.000262682433742624</li><li>-0.000765601953011249</li><li>0.00524431788327628</li><li>-0.00374854726474344</li><li>0.00357269350400006</li><li>-0.00390120317556548</li><li>0.00189034951240322</li><li>-0.00581541042203468</li><li>0.00441337753946344</li><li>-0.00786362419226471</li><li>0.00383337577153491</li><li>-0.000194114266551429</li><li>-0.00392359735057353</li><li>-0.0174012843030267</li></ol>\n"
      ],
      "text/latex": [
       "\\begin{enumerate*}\n",
       "\\item -0.00747554692664322\n",
       "\\item -0.0169800111480445\n",
       "\\item -0.018019823245453\n",
       "\\item -0.0385229272957888\n",
       "\\item 0.0166822959858918\n",
       "\\item -0.0203778166593661\n",
       "\\item 0.0150391557435384\n",
       "\\item -0.0241624336942332\n",
       "\\item 0.0356660430961796\n",
       "\\item 0.0462525398326074\n",
       "\\item -0.0059304481128697\n",
       "\\item -0.00377906554568351\n",
       "\\item -0.0108718174162914\n",
       "\\item 0.00263829542809894\n",
       "\\item -0.00954827723004725\n",
       "\\item 0.0110522888903535\n",
       "\\item 0.00767896501960451\n",
       "\\item 0.0172767691894195\n",
       "\\item -0.0194488532679073\n",
       "\\item 0.00244134278214338\n",
       "\\item 0.0371108093454478\n",
       "\\item -0.0165169535149316\n",
       "\\item -0.0195012730821813\n",
       "\\item -0.0164670557649372\n",
       "\\item 0.00813965678529968\n",
       "\\item 0.00743579483109579\n",
       "\\item -0.0167967637279778\n",
       "\\item 0.00340033443483125\n",
       "\\item -0.0202391400639772\n",
       "\\item -0.0100048903251001\n",
       "\\item -0.0103375387314187\n",
       "\\item -0.0316574239946308\n",
       "\\item -0.0175755622236325\n",
       "\\item -0.0255507396391861\n",
       "\\item -0.00485538902969703\n",
       "\\item 0.0077463344894088\n",
       "\\item -0.000919025769102098\n",
       "\\item 0.00781904511087647\n",
       "\\item -0.000724088329067347\n",
       "\\item -0.00277279393765648\n",
       "\\item -0.00330613887635837\n",
       "\\item -0.0020846260895298\n",
       "\\item -0.002798510144455\n",
       "\\item -0.00701015547191801\n",
       "\\item 0.0132044004880154\n",
       "\\item 0.0298818042301287\n",
       "\\item 0.0025541478874461\n",
       "\\item 0.00685174933582326\n",
       "\\item -0.00774823680382768\n",
       "\\item 0.00257310506810908\n",
       "\\item 0.0112709452307071\n",
       "\\item -0.0106165329842371\n",
       "\\item 0.00355392349663777\n",
       "\\item -0.00239363501698785\n",
       "\\item -0.00854529103548272\n",
       "\\item 0.00201565470660857\n",
       "\\item -0.00361030437220959\n",
       "\\item 0.0147003600365913\n",
       "\\item -0.00903538430243226\n",
       "\\item 0.00654730704911553\n",
       "\\item 0.0024404399155132\n",
       "\\item -0.00304176402996313\n",
       "\\item 0.0104457237062039\n",
       "\\item -0.00893982797587146\n",
       "\\item -0.00117928434262918\n",
       "\\item 0.0039204971712297\n",
       "\\item -0.00597993792732943\n",
       "\\item -0.00356484302502879\n",
       "\\item -0.00574987897288701\n",
       "\\item -0.00159112779215887\n",
       "\\item 0.00717319548847143\n",
       "\\item -0.00194483427484632\n",
       "\\item 0.011512960911049\n",
       "\\item -0.00327183462460406\n",
       "\\item -0.00859017032825692\n",
       "\\item -0.00401915759463082\n",
       "\\item -0.0101478602255906\n",
       "\\item 0.00161681224415055\n",
       "\\item 0.00127092922554874\n",
       "\\item 0.0019255071408005\n",
       "\\item -0.000430258046295241\n",
       "\\item 0.0052532538590724\n",
       "\\item 0.0117321951441534\n",
       "\\item -0.00457680401009814\n",
       "\\item 0.00180529452169382\n",
       "\\item 0.00043082885437409\n",
       "\\item 0.00489080333804185\n",
       "\\item 0.00637434230313948\n",
       "\\item -0.00204553396447626\n",
       "\\item 0.00183371731753705\n",
       "\\item -0.000262682433742624\n",
       "\\item -0.000765601953011249\n",
       "\\item 0.00524431788327628\n",
       "\\item -0.00374854726474344\n",
       "\\item 0.00357269350400006\n",
       "\\item -0.00390120317556548\n",
       "\\item 0.00189034951240322\n",
       "\\item -0.00581541042203468\n",
       "\\item 0.00441337753946344\n",
       "\\item -0.00786362419226471\n",
       "\\item 0.00383337577153491\n",
       "\\item -0.000194114266551429\n",
       "\\item -0.00392359735057353\n",
       "\\item -0.0174012843030267\n",
       "\\end{enumerate*}\n"
      ],
      "text/markdown": [
       "1. -0.00747554692664322\n",
       "2. -0.0169800111480445\n",
       "3. -0.018019823245453\n",
       "4. -0.0385229272957888\n",
       "5. 0.0166822959858918\n",
       "6. -0.0203778166593661\n",
       "7. 0.0150391557435384\n",
       "8. -0.0241624336942332\n",
       "9. 0.0356660430961796\n",
       "10. 0.0462525398326074\n",
       "11. -0.0059304481128697\n",
       "12. -0.00377906554568351\n",
       "13. -0.0108718174162914\n",
       "14. 0.00263829542809894\n",
       "15. -0.00954827723004725\n",
       "16. 0.0110522888903535\n",
       "17. 0.00767896501960451\n",
       "18. 0.0172767691894195\n",
       "19. -0.0194488532679073\n",
       "20. 0.00244134278214338\n",
       "21. 0.0371108093454478\n",
       "22. -0.0165169535149316\n",
       "23. -0.0195012730821813\n",
       "24. -0.0164670557649372\n",
       "25. 0.00813965678529968\n",
       "26. 0.00743579483109579\n",
       "27. -0.0167967637279778\n",
       "28. 0.00340033443483125\n",
       "29. -0.0202391400639772\n",
       "30. -0.0100048903251001\n",
       "31. -0.0103375387314187\n",
       "32. -0.0316574239946308\n",
       "33. -0.0175755622236325\n",
       "34. -0.0255507396391861\n",
       "35. -0.00485538902969703\n",
       "36. 0.0077463344894088\n",
       "37. -0.000919025769102098\n",
       "38. 0.00781904511087647\n",
       "39. -0.000724088329067347\n",
       "40. -0.00277279393765648\n",
       "41. -0.00330613887635837\n",
       "42. -0.0020846260895298\n",
       "43. -0.002798510144455\n",
       "44. -0.00701015547191801\n",
       "45. 0.0132044004880154\n",
       "46. 0.0298818042301287\n",
       "47. 0.0025541478874461\n",
       "48. 0.00685174933582326\n",
       "49. -0.00774823680382768\n",
       "50. 0.00257310506810908\n",
       "51. 0.0112709452307071\n",
       "52. -0.0106165329842371\n",
       "53. 0.00355392349663777\n",
       "54. -0.00239363501698785\n",
       "55. -0.00854529103548272\n",
       "56. 0.00201565470660857\n",
       "57. -0.00361030437220959\n",
       "58. 0.0147003600365913\n",
       "59. -0.00903538430243226\n",
       "60. 0.00654730704911553\n",
       "61. 0.0024404399155132\n",
       "62. -0.00304176402996313\n",
       "63. 0.0104457237062039\n",
       "64. -0.00893982797587146\n",
       "65. -0.00117928434262918\n",
       "66. 0.0039204971712297\n",
       "67. -0.00597993792732943\n",
       "68. -0.00356484302502879\n",
       "69. -0.00574987897288701\n",
       "70. -0.00159112779215887\n",
       "71. 0.00717319548847143\n",
       "72. -0.00194483427484632\n",
       "73. 0.011512960911049\n",
       "74. -0.00327183462460406\n",
       "75. -0.00859017032825692\n",
       "76. -0.00401915759463082\n",
       "77. -0.0101478602255906\n",
       "78. 0.00161681224415055\n",
       "79. 0.00127092922554874\n",
       "80. 0.0019255071408005\n",
       "81. -0.000430258046295241\n",
       "82. 0.0052532538590724\n",
       "83. 0.0117321951441534\n",
       "84. -0.00457680401009814\n",
       "85. 0.00180529452169382\n",
       "86. 0.00043082885437409\n",
       "87. 0.00489080333804185\n",
       "88. 0.00637434230313948\n",
       "89. -0.00204553396447626\n",
       "90. 0.00183371731753705\n",
       "91. -0.000262682433742624\n",
       "92. -0.000765601953011249\n",
       "93. 0.00524431788327628\n",
       "94. -0.00374854726474344\n",
       "95. 0.00357269350400006\n",
       "96. -0.00390120317556548\n",
       "97. 0.00189034951240322\n",
       "98. -0.00581541042203468\n",
       "99. 0.00441337753946344\n",
       "100. -0.00786362419226471\n",
       "101. 0.00383337577153491\n",
       "102. -0.000194114266551429\n",
       "103. -0.00392359735057353\n",
       "104. -0.0174012843030267\n",
       "\n",
       "\n"
      ],
      "text/plain": [
       "  [1] -0.0074755469 -0.0169800111 -0.0180198232 -0.0385229273  0.0166822960\n",
       "  [6] -0.0203778167  0.0150391557 -0.0241624337  0.0356660431  0.0462525398\n",
       " [11] -0.0059304481 -0.0037790655 -0.0108718174  0.0026382954 -0.0095482772\n",
       " [16]  0.0110522889  0.0076789650  0.0172767692 -0.0194488533  0.0024413428\n",
       " [21]  0.0371108093 -0.0165169535 -0.0195012731 -0.0164670558  0.0081396568\n",
       " [26]  0.0074357948 -0.0167967637  0.0034003344 -0.0202391401 -0.0100048903\n",
       " [31] -0.0103375387 -0.0316574240 -0.0175755622 -0.0255507396 -0.0048553890\n",
       " [36]  0.0077463345 -0.0009190258  0.0078190451 -0.0007240883 -0.0027727939\n",
       " [41] -0.0033061389 -0.0020846261 -0.0027985101 -0.0070101555  0.0132044005\n",
       " [46]  0.0298818042  0.0025541479  0.0068517493 -0.0077482368  0.0025731051\n",
       " [51]  0.0112709452 -0.0106165330  0.0035539235 -0.0023936350 -0.0085452910\n",
       " [56]  0.0020156547 -0.0036103044  0.0147003600 -0.0090353843  0.0065473070\n",
       " [61]  0.0024404399 -0.0030417640  0.0104457237 -0.0089398280 -0.0011792843\n",
       " [66]  0.0039204972 -0.0059799379 -0.0035648430 -0.0057498790 -0.0015911278\n",
       " [71]  0.0071731955 -0.0019448343  0.0115129609 -0.0032718346 -0.0085901703\n",
       " [76] -0.0040191576 -0.0101478602  0.0016168122  0.0012709292  0.0019255071\n",
       " [81] -0.0004302580  0.0052532539  0.0117321951 -0.0045768040  0.0018052945\n",
       " [86]  0.0004308289  0.0048908033  0.0063743423 -0.0020455340  0.0018337173\n",
       " [91] -0.0002626824 -0.0007656020  0.0052443179 -0.0037485473  0.0035726935\n",
       " [96] -0.0039012032  0.0018903495 -0.0058154104  0.0044133775 -0.0078636242\n",
       "[101]  0.0038333758 -0.0001941143 -0.0039235974 -0.0174012843"
      ]
     },
     "metadata": {},
     "output_type": "display_data"
    },
    {
     "data": {
      "text/html": [
       "<style>\n",
       ".list-inline {list-style: none; margin:0; padding: 0}\n",
       ".list-inline>li {display: inline-block}\n",
       ".list-inline>li:not(:last-child)::after {content: \"\\00b7\"; padding: 0 .5ex}\n",
       "</style>\n",
       "<ol class=list-inline><li>0.0717590358124275</li><li>0.0256118685211224</li><li>-0.0136838139433195</li><li>-0.0113417587599232</li><li>-0.0243828212190015</li><li>0.0306283045612888</li><li>-0.0339939926400305</li><li>-0.00805245339084106</li><li>0.0312250234351238</li><li>0.00977968718357872</li><li>0.0215158099369431</li><li>-0.00279431887230616</li><li>0.0117211603821653</li><li>0.0111490640147103</li><li>0.0118820415471848</li><li>-7.33560266514832e-05</li><li>0.00221837024643132</li><li>-0.0115739873829272</li><li>-0.00277136334320502</li><li>0.0110036411396433</li><li>-0.00223697168830356</li><li>0.0260799579554974</li><li>0.00287138246067201</li><li>-0.0160664557936885</li><li>-0.00298868934766447</li><li>-0.00301606863122197</li><li>-0.0158438106168679</li><li>-0.0142972197308507</li><li>0.00120632271239587</li><li>0.00533724980470057</li><li>0.00854285938611923</li><li>-0.0200421885299663</li><li>-0.0116166544177132</li><li>-0.0266214556970505</li><li>0.0143386943005984</li><li>-0.0238866503072421</li><li>-0.00425512372995778</li><li>-0.0103866935632965</li><li>0.00901122437184902</li><li>0.00485857827235821</li><li>-0.0132740513904753</li><li>-0.0200829445613782</li><li>-0.00857889481436451</li><li>0.00543793822690881</li><li>-0.000679300530946253</li><li>-0.0191738482029589</li><li>-0.00193710461660254</li><li>-0.00262542485820574</li><li>0.00949536643621955</li><li>-0.0025154622153188</li><li>0.00332182316981165</li><li>-0.00832644760846446</li><li>-0.0117838003288481</li><li>0.000675441493672518</li><li>0.0129829381883316</li><li>0.0122799594449549</li><li>-0.00375245649974441</li><li>0.01239663548112</li><li>0.000797040863378836</li><li>-0.015201154768949</li><li>-0.00677001079076562</li><li>-0.000882350482008774</li><li>0.0052858527339244</li><li>-0.000142497199075581</li><li>0.00431677207289026</li><li>0.00318064483561597</li><li>-0.000443348908925122</li><li>0.00702105376779157</li><li>-0.0101367812635248</li><li>0.0119264162424613</li><li>-0.00445564800666633</li><li>-0.00957679703391271</li><li>0.00375998058430319</li><li>0.0120858141001614</li><li>-0.00629755613040596</li><li>-0.00983177724903068</li><li>-0.00520773838890441</li><li>-0.00436543673574239</li><li>0.000321082799686269</li><li>-0.00134389636171656</li><li>-0.00943399365839749</li><li>-0.00605236010637468</li><li>-0.0100877223909803</li><li>0.000573164423456656</li><li>-0.00449096514295304</li><li>-0.00681524661545623</li><li>-0.00207793772753593</li><li>-0.00601527732250932</li><li>-0.00488711003922188</li><li>-0.00296799442280981</li><li>0.00119501857639437</li><li>-0.00614147980136674</li><li>-0.00714984623588347</li><li>-0.00854474172647947</li><li>0.0103936669602625</li><li>0.00223928576109678</li><li>0.0082502759736164</li><li>0.00515658929053315</li><li>0.00444591411445851</li><li>-0.000478540197896594</li><li>0.00829005314939432</li><li>0.00707953198981445</li><li>0.00836130114420905</li><li>-0.00574417656758125</li></ol>\n"
      ],
      "text/latex": [
       "\\begin{enumerate*}\n",
       "\\item 0.0717590358124275\n",
       "\\item 0.0256118685211224\n",
       "\\item -0.0136838139433195\n",
       "\\item -0.0113417587599232\n",
       "\\item -0.0243828212190015\n",
       "\\item 0.0306283045612888\n",
       "\\item -0.0339939926400305\n",
       "\\item -0.00805245339084106\n",
       "\\item 0.0312250234351238\n",
       "\\item 0.00977968718357872\n",
       "\\item 0.0215158099369431\n",
       "\\item -0.00279431887230616\n",
       "\\item 0.0117211603821653\n",
       "\\item 0.0111490640147103\n",
       "\\item 0.0118820415471848\n",
       "\\item -7.33560266514832e-05\n",
       "\\item 0.00221837024643132\n",
       "\\item -0.0115739873829272\n",
       "\\item -0.00277136334320502\n",
       "\\item 0.0110036411396433\n",
       "\\item -0.00223697168830356\n",
       "\\item 0.0260799579554974\n",
       "\\item 0.00287138246067201\n",
       "\\item -0.0160664557936885\n",
       "\\item -0.00298868934766447\n",
       "\\item -0.00301606863122197\n",
       "\\item -0.0158438106168679\n",
       "\\item -0.0142972197308507\n",
       "\\item 0.00120632271239587\n",
       "\\item 0.00533724980470057\n",
       "\\item 0.00854285938611923\n",
       "\\item -0.0200421885299663\n",
       "\\item -0.0116166544177132\n",
       "\\item -0.0266214556970505\n",
       "\\item 0.0143386943005984\n",
       "\\item -0.0238866503072421\n",
       "\\item -0.00425512372995778\n",
       "\\item -0.0103866935632965\n",
       "\\item 0.00901122437184902\n",
       "\\item 0.00485857827235821\n",
       "\\item -0.0132740513904753\n",
       "\\item -0.0200829445613782\n",
       "\\item -0.00857889481436451\n",
       "\\item 0.00543793822690881\n",
       "\\item -0.000679300530946253\n",
       "\\item -0.0191738482029589\n",
       "\\item -0.00193710461660254\n",
       "\\item -0.00262542485820574\n",
       "\\item 0.00949536643621955\n",
       "\\item -0.0025154622153188\n",
       "\\item 0.00332182316981165\n",
       "\\item -0.00832644760846446\n",
       "\\item -0.0117838003288481\n",
       "\\item 0.000675441493672518\n",
       "\\item 0.0129829381883316\n",
       "\\item 0.0122799594449549\n",
       "\\item -0.00375245649974441\n",
       "\\item 0.01239663548112\n",
       "\\item 0.000797040863378836\n",
       "\\item -0.015201154768949\n",
       "\\item -0.00677001079076562\n",
       "\\item -0.000882350482008774\n",
       "\\item 0.0052858527339244\n",
       "\\item -0.000142497199075581\n",
       "\\item 0.00431677207289026\n",
       "\\item 0.00318064483561597\n",
       "\\item -0.000443348908925122\n",
       "\\item 0.00702105376779157\n",
       "\\item -0.0101367812635248\n",
       "\\item 0.0119264162424613\n",
       "\\item -0.00445564800666633\n",
       "\\item -0.00957679703391271\n",
       "\\item 0.00375998058430319\n",
       "\\item 0.0120858141001614\n",
       "\\item -0.00629755613040596\n",
       "\\item -0.00983177724903068\n",
       "\\item -0.00520773838890441\n",
       "\\item -0.00436543673574239\n",
       "\\item 0.000321082799686269\n",
       "\\item -0.00134389636171656\n",
       "\\item -0.00943399365839749\n",
       "\\item -0.00605236010637468\n",
       "\\item -0.0100877223909803\n",
       "\\item 0.000573164423456656\n",
       "\\item -0.00449096514295304\n",
       "\\item -0.00681524661545623\n",
       "\\item -0.00207793772753593\n",
       "\\item -0.00601527732250932\n",
       "\\item -0.00488711003922188\n",
       "\\item -0.00296799442280981\n",
       "\\item 0.00119501857639437\n",
       "\\item -0.00614147980136674\n",
       "\\item -0.00714984623588347\n",
       "\\item -0.00854474172647947\n",
       "\\item 0.0103936669602625\n",
       "\\item 0.00223928576109678\n",
       "\\item 0.0082502759736164\n",
       "\\item 0.00515658929053315\n",
       "\\item 0.00444591411445851\n",
       "\\item -0.000478540197896594\n",
       "\\item 0.00829005314939432\n",
       "\\item 0.00707953198981445\n",
       "\\item 0.00836130114420905\n",
       "\\item -0.00574417656758125\n",
       "\\end{enumerate*}\n"
      ],
      "text/markdown": [
       "1. 0.0717590358124275\n",
       "2. 0.0256118685211224\n",
       "3. -0.0136838139433195\n",
       "4. -0.0113417587599232\n",
       "5. -0.0243828212190015\n",
       "6. 0.0306283045612888\n",
       "7. -0.0339939926400305\n",
       "8. -0.00805245339084106\n",
       "9. 0.0312250234351238\n",
       "10. 0.00977968718357872\n",
       "11. 0.0215158099369431\n",
       "12. -0.00279431887230616\n",
       "13. 0.0117211603821653\n",
       "14. 0.0111490640147103\n",
       "15. 0.0118820415471848\n",
       "16. -7.33560266514832e-05\n",
       "17. 0.00221837024643132\n",
       "18. -0.0115739873829272\n",
       "19. -0.00277136334320502\n",
       "20. 0.0110036411396433\n",
       "21. -0.00223697168830356\n",
       "22. 0.0260799579554974\n",
       "23. 0.00287138246067201\n",
       "24. -0.0160664557936885\n",
       "25. -0.00298868934766447\n",
       "26. -0.00301606863122197\n",
       "27. -0.0158438106168679\n",
       "28. -0.0142972197308507\n",
       "29. 0.00120632271239587\n",
       "30. 0.00533724980470057\n",
       "31. 0.00854285938611923\n",
       "32. -0.0200421885299663\n",
       "33. -0.0116166544177132\n",
       "34. -0.0266214556970505\n",
       "35. 0.0143386943005984\n",
       "36. -0.0238866503072421\n",
       "37. -0.00425512372995778\n",
       "38. -0.0103866935632965\n",
       "39. 0.00901122437184902\n",
       "40. 0.00485857827235821\n",
       "41. -0.0132740513904753\n",
       "42. -0.0200829445613782\n",
       "43. -0.00857889481436451\n",
       "44. 0.00543793822690881\n",
       "45. -0.000679300530946253\n",
       "46. -0.0191738482029589\n",
       "47. -0.00193710461660254\n",
       "48. -0.00262542485820574\n",
       "49. 0.00949536643621955\n",
       "50. -0.0025154622153188\n",
       "51. 0.00332182316981165\n",
       "52. -0.00832644760846446\n",
       "53. -0.0117838003288481\n",
       "54. 0.000675441493672518\n",
       "55. 0.0129829381883316\n",
       "56. 0.0122799594449549\n",
       "57. -0.00375245649974441\n",
       "58. 0.01239663548112\n",
       "59. 0.000797040863378836\n",
       "60. -0.015201154768949\n",
       "61. -0.00677001079076562\n",
       "62. -0.000882350482008774\n",
       "63. 0.0052858527339244\n",
       "64. -0.000142497199075581\n",
       "65. 0.00431677207289026\n",
       "66. 0.00318064483561597\n",
       "67. -0.000443348908925122\n",
       "68. 0.00702105376779157\n",
       "69. -0.0101367812635248\n",
       "70. 0.0119264162424613\n",
       "71. -0.00445564800666633\n",
       "72. -0.00957679703391271\n",
       "73. 0.00375998058430319\n",
       "74. 0.0120858141001614\n",
       "75. -0.00629755613040596\n",
       "76. -0.00983177724903068\n",
       "77. -0.00520773838890441\n",
       "78. -0.00436543673574239\n",
       "79. 0.000321082799686269\n",
       "80. -0.00134389636171656\n",
       "81. -0.00943399365839749\n",
       "82. -0.00605236010637468\n",
       "83. -0.0100877223909803\n",
       "84. 0.000573164423456656\n",
       "85. -0.00449096514295304\n",
       "86. -0.00681524661545623\n",
       "87. -0.00207793772753593\n",
       "88. -0.00601527732250932\n",
       "89. -0.00488711003922188\n",
       "90. -0.00296799442280981\n",
       "91. 0.00119501857639437\n",
       "92. -0.00614147980136674\n",
       "93. -0.00714984623588347\n",
       "94. -0.00854474172647947\n",
       "95. 0.0103936669602625\n",
       "96. 0.00223928576109678\n",
       "97. 0.0082502759736164\n",
       "98. 0.00515658929053315\n",
       "99. 0.00444591411445851\n",
       "100. -0.000478540197896594\n",
       "101. 0.00829005314939432\n",
       "102. 0.00707953198981445\n",
       "103. 0.00836130114420905\n",
       "104. -0.00574417656758125\n",
       "\n",
       "\n"
      ],
      "text/plain": [
       "  [1]  7.175904e-02  2.561187e-02 -1.368381e-02 -1.134176e-02 -2.438282e-02\n",
       "  [6]  3.062830e-02 -3.399399e-02 -8.052453e-03  3.122502e-02  9.779687e-03\n",
       " [11]  2.151581e-02 -2.794319e-03  1.172116e-02  1.114906e-02  1.188204e-02\n",
       " [16] -7.335603e-05  2.218370e-03 -1.157399e-02 -2.771363e-03  1.100364e-02\n",
       " [21] -2.236972e-03  2.607996e-02  2.871382e-03 -1.606646e-02 -2.988689e-03\n",
       " [26] -3.016069e-03 -1.584381e-02 -1.429722e-02  1.206323e-03  5.337250e-03\n",
       " [31]  8.542859e-03 -2.004219e-02 -1.161665e-02 -2.662146e-02  1.433869e-02\n",
       " [36] -2.388665e-02 -4.255124e-03 -1.038669e-02  9.011224e-03  4.858578e-03\n",
       " [41] -1.327405e-02 -2.008294e-02 -8.578895e-03  5.437938e-03 -6.793005e-04\n",
       " [46] -1.917385e-02 -1.937105e-03 -2.625425e-03  9.495366e-03 -2.515462e-03\n",
       " [51]  3.321823e-03 -8.326448e-03 -1.178380e-02  6.754415e-04  1.298294e-02\n",
       " [56]  1.227996e-02 -3.752456e-03  1.239664e-02  7.970409e-04 -1.520115e-02\n",
       " [61] -6.770011e-03 -8.823505e-04  5.285853e-03 -1.424972e-04  4.316772e-03\n",
       " [66]  3.180645e-03 -4.433489e-04  7.021054e-03 -1.013678e-02  1.192642e-02\n",
       " [71] -4.455648e-03 -9.576797e-03  3.759981e-03  1.208581e-02 -6.297556e-03\n",
       " [76] -9.831777e-03 -5.207738e-03 -4.365437e-03  3.210828e-04 -1.343896e-03\n",
       " [81] -9.433994e-03 -6.052360e-03 -1.008772e-02  5.731644e-04 -4.490965e-03\n",
       " [86] -6.815247e-03 -2.077938e-03 -6.015277e-03 -4.887110e-03 -2.967994e-03\n",
       " [91]  1.195019e-03 -6.141480e-03 -7.149846e-03 -8.544742e-03  1.039367e-02\n",
       " [96]  2.239286e-03  8.250276e-03  5.156589e-03  4.445914e-03 -4.785402e-04\n",
       "[101]  8.290053e-03  7.079532e-03  8.361301e-03 -5.744177e-03"
      ]
     },
     "metadata": {},
     "output_type": "display_data"
    }
   ],
   "source": [
    "missing_cpi=sum(is.na(e_cpi))\n",
    "missing_ppi=sum(is.na(e_ppi))\n",
    "ecpi_nomiss=e_cpi[(missing_cpi+1):(length(e_cpi)-1)]\n",
    "eppi_nomiss=e_ppi[(missing_ppi+1):(length(e_ppi)-1)]\n",
    "ecpi_nomiss\n",
    "eppi_nomiss"
   ]
  },
  {
   "cell_type": "code",
   "execution_count": 8,
   "id": "32926978-6dc3-45e6-83cb-edd0101829d9",
   "metadata": {},
   "outputs": [
    {
     "data": {
      "text/html": [
       "0.848041079031928"
      ],
      "text/latex": [
       "0.848041079031928"
      ],
      "text/markdown": [
       "0.848041079031928"
      ],
      "text/plain": [
       "[1] 0.8480411"
      ]
     },
     "metadata": {},
     "output_type": "display_data"
    },
    {
     "data": {
      "text/html": [
       "0.963857000711831"
      ],
      "text/latex": [
       "0.963857000711831"
      ],
      "text/markdown": [
       "0.963857000711831"
      ],
      "text/plain": [
       "[1] 0.963857"
      ]
     },
     "metadata": {},
     "output_type": "display_data"
    }
   ],
   "source": [
    "tscv_rss_cpi=var(ecpi_nomiss)\n",
    "tscv_tss_cpi=var(cpi_ts[(missing_cpi+1):(length(e_cpi)-1)])\n",
    "tscv_rsq_cpi=1-(tscv_rss_cpi/tscv_tss_cpi)\n",
    "tscv_rsq_cpi\n",
    "\n",
    "tscv_rss_ppi=var(eppi_nomiss)\n",
    "tscv_tss_ppi=var(ppi_ts[(missing_ppi+1):(length(e_ppi)-1)])\n",
    "tscv_rsq_ppi=1-(tscv_rss_ppi/tscv_tss_ppi)\n",
    "tscv_rsq_ppi"
   ]
  },
  {
   "cell_type": "markdown",
   "id": "5a4601c5-b9f7-40b1-86cf-ba3267836edc",
   "metadata": {},
   "source": [
    "##### tsCV gives a so good outcome when use $X_t$ and $X_{t-12}$ as external covariates."
   ]
  },
  {
   "cell_type": "markdown",
   "id": "b70b2533-b404-4a85-bbf2-087b61e001fb",
   "metadata": {},
   "source": [
    "##### We again test the $X_{t-9}$ lag. The tsCV outcome is not better than above model."
   ]
  },
  {
   "cell_type": "code",
   "execution_count": 9,
   "id": "854c952a-9ba7-488b-849f-2fa346401e9f",
   "metadata": {
    "collapsed": true,
    "jupyter": {
     "outputs_hidden": true
    },
    "tags": []
   },
   "outputs": [
    {
     "data": {
      "text/html": [
       "<style>\n",
       ".list-inline {list-style: none; margin:0; padding: 0}\n",
       ".list-inline>li {display: inline-block}\n",
       ".list-inline>li:not(:last-child)::after {content: \"\\00b7\"; padding: 0 .5ex}\n",
       "</style>\n",
       "<ol class=list-inline><li>-0.0391567718186181</li><li>-0.000647372908830053</li><li>-0.00271384849745847</li><li>-0.0368374288864917</li><li>0.00864717025945705</li><li>0.0426707169304552</li><li>0.0430629162337954</li><li>0.0561228597621886</li><li>-0.0438700998930596</li><li>-0.0221945315935414</li><li>0.0108195996274665</li><li>-0.00196281837448696</li><li>-0.00115335208406636</li><li>-0.00554133748242387</li><li>0.0316891959547846</li><li>0.10442632067841</li><li>0.0104779704135663</li><li>-0.0221111803964996</li><li>0.0432474214941453</li><li>0.0267990906228519</li><li>0.0229552366637653</li><li>0.0112608203193195</li><li>-0.0308854529733634</li><li>0.011314385940292</li><li>-0.0197578571898022</li><li>-0.00950505864606056</li><li>0.000844971436276105</li><li>-0.0216026746190589</li><li>0.00363507670881339</li><li>0.0227428666324287</li><li>0.0112336188939272</li><li>-0.0260748244210145</li><li>-0.0174075343588238</li><li>-0.0239025025067516</li><li>0.0036827427388182</li><li>0.0136301087571624</li><li>0.00289655465421688</li><li>-0.0123999255204507</li><li>0.00987860779331397</li><li>0.0219739262225892</li><li>0.00189393372040565</li><li>0.00333344503194105</li><li>-0.00481488208931843</li><li>0.00100399986189793</li><li>0.00557209319299189</li><li>-0.0130100906771759</li><li>0.00900549119500346</li><li>0.00247360714760526</li><li>0.00760752221433238</li><li>-0.0307373847733739</li><li>-0.0108256294403777</li><li>0.00066136440039434</li><li>0.00278462131661447</li><li>-0.00703307206581447</li><li>0.00785282911750533</li><li>0.0059529541566858</li><li>-0.000826821409226523</li><li>0.0159006732204584</li><li>-0.00480718051227953</li><li>-0.000501430408883384</li><li>0.0036545451074003</li><li>0.0115686300104046</li><li>-0.00866148965584966</li><li>-0.000322267336422035</li><li>-0.00408957331903326</li><li>0.00625556582899887</li><li>-0.00443211428973411</li><li>-0.00466222783981739</li><li>0.000632239013072103</li><li>-0.00569615364910762</li><li>0.00832444716976119</li><li>-0.0227160156224828</li><li>0.000550646860243893</li><li>-0.00253747967459766</li><li>-0.000333067671872643</li><li>-0.00682854068433136</li><li>-0.010503813429107</li><li>-0.000928220017189958</li><li>0.000801897595652711</li><li>0.00598157528360767</li><li>0.00396218569644665</li><li>-0.00436079790785096</li><li>0.00771605278212504</li><li>0.000373881017928965</li><li>-0.00541229071693652</li><li>0.00382443717854522</li><li>0.00702512224034377</li><li>0.00455805735759481</li><li>-0.0156345659316036</li><li>-0.00314614722381464</li><li>0.0107276164236729</li><li>0.018085450129757</li><li>0.00516089251458424</li><li>0.00358917278778334</li><li>0.0035228797770866</li><li>0.00760016881272872</li><li>-0.00308884794708146</li><li>-0.0041147998340567</li><li>0.00131819063964812</li><li>-0.00571716241845043</li><li>0.000693850906312413</li><li>-0.00140286426500505</li><li>0.00626632282013078</li><li>-0.0110937421000484</li></ol>\n"
      ],
      "text/latex": [
       "\\begin{enumerate*}\n",
       "\\item -0.0391567718186181\n",
       "\\item -0.000647372908830053\n",
       "\\item -0.00271384849745847\n",
       "\\item -0.0368374288864917\n",
       "\\item 0.00864717025945705\n",
       "\\item 0.0426707169304552\n",
       "\\item 0.0430629162337954\n",
       "\\item 0.0561228597621886\n",
       "\\item -0.0438700998930596\n",
       "\\item -0.0221945315935414\n",
       "\\item 0.0108195996274665\n",
       "\\item -0.00196281837448696\n",
       "\\item -0.00115335208406636\n",
       "\\item -0.00554133748242387\n",
       "\\item 0.0316891959547846\n",
       "\\item 0.10442632067841\n",
       "\\item 0.0104779704135663\n",
       "\\item -0.0221111803964996\n",
       "\\item 0.0432474214941453\n",
       "\\item 0.0267990906228519\n",
       "\\item 0.0229552366637653\n",
       "\\item 0.0112608203193195\n",
       "\\item -0.0308854529733634\n",
       "\\item 0.011314385940292\n",
       "\\item -0.0197578571898022\n",
       "\\item -0.00950505864606056\n",
       "\\item 0.000844971436276105\n",
       "\\item -0.0216026746190589\n",
       "\\item 0.00363507670881339\n",
       "\\item 0.0227428666324287\n",
       "\\item 0.0112336188939272\n",
       "\\item -0.0260748244210145\n",
       "\\item -0.0174075343588238\n",
       "\\item -0.0239025025067516\n",
       "\\item 0.0036827427388182\n",
       "\\item 0.0136301087571624\n",
       "\\item 0.00289655465421688\n",
       "\\item -0.0123999255204507\n",
       "\\item 0.00987860779331397\n",
       "\\item 0.0219739262225892\n",
       "\\item 0.00189393372040565\n",
       "\\item 0.00333344503194105\n",
       "\\item -0.00481488208931843\n",
       "\\item 0.00100399986189793\n",
       "\\item 0.00557209319299189\n",
       "\\item -0.0130100906771759\n",
       "\\item 0.00900549119500346\n",
       "\\item 0.00247360714760526\n",
       "\\item 0.00760752221433238\n",
       "\\item -0.0307373847733739\n",
       "\\item -0.0108256294403777\n",
       "\\item 0.00066136440039434\n",
       "\\item 0.00278462131661447\n",
       "\\item -0.00703307206581447\n",
       "\\item 0.00785282911750533\n",
       "\\item 0.0059529541566858\n",
       "\\item -0.000826821409226523\n",
       "\\item 0.0159006732204584\n",
       "\\item -0.00480718051227953\n",
       "\\item -0.000501430408883384\n",
       "\\item 0.0036545451074003\n",
       "\\item 0.0115686300104046\n",
       "\\item -0.00866148965584966\n",
       "\\item -0.000322267336422035\n",
       "\\item -0.00408957331903326\n",
       "\\item 0.00625556582899887\n",
       "\\item -0.00443211428973411\n",
       "\\item -0.00466222783981739\n",
       "\\item 0.000632239013072103\n",
       "\\item -0.00569615364910762\n",
       "\\item 0.00832444716976119\n",
       "\\item -0.0227160156224828\n",
       "\\item 0.000550646860243893\n",
       "\\item -0.00253747967459766\n",
       "\\item -0.000333067671872643\n",
       "\\item -0.00682854068433136\n",
       "\\item -0.010503813429107\n",
       "\\item -0.000928220017189958\n",
       "\\item 0.000801897595652711\n",
       "\\item 0.00598157528360767\n",
       "\\item 0.00396218569644665\n",
       "\\item -0.00436079790785096\n",
       "\\item 0.00771605278212504\n",
       "\\item 0.000373881017928965\n",
       "\\item -0.00541229071693652\n",
       "\\item 0.00382443717854522\n",
       "\\item 0.00702512224034377\n",
       "\\item 0.00455805735759481\n",
       "\\item -0.0156345659316036\n",
       "\\item -0.00314614722381464\n",
       "\\item 0.0107276164236729\n",
       "\\item 0.018085450129757\n",
       "\\item 0.00516089251458424\n",
       "\\item 0.00358917278778334\n",
       "\\item 0.0035228797770866\n",
       "\\item 0.00760016881272872\n",
       "\\item -0.00308884794708146\n",
       "\\item -0.0041147998340567\n",
       "\\item 0.00131819063964812\n",
       "\\item -0.00571716241845043\n",
       "\\item 0.000693850906312413\n",
       "\\item -0.00140286426500505\n",
       "\\item 0.00626632282013078\n",
       "\\item -0.0110937421000484\n",
       "\\end{enumerate*}\n"
      ],
      "text/markdown": [
       "1. -0.0391567718186181\n",
       "2. -0.000647372908830053\n",
       "3. -0.00271384849745847\n",
       "4. -0.0368374288864917\n",
       "5. 0.00864717025945705\n",
       "6. 0.0426707169304552\n",
       "7. 0.0430629162337954\n",
       "8. 0.0561228597621886\n",
       "9. -0.0438700998930596\n",
       "10. -0.0221945315935414\n",
       "11. 0.0108195996274665\n",
       "12. -0.00196281837448696\n",
       "13. -0.00115335208406636\n",
       "14. -0.00554133748242387\n",
       "15. 0.0316891959547846\n",
       "16. 0.10442632067841\n",
       "17. 0.0104779704135663\n",
       "18. -0.0221111803964996\n",
       "19. 0.0432474214941453\n",
       "20. 0.0267990906228519\n",
       "21. 0.0229552366637653\n",
       "22. 0.0112608203193195\n",
       "23. -0.0308854529733634\n",
       "24. 0.011314385940292\n",
       "25. -0.0197578571898022\n",
       "26. -0.00950505864606056\n",
       "27. 0.000844971436276105\n",
       "28. -0.0216026746190589\n",
       "29. 0.00363507670881339\n",
       "30. 0.0227428666324287\n",
       "31. 0.0112336188939272\n",
       "32. -0.0260748244210145\n",
       "33. -0.0174075343588238\n",
       "34. -0.0239025025067516\n",
       "35. 0.0036827427388182\n",
       "36. 0.0136301087571624\n",
       "37. 0.00289655465421688\n",
       "38. -0.0123999255204507\n",
       "39. 0.00987860779331397\n",
       "40. 0.0219739262225892\n",
       "41. 0.00189393372040565\n",
       "42. 0.00333344503194105\n",
       "43. -0.00481488208931843\n",
       "44. 0.00100399986189793\n",
       "45. 0.00557209319299189\n",
       "46. -0.0130100906771759\n",
       "47. 0.00900549119500346\n",
       "48. 0.00247360714760526\n",
       "49. 0.00760752221433238\n",
       "50. -0.0307373847733739\n",
       "51. -0.0108256294403777\n",
       "52. 0.00066136440039434\n",
       "53. 0.00278462131661447\n",
       "54. -0.00703307206581447\n",
       "55. 0.00785282911750533\n",
       "56. 0.0059529541566858\n",
       "57. -0.000826821409226523\n",
       "58. 0.0159006732204584\n",
       "59. -0.00480718051227953\n",
       "60. -0.000501430408883384\n",
       "61. 0.0036545451074003\n",
       "62. 0.0115686300104046\n",
       "63. -0.00866148965584966\n",
       "64. -0.000322267336422035\n",
       "65. -0.00408957331903326\n",
       "66. 0.00625556582899887\n",
       "67. -0.00443211428973411\n",
       "68. -0.00466222783981739\n",
       "69. 0.000632239013072103\n",
       "70. -0.00569615364910762\n",
       "71. 0.00832444716976119\n",
       "72. -0.0227160156224828\n",
       "73. 0.000550646860243893\n",
       "74. -0.00253747967459766\n",
       "75. -0.000333067671872643\n",
       "76. -0.00682854068433136\n",
       "77. -0.010503813429107\n",
       "78. -0.000928220017189958\n",
       "79. 0.000801897595652711\n",
       "80. 0.00598157528360767\n",
       "81. 0.00396218569644665\n",
       "82. -0.00436079790785096\n",
       "83. 0.00771605278212504\n",
       "84. 0.000373881017928965\n",
       "85. -0.00541229071693652\n",
       "86. 0.00382443717854522\n",
       "87. 0.00702512224034377\n",
       "88. 0.00455805735759481\n",
       "89. -0.0156345659316036\n",
       "90. -0.00314614722381464\n",
       "91. 0.0107276164236729\n",
       "92. 0.018085450129757\n",
       "93. 0.00516089251458424\n",
       "94. 0.00358917278778334\n",
       "95. 0.0035228797770866\n",
       "96. 0.00760016881272872\n",
       "97. -0.00308884794708146\n",
       "98. -0.0041147998340567\n",
       "99. 0.00131819063964812\n",
       "100. -0.00571716241845043\n",
       "101. 0.000693850906312413\n",
       "102. -0.00140286426500505\n",
       "103. 0.00626632282013078\n",
       "104. -0.0110937421000484\n",
       "\n",
       "\n"
      ],
      "text/plain": [
       "  [1] -0.0391567718 -0.0006473729 -0.0027138485 -0.0368374289  0.0086471703\n",
       "  [6]  0.0426707169  0.0430629162  0.0561228598 -0.0438700999 -0.0221945316\n",
       " [11]  0.0108195996 -0.0019628184 -0.0011533521 -0.0055413375  0.0316891960\n",
       " [16]  0.1044263207  0.0104779704 -0.0221111804  0.0432474215  0.0267990906\n",
       " [21]  0.0229552367  0.0112608203 -0.0308854530  0.0113143859 -0.0197578572\n",
       " [26] -0.0095050586  0.0008449714 -0.0216026746  0.0036350767  0.0227428666\n",
       " [31]  0.0112336189 -0.0260748244 -0.0174075344 -0.0239025025  0.0036827427\n",
       " [36]  0.0136301088  0.0028965547 -0.0123999255  0.0098786078  0.0219739262\n",
       " [41]  0.0018939337  0.0033334450 -0.0048148821  0.0010039999  0.0055720932\n",
       " [46] -0.0130100907  0.0090054912  0.0024736071  0.0076075222 -0.0307373848\n",
       " [51] -0.0108256294  0.0006613644  0.0027846213 -0.0070330721  0.0078528291\n",
       " [56]  0.0059529542 -0.0008268214  0.0159006732 -0.0048071805 -0.0005014304\n",
       " [61]  0.0036545451  0.0115686300 -0.0086614897 -0.0003222673 -0.0040895733\n",
       " [66]  0.0062555658 -0.0044321143 -0.0046622278  0.0006322390 -0.0056961536\n",
       " [71]  0.0083244472 -0.0227160156  0.0005506469 -0.0025374797 -0.0003330677\n",
       " [76] -0.0068285407 -0.0105038134 -0.0009282200  0.0008018976  0.0059815753\n",
       " [81]  0.0039621857 -0.0043607979  0.0077160528  0.0003738810 -0.0054122907\n",
       " [86]  0.0038244372  0.0070251222  0.0045580574 -0.0156345659 -0.0031461472\n",
       " [91]  0.0107276164  0.0180854501  0.0051608925  0.0035891728  0.0035228798\n",
       " [96]  0.0076001688 -0.0030888479 -0.0041147998  0.0013181906 -0.0057171624\n",
       "[101]  0.0006938509 -0.0014028643  0.0062663228 -0.0110937421"
      ]
     },
     "metadata": {},
     "output_type": "display_data"
    },
    {
     "data": {
      "text/html": [
       "<style>\n",
       ".list-inline {list-style: none; margin:0; padding: 0}\n",
       ".list-inline>li {display: inline-block}\n",
       ".list-inline>li:not(:last-child)::after {content: \"\\00b7\"; padding: 0 .5ex}\n",
       "</style>\n",
       "<ol class=list-inline><li>0.00897920812513622</li><li>0.0537294271691844</li><li>-0.0356507755124138</li><li>-0.0385114375054717</li><li>0.0115437306749036</li><li>-0.0661239458269273</li><li>-0.102939060508256</li><li>-0.0754370273400158</li><li>0.0196570847602776</li><li>0.0284935110472181</li><li>0.0041628413966173</li><li>0.0106923513843267</li><li>0.0107529109774097</li><li>-0.0208847178894931</li><li>0.00465546217590401</li><li>0.0517308591494926</li><li>-0.00079040859197077</li><li>-0.0238876365413918</li><li>0.0219630180679185</li><li>-0.00104176716561853</li><li>-0.001910471203871</li><li>0.0415325436653345</li><li>0.00225569691846685</li><li>0.0156139206840935</li><li>-0.00256622544586804</li><li>0.0156658661182848</li><li>0.0330221876320842</li><li>-0.0123892890926663</li><li>0.0169367774672423</li><li>0.00601700377883077</li><li>0.00244827039086298</li><li>-0.058322601509725</li><li>-0.0670051398653326</li><li>-0.0972713521695227</li><li>-0.0246652167040414</li><li>-0.0594477643120446</li><li>-0.00434288566732447</li><li>0.0405020346179186</li><li>0.00705003821377198</li><li>0.0137165075176208</li><li>-0.0186981900667651</li><li>0.0189364437312496</li><li>-0.016193681991127</li><li>-0.00114805901716352</li><li>-0.0308086281369677</li><li>-0.0101281879414253</li><li>0.02197017273237</li><li>-0.00386891874967739</li><li>0.0118963466440939</li><li>0.0187365031327505</li><li>-0.0148644566331409</li><li>0.00759449537204439</li><li>0.0159412110962078</li><li>0.0190095851908568</li><li>0.00554204879782567</li><li>0.0269186965784067</li><li>0.0202085844631025</li><li>-0.0108132498972777</li><li>0.006461021966429</li><li>0.00667097625200203</li><li>0.0131999149303169</li><li>0.0116691596305276</li><li>-0.00540340340691141</li><li>0.013217074822307</li><li>0.0151512500993606</li><li>-0.00791992102144213</li><li>0.016978539008608</li><li>0.00372553423944953</li><li>0.010332797021401</li><li>0.00433064528145325</li><li>0.0144437683246631</li><li>0.0189909621113964</li><li>0.019452779592839</li><li>0.0141328770130573</li><li>0.0114957115313215</li><li>0.00921175706640262</li><li>4.89000648632148e-05</li><li>-0.00462107990732905</li><li>-0.0118802167238806</li><li>0.000967517571169668</li><li>0.0100077151359742</li><li>0.0107505004067487</li><li>0.00526054298391211</li><li>0.0160850331648515</li><li>0.00766483469049276</li><li>-0.00134078661973686</li><li>5.79961425056508e-05</li><li>-0.00222814977271007</li><li>-0.00851848686627803</li><li>-0.00664179782985756</li><li>-0.010712483990798</li><li>0.00516332135679592</li><li>0.0189404394793553</li><li>0.012392470473232</li><li>0.00389520605571568</li><li>0.00774501468948326</li><li>0.00553615099928267</li><li>-0.00718477982252793</li><li>0.00610816091868329</li><li>0.0124287036235522</li><li>0.00301652588998339</li><li>0.0155318081168298</li><li>0.0129327834503066</li><li>0.00573772219162316</li></ol>\n"
      ],
      "text/latex": [
       "\\begin{enumerate*}\n",
       "\\item 0.00897920812513622\n",
       "\\item 0.0537294271691844\n",
       "\\item -0.0356507755124138\n",
       "\\item -0.0385114375054717\n",
       "\\item 0.0115437306749036\n",
       "\\item -0.0661239458269273\n",
       "\\item -0.102939060508256\n",
       "\\item -0.0754370273400158\n",
       "\\item 0.0196570847602776\n",
       "\\item 0.0284935110472181\n",
       "\\item 0.0041628413966173\n",
       "\\item 0.0106923513843267\n",
       "\\item 0.0107529109774097\n",
       "\\item -0.0208847178894931\n",
       "\\item 0.00465546217590401\n",
       "\\item 0.0517308591494926\n",
       "\\item -0.00079040859197077\n",
       "\\item -0.0238876365413918\n",
       "\\item 0.0219630180679185\n",
       "\\item -0.00104176716561853\n",
       "\\item -0.001910471203871\n",
       "\\item 0.0415325436653345\n",
       "\\item 0.00225569691846685\n",
       "\\item 0.0156139206840935\n",
       "\\item -0.00256622544586804\n",
       "\\item 0.0156658661182848\n",
       "\\item 0.0330221876320842\n",
       "\\item -0.0123892890926663\n",
       "\\item 0.0169367774672423\n",
       "\\item 0.00601700377883077\n",
       "\\item 0.00244827039086298\n",
       "\\item -0.058322601509725\n",
       "\\item -0.0670051398653326\n",
       "\\item -0.0972713521695227\n",
       "\\item -0.0246652167040414\n",
       "\\item -0.0594477643120446\n",
       "\\item -0.00434288566732447\n",
       "\\item 0.0405020346179186\n",
       "\\item 0.00705003821377198\n",
       "\\item 0.0137165075176208\n",
       "\\item -0.0186981900667651\n",
       "\\item 0.0189364437312496\n",
       "\\item -0.016193681991127\n",
       "\\item -0.00114805901716352\n",
       "\\item -0.0308086281369677\n",
       "\\item -0.0101281879414253\n",
       "\\item 0.02197017273237\n",
       "\\item -0.00386891874967739\n",
       "\\item 0.0118963466440939\n",
       "\\item 0.0187365031327505\n",
       "\\item -0.0148644566331409\n",
       "\\item 0.00759449537204439\n",
       "\\item 0.0159412110962078\n",
       "\\item 0.0190095851908568\n",
       "\\item 0.00554204879782567\n",
       "\\item 0.0269186965784067\n",
       "\\item 0.0202085844631025\n",
       "\\item -0.0108132498972777\n",
       "\\item 0.006461021966429\n",
       "\\item 0.00667097625200203\n",
       "\\item 0.0131999149303169\n",
       "\\item 0.0116691596305276\n",
       "\\item -0.00540340340691141\n",
       "\\item 0.013217074822307\n",
       "\\item 0.0151512500993606\n",
       "\\item -0.00791992102144213\n",
       "\\item 0.016978539008608\n",
       "\\item 0.00372553423944953\n",
       "\\item 0.010332797021401\n",
       "\\item 0.00433064528145325\n",
       "\\item 0.0144437683246631\n",
       "\\item 0.0189909621113964\n",
       "\\item 0.019452779592839\n",
       "\\item 0.0141328770130573\n",
       "\\item 0.0114957115313215\n",
       "\\item 0.00921175706640262\n",
       "\\item 4.89000648632148e-05\n",
       "\\item -0.00462107990732905\n",
       "\\item -0.0118802167238806\n",
       "\\item 0.000967517571169668\n",
       "\\item 0.0100077151359742\n",
       "\\item 0.0107505004067487\n",
       "\\item 0.00526054298391211\n",
       "\\item 0.0160850331648515\n",
       "\\item 0.00766483469049276\n",
       "\\item -0.00134078661973686\n",
       "\\item 5.79961425056508e-05\n",
       "\\item -0.00222814977271007\n",
       "\\item -0.00851848686627803\n",
       "\\item -0.00664179782985756\n",
       "\\item -0.010712483990798\n",
       "\\item 0.00516332135679592\n",
       "\\item 0.0189404394793553\n",
       "\\item 0.012392470473232\n",
       "\\item 0.00389520605571568\n",
       "\\item 0.00774501468948326\n",
       "\\item 0.00553615099928267\n",
       "\\item -0.00718477982252793\n",
       "\\item 0.00610816091868329\n",
       "\\item 0.0124287036235522\n",
       "\\item 0.00301652588998339\n",
       "\\item 0.0155318081168298\n",
       "\\item 0.0129327834503066\n",
       "\\item 0.00573772219162316\n",
       "\\end{enumerate*}\n"
      ],
      "text/markdown": [
       "1. 0.00897920812513622\n",
       "2. 0.0537294271691844\n",
       "3. -0.0356507755124138\n",
       "4. -0.0385114375054717\n",
       "5. 0.0115437306749036\n",
       "6. -0.0661239458269273\n",
       "7. -0.102939060508256\n",
       "8. -0.0754370273400158\n",
       "9. 0.0196570847602776\n",
       "10. 0.0284935110472181\n",
       "11. 0.0041628413966173\n",
       "12. 0.0106923513843267\n",
       "13. 0.0107529109774097\n",
       "14. -0.0208847178894931\n",
       "15. 0.00465546217590401\n",
       "16. 0.0517308591494926\n",
       "17. -0.00079040859197077\n",
       "18. -0.0238876365413918\n",
       "19. 0.0219630180679185\n",
       "20. -0.00104176716561853\n",
       "21. -0.001910471203871\n",
       "22. 0.0415325436653345\n",
       "23. 0.00225569691846685\n",
       "24. 0.0156139206840935\n",
       "25. -0.00256622544586804\n",
       "26. 0.0156658661182848\n",
       "27. 0.0330221876320842\n",
       "28. -0.0123892890926663\n",
       "29. 0.0169367774672423\n",
       "30. 0.00601700377883077\n",
       "31. 0.00244827039086298\n",
       "32. -0.058322601509725\n",
       "33. -0.0670051398653326\n",
       "34. -0.0972713521695227\n",
       "35. -0.0246652167040414\n",
       "36. -0.0594477643120446\n",
       "37. -0.00434288566732447\n",
       "38. 0.0405020346179186\n",
       "39. 0.00705003821377198\n",
       "40. 0.0137165075176208\n",
       "41. -0.0186981900667651\n",
       "42. 0.0189364437312496\n",
       "43. -0.016193681991127\n",
       "44. -0.00114805901716352\n",
       "45. -0.0308086281369677\n",
       "46. -0.0101281879414253\n",
       "47. 0.02197017273237\n",
       "48. -0.00386891874967739\n",
       "49. 0.0118963466440939\n",
       "50. 0.0187365031327505\n",
       "51. -0.0148644566331409\n",
       "52. 0.00759449537204439\n",
       "53. 0.0159412110962078\n",
       "54. 0.0190095851908568\n",
       "55. 0.00554204879782567\n",
       "56. 0.0269186965784067\n",
       "57. 0.0202085844631025\n",
       "58. -0.0108132498972777\n",
       "59. 0.006461021966429\n",
       "60. 0.00667097625200203\n",
       "61. 0.0131999149303169\n",
       "62. 0.0116691596305276\n",
       "63. -0.00540340340691141\n",
       "64. 0.013217074822307\n",
       "65. 0.0151512500993606\n",
       "66. -0.00791992102144213\n",
       "67. 0.016978539008608\n",
       "68. 0.00372553423944953\n",
       "69. 0.010332797021401\n",
       "70. 0.00433064528145325\n",
       "71. 0.0144437683246631\n",
       "72. 0.0189909621113964\n",
       "73. 0.019452779592839\n",
       "74. 0.0141328770130573\n",
       "75. 0.0114957115313215\n",
       "76. 0.00921175706640262\n",
       "77. 4.89000648632148e-05\n",
       "78. -0.00462107990732905\n",
       "79. -0.0118802167238806\n",
       "80. 0.000967517571169668\n",
       "81. 0.0100077151359742\n",
       "82. 0.0107505004067487\n",
       "83. 0.00526054298391211\n",
       "84. 0.0160850331648515\n",
       "85. 0.00766483469049276\n",
       "86. -0.00134078661973686\n",
       "87. 5.79961425056508e-05\n",
       "88. -0.00222814977271007\n",
       "89. -0.00851848686627803\n",
       "90. -0.00664179782985756\n",
       "91. -0.010712483990798\n",
       "92. 0.00516332135679592\n",
       "93. 0.0189404394793553\n",
       "94. 0.012392470473232\n",
       "95. 0.00389520605571568\n",
       "96. 0.00774501468948326\n",
       "97. 0.00553615099928267\n",
       "98. -0.00718477982252793\n",
       "99. 0.00610816091868329\n",
       "100. 0.0124287036235522\n",
       "101. 0.00301652588998339\n",
       "102. 0.0155318081168298\n",
       "103. 0.0129327834503066\n",
       "104. 0.00573772219162316\n",
       "\n",
       "\n"
      ],
      "text/plain": [
       "  [1]  8.979208e-03  5.372943e-02 -3.565078e-02 -3.851144e-02  1.154373e-02\n",
       "  [6] -6.612395e-02 -1.029391e-01 -7.543703e-02  1.965708e-02  2.849351e-02\n",
       " [11]  4.162841e-03  1.069235e-02  1.075291e-02 -2.088472e-02  4.655462e-03\n",
       " [16]  5.173086e-02 -7.904086e-04 -2.388764e-02  2.196302e-02 -1.041767e-03\n",
       " [21] -1.910471e-03  4.153254e-02  2.255697e-03  1.561392e-02 -2.566225e-03\n",
       " [26]  1.566587e-02  3.302219e-02 -1.238929e-02  1.693678e-02  6.017004e-03\n",
       " [31]  2.448270e-03 -5.832260e-02 -6.700514e-02 -9.727135e-02 -2.466522e-02\n",
       " [36] -5.944776e-02 -4.342886e-03  4.050203e-02  7.050038e-03  1.371651e-02\n",
       " [41] -1.869819e-02  1.893644e-02 -1.619368e-02 -1.148059e-03 -3.080863e-02\n",
       " [46] -1.012819e-02  2.197017e-02 -3.868919e-03  1.189635e-02  1.873650e-02\n",
       " [51] -1.486446e-02  7.594495e-03  1.594121e-02  1.900959e-02  5.542049e-03\n",
       " [56]  2.691870e-02  2.020858e-02 -1.081325e-02  6.461022e-03  6.670976e-03\n",
       " [61]  1.319991e-02  1.166916e-02 -5.403403e-03  1.321707e-02  1.515125e-02\n",
       " [66] -7.919921e-03  1.697854e-02  3.725534e-03  1.033280e-02  4.330645e-03\n",
       " [71]  1.444377e-02  1.899096e-02  1.945278e-02  1.413288e-02  1.149571e-02\n",
       " [76]  9.211757e-03  4.890006e-05 -4.621080e-03 -1.188022e-02  9.675176e-04\n",
       " [81]  1.000772e-02  1.075050e-02  5.260543e-03  1.608503e-02  7.664835e-03\n",
       " [86] -1.340787e-03  5.799614e-05 -2.228150e-03 -8.518487e-03 -6.641798e-03\n",
       " [91] -1.071248e-02  5.163321e-03  1.894044e-02  1.239247e-02  3.895206e-03\n",
       " [96]  7.745015e-03  5.536151e-03 -7.184780e-03  6.108161e-03  1.242870e-02\n",
       "[101]  3.016526e-03  1.553181e-02  1.293278e-02  5.737722e-03"
      ]
     },
     "metadata": {},
     "output_type": "display_data"
    }
   ],
   "source": [
    "X_ts <- ts(data[[9]], start = c(1, 1), frequency = 12)\n",
    "xdir=predict(prcomp(scale(X_ts)))[,1:50]\n",
    "\n",
    "fc=function(y,h,xreg,newxreg){\n",
    "    fit=auto.arima(y,xreg=xreg)\n",
    "    forecast(fit,xreg=newxreg,h=h)\n",
    "    }\n",
    "\n",
    "sq=function(u){u^2}\n",
    "e_cpi=tsCV(cpi_ts,fc,xreg=xdir,h=1)\n",
    "e_ppi=tsCV(ppi_ts,fc,xreg=xdir,h=1)\n",
    "\n",
    "missing_cpi=sum(is.na(e_cpi))\n",
    "missing_ppi=sum(is.na(e_ppi))\n",
    "ecpi_nomiss=e_cpi[(missing_cpi+1):(length(e_cpi)-1)]\n",
    "eppi_nomiss=e_ppi[(missing_ppi+1):(length(e_ppi)-1)]\n",
    "ecpi_nomiss\n",
    "eppi_nomiss"
   ]
  },
  {
   "cell_type": "code",
   "execution_count": 14,
   "id": "f5c841b9-5661-423c-a5de-5a9be6fdbcc4",
   "metadata": {},
   "outputs": [
    {
     "data": {
      "text/html": [
       "0.665363488256627"
      ],
      "text/latex": [
       "0.665363488256627"
      ],
      "text/markdown": [
       "0.665363488256627"
      ],
      "text/plain": [
       "[1] 0.6653635"
      ]
     },
     "metadata": {},
     "output_type": "display_data"
    },
    {
     "data": {
      "text/html": [
       "0.866335204799074"
      ],
      "text/latex": [
       "0.866335204799074"
      ],
      "text/markdown": [
       "0.866335204799074"
      ],
      "text/plain": [
       "[1] 0.8663352"
      ]
     },
     "metadata": {},
     "output_type": "display_data"
    }
   ],
   "source": [
    "tscv_rss_cpi=var(ecpi_nomiss)\n",
    "tscv_tss_cpi=var(cpi_ts[(missing_cpi+1):(length(e_cpi)-1)])\n",
    "tscv_rsq_cpi=1-(tscv_rss_cpi/tscv_tss_cpi)\n",
    "tscv_rsq_cpi\n",
    "\n",
    "tscv_rss_ppi=var(eppi_nomiss)\n",
    "tscv_tss_ppi=var(ppi_ts[(missing_ppi+1):(length(e_ppi)-1)])\n",
    "tscv_rsq_ppi=1-(tscv_rss_ppi/tscv_tss_ppi)\n",
    "tscv_rsq_ppi"
   ]
  },
  {
   "cell_type": "markdown",
   "id": "ee089587-62f4-4323-a370-b0402c55e0ee",
   "metadata": {},
   "source": [
    "##### Although the above two models have a high OOS-R2, the AR1 or other AR value is always true when predicting, which means that it is not using predicted $\\hat{y}_{t}$ to predict $\\hat{y}_{t+1}$. In our final test, we would not have the true value of 30 period, so AR value is hard to use.\n",
    "##### We again test whether AR method would give a good prediction, this time by tsCV and auto.arima function."
   ]
  },
  {
   "cell_type": "code",
   "execution_count": 3,
   "id": "45fe8dc6-bc69-4942-8350-ba8235aef4af",
   "metadata": {},
   "outputs": [
    {
     "data": {
      "text/html": [
       "156"
      ],
      "text/latex": [
       "156"
      ],
      "text/markdown": [
       "156"
      ],
      "text/plain": [
       "[1] 156"
      ]
     },
     "metadata": {},
     "output_type": "display_data"
    },
    {
     "data": {
      "text/html": [
       "<style>\n",
       ".list-inline {list-style: none; margin:0; padding: 0}\n",
       ".list-inline>li {display: inline-block}\n",
       ".list-inline>li:not(:last-child)::after {content: \"\\00b7\"; padding: 0 .5ex}\n",
       "</style>\n",
       "<ol class=list-inline><li>156</li><li>50</li></ol>\n"
      ],
      "text/latex": [
       "\\begin{enumerate*}\n",
       "\\item 156\n",
       "\\item 50\n",
       "\\end{enumerate*}\n"
      ],
      "text/markdown": [
       "1. 156\n",
       "2. 50\n",
       "\n",
       "\n"
      ],
      "text/plain": [
       "[1] 156  50"
      ]
     },
     "metadata": {},
     "output_type": "display_data"
    }
   ],
   "source": [
    "cpi_ts <- ts(lncpi, start = c(1, 1), frequency = 12)\n",
    "ppi_ts <- ts(lnppi, start = c(1, 1), frequency = 12)\n",
    "length(cpi_ts)\n",
    "data=cbind(X[13:168,-1],X[1:156,-1])\n",
    "X_ts <- ts(data, start = c(1, 1), frequency = 12)\n",
    "xdir=predict(prcomp(scale(X_ts)))[,1:50]\n",
    "dim(xdir)"
   ]
  },
  {
   "cell_type": "code",
   "execution_count": 4,
   "id": "33bc0746-9557-4332-9fb8-462387d52d89",
   "metadata": {},
   "outputs": [
    {
     "name": "stderr",
     "output_type": "stream",
     "text": [
      "Registered S3 method overwritten by 'quantmod':\n",
      "  method            from\n",
      "  as.zoo.data.frame zoo \n",
      "\n"
     ]
    }
   ],
   "source": [
    "library(forecast)\n",
    "\n",
    "fc <- function(y, h, xreg, newxreg) {\n",
    "  fit <- auto.arima(y, xreg=xreg)\n",
    "  forecast(fit, xreg=newxreg, h=h)\n",
    "}\n",
    "\n",
    "sq <- function(u){u^2}\n",
    "lncpi_train <- cpi_ts[1:132]\n",
    "lnppi_train <- ppi_ts[1:132]\n",
    "X_pca_train <- xdir[1:132,]\n",
    "X_pca_test <- xdir[133:144,]\n",
    "\n",
    "for (i in 1:24){\n",
    "    j=132+i\n",
    "    X_pca_test=xdir[j,]\n",
    "    e_cpi <- tsCV(lncpi_train, fc, xreg= X_pca_train, newxreg=X_pca_test, h=1, window = 60, initial = 60)\n",
    "    e_ppi <- tsCV(lnppi_train, fc, xreg= X_pca_train, newxreg=X_pca_test, h=1, window = 60, initial = 60)\n",
    "    \n",
    "    lncpi_train[j]=mean(e_cpi, na.rm=TRUE)\n",
    "    lnppi_train[j]=mean(e_ppi, na.rm=TRUE)\n",
    "    \n",
    "    X_pca_train=xdir[1:j,]\n",
    "    }"
   ]
  },
  {
   "cell_type": "code",
   "execution_count": 6,
   "id": "95c14a45-fa32-44ba-8fbb-d49dd5a458a3",
   "metadata": {},
   "outputs": [
    {
     "data": {
      "text/html": [
       "-0.124449242822529"
      ],
      "text/latex": [
       "-0.124449242822529"
      ],
      "text/markdown": [
       "-0.124449242822529"
      ],
      "text/plain": [
       "[1] -0.1244492"
      ]
     },
     "metadata": {},
     "output_type": "display_data"
    },
    {
     "data": {
      "text/html": [
       "0.0269786081004563"
      ],
      "text/latex": [
       "0.0269786081004563"
      ],
      "text/markdown": [
       "0.0269786081004563"
      ],
      "text/plain": [
       "[1] 0.02697861"
      ]
     },
     "metadata": {},
     "output_type": "display_data"
    }
   ],
   "source": [
    "tscv_rss_cpi <- var(lncpi_train[133:156]-cpi_ts[133:156])\n",
    "tscv_tss_cpi <- var(cpi_ts[133:156])\n",
    "tscv_rsq_cpi <- 1 - (tscv_rss_cpi / tscv_tss_cpi)\n",
    "tscv_rsq_cpi\n",
    "\n",
    "tscv_rss_ppi <- var(lnppi_train[133:156]-ppi_ts[133:156])\n",
    "tscv_tss_ppi <- var(ppi_ts[133:156])\n",
    "tscv_rsq_ppi <- 1 - (tscv_rss_ppi / tscv_tss_ppi)\n",
    "tscv_rsq_ppi"
   ]
  },
  {
   "cell_type": "markdown",
   "id": "90d8fd37-0d5e-48f8-9134-5bf49ca05745",
   "metadata": {},
   "source": [
    "##### Again, the outcome is ridiculous, which may prove that using predicted $\\hat{y}_{t}$ to predict $\\hat{y}_{t+1}$ is an infeasible way, at least in the situation that we need to predict 30 periods."
   ]
  },
  {
   "cell_type": "markdown",
   "id": "3f47135d-bde2-4829-9e80-291e3dea0498",
   "metadata": {},
   "source": [
    "### D) Final model\n",
    "##### Finally we think $y_t=\\alpha+\\beta_1 X_t+\\beta_2 X_{t-q}+e $ is the best factor model. The PC number for cpi we choose is 60, and so is that for ppi. For the final train data we choose period 25 to 168."
   ]
  },
  {
   "cell_type": "markdown",
   "id": "56d9c5a7-61bc-4bc8-82f3-6cc1ef468d1a",
   "metadata": {},
   "source": [
    "#### Change the fake data below"
   ]
  },
  {
   "cell_type": "code",
   "execution_count": 1,
   "id": "eedf27a0-5348-4ebd-a77c-29b3127e2eac",
   "metadata": {},
   "outputs": [],
   "source": [
    "#Change the data here\n",
    "load(\"dataset_inf.Rdata\")\n",
    "data=rbind(X,fake.testing.X)"
   ]
  },
  {
   "cell_type": "markdown",
   "id": "1dccf175-69b1-4cf3-afde-78adc1263992",
   "metadata": {},
   "source": [
    "#### Just run the code below and there will be a 30 * 2 table."
   ]
  },
  {
   "cell_type": "code",
   "execution_count": 2,
   "id": "0451cc7b-3442-4a5c-93c3-3af9aa463a6a",
   "metadata": {},
   "outputs": [],
   "source": [
    "lncpi=log(cpi[13:168,2])-log(cpi[1:156,2])\n",
    "lnppi=log(ppi[13:168,2])-log(ppi[1:156,2])"
   ]
  },
  {
   "cell_type": "code",
   "execution_count": 3,
   "id": "398d988b-9213-4d51-b1ec-a94adad43ab2",
   "metadata": {},
   "outputs": [
    {
     "data": {
      "text/html": [
       "156"
      ],
      "text/latex": [
       "156"
      ],
      "text/markdown": [
       "156"
      ],
      "text/plain": [
       "[1] 156"
      ]
     },
     "metadata": {},
     "output_type": "display_data"
    }
   ],
   "source": [
    "cpi_t=lncpi[1:156]\n",
    "ppi_t=lnppi[1:156]\n",
    "length(cpi_t)"
   ]
  },
  {
   "cell_type": "code",
   "execution_count": 4,
   "id": "b3940952-162c-40ad-8a95-85d57753a63f",
   "metadata": {},
   "outputs": [
    {
     "data": {
      "text/html": [
       "<style>\n",
       ".list-inline {list-style: none; margin:0; padding: 0}\n",
       ".list-inline>li {display: inline-block}\n",
       ".list-inline>li:not(:last-child)::after {content: \"\\00b7\"; padding: 0 .5ex}\n",
       "</style>\n",
       "<ol class=list-inline><li>156</li><li>302</li></ol>\n"
      ],
      "text/latex": [
       "\\begin{enumerate*}\n",
       "\\item 156\n",
       "\\item 302\n",
       "\\end{enumerate*}\n"
      ],
      "text/markdown": [
       "1. 156\n",
       "2. 302\n",
       "\n",
       "\n"
      ],
      "text/plain": [
       "[1] 156 302"
      ]
     },
     "metadata": {},
     "output_type": "display_data"
    }
   ],
   "source": [
    "trainX=cbind(data[13:168,-1],data[1:156,-1])\n",
    "dim(trainX)"
   ]
  },
  {
   "cell_type": "code",
   "execution_count": 5,
   "id": "135add77-b0e6-4fd7-95ac-ed000d14d542",
   "metadata": {},
   "outputs": [],
   "source": [
    "k=60 #cpi PC number\n",
    "l=60 #ppi PC number\n",
    "\n",
    "xpca=prcomp(scale(trainX))\n",
    "\n",
    "#fit cpi model\n",
    "train_X_cpi=predict(xpca)[,1:k]\n",
    "fit_cpi <- glm(cpi_t ~ ., data=as.data.frame(train_X_cpi))\n",
    "\n",
    "#fit ppi model\n",
    "train_X_ppi=predict(xpca)[,1:l]\n",
    "fit_ppi <- glm(ppi_t ~ ., data=as.data.frame(train_X_ppi))"
   ]
  },
  {
   "cell_type": "code",
   "execution_count": 7,
   "id": "520f2cfc-5001-45fc-9013-18adc953076c",
   "metadata": {},
   "outputs": [
    {
     "data": {
      "text/html": [
       "<style>\n",
       ".list-inline {list-style: none; margin:0; padding: 0}\n",
       ".list-inline>li {display: inline-block}\n",
       ".list-inline>li:not(:last-child)::after {content: \"\\00b7\"; padding: 0 .5ex}\n",
       "</style>\n",
       "<ol class=list-inline><li>30</li><li>302</li></ol>\n"
      ],
      "text/latex": [
       "\\begin{enumerate*}\n",
       "\\item 30\n",
       "\\item 302\n",
       "\\end{enumerate*}\n"
      ],
      "text/markdown": [
       "1. 30\n",
       "2. 302\n",
       "\n",
       "\n"
      ],
      "text/plain": [
       "[1]  30 302"
      ]
     },
     "metadata": {},
     "output_type": "display_data"
    }
   ],
   "source": [
    "predX=cbind(data[169:198,-1],data[157:186,-1])\n",
    "dim(predX)"
   ]
  },
  {
   "cell_type": "code",
   "execution_count": 8,
   "id": "cac156dd-11b2-47fa-a512-552d12738435",
   "metadata": {},
   "outputs": [
    {
     "data": {
      "text/html": [
       "<table class=\"dataframe\">\n",
       "<caption>A matrix: 30 × 3 of type dbl</caption>\n",
       "<thead>\n",
       "\t<tr><th></th><th scope=col>period</th><th scope=col>cpi</th><th scope=col>ppi</th></tr>\n",
       "</thead>\n",
       "<tbody>\n",
       "\t<tr><th scope=row>169</th><td>169</td><td>-0.02589139</td><td>0.1070136</td></tr>\n",
       "\t<tr><th scope=row>170</th><td>170</td><td>-0.03386091</td><td>0.1155825</td></tr>\n",
       "\t<tr><th scope=row>171</th><td>171</td><td>-0.03520190</td><td>0.1278140</td></tr>\n",
       "\t<tr><th scope=row>172</th><td>172</td><td>-0.04001778</td><td>0.1194080</td></tr>\n",
       "\t<tr><th scope=row>173</th><td>173</td><td>-0.04228233</td><td>0.1222891</td></tr>\n",
       "\t<tr><th scope=row>174</th><td>174</td><td>-0.03484861</td><td>0.1266203</td></tr>\n",
       "\t<tr><th scope=row>175</th><td>175</td><td>-0.03172239</td><td>0.1324381</td></tr>\n",
       "\t<tr><th scope=row>176</th><td>176</td><td>-0.03616747</td><td>0.1261706</td></tr>\n",
       "\t<tr><th scope=row>177</th><td>177</td><td>-0.03162185</td><td>0.1321624</td></tr>\n",
       "\t<tr><th scope=row>178</th><td>178</td><td>-0.02677014</td><td>0.1284163</td></tr>\n",
       "\t<tr><th scope=row>179</th><td>179</td><td>-0.03459049</td><td>0.1215002</td></tr>\n",
       "\t<tr><th scope=row>180</th><td>180</td><td>-0.02027651</td><td>0.1192736</td></tr>\n",
       "\t<tr><th scope=row>181</th><td>181</td><td>-0.03767251</td><td>0.1301602</td></tr>\n",
       "\t<tr><th scope=row>182</th><td>182</td><td>-0.03117951</td><td>0.1275184</td></tr>\n",
       "\t<tr><th scope=row>183</th><td>183</td><td>-0.03775580</td><td>0.1279729</td></tr>\n",
       "\t<tr><th scope=row>184</th><td>184</td><td>-0.03580660</td><td>0.1191558</td></tr>\n",
       "\t<tr><th scope=row>185</th><td>185</td><td>-0.03325698</td><td>0.1169437</td></tr>\n",
       "\t<tr><th scope=row>186</th><td>186</td><td>-0.03663027</td><td>0.1142157</td></tr>\n",
       "\t<tr><th scope=row>187</th><td>187</td><td>-0.03640650</td><td>0.1170441</td></tr>\n",
       "\t<tr><th scope=row>188</th><td>188</td><td>-0.03286985</td><td>0.1218441</td></tr>\n",
       "\t<tr><th scope=row>189</th><td>189</td><td>-0.03543827</td><td>0.1255868</td></tr>\n",
       "\t<tr><th scope=row>190</th><td>190</td><td>-0.04205256</td><td>0.1324366</td></tr>\n",
       "\t<tr><th scope=row>191</th><td>191</td><td>-0.03661482</td><td>0.1301833</td></tr>\n",
       "\t<tr><th scope=row>192</th><td>192</td><td>-0.03750841</td><td>0.1347354</td></tr>\n",
       "\t<tr><th scope=row>193</th><td>193</td><td>-0.03984132</td><td>0.1343350</td></tr>\n",
       "\t<tr><th scope=row>194</th><td>194</td><td>-0.04101110</td><td>0.1398077</td></tr>\n",
       "\t<tr><th scope=row>195</th><td>195</td><td>-0.04569860</td><td>0.1393211</td></tr>\n",
       "\t<tr><th scope=row>196</th><td>196</td><td>-0.04667907</td><td>0.1382894</td></tr>\n",
       "\t<tr><th scope=row>197</th><td>197</td><td>-0.04433324</td><td>0.1324431</td></tr>\n",
       "\t<tr><th scope=row>198</th><td>198</td><td>-0.04101663</td><td>0.1300804</td></tr>\n",
       "</tbody>\n",
       "</table>\n"
      ],
      "text/latex": [
       "A matrix: 30 × 3 of type dbl\n",
       "\\begin{tabular}{r|lll}\n",
       "  & period & cpi & ppi\\\\\n",
       "\\hline\n",
       "\t169 & 169 & -0.02589139 & 0.1070136\\\\\n",
       "\t170 & 170 & -0.03386091 & 0.1155825\\\\\n",
       "\t171 & 171 & -0.03520190 & 0.1278140\\\\\n",
       "\t172 & 172 & -0.04001778 & 0.1194080\\\\\n",
       "\t173 & 173 & -0.04228233 & 0.1222891\\\\\n",
       "\t174 & 174 & -0.03484861 & 0.1266203\\\\\n",
       "\t175 & 175 & -0.03172239 & 0.1324381\\\\\n",
       "\t176 & 176 & -0.03616747 & 0.1261706\\\\\n",
       "\t177 & 177 & -0.03162185 & 0.1321624\\\\\n",
       "\t178 & 178 & -0.02677014 & 0.1284163\\\\\n",
       "\t179 & 179 & -0.03459049 & 0.1215002\\\\\n",
       "\t180 & 180 & -0.02027651 & 0.1192736\\\\\n",
       "\t181 & 181 & -0.03767251 & 0.1301602\\\\\n",
       "\t182 & 182 & -0.03117951 & 0.1275184\\\\\n",
       "\t183 & 183 & -0.03775580 & 0.1279729\\\\\n",
       "\t184 & 184 & -0.03580660 & 0.1191558\\\\\n",
       "\t185 & 185 & -0.03325698 & 0.1169437\\\\\n",
       "\t186 & 186 & -0.03663027 & 0.1142157\\\\\n",
       "\t187 & 187 & -0.03640650 & 0.1170441\\\\\n",
       "\t188 & 188 & -0.03286985 & 0.1218441\\\\\n",
       "\t189 & 189 & -0.03543827 & 0.1255868\\\\\n",
       "\t190 & 190 & -0.04205256 & 0.1324366\\\\\n",
       "\t191 & 191 & -0.03661482 & 0.1301833\\\\\n",
       "\t192 & 192 & -0.03750841 & 0.1347354\\\\\n",
       "\t193 & 193 & -0.03984132 & 0.1343350\\\\\n",
       "\t194 & 194 & -0.04101110 & 0.1398077\\\\\n",
       "\t195 & 195 & -0.04569860 & 0.1393211\\\\\n",
       "\t196 & 196 & -0.04667907 & 0.1382894\\\\\n",
       "\t197 & 197 & -0.04433324 & 0.1324431\\\\\n",
       "\t198 & 198 & -0.04101663 & 0.1300804\\\\\n",
       "\\end{tabular}\n"
      ],
      "text/markdown": [
       "\n",
       "A matrix: 30 × 3 of type dbl\n",
       "\n",
       "| <!--/--> | period | cpi | ppi |\n",
       "|---|---|---|---|\n",
       "| 169 | 169 | -0.02589139 | 0.1070136 |\n",
       "| 170 | 170 | -0.03386091 | 0.1155825 |\n",
       "| 171 | 171 | -0.03520190 | 0.1278140 |\n",
       "| 172 | 172 | -0.04001778 | 0.1194080 |\n",
       "| 173 | 173 | -0.04228233 | 0.1222891 |\n",
       "| 174 | 174 | -0.03484861 | 0.1266203 |\n",
       "| 175 | 175 | -0.03172239 | 0.1324381 |\n",
       "| 176 | 176 | -0.03616747 | 0.1261706 |\n",
       "| 177 | 177 | -0.03162185 | 0.1321624 |\n",
       "| 178 | 178 | -0.02677014 | 0.1284163 |\n",
       "| 179 | 179 | -0.03459049 | 0.1215002 |\n",
       "| 180 | 180 | -0.02027651 | 0.1192736 |\n",
       "| 181 | 181 | -0.03767251 | 0.1301602 |\n",
       "| 182 | 182 | -0.03117951 | 0.1275184 |\n",
       "| 183 | 183 | -0.03775580 | 0.1279729 |\n",
       "| 184 | 184 | -0.03580660 | 0.1191558 |\n",
       "| 185 | 185 | -0.03325698 | 0.1169437 |\n",
       "| 186 | 186 | -0.03663027 | 0.1142157 |\n",
       "| 187 | 187 | -0.03640650 | 0.1170441 |\n",
       "| 188 | 188 | -0.03286985 | 0.1218441 |\n",
       "| 189 | 189 | -0.03543827 | 0.1255868 |\n",
       "| 190 | 190 | -0.04205256 | 0.1324366 |\n",
       "| 191 | 191 | -0.03661482 | 0.1301833 |\n",
       "| 192 | 192 | -0.03750841 | 0.1347354 |\n",
       "| 193 | 193 | -0.03984132 | 0.1343350 |\n",
       "| 194 | 194 | -0.04101110 | 0.1398077 |\n",
       "| 195 | 195 | -0.04569860 | 0.1393211 |\n",
       "| 196 | 196 | -0.04667907 | 0.1382894 |\n",
       "| 197 | 197 | -0.04433324 | 0.1324431 |\n",
       "| 198 | 198 | -0.04101663 | 0.1300804 |\n",
       "\n"
      ],
      "text/plain": [
       "    period cpi         ppi      \n",
       "169 169    -0.02589139 0.1070136\n",
       "170 170    -0.03386091 0.1155825\n",
       "171 171    -0.03520190 0.1278140\n",
       "172 172    -0.04001778 0.1194080\n",
       "173 173    -0.04228233 0.1222891\n",
       "174 174    -0.03484861 0.1266203\n",
       "175 175    -0.03172239 0.1324381\n",
       "176 176    -0.03616747 0.1261706\n",
       "177 177    -0.03162185 0.1321624\n",
       "178 178    -0.02677014 0.1284163\n",
       "179 179    -0.03459049 0.1215002\n",
       "180 180    -0.02027651 0.1192736\n",
       "181 181    -0.03767251 0.1301602\n",
       "182 182    -0.03117951 0.1275184\n",
       "183 183    -0.03775580 0.1279729\n",
       "184 184    -0.03580660 0.1191558\n",
       "185 185    -0.03325698 0.1169437\n",
       "186 186    -0.03663027 0.1142157\n",
       "187 187    -0.03640650 0.1170441\n",
       "188 188    -0.03286985 0.1218441\n",
       "189 189    -0.03543827 0.1255868\n",
       "190 190    -0.04205256 0.1324366\n",
       "191 191    -0.03661482 0.1301833\n",
       "192 192    -0.03750841 0.1347354\n",
       "193 193    -0.03984132 0.1343350\n",
       "194 194    -0.04101110 0.1398077\n",
       "195 195    -0.04569860 0.1393211\n",
       "196 196    -0.04667907 0.1382894\n",
       "197 197    -0.04433324 0.1324431\n",
       "198 198    -0.04101663 0.1300804"
      ]
     },
     "metadata": {},
     "output_type": "display_data"
    }
   ],
   "source": [
    "pred_X=predict(xpca,predX)\n",
    "pred_cpi=predict(fit_cpi,as.data.frame(pred_X))\n",
    "pred_ppi=predict(fit_ppi,as.data.frame(pred_X))\n",
    "table=cbind('cpi'=pred_cpi,'ppi'=pred_ppi)\n",
    "table=cbind('period'=seq(169,198),table)\n",
    "table"
   ]
  }
 ],
 "metadata": {
  "kernelspec": {
   "display_name": "R",
   "language": "R",
   "name": "ir"
  },
  "language_info": {
   "codemirror_mode": "r",
   "file_extension": ".r",
   "mimetype": "text/x-r-source",
   "name": "R",
   "pygments_lexer": "r",
   "version": "4.1.3"
  }
 },
 "nbformat": 4,
 "nbformat_minor": 5
}
