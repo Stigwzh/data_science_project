{
 "cells": [
  {
   "cell_type": "markdown",
   "id": "94bc9926-3576-4280-a8d6-32ba46afd8c4",
   "metadata": {},
   "source": [
    "**Random Forest Model Analysis**\n",
    "\n",
    "Random Forest is a Bagging-based integrated learning method. It optimizes the construction process of the decision tree: for ordinary decision trees, we will select an optimal feature among all m sample features on the node to divide the left and right subtrees of the decision tree; but the random forest assume that the number of features on the node is n, and then among these randomly selected sample features, select an optimal feature to divide the left and right subtrees of the decision tree. This further enhances the generalization ability of the model.\n",
    "We use the Random Forest Model to predicate the change of the inflation rate and test the stability of the algorithm."
   ]
  },
  {
   "cell_type": "markdown",
   "id": "774d5e11-792d-4e98-840f-9750bfe49300",
   "metadata": {},
   "source": [
    "**1.Feature Selection:**\n",
    "\n",
    "We first set a threshold for the correlation coefficient, and then set the significance of the correlation. Our feature selection is based on whether the absolute value between each independent variable is greater than this threshold, and whether the significance of the correlation is less than P. \n",
    "Then we select some features that are highly correlated with the dependent variable to start the analysis."
   ]
  },
  {
   "cell_type": "code",
   "execution_count": 7,
   "id": "c8f91efc-f41e-40df-8f09-295c688efbb7",
   "metadata": {},
   "outputs": [],
   "source": [
    "library(caret)"
   ]
  },
  {
   "cell_type": "code",
   "execution_count": 8,
   "id": "2e3d72dc-06b5-4c1b-a834-6948ba543e3a",
   "metadata": {},
   "outputs": [],
   "source": [
    "select_X <- function(X, y, cor_thr = 0.2, p_thr = 0.05){\n",
    "  select_cols <- NULL\n",
    "  for(col in colnames(X)){\n",
    "    cor_result <- cor.test(unlist(X[, col]), y)\n",
    "    if(abs(cor_result$estimate) > cor_thr && cor_result$p.value < p_thr){\n",
    "      select_cols <- c(select_cols, col)\n",
    "    }\n",
    "  }\n",
    "  return(select_cols)\n",
    "}"
   ]
  },
  {
   "cell_type": "markdown",
   "id": "2e4b24d8-9027-45ba-8ea2-88e4f366714b",
   "metadata": {},
   "source": [
    "**2.Parameters Optimization**\n",
    "\n",
    "In random forest training, two important parameters are tree and mtry, where ntree is the number of base classifiers included; mtry is the number of variables contained in each decision tree. We set the test rate is 0.25 and use 10 cross validation. Considering the time series type data, we set the test size as 30 and use remained data to train. Through parameter optimization, we could conclude the best setting of the parameters and judge the stability of the model via R-squared."
   ]
  },
  {
   "cell_type": "code",
   "execution_count": 9,
   "id": "b17e8347-14a6-4764-98c1-d64c96aa0545",
   "metadata": {},
   "outputs": [],
   "source": [
    "find_best_params <- function(df, X_cols, y_col, test_size=30, test_rate=0.25, cv=10){\n",
    "  select_cols <- select_X(df[, X_cols], df[, y_col])\n",
    "  set.seed(100)\n",
    "  \n",
    "  test_index <- (nrow(df)-test_size):(nrow(df))\n",
    "  train <- df[-test_index, c(y_col, select_cols)]\n",
    "  test <- df[test_index, c(y_col, select_cols)]\n",
    "  \n",
    "  trControl <- trainControl(\n",
    "    method = \"cv\",\n",
    "    number = cv,\n",
    "    search = \"grid\"\n",
    "  )\n",
    "  \n",
    "  tuneGrid <- expand.grid(.mtry = c(1: 5))\n",
    "  \n",
    "  rf_mtry <- train(\n",
    "    formula(paste(y_col, \"~.\")),\n",
    "    data = train,\n",
    "    method = \"rf\",\n",
    "    metric = \"Rsquared\",\n",
    "    tuneGrid = tuneGrid,\n",
    "    trControl = trControl,\n",
    "    importance = TRUE,\n",
    "    ntree = 100\n",
    "  )\n",
    "\n",
    "  # Best mtry\n",
    "  best_mtry <- rf_mtry$bestTune$mtry\n",
    "  print(paste(\"best_mtry：\", best_mtry))\n",
    "  \n",
    "  # Finding the best ntree(The default value is 500)\n",
    "  best_ntree <- -1\n",
    "  best_r2 <- -1\n",
    "  for (ntree in c(100, 300, 500, 800, 1000)) {\n",
    "    set.seed(2020.1315)\n",
    "    rf_maxtrees <- train(\n",
    "      formula(paste(y_col, \"~.\")),\n",
    "      data = train,\n",
    "      method = \"rf\",\n",
    "      metric = \"Rsquared\",\n",
    "      tuneGrid = tuneGrid,\n",
    "      trControl = trControl,\n",
    "      importance = TRUE,\n",
    "      # maxnodes = nodesize,\n",
    "      ntree = ntree\n",
    "    )\n",
    "    r2 <- mean(rf_maxtrees$results$Rsquared)\n",
    "    if(r2 > best_r2){\n",
    "      best_r2 <- r2\n",
    "      best_ntree <- ntree\n",
    "    }\n",
    "  }\n",
    "  # Best ntree\n",
    "  print(paste(\"best_ntreee：\", best_ntree))\n",
    "  \n",
    "  return(list(\n",
    "    train = train,\n",
    "    test = test,\n",
    "    best_mtry = best_mtry,\n",
    "    best_ntree = best_ntree\n",
    "  ))\n",
    "}"
   ]
  },
  {
   "cell_type": "code",
   "execution_count": 10,
   "id": "0fe59562-65fd-4538-aab2-0d33b8ba6f32",
   "metadata": {},
   "outputs": [],
   "source": [
    "get_best_model <- function(best_params, y_col, cv=5){\n",
    "  tuneGrid <- expand.grid(.mtry = best_params[[\"best_mtry\"]])\n",
    "  \n",
    "  trControl <- trainControl(\n",
    "    method = \"cv\",\n",
    "    number = cv,\n",
    "    search = \"grid\"\n",
    "  )\n",
    "  \n",
    "  best_rf <- train(\n",
    "    formula(paste(y_col, \"~.\")),\n",
    "    data = best_params[[\"train\"]],\n",
    "    method = \"rf\",\n",
    "    metric = \"Rsquared\",\n",
    "    tuneGrid = tuneGrid,\n",
    "    trControl = trControl,\n",
    "    importance = TRUE,\n",
    "    ntree = best_params[[\"best_ntree\"]]\n",
    "  )\n",
    "  return(best_rf)\n",
    "}"
   ]
  },
  {
   "cell_type": "code",
   "execution_count": 11,
   "id": "fac90778-442b-42c8-8e7d-61f4b267bcf2",
   "metadata": {},
   "outputs": [],
   "source": [
    "cal_r2 <- function(preds, truths){\n",
    "  ss_res <- sum((preds - truths)^2)\n",
    "  ss_tot <- sum((truths - mean(truths))^2)\n",
    "  return(1-ss_res/ss_tot)\n",
    "}"
   ]
  },
  {
   "cell_type": "markdown",
   "id": "c4e5ec7d-b44f-4bf4-b385-a4bed389e003",
   "metadata": {},
   "source": [
    "**3.Data Analysis**\n",
    "\n",
    "We load the data and use the model to predicate the CPI and PPI. Using the separating methods, we got 10 results of R-squared."
   ]
  },
  {
   "cell_type": "code",
   "execution_count": 12,
   "id": "0782edef-6117-4f1a-ba0e-6daeab21f2fe",
   "metadata": {},
   "outputs": [],
   "source": [
    "load(url(\"https://github.com/zhentaoshi/Econ5821/raw/main/data_example/dataset_inf.Rdata\"))"
   ]
  },
  {
   "cell_type": "code",
   "execution_count": 13,
   "id": "5fb9a228-b747-48d8-a207-873039b41fa4",
   "metadata": {},
   "outputs": [
    {
     "name": "stdout",
     "output_type": "stream",
     "text": [
      "[1] \"best_mtry： 5\"\n",
      "[1] \"best_ntreee： 800\"\n",
      "[1] \"CPI prediction R2： -14.0580513706206\"\n",
      "[1] \"best_mtry： 5\"\n",
      "[1] \"best_ntreee： 500\"\n",
      "[1] \"CPI prediction R2： -12.8304039243986\"\n",
      "[1] \"best_mtry： 5\"\n",
      "[1] \"best_ntreee： 1000\"\n",
      "[1] \"CPI prediction R2： -11.9095027941131\"\n",
      "[1] \"best_mtry： 5\"\n",
      "[1] \"best_ntreee： 1000\"\n",
      "[1] \"CPI prediction R2： -11.2734572348134\"\n",
      "[1] \"best_mtry： 5\"\n",
      "[1] \"best_ntreee： 800\"\n",
      "[1] \"CPI prediction R2： -10.702192044378\"\n",
      "[1] \"best_mtry： 4\"\n",
      "[1] \"best_ntreee： 1000\"\n",
      "[1] \"CPI prediction R2： -8.0362354314748\"\n",
      "[1] \"best_mtry： 5\"\n",
      "[1] \"best_ntreee： 500\"\n",
      "[1] \"CPI prediction R2： -4.75756256672969\"\n",
      "[1] \"best_mtry： 3\"\n",
      "[1] \"best_ntreee： 800\"\n",
      "[1] \"CPI prediction R2： -1.79638357891794\"\n",
      "[1] \"best_mtry： 3\"\n",
      "[1] \"best_ntreee： 1000\"\n",
      "[1] \"CPI prediction R2： -1.29385469173532\"\n",
      "[1] \"best_mtry： 4\"\n",
      "[1] \"best_ntreee： 800\"\n",
      "[1] \"CPI prediction R2： -0.786131483889147\"\n",
      "[1] \"best_mtry： 4\"\n",
      "[1] \"best_ntreee： 1000\"\n",
      "[1] \"CPI prediction R2： -0.616549789500145\"\n",
      "[1] \"best_mtry： 5\"\n",
      "[1] \"best_ntreee： 800\"\n",
      "[1] \"CPI prediction R2： -0.871903659725204\"\n"
     ]
    }
   ],
   "source": [
    "y_cpi <- diff(log(cpi$CPI), 12)\n",
    "cpi_r2s <- NULL\n",
    "for(i in 1:12){\n",
    "  cpi_data <- y_cpi\n",
    "  for(j in 1:i){\n",
    "    cpi_data <- cbind(cpi_data, X[(13-i):(nrow(X)-i), -1])\n",
    "  }\n",
    "  colnames(cpi_data) <- c(\"CPI\", paste(\"var_\", 1:(ncol(cpi_data)-1), sep=\"\"))\n",
    "  cpi_best_params <- find_best_params(cpi_data, X_cols = colnames(cpi_data)[-1], y_col=colnames(cpi_data)[1])\n",
    "  best_rf_cpi <- get_best_model(cpi_best_params, y_col=colnames(cpi_data)[1])\n",
    "  cpi_preds <- predict(best_rf_cpi, cpi_best_params[[\"test\"]])\n",
    "  cpi_r2 <- cal_r2(cpi_preds, cpi_best_params[[\"test\"]][, 1])\n",
    "  cpi_r2s <- c(cpi_r2s, cpi_r2)\n",
    "  print(paste(\"CPI prediction R2：\", cpi_r2))\n",
    "}"
   ]
  },
  {
   "cell_type": "code",
   "execution_count": 14,
   "id": "dae538ad-6cae-4b1b-bb80-6d2e374b3341",
   "metadata": {},
   "outputs": [
    {
     "name": "stdout",
     "output_type": "stream",
     "text": [
      "[1] \"best_mtry： 4\"\n",
      "[1] \"best_ntreee： 300\"\n",
      "[1] \"PPI prediction R2： -1.34777199130405\"\n",
      "[1] \"best_mtry： 4\"\n",
      "[1] \"best_ntreee： 300\"\n",
      "[1] \"PPI prediction R2： -1.31837536918131\"\n",
      "[1] \"best_mtry： 4\"\n",
      "[1] \"best_ntreee： 1000\"\n",
      "[1] \"PPI prediction R2： -1.48824853272104\"\n",
      "[1] \"best_mtry： 4\"\n",
      "[1] \"best_ntreee： 1000\"\n",
      "[1] \"PPI prediction R2： -1.7410999889542\"\n",
      "[1] \"best_mtry： 4\"\n",
      "[1] \"best_ntreee： 1000\"\n",
      "[1] \"PPI prediction R2： -1.87007434883846\"\n",
      "[1] \"best_mtry： 2\"\n",
      "[1] \"best_ntreee： 1000\"\n",
      "[1] \"PPI prediction R2： -1.12134565661876\"\n",
      "[1] \"best_mtry： 5\"\n",
      "[1] \"best_ntreee： 800\"\n",
      "[1] \"PPI prediction R2： -1.07945347582219\"\n",
      "[1] \"best_mtry： 4\"\n",
      "[1] \"best_ntreee： 1000\"\n",
      "[1] \"PPI prediction R2： -0.56803832181577\"\n",
      "[1] \"best_mtry： 4\"\n",
      "[1] \"best_ntreee： 800\"\n",
      "[1] \"PPI prediction R2： 0.00836631695697088\"\n",
      "[1] \"best_mtry： 5\"\n",
      "[1] \"best_ntreee： 1000\"\n",
      "[1] \"PPI prediction R2： 0.29715048795873\"\n",
      "[1] \"best_mtry： 5\"\n",
      "[1] \"best_ntreee： 800\"\n",
      "[1] \"PPI prediction R2： 0.418067166795376\"\n",
      "[1] \"best_mtry： 3\"\n",
      "[1] \"best_ntreee： 1000\"\n",
      "[1] \"PPI prediction R2： 0.325595336931019\"\n"
     ]
    }
   ],
   "source": [
    "y_ppi <- diff(log(ppi$PPI), 12)\n",
    "ppi_r2s <- NULL\n",
    "for(i in 1:12){\n",
    "  ppi_data <- y_ppi\n",
    "  for(j in 1:i){\n",
    "    ppi_data <- cbind(ppi_data, X[(13-i):(nrow(X)-i), -1])\n",
    "  }\n",
    "  colnames(ppi_data) <- c(\"PPI\", paste(\"var_\", 1:(ncol(ppi_data)-1), sep=\"\"))\n",
    "  ppi_best_params <- find_best_params(ppi_data, X_cols = colnames(ppi_data)[-1], y_col=colnames(ppi_data)[1])\n",
    "  best_rf_ppi <- get_best_model(ppi_best_params, y_col=colnames(ppi_data)[1])\n",
    "  ppi_preds <- predict(best_rf_ppi, ppi_best_params[[\"test\"]])\n",
    "  ppi_r2 <- cal_r2(ppi_preds, ppi_best_params[[\"test\"]][, 1])\n",
    "  ppi_r2s <- c(ppi_r2s, ppi_r2)\n",
    "  print(paste(\"PPI prediction R2：\", ppi_r2))\n",
    "}"
   ]
  },
  {
   "cell_type": "code",
   "execution_count": 15,
   "id": "73e95c0e-27ee-463b-9eef-e6f71f7283af",
   "metadata": {},
   "outputs": [
    {
     "name": "stdout",
     "output_type": "stream",
     "text": [
      "[1] \"best_mtry： 5\"\n",
      "[1] \"best_ntreee： 1000\"\n",
      "[1] \"PPI prediction R2： 0.875107915614231\"\n"
     ]
    }
   ],
   "source": [
    "ppi_data <- cbind(ppi[, -1], X[, -1])\n",
    "ppi_best_params <- find_best_params(ppi_data, X_cols = colnames(ppi_data)[-1], colnames(ppi_data)[1])\n",
    "best_rf_ppi <- get_best_model(ppi_best_params, y_col=\"PPI\")\n",
    "ppi_preds <- predict(best_rf_ppi, ppi_best_params[[\"test\"]])\n",
    "ppi_r2 <- cal_r2(ppi_preds, ppi_best_params[[\"test\"]]$PPI)\n",
    "print(paste(\"PPI prediction R2：\", ppi_r2))"
   ]
  },
  {
   "cell_type": "code",
   "execution_count": 16,
   "id": "c2715566-02b0-49ee-b19f-ff67eff72f57",
   "metadata": {},
   "outputs": [
    {
     "data": {
      "text/html": [
       "<table class=\"dataframe\">\n",
       "<caption>A data.frame: 12 × 3</caption>\n",
       "<thead>\n",
       "\t<tr><th scope=col>index</th><th scope=col>cpi_r2</th><th scope=col>ppi_r2</th></tr>\n",
       "\t<tr><th scope=col>&lt;int&gt;</th><th scope=col>&lt;dbl&gt;</th><th scope=col>&lt;dbl&gt;</th></tr>\n",
       "</thead>\n",
       "<tbody>\n",
       "\t<tr><td> 1</td><td>-14.0580514</td><td>-1.347771991</td></tr>\n",
       "\t<tr><td> 2</td><td>-12.8304039</td><td>-1.318375369</td></tr>\n",
       "\t<tr><td> 3</td><td>-11.9095028</td><td>-1.488248533</td></tr>\n",
       "\t<tr><td> 4</td><td>-11.2734572</td><td>-1.741099989</td></tr>\n",
       "\t<tr><td> 5</td><td>-10.7021920</td><td>-1.870074349</td></tr>\n",
       "\t<tr><td> 6</td><td> -8.0362354</td><td>-1.121345657</td></tr>\n",
       "\t<tr><td> 7</td><td> -4.7575626</td><td>-1.079453476</td></tr>\n",
       "\t<tr><td> 8</td><td> -1.7963836</td><td>-0.568038322</td></tr>\n",
       "\t<tr><td> 9</td><td> -1.2938547</td><td> 0.008366317</td></tr>\n",
       "\t<tr><td>10</td><td> -0.7861315</td><td> 0.297150488</td></tr>\n",
       "\t<tr><td>11</td><td> -0.6165498</td><td> 0.418067167</td></tr>\n",
       "\t<tr><td>12</td><td> -0.8719037</td><td> 0.325595337</td></tr>\n",
       "</tbody>\n",
       "</table>\n"
      ],
      "text/latex": [
       "A data.frame: 12 × 3\n",
       "\\begin{tabular}{lll}\n",
       " index & cpi\\_r2 & ppi\\_r2\\\\\n",
       " <int> & <dbl> & <dbl>\\\\\n",
       "\\hline\n",
       "\t  1 & -14.0580514 & -1.347771991\\\\\n",
       "\t  2 & -12.8304039 & -1.318375369\\\\\n",
       "\t  3 & -11.9095028 & -1.488248533\\\\\n",
       "\t  4 & -11.2734572 & -1.741099989\\\\\n",
       "\t  5 & -10.7021920 & -1.870074349\\\\\n",
       "\t  6 &  -8.0362354 & -1.121345657\\\\\n",
       "\t  7 &  -4.7575626 & -1.079453476\\\\\n",
       "\t  8 &  -1.7963836 & -0.568038322\\\\\n",
       "\t  9 &  -1.2938547 &  0.008366317\\\\\n",
       "\t 10 &  -0.7861315 &  0.297150488\\\\\n",
       "\t 11 &  -0.6165498 &  0.418067167\\\\\n",
       "\t 12 &  -0.8719037 &  0.325595337\\\\\n",
       "\\end{tabular}\n"
      ],
      "text/markdown": [
       "\n",
       "A data.frame: 12 × 3\n",
       "\n",
       "| index &lt;int&gt; | cpi_r2 &lt;dbl&gt; | ppi_r2 &lt;dbl&gt; |\n",
       "|---|---|---|\n",
       "|  1 | -14.0580514 | -1.347771991 |\n",
       "|  2 | -12.8304039 | -1.318375369 |\n",
       "|  3 | -11.9095028 | -1.488248533 |\n",
       "|  4 | -11.2734572 | -1.741099989 |\n",
       "|  5 | -10.7021920 | -1.870074349 |\n",
       "|  6 |  -8.0362354 | -1.121345657 |\n",
       "|  7 |  -4.7575626 | -1.079453476 |\n",
       "|  8 |  -1.7963836 | -0.568038322 |\n",
       "|  9 |  -1.2938547 |  0.008366317 |\n",
       "| 10 |  -0.7861315 |  0.297150488 |\n",
       "| 11 |  -0.6165498 |  0.418067167 |\n",
       "| 12 |  -0.8719037 |  0.325595337 |\n",
       "\n"
      ],
      "text/plain": [
       "   index cpi_r2      ppi_r2      \n",
       "1   1    -14.0580514 -1.347771991\n",
       "2   2    -12.8304039 -1.318375369\n",
       "3   3    -11.9095028 -1.488248533\n",
       "4   4    -11.2734572 -1.741099989\n",
       "5   5    -10.7021920 -1.870074349\n",
       "6   6     -8.0362354 -1.121345657\n",
       "7   7     -4.7575626 -1.079453476\n",
       "8   8     -1.7963836 -0.568038322\n",
       "9   9     -1.2938547  0.008366317\n",
       "10 10     -0.7861315  0.297150488\n",
       "11 11     -0.6165498  0.418067167\n",
       "12 12     -0.8719037  0.325595337"
      ]
     },
     "metadata": {},
     "output_type": "display_data"
    }
   ],
   "source": [
    "results <- data.frame(\n",
    "  index = 1:12,\n",
    "  cpi_r2 = cpi_r2s,\n",
    "  ppi_r2 = ppi_r2s\n",
    ")\n",
    "results"
   ]
  },
  {
   "cell_type": "markdown",
   "id": "8a218600-c5bb-4eb5-980e-c89a81a35219",
   "metadata": {},
   "source": [
    "**4.Conclusion**\n",
    "\n",
    "Unfortunately, from the results of our data analysis, we concluded that the stability of the Random Forest Model is so poor and the prediction effect of CPI and PPI is not what we wish to be. We need to pay more attention to the parameters optimization and test the data in other different models."
   ]
  },
  {
   "cell_type": "code",
   "execution_count": null,
   "id": "1523e8ad-d5be-42e8-a450-fef9dc041a69",
   "metadata": {},
   "outputs": [],
   "source": []
  }
 ],
 "metadata": {
  "kernelspec": {
   "display_name": "R 4.2",
   "language": "R",
   "name": "ir"
  },
  "language_info": {
   "codemirror_mode": "r",
   "file_extension": ".r",
   "mimetype": "text/x-r-source",
   "name": "R",
   "pygments_lexer": "r",
   "version": "4.2.2"
  }
 },
 "nbformat": 4,
 "nbformat_minor": 5
}
