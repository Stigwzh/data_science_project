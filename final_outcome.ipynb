{
 "cells": [
  {
   "cell_type": "markdown",
   "id": "c7f0fa57-be1f-4e2b-8fb7-c81cbc52f124",
   "metadata": {},
   "source": [
    "#### Just change the fake data here"
   ]
  },
  {
   "cell_type": "code",
   "execution_count": 1,
   "id": "9a086e94-0ca1-4d7f-8f9d-545f18b6571b",
   "metadata": {},
   "outputs": [
    {
     "data": {
      "text/html": [
       "<style>\n",
       ".list-inline {list-style: none; margin:0; padding: 0}\n",
       ".list-inline>li {display: inline-block}\n",
       ".list-inline>li:not(:last-child)::after {content: \"\\00b7\"; padding: 0 .5ex}\n",
       "</style>\n",
       "<ol class=list-inline><li>'cpi'</li><li>'fake.testing.X'</li><li>'ppi'</li><li>'real.cpi'</li><li>'real.ppi'</li><li>'real.X'</li><li>'X'</li></ol>\n"
      ],
      "text/latex": [
       "\\begin{enumerate*}\n",
       "\\item 'cpi'\n",
       "\\item 'fake.testing.X'\n",
       "\\item 'ppi'\n",
       "\\item 'real.cpi'\n",
       "\\item 'real.ppi'\n",
       "\\item 'real.X'\n",
       "\\item 'X'\n",
       "\\end{enumerate*}\n"
      ],
      "text/markdown": [
       "1. 'cpi'\n",
       "2. 'fake.testing.X'\n",
       "3. 'ppi'\n",
       "4. 'real.cpi'\n",
       "5. 'real.ppi'\n",
       "6. 'real.X'\n",
       "7. 'X'\n",
       "\n",
       "\n"
      ],
      "text/plain": [
       "[1] \"cpi\"            \"fake.testing.X\" \"ppi\"            \"real.cpi\"      \n",
       "[5] \"real.ppi\"       \"real.X\"         \"X\"             "
      ]
     },
     "metadata": {},
     "output_type": "display_data"
    }
   ],
   "source": [
    "#Change the data here\n",
    "load('dataset_inf.Rdata')\n",
    "load(url(\"https://github.com/zhentaoshi/Econ5821/raw/main/data_example/data_oos.Rdata\"))\n",
    "ls()"
   ]
  },
  {
   "cell_type": "code",
   "execution_count": 2,
   "id": "03d4c354-841f-4ea2-84c1-1280f51536f2",
   "metadata": {},
   "outputs": [],
   "source": [
    "data=rbind(X,real.X)"
   ]
  },
  {
   "cell_type": "markdown",
   "id": "d5e97316-8121-46e8-b35a-8b3d319e2796",
   "metadata": {},
   "source": [
    "#### Then just run the codes below"
   ]
  },
  {
   "cell_type": "code",
   "execution_count": 3,
   "id": "f2e8676a-ae43-4a68-bf34-d7d783ff6a7f",
   "metadata": {},
   "outputs": [],
   "source": [
    "# calculate the inflation rate with two dataset\n",
    "lncpi=log(cpi[13:168,2])-log(cpi[1:156,2])\n",
    "lnppi=log(ppi[13:168,2])-log(ppi[1:156,2])"
   ]
  },
  {
   "cell_type": "markdown",
   "id": "65716f91-963b-4a36-a201-f5cd23dc7adf",
   "metadata": {},
   "source": [
    "#### Here we use PC number 60 and lag $X_{t-12}$. Analysis see 'report_factor'."
   ]
  },
  {
   "cell_type": "code",
   "execution_count": 4,
   "id": "37b98fe1-6c12-47d8-ad4b-8ddf1420fa45",
   "metadata": {},
   "outputs": [
    {
     "data": {
      "text/html": [
       "156"
      ],
      "text/latex": [
       "156"
      ],
      "text/markdown": [
       "156"
      ],
      "text/plain": [
       "[1] 156"
      ]
     },
     "metadata": {},
     "output_type": "display_data"
    },
    {
     "data": {
      "text/html": [
       "<style>\n",
       ".list-inline {list-style: none; margin:0; padding: 0}\n",
       ".list-inline>li {display: inline-block}\n",
       ".list-inline>li:not(:last-child)::after {content: \"\\00b7\"; padding: 0 .5ex}\n",
       "</style>\n",
       "<ol class=list-inline><li>186</li><li>60</li></ol>\n"
      ],
      "text/latex": [
       "\\begin{enumerate*}\n",
       "\\item 186\n",
       "\\item 60\n",
       "\\end{enumerate*}\n"
      ],
      "text/markdown": [
       "1. 186\n",
       "2. 60\n",
       "\n",
       "\n"
      ],
      "text/plain": [
       "[1] 186  60"
      ]
     },
     "metadata": {},
     "output_type": "display_data"
    }
   ],
   "source": [
    "cpi_ts <- ts(lncpi, start = c(1, 1), frequency = 12)\n",
    "ppi_ts <- ts(lnppi, start = c(1, 1), frequency = 12)\n",
    "length(cpi_ts)\n",
    "data_X=cbind(data[13:198,-1],data[1:186,-1])\n",
    "X_ts <- ts(data_X, start = c(1, 1), frequency = 12)\n",
    "xdir=predict(prcomp(scale(X_ts)))[,1:60]\n",
    "dim(xdir)"
   ]
  },
  {
   "cell_type": "markdown",
   "id": "f6c12106-bac2-4dcb-9534-726f1eea1052",
   "metadata": {},
   "source": [
    "#### Here we use window 60, initial 60. Analysis see the files in the folder."
   ]
  },
  {
   "cell_type": "code",
   "execution_count": 5,
   "id": "c1d14b08-3d0c-4c5b-a438-2e7ea18e9ecc",
   "metadata": {},
   "outputs": [
    {
     "name": "stderr",
     "output_type": "stream",
     "text": [
      "Registered S3 method overwritten by 'quantmod':\n",
      "  method            from\n",
      "  as.zoo.data.frame zoo \n",
      "\n"
     ]
    },
    {
     "data": {
      "text/html": [
       "<style>\n",
       ".dl-inline {width: auto; margin:0; padding: 0}\n",
       ".dl-inline>dt, .dl-inline>dd {float: none; width: auto; display: inline-block}\n",
       ".dl-inline>dt::after {content: \":\\0020\"; padding-right: .5ex}\n",
       ".dl-inline>dt:not(:first-of-type) {padding-left: .5ex}\n",
       "</style><dl class=dl-inline><dt>h=1</dt><dd>0.000878596309615057</dd><dt>h=2</dt><dd>0.00207800903048733</dd><dt>h=3</dt><dd>0.0032164602146458</dd><dt>h=4</dt><dd>0.00415938250179882</dd><dt>h=5</dt><dd>0.00513065293591761</dd><dt>h=6</dt><dd>0.0057696077558436</dd><dt>h=7</dt><dd>0.00638392659506618</dd><dt>h=8</dt><dd>0.0068142108951356</dd><dt>h=9</dt><dd>0.00742033448884131</dd><dt>h=10</dt><dd>0.00822066148545834</dd><dt>h=11</dt><dd>0.00878327899715617</dd><dt>h=12</dt><dd>0.00925788067178377</dd><dt>h=13</dt><dd>0.00962502729024988</dd><dt>h=14</dt><dd>0.00988995840341455</dd><dt>h=15</dt><dd>0.0101380984636545</dd><dt>h=16</dt><dd>0.0104065214731829</dd><dt>h=17</dt><dd>0.0105131419556512</dd><dt>h=18</dt><dd>0.0108692857443825</dd><dt>h=19</dt><dd>0.0115687136957496</dd><dt>h=20</dt><dd>0.0122556230387492</dd><dt>h=21</dt><dd>0.0124568579054996</dd><dt>h=22</dt><dd>0.0130711778023949</dd><dt>h=23</dt><dd>0.0139731685385743</dd><dt>h=24</dt><dd>0.0146531442109581</dd><dt>h=25</dt><dd>0.0148896297137135</dd><dt>h=26</dt><dd>0.0152600386575709</dd><dt>h=27</dt><dd>0.0147849370765626</dd><dt>h=28</dt><dd>0.0146247456404103</dd><dt>h=29</dt><dd>0.0145001306424024</dd><dt>h=30</dt><dd>0.0147093311149203</dd></dl>\n"
      ],
      "text/latex": [
       "\\begin{description*}\n",
       "\\item[h=1] 0.000878596309615057\n",
       "\\item[h=2] 0.00207800903048733\n",
       "\\item[h=3] 0.0032164602146458\n",
       "\\item[h=4] 0.00415938250179882\n",
       "\\item[h=5] 0.00513065293591761\n",
       "\\item[h=6] 0.0057696077558436\n",
       "\\item[h=7] 0.00638392659506618\n",
       "\\item[h=8] 0.0068142108951356\n",
       "\\item[h=9] 0.00742033448884131\n",
       "\\item[h=10] 0.00822066148545834\n",
       "\\item[h=11] 0.00878327899715617\n",
       "\\item[h=12] 0.00925788067178377\n",
       "\\item[h=13] 0.00962502729024988\n",
       "\\item[h=14] 0.00988995840341455\n",
       "\\item[h=15] 0.0101380984636545\n",
       "\\item[h=16] 0.0104065214731829\n",
       "\\item[h=17] 0.0105131419556512\n",
       "\\item[h=18] 0.0108692857443825\n",
       "\\item[h=19] 0.0115687136957496\n",
       "\\item[h=20] 0.0122556230387492\n",
       "\\item[h=21] 0.0124568579054996\n",
       "\\item[h=22] 0.0130711778023949\n",
       "\\item[h=23] 0.0139731685385743\n",
       "\\item[h=24] 0.0146531442109581\n",
       "\\item[h=25] 0.0148896297137135\n",
       "\\item[h=26] 0.0152600386575709\n",
       "\\item[h=27] 0.0147849370765626\n",
       "\\item[h=28] 0.0146247456404103\n",
       "\\item[h=29] 0.0145001306424024\n",
       "\\item[h=30] 0.0147093311149203\n",
       "\\end{description*}\n"
      ],
      "text/markdown": [
       "h=1\n",
       ":   0.000878596309615057h=2\n",
       ":   0.00207800903048733h=3\n",
       ":   0.0032164602146458h=4\n",
       ":   0.00415938250179882h=5\n",
       ":   0.00513065293591761h=6\n",
       ":   0.0057696077558436h=7\n",
       ":   0.00638392659506618h=8\n",
       ":   0.0068142108951356h=9\n",
       ":   0.00742033448884131h=10\n",
       ":   0.00822066148545834h=11\n",
       ":   0.00878327899715617h=12\n",
       ":   0.00925788067178377h=13\n",
       ":   0.00962502729024988h=14\n",
       ":   0.00988995840341455h=15\n",
       ":   0.0101380984636545h=16\n",
       ":   0.0104065214731829h=17\n",
       ":   0.0105131419556512h=18\n",
       ":   0.0108692857443825h=19\n",
       ":   0.0115687136957496h=20\n",
       ":   0.0122556230387492h=21\n",
       ":   0.0124568579054996h=22\n",
       ":   0.0130711778023949h=23\n",
       ":   0.0139731685385743h=24\n",
       ":   0.0146531442109581h=25\n",
       ":   0.0148896297137135h=26\n",
       ":   0.0152600386575709h=27\n",
       ":   0.0147849370765626h=28\n",
       ":   0.0146247456404103h=29\n",
       ":   0.0145001306424024h=30\n",
       ":   0.0147093311149203\n",
       "\n"
      ],
      "text/plain": [
       "         h=1          h=2          h=3          h=4          h=5          h=6 \n",
       "0.0008785963 0.0020780090 0.0032164602 0.0041593825 0.0051306529 0.0057696078 \n",
       "         h=7          h=8          h=9         h=10         h=11         h=12 \n",
       "0.0063839266 0.0068142109 0.0074203345 0.0082206615 0.0087832790 0.0092578807 \n",
       "        h=13         h=14         h=15         h=16         h=17         h=18 \n",
       "0.0096250273 0.0098899584 0.0101380985 0.0104065215 0.0105131420 0.0108692857 \n",
       "        h=19         h=20         h=21         h=22         h=23         h=24 \n",
       "0.0115687137 0.0122556230 0.0124568579 0.0130711778 0.0139731685 0.0146531442 \n",
       "        h=25         h=26         h=27         h=28         h=29         h=30 \n",
       "0.0148896297 0.0152600387 0.0147849371 0.0146247456 0.0145001306 0.0147093311 "
      ]
     },
     "metadata": {},
     "output_type": "display_data"
    },
    {
     "data": {
      "text/html": [
       "<style>\n",
       ".dl-inline {width: auto; margin:0; padding: 0}\n",
       ".dl-inline>dt, .dl-inline>dd {float: none; width: auto; display: inline-block}\n",
       ".dl-inline>dt::after {content: \":\\0020\"; padding-right: .5ex}\n",
       ".dl-inline>dt:not(:first-of-type) {padding-left: .5ex}\n",
       "</style><dl class=dl-inline><dt>h=1</dt><dd>0.00412453105246419</dd><dt>h=2</dt><dd>0.00326816073935337</dd><dt>h=3</dt><dd>0.00525463601378272</dd><dt>h=4</dt><dd>0.00715228903995616</dd><dt>h=5</dt><dd>0.00944785106725742</dd><dt>h=6</dt><dd>0.0115433123258906</dd><dt>h=7</dt><dd>0.0115836871876602</dd><dt>h=8</dt><dd>0.0127810173458423</dd><dt>h=9</dt><dd>0.0123214285155808</dd><dt>h=10</dt><dd>0.0117133944936888</dd><dt>h=11</dt><dd>0.0120500664708625</dd><dt>h=12</dt><dd>0.011961057109096</dd><dt>h=13</dt><dd>0.0117717534285456</dd><dt>h=14</dt><dd>0.0130628937793272</dd><dt>h=15</dt><dd>0.0149557611859994</dd><dt>h=16</dt><dd>0.0163978712651841</dd><dt>h=17</dt><dd>0.017314249600409</dd><dt>h=18</dt><dd>0.0188010049355621</dd><dt>h=19</dt><dd>0.0206648840481276</dd><dt>h=20</dt><dd>0.0244363818192246</dd><dt>h=21</dt><dd>0.0290462681133129</dd><dt>h=22</dt><dd>0.0334239761066231</dd><dt>h=23</dt><dd>0.0377339442568751</dd><dt>h=24</dt><dd>0.0419790210205106</dd><dt>h=25</dt><dd>0.0467484926112906</dd><dt>h=26</dt><dd>0.0495023278498021</dd><dt>h=27</dt><dd>0.0522860377253509</dd><dt>h=28</dt><dd>0.053414921466302</dd><dt>h=29</dt><dd>0.0589400102677093</dd><dt>h=30</dt><dd>0.066407954776658</dd></dl>\n"
      ],
      "text/latex": [
       "\\begin{description*}\n",
       "\\item[h=1] 0.00412453105246419\n",
       "\\item[h=2] 0.00326816073935337\n",
       "\\item[h=3] 0.00525463601378272\n",
       "\\item[h=4] 0.00715228903995616\n",
       "\\item[h=5] 0.00944785106725742\n",
       "\\item[h=6] 0.0115433123258906\n",
       "\\item[h=7] 0.0115836871876602\n",
       "\\item[h=8] 0.0127810173458423\n",
       "\\item[h=9] 0.0123214285155808\n",
       "\\item[h=10] 0.0117133944936888\n",
       "\\item[h=11] 0.0120500664708625\n",
       "\\item[h=12] 0.011961057109096\n",
       "\\item[h=13] 0.0117717534285456\n",
       "\\item[h=14] 0.0130628937793272\n",
       "\\item[h=15] 0.0149557611859994\n",
       "\\item[h=16] 0.0163978712651841\n",
       "\\item[h=17] 0.017314249600409\n",
       "\\item[h=18] 0.0188010049355621\n",
       "\\item[h=19] 0.0206648840481276\n",
       "\\item[h=20] 0.0244363818192246\n",
       "\\item[h=21] 0.0290462681133129\n",
       "\\item[h=22] 0.0334239761066231\n",
       "\\item[h=23] 0.0377339442568751\n",
       "\\item[h=24] 0.0419790210205106\n",
       "\\item[h=25] 0.0467484926112906\n",
       "\\item[h=26] 0.0495023278498021\n",
       "\\item[h=27] 0.0522860377253509\n",
       "\\item[h=28] 0.053414921466302\n",
       "\\item[h=29] 0.0589400102677093\n",
       "\\item[h=30] 0.066407954776658\n",
       "\\end{description*}\n"
      ],
      "text/markdown": [
       "h=1\n",
       ":   0.00412453105246419h=2\n",
       ":   0.00326816073935337h=3\n",
       ":   0.00525463601378272h=4\n",
       ":   0.00715228903995616h=5\n",
       ":   0.00944785106725742h=6\n",
       ":   0.0115433123258906h=7\n",
       ":   0.0115836871876602h=8\n",
       ":   0.0127810173458423h=9\n",
       ":   0.0123214285155808h=10\n",
       ":   0.0117133944936888h=11\n",
       ":   0.0120500664708625h=12\n",
       ":   0.011961057109096h=13\n",
       ":   0.0117717534285456h=14\n",
       ":   0.0130628937793272h=15\n",
       ":   0.0149557611859994h=16\n",
       ":   0.0163978712651841h=17\n",
       ":   0.017314249600409h=18\n",
       ":   0.0188010049355621h=19\n",
       ":   0.0206648840481276h=20\n",
       ":   0.0244363818192246h=21\n",
       ":   0.0290462681133129h=22\n",
       ":   0.0334239761066231h=23\n",
       ":   0.0377339442568751h=24\n",
       ":   0.0419790210205106h=25\n",
       ":   0.0467484926112906h=26\n",
       ":   0.0495023278498021h=27\n",
       ":   0.0522860377253509h=28\n",
       ":   0.053414921466302h=29\n",
       ":   0.0589400102677093h=30\n",
       ":   0.066407954776658\n",
       "\n"
      ],
      "text/plain": [
       "        h=1         h=2         h=3         h=4         h=5         h=6 \n",
       "0.004124531 0.003268161 0.005254636 0.007152289 0.009447851 0.011543312 \n",
       "        h=7         h=8         h=9        h=10        h=11        h=12 \n",
       "0.011583687 0.012781017 0.012321429 0.011713394 0.012050066 0.011961057 \n",
       "       h=13        h=14        h=15        h=16        h=17        h=18 \n",
       "0.011771753 0.013062894 0.014955761 0.016397871 0.017314250 0.018801005 \n",
       "       h=19        h=20        h=21        h=22        h=23        h=24 \n",
       "0.020664884 0.024436382 0.029046268 0.033423976 0.037733944 0.041979021 \n",
       "       h=25        h=26        h=27        h=28        h=29        h=30 \n",
       "0.046748493 0.049502328 0.052286038 0.053414921 0.058940010 0.066407955 "
      ]
     },
     "metadata": {},
     "output_type": "display_data"
    }
   ],
   "source": [
    "library(forecast)\n",
    "\n",
    "fc <- function(y, h, xreg, newxreg) {\n",
    "    fit <- auto.arima(y, xreg=xreg)\n",
    "    forecast(fit, xreg=newxreg, h=h)\n",
    "}\n",
    "\n",
    "sq <- function(u){u^2}\n",
    "lncpi_train <- cpi_ts\n",
    "lnppi_train <- ppi_ts\n",
    "X_pca_train <- xdir[1:156]\n",
    "X_pca_test <- xdir[157:186]\n",
    "\n",
    "e_cpi <- tsCV(lncpi_train, fc, xreg= X_pca_train, newxreg=X_pca_test, h=30, window = 60, initial = 60)\n",
    "e_ppi <- tsCV(lnppi_train, fc, xreg= X_pca_train, newxreg=X_pca_test, h=30, window = 60, initial = 60)\n",
    "    \n",
    "pred_e_cpi=colMeans(e_cpi, na.rm=TRUE)\n",
    "pred_e_ppi=colMeans(e_ppi, na.rm=TRUE)\n",
    "\n",
    "pred_e_cpi\n",
    "pred_e_ppi"
   ]
  },
  {
   "cell_type": "code",
   "execution_count": 6,
   "id": "2efc13e0-ebfc-4cf9-80c3-e4c110b9fb06",
   "metadata": {},
   "outputs": [
    {
     "data": {
      "text/html": [
       "<table class=\"dataframe\">\n",
       "<caption>A matrix: 30 × 2 of type dbl</caption>\n",
       "<thead>\n",
       "\t<tr><th></th><th scope=col>pred_cpi</th><th scope=col>pred_ppi</th></tr>\n",
       "</thead>\n",
       "<tbody>\n",
       "\t<tr><th scope=row>h=1</th><td> 8.710257e-03</td><td> 0.1250931779</td></tr>\n",
       "\t<tr><th scope=row>h=2</th><td>-1.249779e-02</td><td> 0.1286168497</td></tr>\n",
       "\t<tr><th scope=row>h=3</th><td>-1.036509e-02</td><td> 0.1226659935</td></tr>\n",
       "\t<tr><th scope=row>h=4</th><td>-7.241232e-03</td><td> 0.1035721068</td></tr>\n",
       "\t<tr><th scope=row>h=5</th><td> 2.158307e-05</td><td> 0.0913880925</td></tr>\n",
       "\t<tr><th scope=row>h=6</th><td> 2.032756e-03</td><td> 0.0914280546</td></tr>\n",
       "\t<tr><th scope=row>h=7</th><td> 2.840267e-03</td><td> 0.0822706130</td></tr>\n",
       "\t<tr><th scope=row>h=8</th><td> 1.104838e-02</td><td> 0.0819082884</td></tr>\n",
       "\t<tr><th scope=row>h=9</th><td> 4.570910e-03</td><td> 0.0780455602</td></tr>\n",
       "\t<tr><th scope=row>h=10</th><td> 5.965427e-03</td><td> 0.0665084557</td></tr>\n",
       "\t<tr><th scope=row>h=11</th><td> 3.684729e-03</td><td> 0.0359632098</td></tr>\n",
       "\t<tr><th scope=row>h=12</th><td> 7.002204e-03</td><td> 0.0062576196</td></tr>\n",
       "\t<tr><th scope=row>h=13</th><td>-9.622689e-04</td><td>-0.0128507026</td></tr>\n",
       "\t<tr><th scope=row>h=14</th><td> 3.050925e-02</td><td>-0.0257126495</td></tr>\n",
       "\t<tr><th scope=row>h=15</th><td> 2.137085e-02</td><td>-0.0277654955</td></tr>\n",
       "\t<tr><th scope=row>h=16</th><td> 1.661436e-02</td><td>-0.0122027436</td></tr>\n",
       "\t<tr><th scope=row>h=17</th><td> 1.277614e-02</td><td> 0.0039552723</td></tr>\n",
       "\t<tr><th scope=row>h=18</th><td> 1.431163e-02</td><td> 0.0111891699</td></tr>\n",
       "\t<tr><th scope=row>h=19</th><td> 1.795788e-02</td><td> 0.0120974828</td></tr>\n",
       "\t<tr><th scope=row>h=20</th><td> 1.744993e-02</td><td> 0.0035230721</td></tr>\n",
       "\t<tr><th scope=row>h=21</th><td> 2.068816e-02</td><td>-0.0023102201</td></tr>\n",
       "\t<tr><th scope=row>h=22</th><td> 1.962665e-02</td><td>-0.0008324658</td></tr>\n",
       "\t<tr><th scope=row>h=23</th><td> 1.838689e-02</td><td> 0.0079955418</td></tr>\n",
       "\t<tr><th scope=row>h=24</th><td> 1.475132e-02</td><td> 0.0031014330</td></tr>\n",
       "\t<tr><th scope=row>h=25</th><td> 1.754698e-02</td><td> 0.0056468169</td></tr>\n",
       "\t<tr><th scope=row>h=26</th><td> 1.462667e-03</td><td> 0.0141698989</td></tr>\n",
       "\t<tr><th scope=row>h=27</th><td> 1.693821e-02</td><td> 0.0257488540</td></tr>\n",
       "\t<tr><th scope=row>h=28</th><td> 2.186761e-02</td><td> 0.0289398868</td></tr>\n",
       "\t<tr><th scope=row>h=29</th><td> 2.418283e-02</td><td> 0.0247402923</td></tr>\n",
       "\t<tr><th scope=row>h=30</th><td> 2.282554e-02</td><td> 0.0204790229</td></tr>\n",
       "</tbody>\n",
       "</table>\n"
      ],
      "text/latex": [
       "A matrix: 30 × 2 of type dbl\n",
       "\\begin{tabular}{r|ll}\n",
       "  & pred\\_cpi & pred\\_ppi\\\\\n",
       "\\hline\n",
       "\th=1 &  8.710257e-03 &  0.1250931779\\\\\n",
       "\th=2 & -1.249779e-02 &  0.1286168497\\\\\n",
       "\th=3 & -1.036509e-02 &  0.1226659935\\\\\n",
       "\th=4 & -7.241232e-03 &  0.1035721068\\\\\n",
       "\th=5 &  2.158307e-05 &  0.0913880925\\\\\n",
       "\th=6 &  2.032756e-03 &  0.0914280546\\\\\n",
       "\th=7 &  2.840267e-03 &  0.0822706130\\\\\n",
       "\th=8 &  1.104838e-02 &  0.0819082884\\\\\n",
       "\th=9 &  4.570910e-03 &  0.0780455602\\\\\n",
       "\th=10 &  5.965427e-03 &  0.0665084557\\\\\n",
       "\th=11 &  3.684729e-03 &  0.0359632098\\\\\n",
       "\th=12 &  7.002204e-03 &  0.0062576196\\\\\n",
       "\th=13 & -9.622689e-04 & -0.0128507026\\\\\n",
       "\th=14 &  3.050925e-02 & -0.0257126495\\\\\n",
       "\th=15 &  2.137085e-02 & -0.0277654955\\\\\n",
       "\th=16 &  1.661436e-02 & -0.0122027436\\\\\n",
       "\th=17 &  1.277614e-02 &  0.0039552723\\\\\n",
       "\th=18 &  1.431163e-02 &  0.0111891699\\\\\n",
       "\th=19 &  1.795788e-02 &  0.0120974828\\\\\n",
       "\th=20 &  1.744993e-02 &  0.0035230721\\\\\n",
       "\th=21 &  2.068816e-02 & -0.0023102201\\\\\n",
       "\th=22 &  1.962665e-02 & -0.0008324658\\\\\n",
       "\th=23 &  1.838689e-02 &  0.0079955418\\\\\n",
       "\th=24 &  1.475132e-02 &  0.0031014330\\\\\n",
       "\th=25 &  1.754698e-02 &  0.0056468169\\\\\n",
       "\th=26 &  1.462667e-03 &  0.0141698989\\\\\n",
       "\th=27 &  1.693821e-02 &  0.0257488540\\\\\n",
       "\th=28 &  2.186761e-02 &  0.0289398868\\\\\n",
       "\th=29 &  2.418283e-02 &  0.0247402923\\\\\n",
       "\th=30 &  2.282554e-02 &  0.0204790229\\\\\n",
       "\\end{tabular}\n"
      ],
      "text/markdown": [
       "\n",
       "A matrix: 30 × 2 of type dbl\n",
       "\n",
       "| <!--/--> | pred_cpi | pred_ppi |\n",
       "|---|---|---|\n",
       "| h=1 |  8.710257e-03 |  0.1250931779 |\n",
       "| h=2 | -1.249779e-02 |  0.1286168497 |\n",
       "| h=3 | -1.036509e-02 |  0.1226659935 |\n",
       "| h=4 | -7.241232e-03 |  0.1035721068 |\n",
       "| h=5 |  2.158307e-05 |  0.0913880925 |\n",
       "| h=6 |  2.032756e-03 |  0.0914280546 |\n",
       "| h=7 |  2.840267e-03 |  0.0822706130 |\n",
       "| h=8 |  1.104838e-02 |  0.0819082884 |\n",
       "| h=9 |  4.570910e-03 |  0.0780455602 |\n",
       "| h=10 |  5.965427e-03 |  0.0665084557 |\n",
       "| h=11 |  3.684729e-03 |  0.0359632098 |\n",
       "| h=12 |  7.002204e-03 |  0.0062576196 |\n",
       "| h=13 | -9.622689e-04 | -0.0128507026 |\n",
       "| h=14 |  3.050925e-02 | -0.0257126495 |\n",
       "| h=15 |  2.137085e-02 | -0.0277654955 |\n",
       "| h=16 |  1.661436e-02 | -0.0122027436 |\n",
       "| h=17 |  1.277614e-02 |  0.0039552723 |\n",
       "| h=18 |  1.431163e-02 |  0.0111891699 |\n",
       "| h=19 |  1.795788e-02 |  0.0120974828 |\n",
       "| h=20 |  1.744993e-02 |  0.0035230721 |\n",
       "| h=21 |  2.068816e-02 | -0.0023102201 |\n",
       "| h=22 |  1.962665e-02 | -0.0008324658 |\n",
       "| h=23 |  1.838689e-02 |  0.0079955418 |\n",
       "| h=24 |  1.475132e-02 |  0.0031014330 |\n",
       "| h=25 |  1.754698e-02 |  0.0056468169 |\n",
       "| h=26 |  1.462667e-03 |  0.0141698989 |\n",
       "| h=27 |  1.693821e-02 |  0.0257488540 |\n",
       "| h=28 |  2.186761e-02 |  0.0289398868 |\n",
       "| h=29 |  2.418283e-02 |  0.0247402923 |\n",
       "| h=30 |  2.282554e-02 |  0.0204790229 |\n",
       "\n"
      ],
      "text/plain": [
       "     pred_cpi      pred_ppi     \n",
       "h=1   8.710257e-03  0.1250931779\n",
       "h=2  -1.249779e-02  0.1286168497\n",
       "h=3  -1.036509e-02  0.1226659935\n",
       "h=4  -7.241232e-03  0.1035721068\n",
       "h=5   2.158307e-05  0.0913880925\n",
       "h=6   2.032756e-03  0.0914280546\n",
       "h=7   2.840267e-03  0.0822706130\n",
       "h=8   1.104838e-02  0.0819082884\n",
       "h=9   4.570910e-03  0.0780455602\n",
       "h=10  5.965427e-03  0.0665084557\n",
       "h=11  3.684729e-03  0.0359632098\n",
       "h=12  7.002204e-03  0.0062576196\n",
       "h=13 -9.622689e-04 -0.0128507026\n",
       "h=14  3.050925e-02 -0.0257126495\n",
       "h=15  2.137085e-02 -0.0277654955\n",
       "h=16  1.661436e-02 -0.0122027436\n",
       "h=17  1.277614e-02  0.0039552723\n",
       "h=18  1.431163e-02  0.0111891699\n",
       "h=19  1.795788e-02  0.0120974828\n",
       "h=20  1.744993e-02  0.0035230721\n",
       "h=21  2.068816e-02 -0.0023102201\n",
       "h=22  1.962665e-02 -0.0008324658\n",
       "h=23  1.838689e-02  0.0079955418\n",
       "h=24  1.475132e-02  0.0031014330\n",
       "h=25  1.754698e-02  0.0056468169\n",
       "h=26  1.462667e-03  0.0141698989\n",
       "h=27  1.693821e-02  0.0257488540\n",
       "h=28  2.186761e-02  0.0289398868\n",
       "h=29  2.418283e-02  0.0247402923\n",
       "h=30  2.282554e-02  0.0204790229"
      ]
     },
     "metadata": {},
     "output_type": "display_data"
    }
   ],
   "source": [
    "#the outcome above is the predicted error for 30 period\n",
    "#the predicted value is calculated as\n",
    "all_cpi=rbind(cpi,real.cpi)\n",
    "all_lncpi=log(all_cpi[13:198,2])-log(all_cpi[1:186,2])\n",
    "all_ppi=rbind(ppi,real.ppi)\n",
    "all_lnppi=log(all_ppi[13:198,2])-log(all_ppi[1:186,2])\n",
    "\n",
    "pred_cpi=pred_e_cpi+all_lncpi[157:186,]\n",
    "pred_ppi=pred_e_ppi+all_lnppi[157:186,]\n",
    "cbind(pred_cpi,pred_ppi)"
   ]
  },
  {
   "cell_type": "code",
   "execution_count": 7,
   "id": "bd187092-6d29-457b-aad3-4a30fcd4c6a3",
   "metadata": {},
   "outputs": [
    {
     "data": {
      "text/html": [
       "0.749849190187449"
      ],
      "text/latex": [
       "0.749849190187449"
      ],
      "text/markdown": [
       "0.749849190187449"
      ],
      "text/plain": [
       "[1] 0.7498492"
      ]
     },
     "metadata": {},
     "output_type": "display_data"
    },
    {
     "data": {
      "text/html": [
       "0.90064038900985"
      ],
      "text/latex": [
       "0.90064038900985"
      ],
      "text/markdown": [
       "0.90064038900985"
      ],
      "text/plain": [
       "[1] 0.9006404"
      ]
     },
     "metadata": {},
     "output_type": "display_data"
    }
   ],
   "source": [
    "#Here we calculated the OOS-R2\n",
    "all_cpi=rbind(cpi,real.cpi)\n",
    "all_lncpi=log(all_cpi[13:198,2])-log(all_cpi[1:186,2])\n",
    "all_ppi=rbind(ppi,real.ppi)\n",
    "all_lnppi=log(all_ppi[13:198,2])-log(all_ppi[1:186,2])\n",
    "\n",
    "tscv_rss_cpi <- var(pred_e_cpi)\n",
    "tscv_tss_cpi <- var(all_lncpi[157:186,])\n",
    "tscv_rsq_cpi <- 1 - (tscv_rss_cpi / tscv_tss_cpi)\n",
    "tscv_rsq_cpi\n",
    "\n",
    "tscv_rss_ppi <- var(pred_e_ppi)\n",
    "tscv_tss_ppi <- var(all_lnppi[157:186,])\n",
    "tscv_rsq_ppi <- 1 - (tscv_rss_ppi / tscv_tss_ppi)\n",
    "tscv_rsq_ppi"
   ]
  }
 ],
 "metadata": {
  "kernelspec": {
   "display_name": "R",
   "language": "R",
   "name": "ir"
  },
  "language_info": {
   "codemirror_mode": "r",
   "file_extension": ".r",
   "mimetype": "text/x-r-source",
   "name": "R",
   "pygments_lexer": "r",
   "version": "4.1.3"
  }
 },
 "nbformat": 4,
 "nbformat_minor": 5
}
