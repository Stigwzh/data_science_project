{
 "cells": [
  {
   "cell_type": "markdown",
   "id": "c7f0fa57-be1f-4e2b-8fb7-c81cbc52f124",
   "metadata": {},
   "source": [
    "#### Just change the fake data here"
   ]
  },
  {
   "cell_type": "code",
   "execution_count": 1,
   "id": "9a086e94-0ca1-4d7f-8f9d-545f18b6571b",
   "metadata": {},
   "outputs": [],
   "source": [
    "#Change the data here\n",
    "load(url("https://github.com/zhentaoshi/Econ5821/raw/main/data_example/dataset_inf.Rdata"))\n",
    "data=rbind(X,fake.testing.X)"
   ]
  },
  {
   "cell_type": "markdown",
   "id": "d5e97316-8121-46e8-b35a-8b3d319e2796",
   "metadata": {},
   "source": [
    "#### Then just run the codes below"
   ]
  },
  {
   "cell_type": "code",
   "execution_count": 2,
   "id": "f2e8676a-ae43-4a68-bf34-d7d783ff6a7f",
   "metadata": {},
   "outputs": [],
   "source": [
    "# calculate the inflation rate with two dataset\n",
    "lncpi=log(cpi[13:168,2])-log(cpi[1:156,2])\n",
    "lnppi=log(ppi[13:168,2])-log(ppi[1:156,2])"
   ]
  },
  {
   "cell_type": "markdown",
   "id": "65716f91-963b-4a36-a201-f5cd23dc7adf",
   "metadata": {},
   "source": [
    "#### Here we use PC number 60 and lag $X_{t-12}$. Analysis see 'report_factor'."
   ]
  },
  {
   "cell_type": "code",
   "execution_count": 3,
   "id": "37b98fe1-6c12-47d8-ad4b-8ddf1420fa45",
   "metadata": {},
   "outputs": [
    {
     "data": {
      "text/html": [
       "156"
      ],
      "text/latex": [
       "156"
      ],
      "text/markdown": [
       "156"
      ],
      "text/plain": [
       "[1] 156"
      ]
     },
     "metadata": {},
     "output_type": "display_data"
    },
    {
     "data": {
      "text/html": [
       "<style>\n",
       ".list-inline {list-style: none; margin:0; padding: 0}\n",
       ".list-inline>li {display: inline-block}\n",
       ".list-inline>li:not(:last-child)::after {content: \"\\00b7\"; padding: 0 .5ex}\n",
       "</style>\n",
       "<ol class=list-inline><li>186</li><li>60</li></ol>\n"
      ],
      "text/latex": [
       "\\begin{enumerate*}\n",
       "\\item 186\n",
       "\\item 60\n",
       "\\end{enumerate*}\n"
      ],
      "text/markdown": [
       "1. 186\n",
       "2. 60\n",
       "\n",
       "\n"
      ],
      "text/plain": [
       "[1] 186  60"
      ]
     },
     "metadata": {},
     "output_type": "display_data"
    }
   ],
   "source": [
    "cpi_ts <- ts(lncpi, start = c(1, 1), frequency = 12)\n",
    "ppi_ts <- ts(lnppi, start = c(1, 1), frequency = 12)\n",
    "length(cpi_ts)\n",
    "data_X=cbind(data[13:198,-1],data[1:186,-1])\n",
    "X_ts <- ts(data_X, start = c(1, 1), frequency = 12)\n",
    "xdir=predict(prcomp(scale(X_ts)))[,1:60]\n",
    "dim(xdir)"
   ]
  },
  {
   "cell_type": "markdown",
   "id": "f6c12106-bac2-4dcb-9534-726f1eea1052",
   "metadata": {},
   "source": [
    "#### Here we use window 60, initial 60. Analysis see the files in the folder."
   ]
  },
  {
   "cell_type": "code",
   "execution_count": 4,
   "id": "c1d14b08-3d0c-4c5b-a438-2e7ea18e9ecc",
   "metadata": {},
   "outputs": [
    {
     "name": "stderr",
     "output_type": "stream",
     "text": [
      "Registered S3 method overwritten by 'quantmod':\n",
      "  method            from\n",
      "  as.zoo.data.frame zoo \n",
      "\n"
     ]
    },
    {
     "data": {
      "text/html": [
       "<style>\n",
       ".dl-inline {width: auto; margin:0; padding: 0}\n",
       ".dl-inline>dt, .dl-inline>dd {float: none; width: auto; display: inline-block}\n",
       ".dl-inline>dt::after {content: \":\\0020\"; padding-right: .5ex}\n",
       ".dl-inline>dt:not(:first-of-type) {padding-left: .5ex}\n",
       "</style><dl class=dl-inline><dt>h=1</dt><dd>0.000947095233445013</dd><dt>h=2</dt><dd>0.00225327818234066</dd><dt>h=3</dt><dd>0.00343634327516557</dd><dt>h=4</dt><dd>0.00442320358422613</dd><dt>h=5</dt><dd>0.00546231351705965</dd><dt>h=6</dt><dd>0.00609945720771525</dd><dt>h=7</dt><dd>0.00673149504258813</dd><dt>h=8</dt><dd>0.0073162396418383</dd><dt>h=9</dt><dd>0.00797563888667681</dd><dt>h=10</dt><dd>0.00885350033041211</dd><dt>h=11</dt><dd>0.00961129753080651</dd><dt>h=12</dt><dd>0.0102454826520885</dd><dt>h=13</dt><dd>0.0103931044705939</dd><dt>h=14</dt><dd>0.0104297346207554</dd><dt>h=15</dt><dd>0.0108012291156175</dd><dt>h=16</dt><dd>0.0109125812940535</dd><dt>h=17</dt><dd>0.0109752950826663</dd><dt>h=18</dt><dd>0.0115472540607585</dd><dt>h=19</dt><dd>0.0122787546966833</dd><dt>h=20</dt><dd>0.0131117128171259</dd><dt>h=21</dt><dd>0.0134325085010575</dd><dt>h=22</dt><dd>0.0138179114751695</dd><dt>h=23</dt><dd>0.0148712107906786</dd><dt>h=24</dt><dd>0.0153764740473685</dd><dt>h=25</dt><dd>0.0155570031259361</dd><dt>h=26</dt><dd>0.0157592679794052</dd><dt>h=27</dt><dd>0.0154419745003292</dd><dt>h=28</dt><dd>0.0150929925541191</dd><dt>h=29</dt><dd>0.0146844168369302</dd><dt>h=30</dt><dd>0.014724990996286</dd></dl>\n"
      ],
      "text/latex": [
       "\\begin{description*}\n",
       "\\item[h=1] 0.000947095233445013\n",
       "\\item[h=2] 0.00225327818234066\n",
       "\\item[h=3] 0.00343634327516557\n",
       "\\item[h=4] 0.00442320358422613\n",
       "\\item[h=5] 0.00546231351705965\n",
       "\\item[h=6] 0.00609945720771525\n",
       "\\item[h=7] 0.00673149504258813\n",
       "\\item[h=8] 0.0073162396418383\n",
       "\\item[h=9] 0.00797563888667681\n",
       "\\item[h=10] 0.00885350033041211\n",
       "\\item[h=11] 0.00961129753080651\n",
       "\\item[h=12] 0.0102454826520885\n",
       "\\item[h=13] 0.0103931044705939\n",
       "\\item[h=14] 0.0104297346207554\n",
       "\\item[h=15] 0.0108012291156175\n",
       "\\item[h=16] 0.0109125812940535\n",
       "\\item[h=17] 0.0109752950826663\n",
       "\\item[h=18] 0.0115472540607585\n",
       "\\item[h=19] 0.0122787546966833\n",
       "\\item[h=20] 0.0131117128171259\n",
       "\\item[h=21] 0.0134325085010575\n",
       "\\item[h=22] 0.0138179114751695\n",
       "\\item[h=23] 0.0148712107906786\n",
       "\\item[h=24] 0.0153764740473685\n",
       "\\item[h=25] 0.0155570031259361\n",
       "\\item[h=26] 0.0157592679794052\n",
       "\\item[h=27] 0.0154419745003292\n",
       "\\item[h=28] 0.0150929925541191\n",
       "\\item[h=29] 0.0146844168369302\n",
       "\\item[h=30] 0.014724990996286\n",
       "\\end{description*}\n"
      ],
      "text/markdown": [
       "h=1\n",
       ":   0.000947095233445013h=2\n",
       ":   0.00225327818234066h=3\n",
       ":   0.00343634327516557h=4\n",
       ":   0.00442320358422613h=5\n",
       ":   0.00546231351705965h=6\n",
       ":   0.00609945720771525h=7\n",
       ":   0.00673149504258813h=8\n",
       ":   0.0073162396418383h=9\n",
       ":   0.00797563888667681h=10\n",
       ":   0.00885350033041211h=11\n",
       ":   0.00961129753080651h=12\n",
       ":   0.0102454826520885h=13\n",
       ":   0.0103931044705939h=14\n",
       ":   0.0104297346207554h=15\n",
       ":   0.0108012291156175h=16\n",
       ":   0.0109125812940535h=17\n",
       ":   0.0109752950826663h=18\n",
       ":   0.0115472540607585h=19\n",
       ":   0.0122787546966833h=20\n",
       ":   0.0131117128171259h=21\n",
       ":   0.0134325085010575h=22\n",
       ":   0.0138179114751695h=23\n",
       ":   0.0148712107906786h=24\n",
       ":   0.0153764740473685h=25\n",
       ":   0.0155570031259361h=26\n",
       ":   0.0157592679794052h=27\n",
       ":   0.0154419745003292h=28\n",
       ":   0.0150929925541191h=29\n",
       ":   0.0146844168369302h=30\n",
       ":   0.014724990996286\n",
       "\n"
      ],
      "text/plain": [
       "         h=1          h=2          h=3          h=4          h=5          h=6 \n",
       "0.0009470952 0.0022532782 0.0034363433 0.0044232036 0.0054623135 0.0060994572 \n",
       "         h=7          h=8          h=9         h=10         h=11         h=12 \n",
       "0.0067314950 0.0073162396 0.0079756389 0.0088535003 0.0096112975 0.0102454827 \n",
       "        h=13         h=14         h=15         h=16         h=17         h=18 \n",
       "0.0103931045 0.0104297346 0.0108012291 0.0109125813 0.0109752951 0.0115472541 \n",
       "        h=19         h=20         h=21         h=22         h=23         h=24 \n",
       "0.0122787547 0.0131117128 0.0134325085 0.0138179115 0.0148712108 0.0153764740 \n",
       "        h=25         h=26         h=27         h=28         h=29         h=30 \n",
       "0.0155570031 0.0157592680 0.0154419745 0.0150929926 0.0146844168 0.0147249910 "
      ]
     },
     "metadata": {},
     "output_type": "display_data"
    },
    {
     "data": {
      "text/html": [
       "<style>\n",
       ".dl-inline {width: auto; margin:0; padding: 0}\n",
       ".dl-inline>dt, .dl-inline>dd {float: none; width: auto; display: inline-block}\n",
       ".dl-inline>dt::after {content: \":\\0020\"; padding-right: .5ex}\n",
       ".dl-inline>dt:not(:first-of-type) {padding-left: .5ex}\n",
       "</style><dl class=dl-inline><dt>h=1</dt><dd>0.00391821777224691</dd><dt>h=2</dt><dd>0.00282981333548144</dd><dt>h=3</dt><dd>0.00473601699917904</dd><dt>h=4</dt><dd>0.00661376652418799</dd><dt>h=5</dt><dd>0.0088213205354881</dd><dt>h=6</dt><dd>0.0107682048180629</dd><dt>h=7</dt><dd>0.0106006070059045</dd><dt>h=8</dt><dd>0.0114202063570958</dd><dt>h=9</dt><dd>0.0106838629986101</dd><dt>h=10</dt><dd>0.00972762378283946</dd><dt>h=11</dt><dd>0.00974128595615548</dd><dt>h=12</dt><dd>0.00928793627668147</dd><dt>h=13</dt><dd>0.00918683754717438</dd><dt>h=14</dt><dd>0.0100866784235762</dd><dt>h=15</dt><dd>0.0116196060647375</dd><dt>h=16</dt><dd>0.0127156729895877</dd><dt>h=17</dt><dd>0.0133084896644004</dd><dt>h=18</dt><dd>0.0144997695781423</dd><dt>h=19</dt><dd>0.016005002685128</dd><dt>h=20</dt><dd>0.0193626816017175</dd><dt>h=21</dt><dd>0.0234501308637551</dd><dt>h=22</dt><dd>0.0335248515460988</dd><dt>h=23</dt><dd>0.0378321701623807</dd><dt>h=24</dt><dd>0.0421123426790955</dd><dt>h=25</dt><dd>0.0469405429033181</dd><dt>h=26</dt><dd>0.0496923261412836</dd><dt>h=27</dt><dd>0.0525279227569631</dd><dt>h=28</dt><dd>0.0536990344596132</dd><dt>h=29</dt><dd>0.0592369282084176</dd><dt>h=30</dt><dd>0.0667174606821964</dd></dl>\n"
      ],
      "text/latex": [
       "\\begin{description*}\n",
       "\\item[h=1] 0.00391821777224691\n",
       "\\item[h=2] 0.00282981333548144\n",
       "\\item[h=3] 0.00473601699917904\n",
       "\\item[h=4] 0.00661376652418799\n",
       "\\item[h=5] 0.0088213205354881\n",
       "\\item[h=6] 0.0107682048180629\n",
       "\\item[h=7] 0.0106006070059045\n",
       "\\item[h=8] 0.0114202063570958\n",
       "\\item[h=9] 0.0106838629986101\n",
       "\\item[h=10] 0.00972762378283946\n",
       "\\item[h=11] 0.00974128595615548\n",
       "\\item[h=12] 0.00928793627668147\n",
       "\\item[h=13] 0.00918683754717438\n",
       "\\item[h=14] 0.0100866784235762\n",
       "\\item[h=15] 0.0116196060647375\n",
       "\\item[h=16] 0.0127156729895877\n",
       "\\item[h=17] 0.0133084896644004\n",
       "\\item[h=18] 0.0144997695781423\n",
       "\\item[h=19] 0.016005002685128\n",
       "\\item[h=20] 0.0193626816017175\n",
       "\\item[h=21] 0.0234501308637551\n",
       "\\item[h=22] 0.0335248515460988\n",
       "\\item[h=23] 0.0378321701623807\n",
       "\\item[h=24] 0.0421123426790955\n",
       "\\item[h=25] 0.0469405429033181\n",
       "\\item[h=26] 0.0496923261412836\n",
       "\\item[h=27] 0.0525279227569631\n",
       "\\item[h=28] 0.0536990344596132\n",
       "\\item[h=29] 0.0592369282084176\n",
       "\\item[h=30] 0.0667174606821964\n",
       "\\end{description*}\n"
      ],
      "text/markdown": [
       "h=1\n",
       ":   0.00391821777224691h=2\n",
       ":   0.00282981333548144h=3\n",
       ":   0.00473601699917904h=4\n",
       ":   0.00661376652418799h=5\n",
       ":   0.0088213205354881h=6\n",
       ":   0.0107682048180629h=7\n",
       ":   0.0106006070059045h=8\n",
       ":   0.0114202063570958h=9\n",
       ":   0.0106838629986101h=10\n",
       ":   0.00972762378283946h=11\n",
       ":   0.00974128595615548h=12\n",
       ":   0.00928793627668147h=13\n",
       ":   0.00918683754717438h=14\n",
       ":   0.0100866784235762h=15\n",
       ":   0.0116196060647375h=16\n",
       ":   0.0127156729895877h=17\n",
       ":   0.0133084896644004h=18\n",
       ":   0.0144997695781423h=19\n",
       ":   0.016005002685128h=20\n",
       ":   0.0193626816017175h=21\n",
       ":   0.0234501308637551h=22\n",
       ":   0.0335248515460988h=23\n",
       ":   0.0378321701623807h=24\n",
       ":   0.0421123426790955h=25\n",
       ":   0.0469405429033181h=26\n",
       ":   0.0496923261412836h=27\n",
       ":   0.0525279227569631h=28\n",
       ":   0.0536990344596132h=29\n",
       ":   0.0592369282084176h=30\n",
       ":   0.0667174606821964\n",
       "\n"
      ],
      "text/plain": [
       "        h=1         h=2         h=3         h=4         h=5         h=6 \n",
       "0.003918218 0.002829813 0.004736017 0.006613767 0.008821321 0.010768205 \n",
       "        h=7         h=8         h=9        h=10        h=11        h=12 \n",
       "0.010600607 0.011420206 0.010683863 0.009727624 0.009741286 0.009287936 \n",
       "       h=13        h=14        h=15        h=16        h=17        h=18 \n",
       "0.009186838 0.010086678 0.011619606 0.012715673 0.013308490 0.014499770 \n",
       "       h=19        h=20        h=21        h=22        h=23        h=24 \n",
       "0.016005003 0.019362682 0.023450131 0.033524852 0.037832170 0.042112343 \n",
       "       h=25        h=26        h=27        h=28        h=29        h=30 \n",
       "0.046940543 0.049692326 0.052527923 0.053699034 0.059236928 0.066717461 "
      ]
     },
     "metadata": {},
     "output_type": "display_data"
    }
   ],
   "source": [
    "library(forecast)\n",
    "\n",
    "fc <- function(y, h, xreg, newxreg) {\n",
    "    fit <- auto.arima(y, xreg=xreg)\n",
    "    forecast(fit, xreg=newxreg, h=h)\n",
    "}\n",
    "\n",
    "sq <- function(u){u^2}\n",
    "lncpi_train <- cpi_ts\n",
    "lnppi_train <- ppi_ts\n",
    "X_pca_train <- xdir[1:156]\n",
    "X_pca_test <- xdir[157:186]\n",
    "\n",
    "e_cpi <- tsCV(lncpi_train, fc, xreg= X_pca_train, newxreg=X_pca_test, h=30, window = 60, initial = 60)\n",
    "e_ppi <- tsCV(lnppi_train, fc, xreg= X_pca_train, newxreg=X_pca_test, h=30, window = 60, initial = 60)\n",
    "    \n",
    "pred_cpi=colMeans(e_cpi, na.rm=TRUE)\n",
    "pred_ppi=colMeans(e_ppi, na.rm=TRUE)\n",
    "\n",
    "pred_cpi\n",
    "pred_ppi"
   ]
  }
 ],
 "metadata": {
  "kernelspec": {
   "display_name": "R",
   "language": "R",
   "name": "ir"
  },
  "language_info": {
   "codemirror_mode": "r",
   "file_extension": ".r",
   "mimetype": "text/x-r-source",
   "name": "R",
   "pygments_lexer": "r",
   "version": "4.1.3"
  }
 },
 "nbformat": 4,
 "nbformat_minor": 5
}
