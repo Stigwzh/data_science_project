{
 "cells": [
  {
   "cell_type": "code",
   "execution_count": 1,
   "metadata": {},
   "outputs": [],
   "source": [
    "import numpy as np \n",
    "import pandas as pd \n",
    "from matplotlib import pyplot as plt \n",
    "from tensorflow.keras.models import Sequential \n",
    "from tensorflow.keras.layers import LSTM \n",
    "from tensorflow.keras.layers import Dense, Dropout \n",
    "from sklearn.preprocessing import MinMaxScaler \n",
    "from keras.wrappers.scikit_learn import KerasRegressor \n",
    "from sklearn.model_selection import GridSearchCV"
   ]
  },
  {
   "cell_type": "code",
   "execution_count": 2,
   "metadata": {},
   "outputs": [
    {
     "data": {
      "text/plain": [
       "'C:\\\\Users\\\\Will\\\\Desktop\\\\硕士资料\\\\Data Science\\\\final'"
      ]
     },
     "execution_count": 2,
     "metadata": {},
     "output_type": "execute_result"
    }
   ],
   "source": [
    "# change the work directory\n",
    "import os\n",
    "cwd = os.getcwd()\n",
    "cwd\n",
    "os.chdir('C:/Users/Will/Desktop/硕士资料/Data Science/final')\n",
    "cwd = os.getcwd()\n",
    "cwd"
   ]
  },
  {
   "cell_type": "code",
   "execution_count": 3,
   "metadata": {},
   "outputs": [],
   "source": [
    "# read the dataset\n",
    "cpi_data = pd.read_csv('cpi_whole.csv')\n",
    "ppi_data = pd.read_csv('ppi_whole.csv')"
   ]
  },
  {
   "cell_type": "code",
   "execution_count": 4,
   "metadata": {},
   "outputs": [],
   "source": [
    "cpi_data = cpi_data.drop('Unnamed: 0', axis=1)"
   ]
  },
  {
   "cell_type": "code",
   "execution_count": 5,
   "metadata": {},
   "outputs": [],
   "source": [
    "ppi_data = ppi_data.drop('Unnamed: 0', axis=1)"
   ]
  },
  {
   "cell_type": "code",
   "execution_count": 6,
   "metadata": {},
   "outputs": [
    {
     "data": {
      "text/plain": [
       "(156, 152)"
      ]
     },
     "execution_count": 6,
     "metadata": {},
     "output_type": "execute_result"
    }
   ],
   "source": [
    "cpi_data.shape"
   ]
  },
  {
   "cell_type": "code",
   "execution_count": 7,
   "metadata": {},
   "outputs": [
    {
     "data": {
      "text/plain": [
       "31"
      ]
     },
     "execution_count": 7,
     "metadata": {},
     "output_type": "execute_result"
    }
   ],
   "source": [
    "test_split=round(len(cpi_data)*0.20) \n",
    "test_split"
   ]
  },
  {
   "cell_type": "code",
   "execution_count": 8,
   "metadata": {},
   "outputs": [
    {
     "name": "stdout",
     "output_type": "stream",
     "text": [
      "(125, 152)\n",
      "(31, 152)\n"
     ]
    }
   ],
   "source": [
    "# Then I split the data\n",
    "df_for_training=cpi_data[:-31] \n",
    "df_for_testing=cpi_data[-31:] \n",
    "print(df_for_training.shape) \n",
    "print(df_for_testing.shape) "
   ]
  },
  {
   "cell_type": "code",
   "execution_count": 9,
   "metadata": {},
   "outputs": [
    {
     "data": {
      "text/plain": [
       "array([[ 0.62549854, -0.79775281,  0.35185185, ...,  0.62219922,\n",
       "         0.31527771,  0.33239183],\n",
       "       [ 0.51391315,  1.        ,  0.35185185, ...,  0.22324802,\n",
       "        -0.13637804,  0.23295761],\n",
       "       [ 0.53712708,  0.57303371,  0.00740741, ...,  0.5489135 ,\n",
       "         0.07614091,  0.11407946],\n",
       "       ...,\n",
       "       [ 0.31239149, -0.61797753, -0.33296296, ...,  0.45113382,\n",
       "         0.35508179,  0.49343303],\n",
       "       [ 0.19966279, -0.62921348, -0.39888889, ...,  0.41354171,\n",
       "         0.14282612, -0.22545211],\n",
       "       [ 0.32112175, -0.61797753, -0.34518519, ...,  0.33338853,\n",
       "         0.1054689 ,  0.12268114]])"
      ]
     },
     "execution_count": 9,
     "metadata": {},
     "output_type": "execute_result"
    }
   ],
   "source": [
    "# scale cpi data\n",
    "scaler = MinMaxScaler(feature_range=(-1,1)) \n",
    "df_for_training_scaled = scaler.fit_transform(df_for_training) \n",
    "df_for_testing_scaled=scaler.transform(df_for_testing) \n",
    "df_for_training_scaled"
   ]
  },
  {
   "cell_type": "code",
   "execution_count": 10,
   "metadata": {},
   "outputs": [],
   "source": [
    "# split the data into X and Y\n",
    "def createXY(dataset,n_past): \n",
    "    dataX = [] \n",
    "    dataY = [] \n",
    "    for i in range(n_past, len(dataset)): \n",
    "            dataX.append(dataset[i - n_past:i, 0:dataset.shape[1]]) \n",
    "            dataY.append(dataset[i,0]) \n",
    "    return np.array(dataX),np.array(dataY) \n",
    " \n",
    "trainX,trainY=createXY(df_for_training_scaled,12) \n",
    "testX,testY=createXY(df_for_testing_scaled,12)"
   ]
  },
  {
   "cell_type": "code",
   "execution_count": 11,
   "metadata": {},
   "outputs": [
    {
     "name": "stdout",
     "output_type": "stream",
     "text": [
      "trainX Shape--  (113, 12, 152)\n",
      "trainY Shape--  (113,)\n",
      "testX Shape--  (19, 12, 152)\n",
      "testY Shape--  (19,)\n"
     ]
    }
   ],
   "source": [
    "# take a look the dimensions of the trianX and trainY\n",
    "print(\"trainX Shape-- \",trainX.shape) \n",
    "print(\"trainY Shape-- \",trainY.shape)\n",
    "print(\"testX Shape-- \",testX.shape) \n",
    "print(\"testY Shape-- \",testY.shape)"
   ]
  },
  {
   "cell_type": "code",
   "execution_count": 12,
   "metadata": {},
   "outputs": [
    {
     "name": "stderr",
     "output_type": "stream",
     "text": [
      "C:\\Users\\Will\\AppData\\Local\\Temp\\ipykernel_25492\\1398698306.py:12: DeprecationWarning: KerasRegressor is deprecated, use Sci-Keras (https://github.com/adriangb/scikeras) instead. See https://www.adriangb.com/scikeras/stable/migration.html for help migrating.\n",
      "  grid_model = KerasRegressor(build_fn=build_model,verbose=1,validation_data=(testX,testY))\n"
     ]
    }
   ],
   "source": [
    "# train model\n",
    "def build_model(optimizer):\n",
    "    grid_model = Sequential()\n",
    "    grid_model.add(LSTM(50,return_sequences=True,input_shape=(12,152)))\n",
    "    grid_model.add(LSTM(50))\n",
    "    grid_model.add(Dropout(0.2))\n",
    "    grid_model.add(Dense(1))\n",
    "\n",
    "    grid_model.compile(loss = 'mse',optimizer = optimizer)\n",
    "    return grid_model\n",
    "\n",
    "grid_model = KerasRegressor(build_fn=build_model,verbose=1,validation_data=(testX,testY))\n",
    "parameters = {'batch_size' : [16,20],\n",
    "              'epochs' : [8,10],\n",
    "              'optimizer' : ['adam','Adadelta'] }\n",
    "\n",
    "grid_search  = GridSearchCV(estimator = grid_model,\n",
    "                            param_grid = parameters,\n",
    "                            cv = 2)"
   ]
  },
  {
   "cell_type": "code",
   "execution_count": 13,
   "metadata": {},
   "outputs": [
    {
     "name": "stdout",
     "output_type": "stream",
     "text": [
      "Epoch 1/8\n",
      "4/4 [==============================] - 4s 288ms/step - loss: 0.1402 - val_loss: 0.0900\n",
      "Epoch 2/8\n",
      "4/4 [==============================] - 0s 19ms/step - loss: 0.0508 - val_loss: 0.3368\n",
      "Epoch 3/8\n",
      "4/4 [==============================] - 0s 20ms/step - loss: 0.0418 - val_loss: 0.0559\n",
      "Epoch 4/8\n",
      "4/4 [==============================] - 0s 29ms/step - loss: 0.0246 - val_loss: 0.0286\n",
      "Epoch 5/8\n",
      "4/4 [==============================] - 0s 22ms/step - loss: 0.0229 - val_loss: 0.0683\n",
      "Epoch 6/8\n",
      "4/4 [==============================] - 0s 23ms/step - loss: 0.0244 - val_loss: 0.0947\n",
      "Epoch 7/8\n",
      "4/4 [==============================] - 0s 21ms/step - loss: 0.0139 - val_loss: 0.1039\n",
      "Epoch 8/8\n",
      "4/4 [==============================] - 0s 19ms/step - loss: 0.0200 - val_loss: 0.1125\n",
      "4/4 [==============================] - 0s 4ms/step - loss: 0.1070\n",
      "Epoch 1/8\n",
      "4/4 [==============================] - 4s 299ms/step - loss: 0.2852 - val_loss: 0.0283\n",
      "Epoch 2/8\n",
      "4/4 [==============================] - 0s 20ms/step - loss: 0.0959 - val_loss: 0.1132\n",
      "Epoch 3/8\n",
      "4/4 [==============================] - 0s 20ms/step - loss: 0.0440 - val_loss: 0.1367\n",
      "Epoch 4/8\n",
      "4/4 [==============================] - 0s 23ms/step - loss: 0.0451 - val_loss: 0.1059\n",
      "Epoch 5/8\n",
      "4/4 [==============================] - 0s 19ms/step - loss: 0.0251 - val_loss: 0.1034\n",
      "Epoch 6/8\n",
      "4/4 [==============================] - 0s 21ms/step - loss: 0.0323 - val_loss: 0.1428\n",
      "Epoch 7/8\n",
      "4/4 [==============================] - 0s 22ms/step - loss: 0.0318 - val_loss: 0.1541\n",
      "Epoch 8/8\n",
      "4/4 [==============================] - 0s 19ms/step - loss: 0.0215 - val_loss: 0.1648\n",
      "4/4 [==============================] - 0s 3ms/step - loss: 0.0845\n",
      "Epoch 1/8\n",
      "4/4 [==============================] - 4s 248ms/step - loss: 0.1793 - val_loss: 0.0230\n",
      "Epoch 2/8\n",
      "4/4 [==============================] - 0s 17ms/step - loss: 0.1889 - val_loss: 0.0230\n",
      "Epoch 3/8\n",
      "4/4 [==============================] - 0s 21ms/step - loss: 0.2043 - val_loss: 0.0229\n",
      "Epoch 4/8\n",
      "4/4 [==============================] - 0s 25ms/step - loss: 0.2072 - val_loss: 0.0229\n",
      "Epoch 5/8\n",
      "4/4 [==============================] - 0s 26ms/step - loss: 0.1655 - val_loss: 0.0229\n",
      "Epoch 6/8\n",
      "4/4 [==============================] - 0s 24ms/step - loss: 0.1838 - val_loss: 0.0228\n",
      "Epoch 7/8\n",
      "4/4 [==============================] - 0s 21ms/step - loss: 0.1818 - val_loss: 0.0229\n",
      "Epoch 8/8\n",
      "4/4 [==============================] - 0s 19ms/step - loss: 0.1802 - val_loss: 0.0228\n",
      "4/4 [==============================] - 0s 3ms/step - loss: 0.2556\n",
      "Epoch 1/8\n",
      "4/4 [==============================] - 4s 253ms/step - loss: 0.4820 - val_loss: 0.0331\n",
      "Epoch 2/8\n",
      "4/4 [==============================] - 0s 18ms/step - loss: 0.4598 - val_loss: 0.0330\n",
      "Epoch 3/8\n",
      "4/4 [==============================] - 0s 21ms/step - loss: 0.5047 - val_loss: 0.0329\n",
      "Epoch 4/8\n",
      "4/4 [==============================] - 0s 25ms/step - loss: 0.4679 - val_loss: 0.0328\n",
      "Epoch 5/8\n",
      "4/4 [==============================] - 0s 24ms/step - loss: 0.4674 - val_loss: 0.0326\n",
      "Epoch 6/8\n",
      "4/4 [==============================] - 0s 23ms/step - loss: 0.4720 - val_loss: 0.0326\n",
      "Epoch 7/8\n",
      "4/4 [==============================] - 0s 27ms/step - loss: 0.4496 - val_loss: 0.0324\n",
      "Epoch 8/8\n",
      "4/4 [==============================] - 0s 24ms/step - loss: 0.4463 - val_loss: 0.0323\n",
      "4/4 [==============================] - 0s 4ms/step - loss: 0.2509\n",
      "Epoch 1/10\n",
      "4/4 [==============================] - 4s 250ms/step - loss: 0.1464 - val_loss: 0.0130\n",
      "Epoch 2/10\n",
      "4/4 [==============================] - 0s 18ms/step - loss: 0.0302 - val_loss: 0.1124\n",
      "Epoch 3/10\n",
      "4/4 [==============================] - 0s 20ms/step - loss: 0.0354 - val_loss: 0.0289\n",
      "Epoch 4/10\n",
      "4/4 [==============================] - 0s 21ms/step - loss: 0.0258 - val_loss: 0.0374\n",
      "Epoch 5/10\n",
      "4/4 [==============================] - 0s 19ms/step - loss: 0.0214 - val_loss: 0.0619\n",
      "Epoch 6/10\n",
      "4/4 [==============================] - 0s 18ms/step - loss: 0.0182 - val_loss: 0.0680\n",
      "Epoch 7/10\n",
      "4/4 [==============================] - 0s 17ms/step - loss: 0.0191 - val_loss: 0.0396\n",
      "Epoch 8/10\n",
      "4/4 [==============================] - 0s 18ms/step - loss: 0.0193 - val_loss: 0.0682\n",
      "Epoch 9/10\n",
      "4/4 [==============================] - 0s 19ms/step - loss: 0.0122 - val_loss: 0.0838\n",
      "Epoch 10/10\n",
      "4/4 [==============================] - 0s 17ms/step - loss: 0.0125 - val_loss: 0.0870\n",
      "4/4 [==============================] - 0s 3ms/step - loss: 0.1254\n",
      "Epoch 1/10\n",
      "4/4 [==============================] - 4s 254ms/step - loss: 0.3407 - val_loss: 0.0222\n",
      "Epoch 2/10\n",
      "4/4 [==============================] - 0s 24ms/step - loss: 0.1217 - val_loss: 0.0293\n",
      "Epoch 3/10\n",
      "4/4 [==============================] - 0s 25ms/step - loss: 0.0312 - val_loss: 0.0929\n",
      "Epoch 4/10\n",
      "4/4 [==============================] - 0s 19ms/step - loss: 0.0452 - val_loss: 0.1331\n",
      "Epoch 5/10\n",
      "4/4 [==============================] - 0s 18ms/step - loss: 0.0364 - val_loss: 0.1194\n",
      "Epoch 6/10\n",
      "4/4 [==============================] - 0s 18ms/step - loss: 0.0283 - val_loss: 0.0970\n",
      "Epoch 7/10\n",
      "4/4 [==============================] - 0s 21ms/step - loss: 0.0204 - val_loss: 0.0899\n",
      "Epoch 8/10\n",
      "4/4 [==============================] - 0s 19ms/step - loss: 0.0280 - val_loss: 0.0880\n",
      "Epoch 9/10\n",
      "4/4 [==============================] - 0s 24ms/step - loss: 0.0210 - val_loss: 0.0943\n",
      "Epoch 10/10\n",
      "4/4 [==============================] - 0s 34ms/step - loss: 0.0218 - val_loss: 0.0980\n",
      "4/4 [==============================] - 0s 4ms/step - loss: 0.0937\n",
      "Epoch 1/10\n",
      "4/4 [==============================] - 4s 265ms/step - loss: 0.3142 - val_loss: 0.3871\n",
      "Epoch 2/10\n",
      "4/4 [==============================] - 0s 20ms/step - loss: 0.2686 - val_loss: 0.3852\n",
      "Epoch 3/10\n",
      "4/4 [==============================] - 0s 21ms/step - loss: 0.2841 - val_loss: 0.3834\n",
      "Epoch 4/10\n",
      "4/4 [==============================] - 0s 20ms/step - loss: 0.2804 - val_loss: 0.3816\n",
      "Epoch 5/10\n",
      "4/4 [==============================] - 0s 21ms/step - loss: 0.2855 - val_loss: 0.3800\n",
      "Epoch 6/10\n",
      "4/4 [==============================] - 0s 24ms/step - loss: 0.2873 - val_loss: 0.3782\n",
      "Epoch 7/10\n",
      "4/4 [==============================] - 0s 23ms/step - loss: 0.2805 - val_loss: 0.3764\n",
      "Epoch 8/10\n",
      "4/4 [==============================] - 0s 23ms/step - loss: 0.3127 - val_loss: 0.3744\n",
      "Epoch 9/10\n",
      "4/4 [==============================] - 0s 26ms/step - loss: 0.2753 - val_loss: 0.3728\n",
      "Epoch 10/10\n",
      "4/4 [==============================] - 0s 24ms/step - loss: 0.2691 - val_loss: 0.3711\n",
      "4/4 [==============================] - 0s 3ms/step - loss: 0.2504\n",
      "Epoch 1/10\n",
      "4/4 [==============================] - 4s 399ms/step - loss: 0.3562 - val_loss: 0.1244\n",
      "Epoch 2/10\n",
      "4/4 [==============================] - 0s 22ms/step - loss: 0.3375 - val_loss: 0.1243\n",
      "Epoch 3/10\n",
      "4/4 [==============================] - 0s 26ms/step - loss: 0.3847 - val_loss: 0.1244\n",
      "Epoch 4/10\n",
      "4/4 [==============================] - 0s 26ms/step - loss: 0.3959 - val_loss: 0.1243\n",
      "Epoch 5/10\n",
      "4/4 [==============================] - 0s 26ms/step - loss: 0.3378 - val_loss: 0.1243\n",
      "Epoch 6/10\n",
      "4/4 [==============================] - 0s 22ms/step - loss: 0.3519 - val_loss: 0.1242\n",
      "Epoch 7/10\n",
      "4/4 [==============================] - 0s 24ms/step - loss: 0.3412 - val_loss: 0.1242\n",
      "Epoch 8/10\n",
      "4/4 [==============================] - 0s 27ms/step - loss: 0.3339 - val_loss: 0.1242\n",
      "Epoch 9/10\n",
      "4/4 [==============================] - 0s 24ms/step - loss: 0.3424 - val_loss: 0.1244\n",
      "Epoch 10/10\n",
      "4/4 [==============================] - 0s 22ms/step - loss: 0.3459 - val_loss: 0.1243\n",
      "4/4 [==============================] - 0s 4ms/step - loss: 0.2361\n",
      "Epoch 1/8\n",
      "3/3 [==============================] - 4s 377ms/step - loss: 0.1471 - val_loss: 0.0169\n",
      "Epoch 2/8\n",
      "3/3 [==============================] - 0s 25ms/step - loss: 0.0473 - val_loss: 0.0750\n",
      "Epoch 3/8\n",
      "3/3 [==============================] - 0s 27ms/step - loss: 0.0346 - val_loss: 0.1639\n",
      "Epoch 4/8\n",
      "3/3 [==============================] - 0s 27ms/step - loss: 0.0372 - val_loss: 0.0850\n",
      "Epoch 5/8\n",
      "3/3 [==============================] - 0s 28ms/step - loss: 0.0202 - val_loss: 0.0471\n",
      "Epoch 6/8\n",
      "3/3 [==============================] - 0s 29ms/step - loss: 0.0250 - val_loss: 0.0589\n",
      "Epoch 7/8\n",
      "3/3 [==============================] - 0s 27ms/step - loss: 0.0199 - val_loss: 0.0811\n",
      "Epoch 8/8\n",
      "3/3 [==============================] - 0s 30ms/step - loss: 0.0264 - val_loss: 0.0746\n",
      "3/3 [==============================] - 0s 5ms/step - loss: 0.1195\n",
      "Epoch 1/8\n",
      "3/3 [==============================] - 4s 379ms/step - loss: 0.1806 - val_loss: 0.0779\n",
      "Epoch 2/8\n",
      "3/3 [==============================] - 0s 34ms/step - loss: 0.0997 - val_loss: 0.2466\n",
      "Epoch 3/8\n",
      "3/3 [==============================] - 0s 25ms/step - loss: 0.0463 - val_loss: 0.3254\n",
      "Epoch 4/8\n",
      "3/3 [==============================] - 0s 28ms/step - loss: 0.0610 - val_loss: 0.2423\n",
      "Epoch 5/8\n",
      "3/3 [==============================] - 0s 30ms/step - loss: 0.0517 - val_loss: 0.1722\n",
      "Epoch 6/8\n",
      "3/3 [==============================] - 0s 28ms/step - loss: 0.0348 - val_loss: 0.1521\n",
      "Epoch 7/8\n",
      "3/3 [==============================] - 0s 27ms/step - loss: 0.0383 - val_loss: 0.1487\n",
      "Epoch 8/8\n",
      "3/3 [==============================] - 0s 26ms/step - loss: 0.0317 - val_loss: 0.1641\n",
      "3/3 [==============================] - 0s 5ms/step - loss: 0.0653\n",
      "Epoch 1/8\n",
      "3/3 [==============================] - 4s 383ms/step - loss: 0.4243 - val_loss: 0.0962\n",
      "Epoch 2/8\n",
      "3/3 [==============================] - 0s 24ms/step - loss: 0.4021 - val_loss: 0.0958\n",
      "Epoch 3/8\n",
      "3/3 [==============================] - 0s 25ms/step - loss: 0.4284 - val_loss: 0.0954\n",
      "Epoch 4/8\n",
      "3/3 [==============================] - 0s 28ms/step - loss: 0.4116 - val_loss: 0.0949\n",
      "Epoch 5/8\n",
      "3/3 [==============================] - 0s 29ms/step - loss: 0.3972 - val_loss: 0.0945\n",
      "Epoch 6/8\n",
      "3/3 [==============================] - 0s 27ms/step - loss: 0.4113 - val_loss: 0.0940\n",
      "Epoch 7/8\n",
      "3/3 [==============================] - 0s 29ms/step - loss: 0.4532 - val_loss: 0.0936\n",
      "Epoch 8/8\n",
      "3/3 [==============================] - 0s 28ms/step - loss: 0.4172 - val_loss: 0.0932\n",
      "3/3 [==============================] - 0s 7ms/step - loss: 0.4223\n",
      "Epoch 1/8\n",
      "3/3 [==============================] - 4s 366ms/step - loss: 0.3604 - val_loss: 0.1876\n",
      "Epoch 2/8\n",
      "3/3 [==============================] - 0s 25ms/step - loss: 0.3892 - val_loss: 0.1875\n",
      "Epoch 3/8\n",
      "3/3 [==============================] - 0s 28ms/step - loss: 0.3954 - val_loss: 0.1874\n",
      "Epoch 4/8\n",
      "3/3 [==============================] - 0s 27ms/step - loss: 0.3779 - val_loss: 0.1873\n",
      "Epoch 5/8\n",
      "3/3 [==============================] - 0s 35ms/step - loss: 0.3723 - val_loss: 0.1872\n",
      "Epoch 6/8\n",
      "3/3 [==============================] - 0s 28ms/step - loss: 0.3471 - val_loss: 0.1871\n",
      "Epoch 7/8\n",
      "3/3 [==============================] - 0s 28ms/step - loss: 0.3510 - val_loss: 0.1870\n",
      "Epoch 8/8\n",
      "3/3 [==============================] - 0s 26ms/step - loss: 0.3597 - val_loss: 0.1869\n",
      "3/3 [==============================] - 0s 4ms/step - loss: 0.3092\n",
      "Epoch 1/10\n",
      "3/3 [==============================] - 4s 374ms/step - loss: 0.1050 - val_loss: 0.0257\n",
      "Epoch 2/10\n",
      "3/3 [==============================] - 0s 26ms/step - loss: 0.0365 - val_loss: 0.1916\n",
      "Epoch 3/10\n",
      "3/3 [==============================] - 0s 29ms/step - loss: 0.0417 - val_loss: 0.0819\n",
      "Epoch 4/10\n",
      "3/3 [==============================] - 0s 26ms/step - loss: 0.0240 - val_loss: 0.0473\n",
      "Epoch 5/10\n",
      "3/3 [==============================] - 0s 30ms/step - loss: 0.0159 - val_loss: 0.0677\n",
      "Epoch 6/10\n",
      "3/3 [==============================] - 0s 28ms/step - loss: 0.0284 - val_loss: 0.0818\n",
      "Epoch 7/10\n",
      "3/3 [==============================] - 0s 26ms/step - loss: 0.0167 - val_loss: 0.0856\n",
      "Epoch 8/10\n",
      "3/3 [==============================] - 0s 48ms/step - loss: 0.0182 - val_loss: 0.0927\n",
      "Epoch 9/10\n",
      "3/3 [==============================] - 0s 29ms/step - loss: 0.0158 - val_loss: 0.1428\n",
      "Epoch 10/10\n",
      "3/3 [==============================] - 0s 25ms/step - loss: 0.0145 - val_loss: 0.1321\n",
      "3/3 [==============================] - 0s 5ms/step - loss: 0.1224\n",
      "Epoch 1/10\n",
      "3/3 [==============================] - 4s 387ms/step - loss: 0.2873 - val_loss: 0.0376\n",
      "Epoch 2/10\n",
      "3/3 [==============================] - 0s 25ms/step - loss: 0.1213 - val_loss: 0.0750\n",
      "Epoch 3/10\n",
      "3/3 [==============================] - 0s 29ms/step - loss: 0.0499 - val_loss: 0.1100\n",
      "Epoch 4/10\n",
      "3/3 [==============================] - 0s 26ms/step - loss: 0.0316 - val_loss: 0.1258\n",
      "Epoch 5/10\n",
      "3/3 [==============================] - 0s 27ms/step - loss: 0.0354 - val_loss: 0.1455\n",
      "Epoch 6/10\n",
      "3/3 [==============================] - 0s 30ms/step - loss: 0.0296 - val_loss: 0.1672\n",
      "Epoch 7/10\n",
      "3/3 [==============================] - 0s 25ms/step - loss: 0.0284 - val_loss: 0.1634\n",
      "Epoch 8/10\n",
      "3/3 [==============================] - 0s 28ms/step - loss: 0.0250 - val_loss: 0.1545\n",
      "Epoch 9/10\n",
      "3/3 [==============================] - 0s 28ms/step - loss: 0.0242 - val_loss: 0.1648\n",
      "Epoch 10/10\n",
      "3/3 [==============================] - 0s 32ms/step - loss: 0.0221 - val_loss: 0.1675\n",
      "3/3 [==============================] - 0s 4ms/step - loss: 0.0456\n",
      "Epoch 1/10\n",
      "3/3 [==============================] - 4s 385ms/step - loss: 0.1258 - val_loss: 0.0129\n",
      "Epoch 2/10\n",
      "3/3 [==============================] - 0s 36ms/step - loss: 0.1218 - val_loss: 0.0130\n",
      "Epoch 3/10\n",
      "3/3 [==============================] - 0s 27ms/step - loss: 0.1368 - val_loss: 0.0131\n",
      "Epoch 4/10\n",
      "3/3 [==============================] - 0s 33ms/step - loss: 0.1424 - val_loss: 0.0132\n",
      "Epoch 5/10\n",
      "3/3 [==============================] - 0s 47ms/step - loss: 0.1287 - val_loss: 0.0133\n",
      "Epoch 6/10\n",
      "3/3 [==============================] - 0s 44ms/step - loss: 0.1504 - val_loss: 0.0134\n",
      "Epoch 7/10\n",
      "3/3 [==============================] - 0s 42ms/step - loss: 0.1366 - val_loss: 0.0134\n",
      "Epoch 8/10\n",
      "3/3 [==============================] - 0s 42ms/step - loss: 0.1238 - val_loss: 0.0135\n",
      "Epoch 9/10\n",
      "3/3 [==============================] - 0s 44ms/step - loss: 0.1414 - val_loss: 0.0136\n",
      "Epoch 10/10\n",
      "3/3 [==============================] - 0s 38ms/step - loss: 0.1328 - val_loss: 0.0137\n",
      "3/3 [==============================] - 0s 7ms/step - loss: 0.2391\n",
      "Epoch 1/10\n",
      "3/3 [==============================] - 4s 392ms/step - loss: 0.3036 - val_loss: 0.0518\n",
      "Epoch 2/10\n",
      "3/3 [==============================] - 0s 26ms/step - loss: 0.2918 - val_loss: 0.0518\n",
      "Epoch 3/10\n",
      "3/3 [==============================] - 0s 28ms/step - loss: 0.2901 - val_loss: 0.0518\n",
      "Epoch 4/10\n",
      "3/3 [==============================] - 0s 27ms/step - loss: 0.2964 - val_loss: 0.0518\n",
      "Epoch 5/10\n",
      "3/3 [==============================] - 0s 25ms/step - loss: 0.2880 - val_loss: 0.0518\n",
      "Epoch 6/10\n",
      "3/3 [==============================] - 0s 50ms/step - loss: 0.2854 - val_loss: 0.0517\n",
      "Epoch 7/10\n",
      "3/3 [==============================] - 0s 28ms/step - loss: 0.2756 - val_loss: 0.0517\n",
      "Epoch 8/10\n",
      "3/3 [==============================] - 0s 28ms/step - loss: 0.3105 - val_loss: 0.0517\n",
      "Epoch 9/10\n",
      "3/3 [==============================] - 0s 25ms/step - loss: 0.2886 - val_loss: 0.0517\n",
      "Epoch 10/10\n",
      "3/3 [==============================] - 0s 26ms/step - loss: 0.2824 - val_loss: 0.0517\n",
      "3/3 [==============================] - 0s 4ms/step - loss: 0.1840\n",
      "Epoch 1/10\n",
      "6/6 [==============================] - 4s 157ms/step - loss: 0.1943 - val_loss: 0.0395\n",
      "Epoch 2/10\n",
      "6/6 [==============================] - 0s 21ms/step - loss: 0.0569 - val_loss: 0.2032\n",
      "Epoch 3/10\n",
      "6/6 [==============================] - 0s 18ms/step - loss: 0.0441 - val_loss: 0.0554\n",
      "Epoch 4/10\n",
      "6/6 [==============================] - 0s 19ms/step - loss: 0.0345 - val_loss: 0.0846\n",
      "Epoch 5/10\n",
      "6/6 [==============================] - 0s 18ms/step - loss: 0.0293 - val_loss: 0.1771\n",
      "Epoch 6/10\n",
      "6/6 [==============================] - 0s 18ms/step - loss: 0.0247 - val_loss: 0.1143\n",
      "Epoch 7/10\n",
      "6/6 [==============================] - 0s 19ms/step - loss: 0.0213 - val_loss: 0.1193\n",
      "Epoch 8/10\n",
      "6/6 [==============================] - 0s 26ms/step - loss: 0.0192 - val_loss: 0.1552\n",
      "Epoch 9/10\n",
      "6/6 [==============================] - 0s 27ms/step - loss: 0.0167 - val_loss: 0.1290\n",
      "Epoch 10/10\n",
      "6/6 [==============================] - 0s 33ms/step - loss: 0.0137 - val_loss: 0.1316\n"
     ]
    }
   ],
   "source": [
    "grid_search = grid_search.fit(trainX,trainY)"
   ]
  },
  {
   "cell_type": "code",
   "execution_count": 14,
   "metadata": {},
   "outputs": [
    {
     "data": {
      "text/plain": [
       "{'batch_size': 20, 'epochs': 10, 'optimizer': 'adam'}"
      ]
     },
     "execution_count": 14,
     "metadata": {},
     "output_type": "execute_result"
    }
   ],
   "source": [
    "grid_search.best_params_"
   ]
  },
  {
   "cell_type": "code",
   "execution_count": 15,
   "metadata": {},
   "outputs": [],
   "source": [
    "my_model=grid_search.best_estimator_.model"
   ]
  },
  {
   "cell_type": "code",
   "execution_count": 16,
   "metadata": {},
   "outputs": [
    {
     "data": {
      "text/plain": [
       "<keras.engine.sequential.Sequential at 0x1904a48b910>"
      ]
     },
     "execution_count": 16,
     "metadata": {},
     "output_type": "execute_result"
    }
   ],
   "source": [
    "my_model"
   ]
  },
  {
   "cell_type": "code",
   "execution_count": 17,
   "metadata": {},
   "outputs": [
    {
     "name": "stdout",
     "output_type": "stream",
     "text": [
      "1/1 [==============================] - 1s 730ms/step\n"
     ]
    }
   ],
   "source": [
    "prediction=my_model.predict(testX)"
   ]
  },
  {
   "cell_type": "code",
   "execution_count": 18,
   "metadata": {},
   "outputs": [
    {
     "name": "stdout",
     "output_type": "stream",
     "text": [
      "prediction\n",
      " [[-0.11034669]\n",
      " [-0.09950677]\n",
      " [-0.11404788]\n",
      " [-0.13920423]\n",
      " [-0.1583576 ]\n",
      " [-0.17997356]\n",
      " [-0.16530232]\n",
      " [-0.16761999]\n",
      " [-0.15786697]\n",
      " [-0.12809601]\n",
      " [-0.07523564]\n",
      " [-0.01386351]\n",
      " [ 0.04851449]\n",
      " [ 0.08381105]\n",
      " [ 0.11277351]\n",
      " [ 0.15209816]\n",
      " [ 0.18533666]\n",
      " [ 0.21181372]\n",
      " [ 0.24725012]]\n",
      "\n",
      "Prediction Shape- (19, 1)\n"
     ]
    }
   ],
   "source": [
    "print(\"prediction\\n\", prediction)\n",
    "print(\"\\nPrediction Shape-\",prediction.shape)"
   ]
  },
  {
   "cell_type": "code",
   "execution_count": 19,
   "metadata": {},
   "outputs": [],
   "source": [
    "prediction_copies_array = np.repeat(prediction,152, axis=-1)"
   ]
  },
  {
   "cell_type": "code",
   "execution_count": 20,
   "metadata": {},
   "outputs": [
    {
     "data": {
      "text/plain": [
       "(19, 152)"
      ]
     },
     "execution_count": 20,
     "metadata": {},
     "output_type": "execute_result"
    }
   ],
   "source": [
    "prediction_copies_array.shape"
   ]
  },
  {
   "cell_type": "code",
   "execution_count": 21,
   "metadata": {},
   "outputs": [
    {
     "data": {
      "text/plain": [
       "array([[-0.11034669, -0.11034669, -0.11034669, ..., -0.11034669,\n",
       "        -0.11034669, -0.11034669],\n",
       "       [-0.09950677, -0.09950677, -0.09950677, ..., -0.09950677,\n",
       "        -0.09950677, -0.09950677],\n",
       "       [-0.11404788, -0.11404788, -0.11404788, ..., -0.11404788,\n",
       "        -0.11404788, -0.11404788],\n",
       "       ...,\n",
       "       [ 0.18533666,  0.18533666,  0.18533666, ...,  0.18533666,\n",
       "         0.18533666,  0.18533666],\n",
       "       [ 0.21181372,  0.21181372,  0.21181372, ...,  0.21181372,\n",
       "         0.21181372,  0.21181372],\n",
       "       [ 0.24725012,  0.24725012,  0.24725012, ...,  0.24725012,\n",
       "         0.24725012,  0.24725012]], dtype=float32)"
      ]
     },
     "execution_count": 21,
     "metadata": {},
     "output_type": "execute_result"
    }
   ],
   "source": [
    "prediction_copies_array"
   ]
  },
  {
   "cell_type": "code",
   "execution_count": 22,
   "metadata": {},
   "outputs": [],
   "source": [
    "pred=scaler.inverse_transform(np.reshape(prediction_copies_array,(len(prediction),152)))[:,0]"
   ]
  },
  {
   "cell_type": "code",
   "execution_count": 23,
   "metadata": {},
   "outputs": [
    {
     "data": {
      "text/plain": [
       "array([-0.03001094, -0.02916364, -0.03030025, -0.0322666 , -0.03376373,\n",
       "       -0.03545335, -0.03430657, -0.03448773, -0.03372538, -0.03139832,\n",
       "       -0.02726647, -0.0224693 , -0.0175935 , -0.01483454, -0.01257068,\n",
       "       -0.00949685, -0.00689875, -0.00482917, -0.00205927], dtype=float32)"
      ]
     },
     "execution_count": 23,
     "metadata": {},
     "output_type": "execute_result"
    }
   ],
   "source": [
    "pred"
   ]
  },
  {
   "cell_type": "code",
   "execution_count": 24,
   "metadata": {},
   "outputs": [],
   "source": [
    "original_copies_array = np.repeat(testY,152, axis=-1)\n",
    "\n",
    "original_copies_array.shape\n",
    "\n",
    "original=scaler.inverse_transform(np.reshape(original_copies_array,(len(testY),152)))[:,0]"
   ]
  },
  {
   "cell_type": "code",
   "execution_count": 25,
   "metadata": {},
   "outputs": [
    {
     "data": {
      "text/plain": [
       "array([-0.03001094, -0.02916364, -0.03030025, -0.0322666 , -0.03376373,\n",
       "       -0.03545335, -0.03430657, -0.03448773, -0.03372538, -0.03139832,\n",
       "       -0.02726647, -0.0224693 , -0.0175935 , -0.01483454, -0.01257068,\n",
       "       -0.00949685, -0.00689875, -0.00482917, -0.00205927], dtype=float32)"
      ]
     },
     "execution_count": 25,
     "metadata": {},
     "output_type": "execute_result"
    }
   ],
   "source": [
    "pred"
   ]
  },
  {
   "cell_type": "code",
   "execution_count": 26,
   "metadata": {},
   "outputs": [
    {
     "name": "stdout",
     "output_type": "stream",
     "text": [
      "Pred Values--  [-0.03001094 -0.02916364 -0.03030025 -0.0322666  -0.03376373 -0.03545335\n",
      " -0.03430657 -0.03448773 -0.03372538 -0.03139832 -0.02726647 -0.0224693\n",
      " -0.0175935  -0.01483454 -0.01257068 -0.00949685 -0.00689875 -0.00482917\n",
      " -0.00205927]\n",
      "\n",
      "Original Values--  [-0.00932614 -0.00627638 -0.00029419 -0.00029523 -0.00325332  0.00049278\n",
      "  0.00127984  0.00977737  0.00834525  0.00903384  0.00804557  0.00796974\n",
      "  0.00482118  0.00117983 -0.00609938  0.00314466  0.00816251  0.00746052\n",
      "  0.00431966]\n"
     ]
    }
   ],
   "source": [
    "print(\"Pred Values-- \" ,pred)\n",
    "print(\"\\nOriginal Values-- \",original)"
   ]
  },
  {
   "cell_type": "code",
   "execution_count": 27,
   "metadata": {},
   "outputs": [
    {
     "data": {
      "image/png": "[encoded data removed]",
      "text/plain": [
       "<Figure size 640x480 with 1 Axes>"
      ]
     },
     "metadata": {},
     "output_type": "display_data"
    }
   ],
   "source": [
    "plt.plot(original, color = 'red', label = 'Real  Inflation')\n",
    "plt.plot(pred, color = 'blue', label = 'Predicted  Inflation')\n",
    "plt.title(' Inflation Prediction')\n",
    "plt.xlabel('Time')\n",
    "plt.ylabel(' Inflation')\n",
    "plt.legend()\n",
    "plt.show()"
   ]
  },
  {
   "cell_type": "code",
   "execution_count": 28,
   "metadata": {},
   "outputs": [
    {
     "name": "stdout",
     "output_type": "stream",
     "text": [
      "0.00014289120932892428\n",
      "3.350206605696509e-05\n",
      "-3.2651461878786767\n"
     ]
    }
   ],
   "source": [
    "import statistics\n",
    "rss = (statistics.variance(original - pred))\n",
    "tss = (statistics.variance(original))\n",
    "oos_r2 = 1 - rss/tss\n",
    "print(rss)\n",
    "print(tss)\n",
    "print(oos_r2)"
   ]
  },
  {
   "cell_type": "code",
   "execution_count": 29,
   "metadata": {},
   "outputs": [
    {
     "name": "stdout",
     "output_type": "stream",
     "text": [
      "(125, 152)\n",
      "(31, 152)\n"
     ]
    },
    {
     "name": "stderr",
     "output_type": "stream",
     "text": [
      "C:\\Users\\Will\\AppData\\Local\\Temp\\ipykernel_25492\\680691454.py:26: DeprecationWarning: KerasRegressor is deprecated, use Sci-Keras (https://github.com/adriangb/scikeras) instead. See https://www.adriangb.com/scikeras/stable/migration.html for help migrating.\n",
      "  grid_model = KerasRegressor(build_fn=build_model,verbose=1,validation_data=(testX1,testY1))\n"
     ]
    },
    {
     "name": "stdout",
     "output_type": "stream",
     "text": [
      "Epoch 1/8\n",
      "4/4 [==============================] - 5s 271ms/step - loss: 0.1876 - val_loss: 0.1722\n",
      "Epoch 2/8\n",
      "4/4 [==============================] - 0s 21ms/step - loss: 0.0517 - val_loss: 0.2461\n",
      "Epoch 3/8\n",
      "4/4 [==============================] - 0s 18ms/step - loss: 0.0473 - val_loss: 0.1964\n",
      "Epoch 4/8\n",
      "4/4 [==============================] - 0s 18ms/step - loss: 0.0280 - val_loss: 0.2511\n",
      "Epoch 5/8\n",
      "4/4 [==============================] - 0s 19ms/step - loss: 0.0220 - val_loss: 0.2112\n",
      "Epoch 6/8\n",
      "4/4 [==============================] - 0s 18ms/step - loss: 0.0206 - val_loss: 0.2406\n",
      "Epoch 7/8\n",
      "4/4 [==============================] - 0s 19ms/step - loss: 0.0157 - val_loss: 0.3073\n",
      "Epoch 8/8\n",
      "4/4 [==============================] - 0s 36ms/step - loss: 0.0142 - val_loss: 0.3376\n",
      "4/4 [==============================] - 0s 5ms/step - loss: 0.0783\n",
      "Epoch 1/8\n",
      "4/4 [==============================] - 4s 271ms/step - loss: 0.1888 - val_loss: 0.4265\n",
      "Epoch 2/8\n",
      "4/4 [==============================] - 0s 25ms/step - loss: 0.0661 - val_loss: 0.7270\n",
      "Epoch 3/8\n",
      "4/4 [==============================] - 0s 34ms/step - loss: 0.0135 - val_loss: 0.9878\n",
      "Epoch 4/8\n",
      "4/4 [==============================] - 0s 32ms/step - loss: 0.0240 - val_loss: 1.0207\n",
      "Epoch 5/8\n",
      "4/4 [==============================] - 0s 33ms/step - loss: 0.0265 - val_loss: 0.8485\n",
      "Epoch 6/8\n",
      "4/4 [==============================] - 0s 36ms/step - loss: 0.0146 - val_loss: 0.7251\n",
      "Epoch 7/8\n",
      "4/4 [==============================] - 0s 38ms/step - loss: 0.0114 - val_loss: 0.6949\n",
      "Epoch 8/8\n",
      "4/4 [==============================] - 0s 29ms/step - loss: 0.0163 - val_loss: 0.7347\n",
      "4/4 [==============================] - 0s 5ms/step - loss: 0.2828\n",
      "Epoch 1/8\n",
      "4/4 [==============================] - 5s 257ms/step - loss: 0.2212 - val_loss: 0.0696\n",
      "Epoch 2/8\n",
      "4/4 [==============================] - 0s 32ms/step - loss: 0.2202 - val_loss: 0.0695\n",
      "Epoch 3/8\n",
      "4/4 [==============================] - 0s 32ms/step - loss: 0.2186 - val_loss: 0.0695\n",
      "Epoch 4/8\n",
      "4/4 [==============================] - 0s 26ms/step - loss: 0.2317 - val_loss: 0.0694\n",
      "Epoch 5/8\n",
      "4/4 [==============================] - 0s 25ms/step - loss: 0.2317 - val_loss: 0.0693\n",
      "Epoch 6/8\n",
      "4/4 [==============================] - 0s 25ms/step - loss: 0.2258 - val_loss: 0.0693\n",
      "Epoch 7/8\n",
      "4/4 [==============================] - 0s 22ms/step - loss: 0.2363 - val_loss: 0.0692\n",
      "Epoch 8/8\n",
      "4/4 [==============================] - 0s 32ms/step - loss: 0.2185 - val_loss: 0.0691\n",
      "4/4 [==============================] - 0s 4ms/step - loss: 0.1879\n",
      "Epoch 1/8\n",
      "4/4 [==============================] - 4s 331ms/step - loss: 0.2451 - val_loss: 0.0987\n",
      "Epoch 2/8\n",
      "4/4 [==============================] - 0s 32ms/step - loss: 0.2361 - val_loss: 0.0987\n",
      "Epoch 3/8\n",
      "4/4 [==============================] - 0s 27ms/step - loss: 0.2440 - val_loss: 0.0986\n",
      "Epoch 4/8\n",
      "4/4 [==============================] - 0s 30ms/step - loss: 0.2161 - val_loss: 0.0986\n",
      "Epoch 5/8\n",
      "4/4 [==============================] - 0s 23ms/step - loss: 0.2461 - val_loss: 0.0985\n",
      "Epoch 6/8\n",
      "4/4 [==============================] - 0s 24ms/step - loss: 0.2440 - val_loss: 0.0985\n",
      "Epoch 7/8\n",
      "4/4 [==============================] - 0s 23ms/step - loss: 0.2255 - val_loss: 0.0985\n",
      "Epoch 8/8\n",
      "4/4 [==============================] - 0s 24ms/step - loss: 0.2195 - val_loss: 0.0984\n",
      "4/4 [==============================] - 0s 6ms/step - loss: 0.2437\n",
      "Epoch 1/10\n",
      "4/4 [==============================] - 4s 254ms/step - loss: 0.1574 - val_loss: 0.0863\n",
      "Epoch 2/10\n",
      "4/4 [==============================] - 0s 25ms/step - loss: 0.0884 - val_loss: 0.0994\n",
      "Epoch 3/10\n",
      "4/4 [==============================] - 0s 25ms/step - loss: 0.0649 - val_loss: 0.0937\n",
      "Epoch 4/10\n",
      "4/4 [==============================] - 0s 24ms/step - loss: 0.0336 - val_loss: 0.0992\n",
      "Epoch 5/10\n",
      "4/4 [==============================] - 0s 24ms/step - loss: 0.0236 - val_loss: 0.1368\n",
      "Epoch 6/10\n",
      "4/4 [==============================] - 0s 22ms/step - loss: 0.0200 - val_loss: 0.1311\n",
      "Epoch 7/10\n",
      "4/4 [==============================] - 0s 22ms/step - loss: 0.0177 - val_loss: 0.1024\n",
      "Epoch 8/10\n",
      "4/4 [==============================] - 0s 22ms/step - loss: 0.0150 - val_loss: 0.1192\n",
      "Epoch 9/10\n",
      "4/4 [==============================] - 0s 22ms/step - loss: 0.0134 - val_loss: 0.1497\n",
      "Epoch 10/10\n",
      "4/4 [==============================] - 0s 23ms/step - loss: 0.0147 - val_loss: 0.1414\n",
      "4/4 [==============================] - 0s 4ms/step - loss: 0.0492\n",
      "Epoch 1/10\n",
      "4/4 [==============================] - 4s 252ms/step - loss: 0.1005 - val_loss: 0.2950\n",
      "Epoch 2/10\n",
      "4/4 [==============================] - 0s 21ms/step - loss: 0.0195 - val_loss: 0.7124\n",
      "Epoch 3/10\n",
      "4/4 [==============================] - 0s 22ms/step - loss: 0.0248 - val_loss: 0.6649\n",
      "Epoch 4/10\n",
      "4/4 [==============================] - 0s 24ms/step - loss: 0.0091 - val_loss: 0.6059\n",
      "Epoch 5/10\n",
      "4/4 [==============================] - 0s 24ms/step - loss: 0.0100 - val_loss: 0.5342\n",
      "Epoch 6/10\n",
      "4/4 [==============================] - 0s 25ms/step - loss: 0.0061 - val_loss: 0.5320\n",
      "Epoch 7/10\n",
      "4/4 [==============================] - 0s 23ms/step - loss: 0.0070 - val_loss: 0.5822\n",
      "Epoch 8/10\n",
      "4/4 [==============================] - 0s 22ms/step - loss: 0.0061 - val_loss: 0.5978\n",
      "Epoch 9/10\n",
      "4/4 [==============================] - 0s 24ms/step - loss: 0.0097 - val_loss: 0.5366\n",
      "Epoch 10/10\n",
      "4/4 [==============================] - 0s 25ms/step - loss: 0.0061 - val_loss: 0.5159\n",
      "4/4 [==============================] - 0s 4ms/step - loss: 0.1823\n",
      "Epoch 1/10\n",
      "4/4 [==============================] - 4s 264ms/step - loss: 0.2196 - val_loss: 0.1107\n",
      "Epoch 2/10\n",
      "4/4 [==============================] - 0s 26ms/step - loss: 0.2224 - val_loss: 0.1109\n",
      "Epoch 3/10\n",
      "4/4 [==============================] - 0s 23ms/step - loss: 0.2112 - val_loss: 0.1110\n",
      "Epoch 4/10\n",
      "4/4 [==============================] - 0s 27ms/step - loss: 0.2031 - val_loss: 0.1111\n",
      "Epoch 5/10\n",
      "4/4 [==============================] - 0s 23ms/step - loss: 0.2122 - val_loss: 0.1112\n",
      "Epoch 6/10\n",
      "4/4 [==============================] - 0s 24ms/step - loss: 0.2147 - val_loss: 0.1113\n",
      "Epoch 7/10\n",
      "4/4 [==============================] - 0s 24ms/step - loss: 0.2109 - val_loss: 0.1114\n",
      "Epoch 8/10\n",
      "4/4 [==============================] - 0s 23ms/step - loss: 0.2126 - val_loss: 0.1114\n",
      "Epoch 9/10\n",
      "4/4 [==============================] - 0s 37ms/step - loss: 0.2073 - val_loss: 0.1116\n",
      "Epoch 10/10\n",
      "4/4 [==============================] - 0s 25ms/step - loss: 0.2141 - val_loss: 0.1117\n",
      "4/4 [==============================] - 0s 3ms/step - loss: 0.1045\n",
      "Epoch 1/10\n",
      "4/4 [==============================] - 4s 263ms/step - loss: 0.3217 - val_loss: 0.1504\n",
      "Epoch 2/10\n",
      "4/4 [==============================] - 0s 22ms/step - loss: 0.3284 - val_loss: 0.1502\n",
      "Epoch 3/10\n",
      "4/4 [==============================] - 0s 25ms/step - loss: 0.3038 - val_loss: 0.1501\n",
      "Epoch 4/10\n",
      "4/4 [==============================] - 0s 21ms/step - loss: 0.3079 - val_loss: 0.1500\n",
      "Epoch 5/10\n",
      "4/4 [==============================] - 0s 22ms/step - loss: 0.3164 - val_loss: 0.1499\n",
      "Epoch 6/10\n",
      "4/4 [==============================] - 0s 24ms/step - loss: 0.3089 - val_loss: 0.1498\n",
      "Epoch 7/10\n",
      "4/4 [==============================] - 0s 24ms/step - loss: 0.3050 - val_loss: 0.1497\n",
      "Epoch 8/10\n",
      "4/4 [==============================] - 0s 21ms/step - loss: 0.2997 - val_loss: 0.1495\n",
      "Epoch 9/10\n",
      "4/4 [==============================] - 0s 24ms/step - loss: 0.3116 - val_loss: 0.1495\n",
      "Epoch 10/10\n",
      "4/4 [==============================] - 0s 22ms/step - loss: 0.3007 - val_loss: 0.1494\n",
      "4/4 [==============================] - 0s 4ms/step - loss: 0.2082\n",
      "Epoch 1/8\n",
      "3/3 [==============================] - 4s 373ms/step - loss: 0.1749 - val_loss: 0.1189\n",
      "Epoch 2/8\n",
      "3/3 [==============================] - 0s 26ms/step - loss: 0.0623 - val_loss: 0.1754\n",
      "Epoch 3/8\n",
      "3/3 [==============================] - 0s 27ms/step - loss: 0.0535 - val_loss: 0.1122\n",
      "Epoch 4/8\n",
      "3/3 [==============================] - 0s 33ms/step - loss: 0.0373 - val_loss: 0.1235\n",
      "Epoch 5/8\n",
      "3/3 [==============================] - 0s 29ms/step - loss: 0.0220 - val_loss: 0.1242\n",
      "Epoch 6/8\n",
      "3/3 [==============================] - 0s 52ms/step - loss: 0.0283 - val_loss: 0.1370\n",
      "Epoch 7/8\n",
      "3/3 [==============================] - 0s 33ms/step - loss: 0.0238 - val_loss: 0.1423\n",
      "Epoch 8/8\n",
      "3/3 [==============================] - 0s 29ms/step - loss: 0.0160 - val_loss: 0.1496\n",
      "3/3 [==============================] - 0s 5ms/step - loss: 0.1101\n",
      "Epoch 1/8\n",
      "3/3 [==============================] - 4s 393ms/step - loss: 0.1355 - val_loss: 0.1232\n",
      "Epoch 2/8\n",
      "3/3 [==============================] - 0s 28ms/step - loss: 0.0534 - val_loss: 0.1747\n",
      "Epoch 3/8\n",
      "3/3 [==============================] - 0s 27ms/step - loss: 0.0281 - val_loss: 0.3803\n",
      "Epoch 4/8\n",
      "3/3 [==============================] - 0s 28ms/step - loss: 0.0217 - val_loss: 0.5905\n",
      "Epoch 5/8\n",
      "3/3 [==============================] - 0s 28ms/step - loss: 0.0292 - val_loss: 0.5194\n",
      "Epoch 6/8\n",
      "3/3 [==============================] - 0s 28ms/step - loss: 0.0106 - val_loss: 0.4394\n",
      "Epoch 7/8\n",
      "3/3 [==============================] - 0s 26ms/step - loss: 0.0146 - val_loss: 0.4349\n",
      "Epoch 8/8\n",
      "3/3 [==============================] - 0s 28ms/step - loss: 0.0088 - val_loss: 0.4562\n",
      "3/3 [==============================] - 0s 5ms/step - loss: 0.2281\n",
      "Epoch 1/8\n",
      "3/3 [==============================] - 4s 369ms/step - loss: 0.3009 - val_loss: 0.1937\n",
      "Epoch 2/8\n",
      "3/3 [==============================] - 0s 28ms/step - loss: 0.3163 - val_loss: 0.1933\n",
      "Epoch 3/8\n",
      "3/3 [==============================] - 0s 26ms/step - loss: 0.2947 - val_loss: 0.1929\n",
      "Epoch 4/8\n",
      "3/3 [==============================] - 0s 25ms/step - loss: 0.3131 - val_loss: 0.1925\n",
      "Epoch 5/8\n",
      "3/3 [==============================] - 0s 29ms/step - loss: 0.2994 - val_loss: 0.1922\n",
      "Epoch 6/8\n",
      "3/3 [==============================] - 0s 29ms/step - loss: 0.3085 - val_loss: 0.1917\n",
      "Epoch 7/8\n",
      "3/3 [==============================] - 0s 51ms/step - loss: 0.3198 - val_loss: 0.1913\n",
      "Epoch 8/8\n",
      "3/3 [==============================] - 0s 31ms/step - loss: 0.3022 - val_loss: 0.1910\n",
      "3/3 [==============================] - 0s 5ms/step - loss: 0.1963\n",
      "Epoch 1/8\n",
      "3/3 [==============================] - 5s 509ms/step - loss: 0.1819 - val_loss: 0.0761\n",
      "Epoch 2/8\n",
      "3/3 [==============================] - 0s 41ms/step - loss: 0.1871 - val_loss: 0.0762\n",
      "Epoch 3/8\n",
      "3/3 [==============================] - 0s 39ms/step - loss: 0.1934 - val_loss: 0.0762\n",
      "Epoch 4/8\n",
      "3/3 [==============================] - 0s 39ms/step - loss: 0.1749 - val_loss: 0.0762\n",
      "Epoch 5/8\n",
      "3/3 [==============================] - 0s 35ms/step - loss: 0.1948 - val_loss: 0.0762\n",
      "Epoch 6/8\n",
      "3/3 [==============================] - 0s 36ms/step - loss: 0.1810 - val_loss: 0.0762\n",
      "Epoch 7/8\n",
      "3/3 [==============================] - 0s 35ms/step - loss: 0.1733 - val_loss: 0.0762\n",
      "Epoch 8/8\n",
      "3/3 [==============================] - 0s 32ms/step - loss: 0.1794 - val_loss: 0.0762\n",
      "3/3 [==============================] - 0s 7ms/step - loss: 0.2910\n",
      "Epoch 1/10\n",
      "3/3 [==============================] - 4s 384ms/step - loss: 0.1702 - val_loss: 0.1633\n",
      "Epoch 2/10\n",
      "3/3 [==============================] - 0s 25ms/step - loss: 0.0467 - val_loss: 0.2298\n",
      "Epoch 3/10\n",
      "3/3 [==============================] - 0s 28ms/step - loss: 0.0632 - val_loss: 0.2476\n",
      "Epoch 4/10\n",
      "3/3 [==============================] - 0s 31ms/step - loss: 0.0238 - val_loss: 0.1569\n",
      "Epoch 5/10\n",
      "3/3 [==============================] - 0s 27ms/step - loss: 0.0211 - val_loss: 0.2030\n",
      "Epoch 6/10\n",
      "3/3 [==============================] - 0s 60ms/step - loss: 0.0246 - val_loss: 0.2480\n",
      "Epoch 7/10\n",
      "3/3 [==============================] - 0s 53ms/step - loss: 0.0164 - val_loss: 0.2469\n",
      "Epoch 8/10\n",
      "3/3 [==============================] - 0s 30ms/step - loss: 0.0112 - val_loss: 0.2242\n",
      "Epoch 9/10\n",
      "3/3 [==============================] - 0s 29ms/step - loss: 0.0151 - val_loss: 0.2437\n",
      "Epoch 10/10\n",
      "3/3 [==============================] - 0s 28ms/step - loss: 0.0152 - val_loss: 0.2313\n",
      "3/3 [==============================] - 0s 5ms/step - loss: 0.0801\n",
      "Epoch 1/10\n",
      "3/3 [==============================] - 4s 402ms/step - loss: 0.2277 - val_loss: 0.0674\n",
      "Epoch 2/10\n",
      "3/3 [==============================] - 0s 27ms/step - loss: 0.0816 - val_loss: 0.1940\n",
      "Epoch 3/10\n",
      "3/3 [==============================] - 0s 27ms/step - loss: 0.0402 - val_loss: 0.4425\n",
      "Epoch 4/10\n",
      "3/3 [==============================] - 0s 29ms/step - loss: 0.0243 - val_loss: 0.4900\n",
      "Epoch 5/10\n",
      "3/3 [==============================] - 0s 28ms/step - loss: 0.0350 - val_loss: 0.5220\n",
      "Epoch 6/10\n",
      "3/3 [==============================] - 0s 26ms/step - loss: 0.0224 - val_loss: 0.5297\n",
      "Epoch 7/10\n",
      "3/3 [==============================] - 0s 27ms/step - loss: 0.0177 - val_loss: 0.4605\n",
      "Epoch 8/10\n",
      "3/3 [==============================] - 0s 35ms/step - loss: 0.0123 - val_loss: 0.3719\n",
      "Epoch 9/10\n",
      "3/3 [==============================] - 0s 40ms/step - loss: 0.0122 - val_loss: 0.3358\n",
      "Epoch 10/10\n",
      "3/3 [==============================] - 0s 40ms/step - loss: 0.0153 - val_loss: 0.3596\n",
      "3/3 [==============================] - 0s 8ms/step - loss: 0.1976\n",
      "Epoch 1/10\n",
      "3/3 [==============================] - 4s 383ms/step - loss: 0.2349 - val_loss: 0.1364\n",
      "Epoch 2/10\n",
      "3/3 [==============================] - 0s 28ms/step - loss: 0.2860 - val_loss: 0.1361\n",
      "Epoch 3/10\n",
      "3/3 [==============================] - 0s 28ms/step - loss: 0.2642 - val_loss: 0.1358\n",
      "Epoch 4/10\n",
      "3/3 [==============================] - 0s 33ms/step - loss: 0.2678 - val_loss: 0.1356\n",
      "Epoch 5/10\n",
      "3/3 [==============================] - 0s 32ms/step - loss: 0.2522 - val_loss: 0.1354\n",
      "Epoch 6/10\n",
      "3/3 [==============================] - 0s 30ms/step - loss: 0.2599 - val_loss: 0.1351\n",
      "Epoch 7/10\n",
      "3/3 [==============================] - 0s 31ms/step - loss: 0.2737 - val_loss: 0.1348\n",
      "Epoch 8/10\n",
      "3/3 [==============================] - 0s 30ms/step - loss: 0.2407 - val_loss: 0.1346\n",
      "Epoch 9/10\n",
      "3/3 [==============================] - 0s 28ms/step - loss: 0.2661 - val_loss: 0.1344\n",
      "Epoch 10/10\n",
      "3/3 [==============================] - 0s 31ms/step - loss: 0.2514 - val_loss: 0.1341\n",
      "3/3 [==============================] - 0s 7ms/step - loss: 0.2354\n",
      "Epoch 1/10\n",
      "3/3 [==============================] - 4s 373ms/step - loss: 0.1153 - val_loss: 0.1596\n",
      "Epoch 2/10\n",
      "3/3 [==============================] - 0s 26ms/step - loss: 0.0946 - val_loss: 0.1596\n",
      "Epoch 3/10\n",
      "3/3 [==============================] - 0s 29ms/step - loss: 0.1004 - val_loss: 0.1597\n",
      "Epoch 4/10\n",
      "3/3 [==============================] - 0s 25ms/step - loss: 0.1053 - val_loss: 0.1598\n",
      "Epoch 5/10\n",
      "3/3 [==============================] - 0s 26ms/step - loss: 0.1048 - val_loss: 0.1599\n",
      "Epoch 6/10\n",
      "3/3 [==============================] - 0s 34ms/step - loss: 0.1012 - val_loss: 0.1600\n",
      "Epoch 7/10\n",
      "3/3 [==============================] - 0s 58ms/step - loss: 0.0914 - val_loss: 0.1600\n",
      "Epoch 8/10\n",
      "3/3 [==============================] - 0s 29ms/step - loss: 0.1044 - val_loss: 0.1601\n",
      "Epoch 9/10\n",
      "3/3 [==============================] - 0s 29ms/step - loss: 0.0839 - val_loss: 0.1602\n",
      "Epoch 10/10\n",
      "3/3 [==============================] - 0s 37ms/step - loss: 0.1103 - val_loss: 0.1603\n",
      "3/3 [==============================] - 0s 5ms/step - loss: 0.2710\n",
      "Epoch 1/10\n",
      "8/8 [==============================] - 4s 121ms/step - loss: 0.1281 - val_loss: 0.4672\n",
      "Epoch 2/10\n",
      "8/8 [==============================] - 0s 16ms/step - loss: 0.0424 - val_loss: 0.1589\n",
      "Epoch 3/10\n",
      "8/8 [==============================] - 0s 16ms/step - loss: 0.0223 - val_loss: 0.2403\n",
      "Epoch 4/10\n",
      "8/8 [==============================] - 0s 14ms/step - loss: 0.0197 - val_loss: 0.1580\n",
      "Epoch 5/10\n",
      "8/8 [==============================] - 0s 17ms/step - loss: 0.0181 - val_loss: 0.2039\n",
      "Epoch 6/10\n",
      "8/8 [==============================] - 0s 14ms/step - loss: 0.0145 - val_loss: 0.2180\n",
      "Epoch 7/10\n",
      "8/8 [==============================] - 0s 15ms/step - loss: 0.0112 - val_loss: 0.1837\n",
      "Epoch 8/10\n",
      "8/8 [==============================] - 0s 16ms/step - loss: 0.0111 - val_loss: 0.1661\n",
      "Epoch 9/10\n",
      "8/8 [==============================] - 0s 16ms/step - loss: 0.0095 - val_loss: 0.1790\n",
      "Epoch 10/10\n",
      "8/8 [==============================] - 0s 16ms/step - loss: 0.0084 - val_loss: 0.1545\n",
      "1/1 [==============================] - 1s 687ms/step\n"
     ]
    },
    {
     "data": {
      "image/png": "[encoded data removed]",
      "text/plain": [
       "<Figure size 640x480 with 1 Axes>"
      ]
     },
     "metadata": {},
     "output_type": "display_data"
    },
    {
     "name": "stdout",
     "output_type": "stream",
     "text": [
      "0.0009065746025852889\n",
      "0.002515817746558737\n",
      "0.6396501281440805\n"
     ]
    }
   ],
   "source": [
    "# Then I use the same way to run LSTM to ppi data\n",
    "df_for_training1=ppi_data[:-31] \n",
    "df_for_testing1=ppi_data[-31:] \n",
    "print(df_for_training1.shape) \n",
    "print(df_for_testing1.shape) \n",
    "\n",
    "# scale ppi data\n",
    "df_for_training_scaled1 = scaler.fit_transform(df_for_training1) \n",
    "df_for_testing_scaled1=scaler.transform(df_for_testing1) \n",
    "\n",
    "# split the data into X and Y\n",
    "trainX1,trainY1=createXY(df_for_training_scaled1,12) \n",
    "testX1,testY1=createXY(df_for_testing_scaled1,12)\n",
    "\n",
    "# train model\n",
    "def build_model(optimizer):\n",
    "    grid_model = Sequential()\n",
    "    grid_model.add(LSTM(50,return_sequences=True,input_shape=(12,152)))\n",
    "    grid_model.add(LSTM(50))\n",
    "    grid_model.add(Dropout(0.2))\n",
    "    grid_model.add(Dense(1))\n",
    "\n",
    "    grid_model.compile(loss = 'mse',optimizer = optimizer)\n",
    "    return grid_model\n",
    "\n",
    "grid_model = KerasRegressor(build_fn=build_model,verbose=1,validation_data=(testX1,testY1))\n",
    "parameters = {'batch_size' : [16,20],\n",
    "              'epochs' : [8,10],\n",
    "              'optimizer' : ['adam','Adadelta'] }\n",
    "\n",
    "grid_search  = GridSearchCV(estimator = grid_model,\n",
    "                            param_grid = parameters,\n",
    "                            cv = 2)\n",
    "\n",
    "grid_search1 = grid_search.fit(trainX1,trainY1)\n",
    "grid_search1.best_params_\n",
    "\n",
    "my_model1=grid_search1.best_estimator_.model\n",
    "\n",
    "# predict\n",
    "prediction1=my_model1.predict(testX1)\n",
    "\n",
    "# inverse the prediction to before scaling\n",
    "prediction_copies_array1 = np.repeat(prediction1,152, axis=-1)\n",
    "pred1=scaler.inverse_transform(np.reshape(prediction_copies_array1,(len(prediction1),152)))[:,0]\n",
    "\n",
    "# inverse the y to before scaling\n",
    "original_copies_array1 = np.repeat(testY1,152, axis=-1)\n",
    "\n",
    "original_copies_array1.shape\n",
    "\n",
    "original1=scaler.inverse_transform(np.reshape(original_copies_array1,(len(testY1),152)))[:,0]\n",
    "\n",
    "# plot the graph to see the difference\n",
    "plt.plot(original1, color = 'red', label = 'Real  Inflation')\n",
    "plt.plot(pred1, color = 'blue', label = 'Predicted  Inflation')\n",
    "plt.title(' Inflation Prediction using ppi')\n",
    "plt.xlabel('Time')\n",
    "plt.ylabel(' Inflation')\n",
    "plt.legend()\n",
    "plt.show()\n",
    "\n",
    "# calculate the oos-r2\n",
    "import statistics\n",
    "rss1 = (statistics.variance(original1 - pred1))\n",
    "tss1 = (statistics.variance(original1))\n",
    "oos_r21 = 1 - rss1/tss1\n",
    "print(rss1)\n",
    "print(tss1)\n",
    "print(oos_r21)"
   ]
  },
  {
   "attachments": {},
   "cell_type": "markdown",
   "metadata": {},
   "source": [
    "# The later part is another way to do LSTM"
   ]
  },
  {
   "cell_type": "code",
   "execution_count": 32,
   "metadata": {},
   "outputs": [],
   "source": [
    "from sklearn.preprocessing import StandardScaler"
   ]
  },
  {
   "cell_type": "code",
   "execution_count": 33,
   "metadata": {},
   "outputs": [],
   "source": [
    "# scale cpi data\n",
    "scaler = StandardScaler()\n",
    "cpi_scaler = scaler.fit(cpi_data)\n",
    "cpi_scaled = cpi_scaler.transform(cpi_data)"
   ]
  },
  {
   "cell_type": "code",
   "execution_count": 35,
   "metadata": {},
   "outputs": [],
   "source": [
    "# scale ppi data\n",
    "scaler = StandardScaler()\n",
    "ppi_scaler = scaler.fit(ppi_data)\n",
    "ppi_scaled = ppi_scaler.transform(ppi_data)"
   ]
  },
  {
   "cell_type": "code",
   "execution_count": 36,
   "metadata": {},
   "outputs": [],
   "source": [
    "#Empty lists to be populated using formatted training data\n",
    "trainX = []\n",
    "trainY = []\n",
    "\n",
    "n_future = 1   # Number of months we want to look into the future based on the past days.\n",
    "n_past = 12  # Number of past months we want to use to predict the future."
   ]
  },
  {
   "cell_type": "code",
   "execution_count": 37,
   "metadata": {},
   "outputs": [
    {
     "name": "stdout",
     "output_type": "stream",
     "text": [
      "(156, 152)\n",
      "(156, 152)\n"
     ]
    },
    {
     "data": {
      "text/plain": [
       "156"
      ]
     },
     "execution_count": 37,
     "metadata": {},
     "output_type": "execute_result"
    }
   ],
   "source": [
    "print(cpi_scaled.shape)\n",
    "print(ppi_scaled.shape)\n",
    "len(cpi_scaled)\n",
    "len(ppi_scaled)"
   ]
  },
  {
   "cell_type": "code",
   "execution_count": 38,
   "metadata": {},
   "outputs": [],
   "source": [
    "#Reformat input data into a shape: (n_samples x timesteps x n_features)\n",
    "#In my case, my cpi_scaled has a shape (156, 153)\n",
    "#156 refers to the number of data points and 153 refers to the columns (multi-variables).\n",
    "for i in range(n_past, len(cpi_scaled) - n_future +1):\n",
    "    trainX.append(cpi_scaled[i - n_past:i, 0:cpi_scaled.shape[1]])\n",
    "    trainY.append(cpi_scaled[i + n_future - 1:i + n_future, 0])"
   ]
  },
  {
   "cell_type": "code",
   "execution_count": 39,
   "metadata": {},
   "outputs": [],
   "source": [
    "trainX, trainY = np.array(trainX), np.array(trainY)"
   ]
  },
  {
   "cell_type": "code",
   "execution_count": 40,
   "metadata": {},
   "outputs": [
    {
     "name": "stdout",
     "output_type": "stream",
     "text": [
      "trainX shape == (144, 12, 152).\n",
      "trainY shape == (144, 1).\n"
     ]
    }
   ],
   "source": [
    "print('trainX shape == {}.'.format(trainX.shape))\n",
    "print('trainY shape == {}.'.format(trainY.shape))"
   ]
  },
  {
   "cell_type": "code",
   "execution_count": 41,
   "metadata": {},
   "outputs": [
    {
     "name": "stdout",
     "output_type": "stream",
     "text": [
      "Model: \"sequential_34\"\n",
      "_________________________________________________________________\n",
      " Layer (type)                Output Shape              Param #   \n",
      "=================================================================\n",
      " lstm_68 (LSTM)              (None, 12, 10)            6520      \n",
      "                                                                 \n",
      " lstm_69 (LSTM)              (None, 5)                 320       \n",
      "                                                                 \n",
      " dropout_34 (Dropout)        (None, 5)                 0         \n",
      "                                                                 \n",
      " dense_34 (Dense)            (None, 1)                 6         \n",
      "                                                                 \n",
      "=================================================================\n",
      "Total params: 6,846\n",
      "Trainable params: 6,846\n",
      "Non-trainable params: 0\n",
      "_________________________________________________________________\n"
     ]
    }
   ],
   "source": [
    "# define the Autoencoder model\n",
    "\n",
    "model = Sequential()\n",
    "model.add(LSTM(10, activation='relu', input_shape=(trainX.shape[1], trainX.shape[2]), return_sequences=True))\n",
    "model.add(LSTM(5, activation='relu', return_sequences=False))\n",
    "model.add(Dropout(0.2))\n",
    "model.add(Dense(trainY.shape[1]))\n",
    "\n",
    "model.compile(optimizer='adam', loss='mse')\n",
    "model.summary()"
   ]
  },
  {
   "cell_type": "code",
   "execution_count": 42,
   "metadata": {},
   "outputs": [
    {
     "name": "stdout",
     "output_type": "stream",
     "text": [
      "Epoch 1/5\n",
      "11/11 [==============================] - 5s 56ms/step - loss: 0.8795 - val_loss: 0.1029\n",
      "Epoch 2/5\n",
      "11/11 [==============================] - 0s 9ms/step - loss: 0.6885 - val_loss: 0.1813\n",
      "Epoch 3/5\n",
      "11/11 [==============================] - 0s 10ms/step - loss: 0.4849 - val_loss: 0.2539\n",
      "Epoch 4/5\n",
      "11/11 [==============================] - 0s 10ms/step - loss: 0.3904 - val_loss: 0.2092\n",
      "Epoch 5/5\n",
      "11/11 [==============================] - 0s 10ms/step - loss: 0.3073 - val_loss: 0.1886\n"
     ]
    },
    {
     "data": {
      "text/plain": [
       "<matplotlib.legend.Legend at 0x19050c0cb50>"
      ]
     },
     "execution_count": 42,
     "metadata": {},
     "output_type": "execute_result"
    },
    {
     "data": {
      "image/png": "[encoded data removed]",
      "text/plain": [
       "<Figure size 640x480 with 1 Axes>"
      ]
     },
     "metadata": {},
     "output_type": "display_data"
    }
   ],
   "source": [
    "# fit the model\n",
    "history = model.fit(trainX, trainY, epochs=5, batch_size=12, validation_split=0.1, verbose=1)\n",
    "\n",
    "plt.plot(history.history['loss'], label='Training loss')\n",
    "plt.plot(history.history['val_loss'], label='Validation loss')\n",
    "plt.legend()"
   ]
  },
  {
   "cell_type": "code",
   "execution_count": 43,
   "metadata": {},
   "outputs": [],
   "source": [
    "n_months_for_prediction = 12"
   ]
  },
  {
   "cell_type": "code",
   "execution_count": 44,
   "metadata": {},
   "outputs": [
    {
     "name": "stdout",
     "output_type": "stream",
     "text": [
      "1/1 [==============================] - 0s 317ms/step\n"
     ]
    }
   ],
   "source": [
    "prediction = model.predict(trainX[-n_months_for_prediction:])"
   ]
  },
  {
   "cell_type": "code",
   "execution_count": 45,
   "metadata": {},
   "outputs": [
    {
     "name": "stdout",
     "output_type": "stream",
     "text": [
      "[[-0.3266407 ]\n",
      " [-0.26702008]\n",
      " [-0.29889   ]\n",
      " [-0.29672986]\n",
      " [-0.29363555]\n",
      " [-0.26083046]\n",
      " [-0.24526426]\n",
      " [-0.2809921 ]\n",
      " [-0.2960845 ]\n",
      " [-0.30251193]\n",
      " [-0.2959523 ]\n",
      " [-0.26184583]]\n"
     ]
    }
   ],
   "source": [
    "print(prediction)"
   ]
  },
  {
   "cell_type": "code",
   "execution_count": 46,
   "metadata": {},
   "outputs": [],
   "source": [
    "#Perform inverse transformation to rescale back to original range\n",
    "#Since we used 153 variables for transform, the inverse expects same dimensions\n",
    "#Therefore, let us copy our values 153 times and discard them after inverse transform\n",
    "prediction_copies = np.repeat(prediction, cpi_scaled.shape[1], axis=-1)\n",
    "y_pred_future = scaler.inverse_transform(prediction_copies)[:,0]"
   ]
  },
  {
   "cell_type": "code",
   "execution_count": 47,
   "metadata": {},
   "outputs": [
    {
     "name": "stdout",
     "output_type": "stream",
     "text": [
      "[-0.02273908 -0.01910579 -0.02104795 -0.02091631 -0.02072774 -0.01872859\n",
      " -0.01777999 -0.01995725 -0.02087698 -0.02126867 -0.02086893 -0.01879047]\n"
     ]
    }
   ],
   "source": [
    "print(y_pred_future)"
   ]
  },
  {
   "cell_type": "code",
   "execution_count": 48,
   "metadata": {},
   "outputs": [
    {
     "name": "stdout",
     "output_type": "stream",
     "text": [
      "144    0.009777\n",
      "145    0.008345\n",
      "146    0.009034\n",
      "147    0.008046\n",
      "148    0.007970\n",
      "149    0.004821\n",
      "150    0.001180\n",
      "151   -0.006099\n",
      "152    0.003145\n",
      "153    0.008163\n",
      "154    0.007461\n",
      "155    0.004320\n",
      "Name: lncpi, dtype: float64\n"
     ]
    }
   ],
   "source": [
    "lncpi = cpi_data.iloc[:,0]\n",
    "true_values = lncpi[-12:]\n",
    "print(true_values)"
   ]
  },
  {
   "cell_type": "code",
   "execution_count": 49,
   "metadata": {},
   "outputs": [
    {
     "name": "stdout",
     "output_type": "stream",
     "text": [
      "2.8088888101266596e-05\n",
      "2.0272771408086218e-05\n",
      "-0.38554751769473206\n"
     ]
    }
   ],
   "source": [
    "# calculate the oos-r2\n",
    "rss_new = (statistics.variance(true_values - y_pred_future))\n",
    "tss_new = (statistics.variance(true_values))\n",
    "oos_r2_new = 1 - rss_new/tss_new\n",
    "print(rss_new)\n",
    "print(tss_new)\n",
    "print(oos_r2_new)"
   ]
  },
  {
   "attachments": {},
   "cell_type": "markdown",
   "metadata": {},
   "source": [
    "## Then I change the data to be ppi"
   ]
  },
  {
   "cell_type": "code",
   "execution_count": 50,
   "metadata": {},
   "outputs": [
    {
     "name": "stdout",
     "output_type": "stream",
     "text": [
      "Model: \"sequential_35\"\n",
      "_________________________________________________________________\n",
      " Layer (type)                Output Shape              Param #   \n",
      "=================================================================\n",
      " lstm_70 (LSTM)              (None, 12, 10)            6520      \n",
      "                                                                 \n",
      " lstm_71 (LSTM)              (None, 5)                 320       \n",
      "                                                                 \n",
      " dropout_35 (Dropout)        (None, 5)                 0         \n",
      "                                                                 \n",
      " dense_35 (Dense)            (None, 1)                 6         \n",
      "                                                                 \n",
      "=================================================================\n",
      "Total params: 6,846\n",
      "Trainable params: 6,846\n",
      "Non-trainable params: 0\n",
      "_________________________________________________________________\n",
      "Epoch 1/5\n",
      "11/11 [==============================] - 3s 64ms/step - loss: 0.9234 - val_loss: 1.1897\n",
      "Epoch 2/5\n",
      "11/11 [==============================] - 0s 9ms/step - loss: 0.5381 - val_loss: 0.9691\n",
      "Epoch 3/5\n",
      "11/11 [==============================] - 0s 10ms/step - loss: 0.4918 - val_loss: 0.9404\n",
      "Epoch 4/5\n",
      "11/11 [==============================] - 0s 9ms/step - loss: 0.4124 - val_loss: 0.9276\n",
      "Epoch 5/5\n",
      "11/11 [==============================] - 0s 11ms/step - loss: 0.3512 - val_loss: 0.9322\n",
      "1/1 [==============================] - 0s 348ms/step\n",
      "0.001099953047284524\n",
      "0.0015630449375539546\n",
      "0.296275480725547\n"
     ]
    },
    {
     "data": {
      "image/png": "[encoded data removed]",
      "text/plain": [
       "<Figure size 640x480 with 1 Axes>"
      ]
     },
     "metadata": {},
     "output_type": "display_data"
    }
   ],
   "source": [
    "#Reformat input data into a shape: (n_samples x timesteps x n_features)\n",
    "trainX1 = []\n",
    "trainY1 = []\n",
    "for i in range(n_past, len(ppi_scaled) - n_future +1):\n",
    "    trainX1.append(ppi_scaled[i - n_past:i, 0:ppi_scaled.shape[1]])\n",
    "    trainY1.append(ppi_scaled[i + n_future - 1:i + n_future, 0])\n",
    "\n",
    "trainX1, trainY1 = np.array(trainX1), np.array(trainY1)\n",
    "\n",
    "# define the Autoencoder model\n",
    "model1 = Sequential()\n",
    "model1.add(LSTM(10, activation='relu', input_shape=(trainX1.shape[1], trainX1.shape[2]), return_sequences=True))\n",
    "model1.add(LSTM(5, activation='relu', return_sequences=False))\n",
    "model1.add(Dropout(0.2))\n",
    "model1.add(Dense(trainY1.shape[1]))\n",
    "\n",
    "model1.compile(optimizer='adam', loss='mse')\n",
    "model1.summary()\n",
    "\n",
    "# fit the model\n",
    "history1 = model1.fit(trainX1, trainY1, epochs=5, batch_size=12, validation_split=0.1, verbose=1)\n",
    "\n",
    "plt.plot(history.history['loss'], label='Training loss')\n",
    "plt.plot(history.history['val_loss'], label='Validation loss')\n",
    "plt.legend()\n",
    "\n",
    "# predict\n",
    "prediction1 = model1.predict(trainX1[-n_months_for_prediction:])\n",
    "\n",
    "# inverse the scaled predicted values\n",
    "prediction_copies1 = np.repeat(prediction1, ppi_scaled.shape[1], axis=-1)\n",
    "y_pred_future1 = scaler.inverse_transform(prediction_copies1)[:,0]\n",
    "\n",
    "# get the true values\n",
    "lnppi = ppi_data.iloc[:,0]\n",
    "true_values1 = lnppi[-12:]\n",
    "\n",
    "## calculate the oos-r2\n",
    "rss_new1 = (statistics.variance(true_values1 - y_pred_future1))\n",
    "tss_new1 = (statistics.variance(true_values1))\n",
    "oos_r2_new1 = 1 - rss_new1/tss_new1\n",
    "print(rss_new1)\n",
    "print(tss_new1)\n",
    "print(oos_r2_new1)"
   ]
  }
 ],
 "metadata": {
  "kernelspec": {
   "display_name": "Python 3",
   "language": "python",
   "name": "python3"
  },
  "language_info": {
   "codemirror_mode": {
    "name": "ipython",
    "version": 3
   },
   "file_extension": ".py",
   "mimetype": "text/x-python",
   "name": "python",
   "nbconvert_exporter": "python",
   "pygments_lexer": "ipython3",
   "version": "3.11.2"
  },
  "orig_nbformat": 4
 },
 "nbformat": 4,
 "nbformat_minor": 2
}
