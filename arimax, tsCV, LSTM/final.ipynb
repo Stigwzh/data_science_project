{
 "cells": [
  {
   "cell_type": "code",
   "execution_count": 4,
   "id": "848c0f7e-cfe2-463f-8c59-73c00a406ce9",
   "metadata": {
    "vscode": {
     "languageId": "r"
    }
   },
   "outputs": [],
   "source": [
    "load(url(\"https://github.com/zhentaoshi/Econ5821/raw/main/data_example/dataset_inf.Rdata\"))"
   ]
  },
  {
   "cell_type": "code",
   "execution_count": 5,
   "id": "22ac1ff0-317d-44fa-8219-59947eb914f6",
   "metadata": {
    "vscode": {
     "languageId": "r"
    }
   },
   "outputs": [
    {
     "data": {
      "text/html": [
       "<table class=\"dataframe\">\n",
       "<caption>A tibble: 6 × 2</caption>\n",
       "<thead>\n",
       "\t<tr><th></th><th scope=col>month</th><th scope=col>CPI</th></tr>\n",
       "\t<tr><th></th><th scope=col>&lt;int&gt;</th><th scope=col>&lt;dbl&gt;</th></tr>\n",
       "</thead>\n",
       "<tbody>\n",
       "\t<tr><th scope=row>1</th><td>1</td><td>100.4</td></tr>\n",
       "\t<tr><th scope=row>2</th><td>2</td><td>100.2</td></tr>\n",
       "\t<tr><th scope=row>3</th><td>3</td><td>100.9</td></tr>\n",
       "\t<tr><th scope=row>4</th><td>4</td><td>101.0</td></tr>\n",
       "\t<tr><th scope=row>5</th><td>5</td><td>100.7</td></tr>\n",
       "\t<tr><th scope=row>6</th><td>6</td><td>100.3</td></tr>\n",
       "</tbody>\n",
       "</table>\n"
      ],
      "text/latex": [
       "A tibble: 6 × 2\n",
       "\\begin{tabular}{r|ll}\n",
       "  & month & CPI\\\\\n",
       "  & <int> & <dbl>\\\\\n",
       "\\hline\n",
       "\t1 & 1 & 100.4\\\\\n",
       "\t2 & 2 & 100.2\\\\\n",
       "\t3 & 3 & 100.9\\\\\n",
       "\t4 & 4 & 101.0\\\\\n",
       "\t5 & 5 & 100.7\\\\\n",
       "\t6 & 6 & 100.3\\\\\n",
       "\\end{tabular}\n"
      ],
      "text/markdown": [
       "\n",
       "A tibble: 6 × 2\n",
       "\n",
       "| <!--/--> | month &lt;int&gt; | CPI &lt;dbl&gt; |\n",
       "|---|---|---|\n",
       "| 1 | 1 | 100.4 |\n",
       "| 2 | 2 | 100.2 |\n",
       "| 3 | 3 | 100.9 |\n",
       "| 4 | 4 | 101.0 |\n",
       "| 5 | 5 | 100.7 |\n",
       "| 6 | 6 | 100.3 |\n",
       "\n"
      ],
      "text/plain": [
       "  month CPI  \n",
       "1 1     100.4\n",
       "2 2     100.2\n",
       "3 3     100.9\n",
       "4 4     101.0\n",
       "5 5     100.7\n",
       "6 6     100.3"
      ]
     },
     "metadata": {},
     "output_type": "display_data"
    },
    {
     "data": {
      "text/html": [
       "<table class=\"dataframe\">\n",
       "<caption>A tibble: 6 × 2</caption>\n",
       "<thead>\n",
       "\t<tr><th></th><th scope=col>month</th><th scope=col>PPI</th></tr>\n",
       "\t<tr><th></th><th scope=col>&lt;int&gt;</th><th scope=col>&lt;dbl&gt;</th></tr>\n",
       "</thead>\n",
       "<tbody>\n",
       "\t<tr><th scope=row>1</th><td>1</td><td>102.4</td></tr>\n",
       "\t<tr><th scope=row>2</th><td>2</td><td>104.0</td></tr>\n",
       "\t<tr><th scope=row>3</th><td>3</td><td>104.6</td></tr>\n",
       "\t<tr><th scope=row>4</th><td>4</td><td>103.6</td></tr>\n",
       "\t<tr><th scope=row>5</th><td>5</td><td>102.0</td></tr>\n",
       "\t<tr><th scope=row>6</th><td>6</td><td>101.3</td></tr>\n",
       "</tbody>\n",
       "</table>\n"
      ],
      "text/latex": [
       "A tibble: 6 × 2\n",
       "\\begin{tabular}{r|ll}\n",
       "  & month & PPI\\\\\n",
       "  & <int> & <dbl>\\\\\n",
       "\\hline\n",
       "\t1 & 1 & 102.4\\\\\n",
       "\t2 & 2 & 104.0\\\\\n",
       "\t3 & 3 & 104.6\\\\\n",
       "\t4 & 4 & 103.6\\\\\n",
       "\t5 & 5 & 102.0\\\\\n",
       "\t6 & 6 & 101.3\\\\\n",
       "\\end{tabular}\n"
      ],
      "text/markdown": [
       "\n",
       "A tibble: 6 × 2\n",
       "\n",
       "| <!--/--> | month &lt;int&gt; | PPI &lt;dbl&gt; |\n",
       "|---|---|---|\n",
       "| 1 | 1 | 102.4 |\n",
       "| 2 | 2 | 104.0 |\n",
       "| 3 | 3 | 104.6 |\n",
       "| 4 | 4 | 103.6 |\n",
       "| 5 | 5 | 102.0 |\n",
       "| 6 | 6 | 101.3 |\n",
       "\n"
      ],
      "text/plain": [
       "  month PPI  \n",
       "1 1     102.4\n",
       "2 2     104.0\n",
       "3 3     104.6\n",
       "4 4     103.6\n",
       "5 5     102.0\n",
       "6 6     101.3"
      ]
     },
     "metadata": {},
     "output_type": "display_data"
    },
    {
     "data": {
      "text/html": [
       "<table class=\"dataframe\">\n",
       "<caption>A tibble: 6 × 152</caption>\n",
       "<thead>\n",
       "\t<tr><th></th><th scope=col>month</th><th scope=col>规模以上工业增加值_当期同比实际增速</th><th scope=col>发电量_当期同比增速</th><th scope=col>原煤产量_当期同比增速</th><th scope=col>焦炭产量_当期同比增速</th><th scope=col>粗钢产量_当期同比增速</th><th scope=col>钢材产量_当期同比增速</th><th scope=col>原油产量_当期同比增速</th><th scope=col>乙烯产量_当期同比增速</th><th scope=col>十种有色金属产量_当期同比增速</th><th scope=col>⋯</th><th scope=col>美国联邦基金利率日_一阶差分</th><th scope=col>美国标准普尔500指数收盘价收益率</th><th scope=col>美国纳斯达克综合指数收盘价收益率</th><th scope=col>美国道琼斯工业平均指数收盘价收益率</th><th scope=col>CRB现货指数食品收益率</th><th scope=col>CRB现货指数家畜收益率</th><th scope=col>CRB现货指数金属收益率</th><th scope=col>CRB现货指数工业原料收益率</th><th scope=col>CRB现货指数纺织品收益率</th><th scope=col>波罗的海干散货指数BDI收益率</th></tr>\n",
       "\t<tr><th></th><th scope=col>&lt;int&gt;</th><th scope=col>&lt;dbl&gt;</th><th scope=col>&lt;dbl&gt;</th><th scope=col>&lt;dbl&gt;</th><th scope=col>&lt;dbl&gt;</th><th scope=col>&lt;dbl&gt;</th><th scope=col>&lt;dbl&gt;</th><th scope=col>&lt;dbl&gt;</th><th scope=col>&lt;dbl&gt;</th><th scope=col>&lt;dbl&gt;</th><th scope=col>⋯</th><th scope=col>&lt;dbl&gt;</th><th scope=col>&lt;dbl&gt;</th><th scope=col>&lt;dbl&gt;</th><th scope=col>&lt;dbl&gt;</th><th scope=col>&lt;dbl&gt;</th><th scope=col>&lt;dbl&gt;</th><th scope=col>&lt;dbl&gt;</th><th scope=col>&lt;dbl&gt;</th><th scope=col>&lt;dbl&gt;</th><th scope=col>&lt;dbl&gt;</th></tr>\n",
       "</thead>\n",
       "<tbody>\n",
       "\t<tr><th scope=row>1</th><td>1</td><td>14.8</td><td>10.74</td><td>10.81</td><td>16.7</td><td>14.82</td><td>15.9</td><td>0.7</td><td>25.9</td><td>12.7</td><td>⋯</td><td>-0.003226</td><td>-0.0277977</td><td>-0.0109925</td><td>-0.0351133</td><td> 0.0028992</td><td> 0.0118136</td><td> 0.0574026</td><td> 0.0263438</td><td> 0.0150719</td><td> 0.0142221</td></tr>\n",
       "\t<tr><th scope=row>2</th><td>2</td><td>19.8</td><td>23.00</td><td>16.11</td><td>22.6</td><td>19.02</td><td>19.8</td><td>1.3</td><td>16.9</td><td>17.9</td><td>⋯</td><td> 0.026982</td><td>-0.0171499</td><td> 0.0124965</td><td>-0.0204124</td><td>-0.0088811</td><td>-0.0248032</td><td> 0.0343256</td><td> 0.0146117</td><td> 0.0174842</td><td>-0.0119758</td></tr>\n",
       "\t<tr><th scope=row>3</th><td>3</td><td>16.9</td><td>16.22</td><td>16.86</td><td>12.4</td><td>18.53</td><td>14.9</td><td>1.8</td><td>13.1</td><td>17.0</td><td>⋯</td><td>-0.009240</td><td> 0.0083232</td><td> 0.0027251</td><td> 0.0127249</td><td>-0.0102262</td><td> 0.0053267</td><td> 0.0123873</td><td> 0.0091839</td><td>-0.0011554</td><td> 0.1000204</td></tr>\n",
       "\t<tr><th scope=row>4</th><td>4</td><td>14.9</td><td>14.14</td><td>14.88</td><td>23.2</td><td>21.78</td><td>16.4</td><td>3.0</td><td> 9.7</td><td>14.9</td><td>⋯</td><td> 0.005097</td><td> 0.0779271</td><td> 0.0878415</td><td> 0.0592632</td><td> 0.0019979</td><td> 0.0020113</td><td>-0.0195947</td><td>-0.0088382</td><td>-0.0019512</td><td> 0.1093707</td></tr>\n",
       "\t<tr><th scope=row>5</th><td>5</td><td>13.7</td><td>13.38</td><td>18.68</td><td>19.5</td><td>20.93</td><td>15.6</td><td>2.4</td><td>18.9</td><td>17.2</td><td>⋯</td><td> 0.001032</td><td> 0.0496459</td><td> 0.0860600</td><td> 0.0427265</td><td> 0.0191188</td><td> 0.0282302</td><td> 0.0140162</td><td>-0.0038967</td><td>-0.0125256</td><td> 0.0764198</td></tr>\n",
       "\t<tr><th scope=row>6</th><td>6</td><td>16.9</td><td>13.05</td><td>21.39</td><td>24.2</td><td>23.45</td><td>19.8</td><td>2.7</td><td>10.5</td><td>23.7</td><td>⋯</td><td>-0.036365</td><td> 0.0112586</td><td> 0.0167089</td><td> 0.0151587</td><td> 0.0022631</td><td> 0.0406113</td><td> 0.0106449</td><td> 0.0108113</td><td> 0.0153494</td><td>-0.0419574</td></tr>\n",
       "</tbody>\n",
       "</table>\n"
      ],
      "text/latex": [
       "A tibble: 6 × 152\n",
       "\\begin{tabular}{r|lllllllllllllllllllll}\n",
       "  & month & 规模以上工业增加值\\_当期同比实际增速 & 发电量\\_当期同比增速 & 原煤产量\\_当期同比增速 & 焦炭产量\\_当期同比增速 & 粗钢产量\\_当期同比增速 & 钢材产量\\_当期同比增速 & 原油产量\\_当期同比增速 & 乙烯产量\\_当期同比增速 & 十种有色金属产量\\_当期同比增速 & ⋯ & 美国联邦基金利率日\\_一阶差分 & 美国标准普尔500指数收盘价收益率 & 美国纳斯达克综合指数收盘价收益率 & 美国道琼斯工业平均指数收盘价收益率 & CRB现货指数食品收益率 & CRB现货指数家畜收益率 & CRB现货指数金属收益率 & CRB现货指数工业原料收益率 & CRB现货指数纺织品收益率 & 波罗的海干散货指数BDI收益率\\\\\n",
       "  & <int> & <dbl> & <dbl> & <dbl> & <dbl> & <dbl> & <dbl> & <dbl> & <dbl> & <dbl> & ⋯ & <dbl> & <dbl> & <dbl> & <dbl> & <dbl> & <dbl> & <dbl> & <dbl> & <dbl> & <dbl>\\\\\n",
       "\\hline\n",
       "\t1 & 1 & 14.8 & 10.74 & 10.81 & 16.7 & 14.82 & 15.9 & 0.7 & 25.9 & 12.7 & ⋯ & -0.003226 & -0.0277977 & -0.0109925 & -0.0351133 &  0.0028992 &  0.0118136 &  0.0574026 &  0.0263438 &  0.0150719 &  0.0142221\\\\\n",
       "\t2 & 2 & 19.8 & 23.00 & 16.11 & 22.6 & 19.02 & 19.8 & 1.3 & 16.9 & 17.9 & ⋯ &  0.026982 & -0.0171499 &  0.0124965 & -0.0204124 & -0.0088811 & -0.0248032 &  0.0343256 &  0.0146117 &  0.0174842 & -0.0119758\\\\\n",
       "\t3 & 3 & 16.9 & 16.22 & 16.86 & 12.4 & 18.53 & 14.9 & 1.8 & 13.1 & 17.0 & ⋯ & -0.009240 &  0.0083232 &  0.0027251 &  0.0127249 & -0.0102262 &  0.0053267 &  0.0123873 &  0.0091839 & -0.0011554 &  0.1000204\\\\\n",
       "\t4 & 4 & 14.9 & 14.14 & 14.88 & 23.2 & 21.78 & 16.4 & 3.0 &  9.7 & 14.9 & ⋯ &  0.005097 &  0.0779271 &  0.0878415 &  0.0592632 &  0.0019979 &  0.0020113 & -0.0195947 & -0.0088382 & -0.0019512 &  0.1093707\\\\\n",
       "\t5 & 5 & 13.7 & 13.38 & 18.68 & 19.5 & 20.93 & 15.6 & 2.4 & 18.9 & 17.2 & ⋯ &  0.001032 &  0.0496459 &  0.0860600 &  0.0427265 &  0.0191188 &  0.0282302 &  0.0140162 & -0.0038967 & -0.0125256 &  0.0764198\\\\\n",
       "\t6 & 6 & 16.9 & 13.05 & 21.39 & 24.2 & 23.45 & 19.8 & 2.7 & 10.5 & 23.7 & ⋯ & -0.036365 &  0.0112586 &  0.0167089 &  0.0151587 &  0.0022631 &  0.0406113 &  0.0106449 &  0.0108113 &  0.0153494 & -0.0419574\\\\\n",
       "\\end{tabular}\n"
      ],
      "text/markdown": [
       "\n",
       "A tibble: 6 × 152\n",
       "\n",
       "| <!--/--> | month &lt;int&gt; | 规模以上工业增加值_当期同比实际增速 &lt;dbl&gt; | 发电量_当期同比增速 &lt;dbl&gt; | 原煤产量_当期同比增速 &lt;dbl&gt; | 焦炭产量_当期同比增速 &lt;dbl&gt; | 粗钢产量_当期同比增速 &lt;dbl&gt; | 钢材产量_当期同比增速 &lt;dbl&gt; | 原油产量_当期同比增速 &lt;dbl&gt; | 乙烯产量_当期同比增速 &lt;dbl&gt; | 十种有色金属产量_当期同比增速 &lt;dbl&gt; | ⋯ ⋯ | 美国联邦基金利率日_一阶差分 &lt;dbl&gt; | 美国标准普尔500指数收盘价收益率 &lt;dbl&gt; | 美国纳斯达克综合指数收盘价收益率 &lt;dbl&gt; | 美国道琼斯工业平均指数收盘价收益率 &lt;dbl&gt; | CRB现货指数食品收益率 &lt;dbl&gt; | CRB现货指数家畜收益率 &lt;dbl&gt; | CRB现货指数金属收益率 &lt;dbl&gt; | CRB现货指数工业原料收益率 &lt;dbl&gt; | CRB现货指数纺织品收益率 &lt;dbl&gt; | 波罗的海干散货指数BDI收益率 &lt;dbl&gt; |\n",
       "|---|---|---|---|---|---|---|---|---|---|---|---|---|---|---|---|---|---|---|---|---|---|\n",
       "| 1 | 1 | 14.8 | 10.74 | 10.81 | 16.7 | 14.82 | 15.9 | 0.7 | 25.9 | 12.7 | ⋯ | -0.003226 | -0.0277977 | -0.0109925 | -0.0351133 |  0.0028992 |  0.0118136 |  0.0574026 |  0.0263438 |  0.0150719 |  0.0142221 |\n",
       "| 2 | 2 | 19.8 | 23.00 | 16.11 | 22.6 | 19.02 | 19.8 | 1.3 | 16.9 | 17.9 | ⋯ |  0.026982 | -0.0171499 |  0.0124965 | -0.0204124 | -0.0088811 | -0.0248032 |  0.0343256 |  0.0146117 |  0.0174842 | -0.0119758 |\n",
       "| 3 | 3 | 16.9 | 16.22 | 16.86 | 12.4 | 18.53 | 14.9 | 1.8 | 13.1 | 17.0 | ⋯ | -0.009240 |  0.0083232 |  0.0027251 |  0.0127249 | -0.0102262 |  0.0053267 |  0.0123873 |  0.0091839 | -0.0011554 |  0.1000204 |\n",
       "| 4 | 4 | 14.9 | 14.14 | 14.88 | 23.2 | 21.78 | 16.4 | 3.0 |  9.7 | 14.9 | ⋯ |  0.005097 |  0.0779271 |  0.0878415 |  0.0592632 |  0.0019979 |  0.0020113 | -0.0195947 | -0.0088382 | -0.0019512 |  0.1093707 |\n",
       "| 5 | 5 | 13.7 | 13.38 | 18.68 | 19.5 | 20.93 | 15.6 | 2.4 | 18.9 | 17.2 | ⋯ |  0.001032 |  0.0496459 |  0.0860600 |  0.0427265 |  0.0191188 |  0.0282302 |  0.0140162 | -0.0038967 | -0.0125256 |  0.0764198 |\n",
       "| 6 | 6 | 16.9 | 13.05 | 21.39 | 24.2 | 23.45 | 19.8 | 2.7 | 10.5 | 23.7 | ⋯ | -0.036365 |  0.0112586 |  0.0167089 |  0.0151587 |  0.0022631 |  0.0406113 |  0.0106449 |  0.0108113 |  0.0153494 | -0.0419574 |\n",
       "\n"
      ],
      "text/plain": [
       "  month 规模以上工业增加值_当期同比实际增速 发电量_当期同比增速\n",
       "1 1     14.8                                10.74              \n",
       "2 2     19.8                                23.00              \n",
       "3 3     16.9                                16.22              \n",
       "4 4     14.9                                14.14              \n",
       "5 5     13.7                                13.38              \n",
       "6 6     16.9                                13.05              \n",
       "  原煤产量_当期同比增速 焦炭产量_当期同比增速 粗钢产量_当期同比增速\n",
       "1 10.81                 16.7                  14.82                \n",
       "2 16.11                 22.6                  19.02                \n",
       "3 16.86                 12.4                  18.53                \n",
       "4 14.88                 23.2                  21.78                \n",
       "5 18.68                 19.5                  20.93                \n",
       "6 21.39                 24.2                  23.45                \n",
       "  钢材产量_当期同比增速 原油产量_当期同比增速 乙烯产量_当期同比增速\n",
       "1 15.9                  0.7                   25.9                 \n",
       "2 19.8                  1.3                   16.9                 \n",
       "3 14.9                  1.8                   13.1                 \n",
       "4 16.4                  3.0                    9.7                 \n",
       "5 15.6                  2.4                   18.9                 \n",
       "6 19.8                  2.7                   10.5                 \n",
       "  十种有色金属产量_当期同比增速 ⋯ 美国联邦基金利率日_一阶差分\n",
       "1 12.7                          ⋯ -0.003226                  \n",
       "2 17.9                          ⋯  0.026982                  \n",
       "3 17.0                          ⋯ -0.009240                  \n",
       "4 14.9                          ⋯  0.005097                  \n",
       "5 17.2                          ⋯  0.001032                  \n",
       "6 23.7                          ⋯ -0.036365                  \n",
       "  美国标准普尔500指数收盘价收益率 美国纳斯达克综合指数收盘价收益率\n",
       "1 -0.0277977                      -0.0109925                      \n",
       "2 -0.0171499                       0.0124965                      \n",
       "3  0.0083232                       0.0027251                      \n",
       "4  0.0779271                       0.0878415                      \n",
       "5  0.0496459                       0.0860600                      \n",
       "6  0.0112586                       0.0167089                      \n",
       "  美国道琼斯工业平均指数收盘价收益率 CRB现货指数食品收益率\n",
       "1 -0.0351133                          0.0028992           \n",
       "2 -0.0204124                         -0.0088811           \n",
       "3  0.0127249                         -0.0102262           \n",
       "4  0.0592632                          0.0019979           \n",
       "5  0.0427265                          0.0191188           \n",
       "6  0.0151587                          0.0022631           \n",
       "  CRB现货指数家畜收益率 CRB现货指数金属收益率 CRB现货指数工业原料收益率\n",
       "1  0.0118136             0.0574026             0.0263438               \n",
       "2 -0.0248032             0.0343256             0.0146117               \n",
       "3  0.0053267             0.0123873             0.0091839               \n",
       "4  0.0020113            -0.0195947            -0.0088382               \n",
       "5  0.0282302             0.0140162            -0.0038967               \n",
       "6  0.0406113             0.0106449             0.0108113               \n",
       "  CRB现货指数纺织品收益率 波罗的海干散货指数BDI收益率\n",
       "1  0.0150719               0.0142221                 \n",
       "2  0.0174842              -0.0119758                 \n",
       "3 -0.0011554               0.1000204                 \n",
       "4 -0.0019512               0.1093707                 \n",
       "5 -0.0125256               0.0764198                 \n",
       "6  0.0153494              -0.0419574                 "
      ]
     },
     "metadata": {},
     "output_type": "display_data"
    },
    {
     "data": {
      "text/html": [
       "<table class=\"dataframe\">\n",
       "<caption>A tibble: 6 × 152</caption>\n",
       "<thead>\n",
       "\t<tr><th></th><th scope=col>month</th><th scope=col>规模以上工业增加值_当期同比实际增速</th><th scope=col>发电量_当期同比增速</th><th scope=col>原煤产量_当期同比增速</th><th scope=col>焦炭产量_当期同比增速</th><th scope=col>粗钢产量_当期同比增速</th><th scope=col>钢材产量_当期同比增速</th><th scope=col>原油产量_当期同比增速</th><th scope=col>乙烯产量_当期同比增速</th><th scope=col>十种有色金属产量_当期同比增速</th><th scope=col>⋯</th><th scope=col>美国联邦基金利率日_一阶差分</th><th scope=col>美国标准普尔500指数收盘价收益率</th><th scope=col>美国纳斯达克综合指数收盘价收益率</th><th scope=col>美国道琼斯工业平均指数收盘价收益率</th><th scope=col>CRB现货指数食品收益率</th><th scope=col>CRB现货指数家畜收益率</th><th scope=col>CRB现货指数金属收益率</th><th scope=col>CRB现货指数工业原料收益率</th><th scope=col>CRB现货指数纺织品收益率</th><th scope=col>波罗的海干散货指数BDI收益率</th></tr>\n",
       "\t<tr><th></th><th scope=col>&lt;int&gt;</th><th scope=col>&lt;dbl&gt;</th><th scope=col>&lt;dbl&gt;</th><th scope=col>&lt;dbl&gt;</th><th scope=col>&lt;dbl&gt;</th><th scope=col>&lt;dbl&gt;</th><th scope=col>&lt;dbl&gt;</th><th scope=col>&lt;dbl&gt;</th><th scope=col>&lt;dbl&gt;</th><th scope=col>&lt;dbl&gt;</th><th scope=col>⋯</th><th scope=col>&lt;dbl&gt;</th><th scope=col>&lt;dbl&gt;</th><th scope=col>&lt;dbl&gt;</th><th scope=col>&lt;dbl&gt;</th><th scope=col>&lt;dbl&gt;</th><th scope=col>&lt;dbl&gt;</th><th scope=col>&lt;dbl&gt;</th><th scope=col>&lt;dbl&gt;</th><th scope=col>&lt;dbl&gt;</th><th scope=col>&lt;dbl&gt;</th></tr>\n",
       "</thead>\n",
       "<tbody>\n",
       "\t<tr><th scope=row>1</th><td>169</td><td> 7.2</td><td>10.74</td><td>16.46</td><td>12.4</td><td>14.82</td><td>16.40</td><td>-1.2</td><td>13.0</td><td>12.7</td><td>⋯</td><td> 0.224129</td><td> 0.0495191</td><td>-0.0109925</td><td> 0.0272646</td><td>-0.0288315</td><td> 0.0673008</td><td> 0.0574026</td><td>-0.0088382</td><td>-0.0011554</td><td> 0.1000204</td></tr>\n",
       "\t<tr><th scope=row>2</th><td>170</td><td>15.7</td><td>23.00</td><td>24.40</td><td>24.2</td><td>21.78</td><td>19.00</td><td> 1.0</td><td>-7.5</td><td>19.5</td><td>⋯</td><td> 0.237096</td><td> 0.0178294</td><td> 0.0124965</td><td> 0.0195208</td><td> 0.0259128</td><td> 0.0133696</td><td> 0.0140162</td><td> 0.0108113</td><td>-0.0125256</td><td> 0.0258846</td></tr>\n",
       "\t<tr><th scope=row>3</th><td>171</td><td>15.1</td><td>13.05</td><td>16.30</td><td>17.4</td><td>20.93</td><td>23.40</td><td> 4.4</td><td> 5.4</td><td>19.6</td><td>⋯</td><td> 0.011290</td><td>-0.0203133</td><td> 0.0878415</td><td>-0.0036373</td><td> 0.0441604</td><td> 0.0403857</td><td> 0.0213618</td><td> 0.0631318</td><td> 0.0070810</td><td> 0.0745430</td></tr>\n",
       "\t<tr><th scope=row>4</th><td>172</td><td>16.5</td><td>16.20</td><td>12.10</td><td>22.0</td><td>23.10</td><td>23.50</td><td> 5.7</td><td> 4.9</td><td>16.7</td><td>⋯</td><td> 0.010541</td><td> 0.0345812</td><td> 0.0167089</td><td>-0.0287523</td><td>-0.0026956</td><td> 0.0282397</td><td> 0.0086322</td><td> 0.0007372</td><td>-0.0385308</td><td> 0.1262999</td></tr>\n",
       "\t<tr><th scope=row>5</th><td>173</td><td>16.1</td><td>11.70</td><td>11.50</td><td>27.5</td><td>21.80</td><td>14.70</td><td> 5.7</td><td>21.8</td><td>19.3</td><td>⋯</td><td>-0.002154</td><td> 0.0110345</td><td> 0.0668659</td><td> 0.0033684</td><td>-0.0058579</td><td>-0.0220151</td><td> 0.0484858</td><td> 0.0013251</td><td> 0.0019579</td><td>-0.0602903</td></tr>\n",
       "\t<tr><th scope=row>6</th><td>174</td><td>18.1</td><td>27.30</td><td>22.10</td><td>18.9</td><td>25.40</td><td>28.49</td><td> 4.2</td><td> 3.4</td><td>15.2</td><td>⋯</td><td>-0.242151</td><td> 0.0139613</td><td> 0.0425568</td><td>-0.0092478</td><td>-0.0258265</td><td> 0.0241532</td><td>-0.0173721</td><td>-0.0007591</td><td>-0.0045619</td><td>-0.2218513</td></tr>\n",
       "</tbody>\n",
       "</table>\n"
      ],
      "text/latex": [
       "A tibble: 6 × 152\n",
       "\\begin{tabular}{r|lllllllllllllllllllll}\n",
       "  & month & 规模以上工业增加值\\_当期同比实际增速 & 发电量\\_当期同比增速 & 原煤产量\\_当期同比增速 & 焦炭产量\\_当期同比增速 & 粗钢产量\\_当期同比增速 & 钢材产量\\_当期同比增速 & 原油产量\\_当期同比增速 & 乙烯产量\\_当期同比增速 & 十种有色金属产量\\_当期同比增速 & ⋯ & 美国联邦基金利率日\\_一阶差分 & 美国标准普尔500指数收盘价收益率 & 美国纳斯达克综合指数收盘价收益率 & 美国道琼斯工业平均指数收盘价收益率 & CRB现货指数食品收益率 & CRB现货指数家畜收益率 & CRB现货指数金属收益率 & CRB现货指数工业原料收益率 & CRB现货指数纺织品收益率 & 波罗的海干散货指数BDI收益率\\\\\n",
       "  & <int> & <dbl> & <dbl> & <dbl> & <dbl> & <dbl> & <dbl> & <dbl> & <dbl> & <dbl> & ⋯ & <dbl> & <dbl> & <dbl> & <dbl> & <dbl> & <dbl> & <dbl> & <dbl> & <dbl> & <dbl>\\\\\n",
       "\\hline\n",
       "\t1 & 169 &  7.2 & 10.74 & 16.46 & 12.4 & 14.82 & 16.40 & -1.2 & 13.0 & 12.7 & ⋯ &  0.224129 &  0.0495191 & -0.0109925 &  0.0272646 & -0.0288315 &  0.0673008 &  0.0574026 & -0.0088382 & -0.0011554 &  0.1000204\\\\\n",
       "\t2 & 170 & 15.7 & 23.00 & 24.40 & 24.2 & 21.78 & 19.00 &  1.0 & -7.5 & 19.5 & ⋯ &  0.237096 &  0.0178294 &  0.0124965 &  0.0195208 &  0.0259128 &  0.0133696 &  0.0140162 &  0.0108113 & -0.0125256 &  0.0258846\\\\\n",
       "\t3 & 171 & 15.1 & 13.05 & 16.30 & 17.4 & 20.93 & 23.40 &  4.4 &  5.4 & 19.6 & ⋯ &  0.011290 & -0.0203133 &  0.0878415 & -0.0036373 &  0.0441604 &  0.0403857 &  0.0213618 &  0.0631318 &  0.0070810 &  0.0745430\\\\\n",
       "\t4 & 172 & 16.5 & 16.20 & 12.10 & 22.0 & 23.10 & 23.50 &  5.7 &  4.9 & 16.7 & ⋯ &  0.010541 &  0.0345812 &  0.0167089 & -0.0287523 & -0.0026956 &  0.0282397 &  0.0086322 &  0.0007372 & -0.0385308 &  0.1262999\\\\\n",
       "\t5 & 173 & 16.1 & 11.70 & 11.50 & 27.5 & 21.80 & 14.70 &  5.7 & 21.8 & 19.3 & ⋯ & -0.002154 &  0.0110345 &  0.0668659 &  0.0033684 & -0.0058579 & -0.0220151 &  0.0484858 &  0.0013251 &  0.0019579 & -0.0602903\\\\\n",
       "\t6 & 174 & 18.1 & 27.30 & 22.10 & 18.9 & 25.40 & 28.49 &  4.2 &  3.4 & 15.2 & ⋯ & -0.242151 &  0.0139613 &  0.0425568 & -0.0092478 & -0.0258265 &  0.0241532 & -0.0173721 & -0.0007591 & -0.0045619 & -0.2218513\\\\\n",
       "\\end{tabular}\n"
      ],
      "text/markdown": [
       "\n",
       "A tibble: 6 × 152\n",
       "\n",
       "| <!--/--> | month &lt;int&gt; | 规模以上工业增加值_当期同比实际增速 &lt;dbl&gt; | 发电量_当期同比增速 &lt;dbl&gt; | 原煤产量_当期同比增速 &lt;dbl&gt; | 焦炭产量_当期同比增速 &lt;dbl&gt; | 粗钢产量_当期同比增速 &lt;dbl&gt; | 钢材产量_当期同比增速 &lt;dbl&gt; | 原油产量_当期同比增速 &lt;dbl&gt; | 乙烯产量_当期同比增速 &lt;dbl&gt; | 十种有色金属产量_当期同比增速 &lt;dbl&gt; | ⋯ ⋯ | 美国联邦基金利率日_一阶差分 &lt;dbl&gt; | 美国标准普尔500指数收盘价收益率 &lt;dbl&gt; | 美国纳斯达克综合指数收盘价收益率 &lt;dbl&gt; | 美国道琼斯工业平均指数收盘价收益率 &lt;dbl&gt; | CRB现货指数食品收益率 &lt;dbl&gt; | CRB现货指数家畜收益率 &lt;dbl&gt; | CRB现货指数金属收益率 &lt;dbl&gt; | CRB现货指数工业原料收益率 &lt;dbl&gt; | CRB现货指数纺织品收益率 &lt;dbl&gt; | 波罗的海干散货指数BDI收益率 &lt;dbl&gt; |\n",
       "|---|---|---|---|---|---|---|---|---|---|---|---|---|---|---|---|---|---|---|---|---|---|\n",
       "| 1 | 169 |  7.2 | 10.74 | 16.46 | 12.4 | 14.82 | 16.40 | -1.2 | 13.0 | 12.7 | ⋯ |  0.224129 |  0.0495191 | -0.0109925 |  0.0272646 | -0.0288315 |  0.0673008 |  0.0574026 | -0.0088382 | -0.0011554 |  0.1000204 |\n",
       "| 2 | 170 | 15.7 | 23.00 | 24.40 | 24.2 | 21.78 | 19.00 |  1.0 | -7.5 | 19.5 | ⋯ |  0.237096 |  0.0178294 |  0.0124965 |  0.0195208 |  0.0259128 |  0.0133696 |  0.0140162 |  0.0108113 | -0.0125256 |  0.0258846 |\n",
       "| 3 | 171 | 15.1 | 13.05 | 16.30 | 17.4 | 20.93 | 23.40 |  4.4 |  5.4 | 19.6 | ⋯ |  0.011290 | -0.0203133 |  0.0878415 | -0.0036373 |  0.0441604 |  0.0403857 |  0.0213618 |  0.0631318 |  0.0070810 |  0.0745430 |\n",
       "| 4 | 172 | 16.5 | 16.20 | 12.10 | 22.0 | 23.10 | 23.50 |  5.7 |  4.9 | 16.7 | ⋯ |  0.010541 |  0.0345812 |  0.0167089 | -0.0287523 | -0.0026956 |  0.0282397 |  0.0086322 |  0.0007372 | -0.0385308 |  0.1262999 |\n",
       "| 5 | 173 | 16.1 | 11.70 | 11.50 | 27.5 | 21.80 | 14.70 |  5.7 | 21.8 | 19.3 | ⋯ | -0.002154 |  0.0110345 |  0.0668659 |  0.0033684 | -0.0058579 | -0.0220151 |  0.0484858 |  0.0013251 |  0.0019579 | -0.0602903 |\n",
       "| 6 | 174 | 18.1 | 27.30 | 22.10 | 18.9 | 25.40 | 28.49 |  4.2 |  3.4 | 15.2 | ⋯ | -0.242151 |  0.0139613 |  0.0425568 | -0.0092478 | -0.0258265 |  0.0241532 | -0.0173721 | -0.0007591 | -0.0045619 | -0.2218513 |\n",
       "\n"
      ],
      "text/plain": [
       "  month 规模以上工业增加值_当期同比实际增速 发电量_当期同比增速\n",
       "1 169    7.2                                10.74              \n",
       "2 170   15.7                                23.00              \n",
       "3 171   15.1                                13.05              \n",
       "4 172   16.5                                16.20              \n",
       "5 173   16.1                                11.70              \n",
       "6 174   18.1                                27.30              \n",
       "  原煤产量_当期同比增速 焦炭产量_当期同比增速 粗钢产量_当期同比增速\n",
       "1 16.46                 12.4                  14.82                \n",
       "2 24.40                 24.2                  21.78                \n",
       "3 16.30                 17.4                  20.93                \n",
       "4 12.10                 22.0                  23.10                \n",
       "5 11.50                 27.5                  21.80                \n",
       "6 22.10                 18.9                  25.40                \n",
       "  钢材产量_当期同比增速 原油产量_当期同比增速 乙烯产量_当期同比增速\n",
       "1 16.40                 -1.2                  13.0                 \n",
       "2 19.00                  1.0                  -7.5                 \n",
       "3 23.40                  4.4                   5.4                 \n",
       "4 23.50                  5.7                   4.9                 \n",
       "5 14.70                  5.7                  21.8                 \n",
       "6 28.49                  4.2                   3.4                 \n",
       "  十种有色金属产量_当期同比增速 ⋯ 美国联邦基金利率日_一阶差分\n",
       "1 12.7                          ⋯  0.224129                  \n",
       "2 19.5                          ⋯  0.237096                  \n",
       "3 19.6                          ⋯  0.011290                  \n",
       "4 16.7                          ⋯  0.010541                  \n",
       "5 19.3                          ⋯ -0.002154                  \n",
       "6 15.2                          ⋯ -0.242151                  \n",
       "  美国标准普尔500指数收盘价收益率 美国纳斯达克综合指数收盘价收益率\n",
       "1  0.0495191                      -0.0109925                      \n",
       "2  0.0178294                       0.0124965                      \n",
       "3 -0.0203133                       0.0878415                      \n",
       "4  0.0345812                       0.0167089                      \n",
       "5  0.0110345                       0.0668659                      \n",
       "6  0.0139613                       0.0425568                      \n",
       "  美国道琼斯工业平均指数收盘价收益率 CRB现货指数食品收益率\n",
       "1  0.0272646                         -0.0288315           \n",
       "2  0.0195208                          0.0259128           \n",
       "3 -0.0036373                          0.0441604           \n",
       "4 -0.0287523                         -0.0026956           \n",
       "5  0.0033684                         -0.0058579           \n",
       "6 -0.0092478                         -0.0258265           \n",
       "  CRB现货指数家畜收益率 CRB现货指数金属收益率 CRB现货指数工业原料收益率\n",
       "1  0.0673008             0.0574026            -0.0088382               \n",
       "2  0.0133696             0.0140162             0.0108113               \n",
       "3  0.0403857             0.0213618             0.0631318               \n",
       "4  0.0282397             0.0086322             0.0007372               \n",
       "5 -0.0220151             0.0484858             0.0013251               \n",
       "6  0.0241532            -0.0173721            -0.0007591               \n",
       "  CRB现货指数纺织品收益率 波罗的海干散货指数BDI收益率\n",
       "1 -0.0011554               0.1000204                 \n",
       "2 -0.0125256               0.0258846                 \n",
       "3  0.0070810               0.0745430                 \n",
       "4 -0.0385308               0.1262999                 \n",
       "5  0.0019579              -0.0602903                 \n",
       "6 -0.0045619              -0.2218513                 "
      ]
     },
     "metadata": {},
     "output_type": "display_data"
    }
   ],
   "source": [
    "head(cpi)\n",
    "head(ppi)\n",
    "head(X)\n",
    "head(fake.testing.X)"
   ]
  },
  {
   "cell_type": "code",
   "execution_count": 6,
   "id": "965d73c3",
   "metadata": {
    "vscode": {
     "languageId": "r"
    }
   },
   "outputs": [
    {
     "name": "stderr",
     "output_type": "stream",
     "text": [
      "Installing package into 'C:/Users/Will/AppData/Local/R/win-library/4.2'\n",
      "(as 'lib' is unspecified)\n",
      "\n"
     ]
    },
    {
     "name": "stdout",
     "output_type": "stream",
     "text": [
      "package 'ggfortify' successfully unpacked and MD5 sums checked\n",
      "\n",
      "The downloaded binary packages are in\n",
      "\tC:\\Users\\Will\\AppData\\Local\\Temp\\RtmpmoE6GM\\downloaded_packages\n"
     ]
    }
   ],
   "source": [
    "install.packages(\"ggfortify\")"
   ]
  },
  {
   "cell_type": "code",
   "execution_count": 7,
   "id": "9a52887c-233b-4413-85ba-99367e8e8996",
   "metadata": {
    "vscode": {
     "languageId": "r"
    }
   },
   "outputs": [
    {
     "name": "stderr",
     "output_type": "stream",
     "text": [
      "Registered S3 method overwritten by 'quantmod':\n",
      "  method            from\n",
      "  as.zoo.data.frame zoo \n",
      "\n",
      "Registered S3 methods overwritten by 'forecast':\n",
      "  method                 from     \n",
      "  autoplot.Arima         ggfortify\n",
      "  autoplot.acf           ggfortify\n",
      "  autoplot.ar            ggfortify\n",
      "  autoplot.bats          ggfortify\n",
      "  autoplot.decomposed.ts ggfortify\n",
      "  autoplot.ets           ggfortify\n",
      "  autoplot.forecast      ggfortify\n",
      "  autoplot.stl           ggfortify\n",
      "  autoplot.ts            ggfortify\n",
      "  fitted.ar              ggfortify\n",
      "  fortify.ts             ggfortify\n",
      "  residuals.ar           ggfortify\n",
      "\n"
     ]
    }
   ],
   "source": [
    "library(ggplot2)\n",
    "library(ggfortify)\n",
    "library(forecast)"
   ]
  },
  {
   "cell_type": "code",
   "execution_count": 8,
   "id": "ffb8bdf1-f925-485a-8334-b675c85ef99d",
   "metadata": {
    "vscode": {
     "languageId": "r"
    }
   },
   "outputs": [],
   "source": [
    "cpi_ts <- ts(cpi[, 2], start = c(1, 1), frequency = 12)\n",
    "ppi_ts <- ts(ppi[, 2], start = c(1, 1), frequency = 12)"
   ]
  },
  {
   "cell_type": "code",
   "execution_count": 9,
   "id": "4e74c7f8-e345-41b8-bfea-ca74e4171a2a",
   "metadata": {
    "vscode": {
     "languageId": "r"
    }
   },
   "outputs": [
    {
     "data": {
      "image/png": "[encoded data removed]",
      "text/plain": [
       "plot without title"
      ]
     },
     "metadata": {
      "image/png": {
       "height": 420,
       "width": 420
      }
     },
     "output_type": "display_data"
    },
    {
     "data": {
      "image/png": "[encoded data removed]",
      "text/plain": [
       "plot without title"
      ]
     },
     "metadata": {
      "image/png": {
       "height": 420,
       "width": 420
      }
     },
     "output_type": "display_data"
    },
    {
     "data": {
      "image/png": "[encoded data removed]",
      "text/plain": [
       "plot without title"
      ]
     },
     "metadata": {
      "image/png": {
       "height": 420,
       "width": 420
      }
     },
     "output_type": "display_data"
    },
    {
     "data": {
      "image/png": "[encoded data removed]",
      "text/plain": [
       "plot without title"
      ]
     },
     "metadata": {
      "image/png": {
       "height": 420,
       "width": 420
      }
     },
     "output_type": "display_data"
    }
   ],
   "source": [
    "# drawing graphs to show the trend and seasonality of our data\n",
    "par(mfrow = c(2,2))\n",
    "autoplot(cpi_ts)\n",
    "ggseasonplot(cpi_ts)\n",
    "autoplot(ppi_ts)\n",
    "ggseasonplot(ppi_ts)"
   ]
  },
  {
   "cell_type": "code",
   "execution_count": 10,
   "id": "7569143c-df0d-46b7-b124-998ffdc23d21",
   "metadata": {
    "vscode": {
     "languageId": "r"
    }
   },
   "outputs": [
    {
     "data": {
      "image/png": "[encoded data removed]",
      "text/plain": [
       "plot without title"
      ]
     },
     "metadata": {
      "image/png": {
       "height": 420,
       "width": 420
      }
     },
     "output_type": "display_data"
    }
   ],
   "source": [
    "ggAcf(diff(cpi_ts))"
   ]
  },
  {
   "attachments": {},
   "cell_type": "markdown",
   "id": "5c201ce7-2b33-42f5-801b-286e8904eb68",
   "metadata": {},
   "source": [
    "# First, let's fit ARIMAX model"
   ]
  },
  {
   "cell_type": "code",
   "execution_count": 11,
   "id": "7eb70bda-11eb-41ec-b782-9e13776487bc",
   "metadata": {
    "vscode": {
     "languageId": "r"
    }
   },
   "outputs": [],
   "source": [
    "library(forecast)"
   ]
  },
  {
   "cell_type": "code",
   "execution_count": 12,
   "id": "4b33b6b4-ace6-424c-8815-52c01775c321",
   "metadata": {
    "vscode": {
     "languageId": "r"
    }
   },
   "outputs": [],
   "source": [
    "X_ts <- ts(X[, 2:152])"
   ]
  },
  {
   "cell_type": "code",
   "execution_count": 13,
   "id": "27566418-b3cf-4d69-939d-50c975a4c533",
   "metadata": {
    "vscode": {
     "languageId": "r"
    }
   },
   "outputs": [
    {
     "ename": "ERROR",
     "evalue": "Error in auto.arima(cpi_ts, xreg = X_ts): xreg is rank deficient\n",
     "output_type": "error",
     "traceback": [
      "Error in auto.arima(cpi_ts, xreg = X_ts): xreg is rank deficient\nTraceback:\n",
      "1. auto.arima(cpi_ts, xreg = X_ts)",
      "2. stop(\"xreg is rank deficient\")"
     ]
    }
   ],
   "source": [
    "arimax_fit <- auto.arima(cpi_ts, xreg = X_ts)"
   ]
  },
  {
   "attachments": {},
   "cell_type": "markdown",
   "id": "bfeb4c9f-a8f1-4cc8-9bdd-17c27aeeb1da",
   "metadata": {},
   "source": [
    "## Because there are too many columns in the X_ts and that makes the inverse of (x'x) dose not exist. Therefore, I use the pca model to reduce the number of predictors. "
   ]
  },
  {
   "attachments": {},
   "cell_type": "markdown",
   "id": "514cc81f-52ea-4c57-8f38-e95ec23e74b8",
   "metadata": {},
   "source": [
    "### First, let use the PCA method to reduce the dimensions"
   ]
  },
  {
   "cell_type": "code",
   "execution_count": 14,
   "id": "73238206-20a7-4e45-8695-2a1c5e035226",
   "metadata": {
    "vscode": {
     "languageId": "r"
    }
   },
   "outputs": [
    {
     "data": {
      "text/html": [
       "<style>\n",
       ".list-inline {list-style: none; margin:0; padding: 0}\n",
       ".list-inline>li {display: inline-block}\n",
       ".list-inline>li:not(:last-child)::after {content: \"\\00b7\"; padding: 0 .5ex}\n",
       "</style>\n",
       "<ol class=list-inline><li>168</li><li>70</li></ol>\n"
      ],
      "text/latex": [
       "\\begin{enumerate*}\n",
       "\\item 168\n",
       "\\item 70\n",
       "\\end{enumerate*}\n"
      ],
      "text/markdown": [
       "1. 168\n",
       "2. 70\n",
       "\n",
       "\n"
      ],
      "text/plain": [
       "[1] 168  70"
      ]
     },
     "metadata": {},
     "output_type": "display_data"
    }
   ],
   "source": [
    "# load the required library\n",
    "library(stats)\n",
    "\n",
    "# assume your xreg matrix is called \"Xreg\"\n",
    "# perform PCA on the Xreg matrix\n",
    "pca <- prcomp(X_ts, center = TRUE, scale. = TRUE)\n",
    "\n",
    "# extract the loadings matrix\n",
    "loadings <- pca$rotation\n",
    "\n",
    "# determine the number of principal components to retain\n",
    "cum_var <- cumsum(pca$sdev^2 / sum(pca$sdev^2))\n",
    "n_pc <- min(which(cum_var >= 0.99))\n",
    "\n",
    "# transform the xreg matrix using the first n_pc principal components\n",
    "X_pca <- as.matrix(X_ts) %*% loadings[, 1:n_pc]\n",
    "dim(X_pca)"
   ]
  },
  {
   "cell_type": "code",
   "execution_count": 15,
   "id": "58ab8960",
   "metadata": {
    "vscode": {
     "languageId": "r"
    }
   },
   "outputs": [],
   "source": [
    "train_cpi <- cpi_ts[1:132]\n",
    "test_cpi <- cpi_ts[133:168]\n",
    "train_pca <- X_pca[1:132, ]\n",
    "test_pca <- X_pca[133:168, ]"
   ]
  },
  {
   "cell_type": "code",
   "execution_count": 16,
   "id": "6fef5b28-39f7-4be6-aa9c-f5d10279e967",
   "metadata": {
    "vscode": {
     "languageId": "r"
    }
   },
   "outputs": [],
   "source": [
    "arimax_fit <- auto.arima(train_cpi, xreg = train_pca, )"
   ]
  },
  {
   "cell_type": "code",
   "execution_count": 17,
   "id": "38613973",
   "metadata": {
    "vscode": {
     "languageId": "r"
    }
   },
   "outputs": [],
   "source": [
    "arimax_fc <- forecast(arimax_fit, xreg = test_pca, h = 36)"
   ]
  },
  {
   "cell_type": "code",
   "execution_count": 18,
   "id": "8044ed15",
   "metadata": {
    "vscode": {
     "languageId": "r"
    }
   },
   "outputs": [
    {
     "data": {
      "image/png": "[encoded data removed]",
      "text/plain": [
       "plot without title"
      ]
     },
     "metadata": {
      "image/png": {
       "height": 420,
       "width": 420
      }
     },
     "output_type": "display_data"
    }
   ],
   "source": [
    "autoplot(arimax_fc)"
   ]
  },
  {
   "cell_type": "code",
   "execution_count": 19,
   "id": "5ecc9afd",
   "metadata": {
    "vscode": {
     "languageId": "r"
    }
   },
   "outputs": [],
   "source": [
    "library(miscTools)"
   ]
  },
  {
   "cell_type": "code",
   "execution_count": 20,
   "id": "0a5e2a3d",
   "metadata": {
    "vscode": {
     "languageId": "r"
    }
   },
   "outputs": [
    {
     "data": {
      "text/html": [
       "-0.694181151885726"
      ],
      "text/latex": [
       "-0.694181151885726"
      ],
      "text/markdown": [
       "-0.694181151885726"
      ],
      "text/plain": [
       "[1] -0.6941812"
      ]
     },
     "metadata": {},
     "output_type": "display_data"
    }
   ],
   "source": [
    "# calculate the out-of-sample R squre\n",
    "# Calculate mean of test set y values\n",
    "y_mean <- mean(test_cpi)\n",
    "\n",
    "# Calculate out-of-sample R-squared\n",
    "arimax_rss <- sum((test_cpi - arimax_fc$mean)^2)\n",
    "arimax_tss <- sum((test_cpi - y_mean)^2)\n",
    "arimax_rsq <- 1 - (arimax_rss / arimax_tss)\n",
    "arimax_rsq"
   ]
  },
  {
   "cell_type": "code",
   "execution_count": 21,
   "id": "4a99dc83",
   "metadata": {
    "vscode": {
     "languageId": "r"
    }
   },
   "outputs": [
    {
     "data": {
      "text/html": [
       "<table class=\"dataframe\">\n",
       "<caption>A matrix: 1 × 1 of type dbl</caption>\n",
       "<tbody>\n",
       "\t<tr><td>-0.6941812</td></tr>\n",
       "</tbody>\n",
       "</table>\n"
      ],
      "text/latex": [
       "A matrix: 1 × 1 of type dbl\n",
       "\\begin{tabular}{l}\n",
       "\t -0.6941812\\\\\n",
       "\\end{tabular}\n"
      ],
      "text/markdown": [
       "\n",
       "A matrix: 1 × 1 of type dbl\n",
       "\n",
       "| -0.6941812 |\n",
       "\n"
      ],
      "text/plain": [
       "     [,1]      \n",
       "[1,] -0.6941812"
      ]
     },
     "metadata": {},
     "output_type": "display_data"
    }
   ],
   "source": [
    "rSquared(test_cpi, test_cpi-arimax_fc$mean)"
   ]
  },
  {
   "cell_type": "code",
   "execution_count": 22,
   "id": "6efc8e67-3f7c-4949-93a9-283773e79ca3",
   "metadata": {
    "vscode": {
     "languageId": "r"
    }
   },
   "outputs": [
    {
     "data": {
      "text/html": [
       "<table class=\"dataframe\">\n",
       "<caption>A matrix: 1 × 7 of type dbl</caption>\n",
       "<thead>\n",
       "\t<tr><th></th><th scope=col>ME</th><th scope=col>RMSE</th><th scope=col>MAE</th><th scope=col>MPE</th><th scope=col>MAPE</th><th scope=col>MASE</th><th scope=col>ACF1</th></tr>\n",
       "</thead>\n",
       "<tbody>\n",
       "\t<tr><th scope=row>Training set</th><td>3.274956e-13</td><td>0.11174</td><td>0.0911093</td><td>-0.0001169739</td><td>0.08865053</td><td>0.174391</td><td>0.0256188</td></tr>\n",
       "</tbody>\n",
       "</table>\n"
      ],
      "text/latex": [
       "A matrix: 1 × 7 of type dbl\n",
       "\\begin{tabular}{r|lllllll}\n",
       "  & ME & RMSE & MAE & MPE & MAPE & MASE & ACF1\\\\\n",
       "\\hline\n",
       "\tTraining set & 3.274956e-13 & 0.11174 & 0.0911093 & -0.0001169739 & 0.08865053 & 0.174391 & 0.0256188\\\\\n",
       "\\end{tabular}\n"
      ],
      "text/markdown": [
       "\n",
       "A matrix: 1 × 7 of type dbl\n",
       "\n",
       "| <!--/--> | ME | RMSE | MAE | MPE | MAPE | MASE | ACF1 |\n",
       "|---|---|---|---|---|---|---|---|\n",
       "| Training set | 3.274956e-13 | 0.11174 | 0.0911093 | -0.0001169739 | 0.08865053 | 0.174391 | 0.0256188 |\n",
       "\n"
      ],
      "text/plain": [
       "             ME           RMSE    MAE       MPE           MAPE       MASE    \n",
       "Training set 3.274956e-13 0.11174 0.0911093 -0.0001169739 0.08865053 0.174391\n",
       "             ACF1     \n",
       "Training set 0.0256188"
      ]
     },
     "metadata": {},
     "output_type": "display_data"
    }
   ],
   "source": [
    "accuracy(arimax_fit)"
   ]
  },
  {
   "attachments": {},
   "cell_type": "markdown",
   "id": "131bbe47-2a0f-4f9c-b8f8-9ee1c81aa8be",
   "metadata": {},
   "source": [
    "## Then I use the model to run cross-validate"
   ]
  },
  {
   "cell_type": "code",
   "execution_count": 23,
   "id": "8551b000-6c1b-4939-83f1-e4ca8edd5b88",
   "metadata": {
    "vscode": {
     "languageId": "r"
    }
   },
   "outputs": [],
   "source": [
    "library(forecast)\n",
    "\n",
    "\n",
    "fc <- function(y, h, xreg, newxreg) {\n",
    "  fit <- auto.arima(y, xreg=xreg)\n",
    "  forecast(fit, xreg=newxreg, h=h)\n",
    "}\n",
    "\n",
    "sq <- function(u){u^2}\n",
    "e <- tsCV(cpi_ts, fc, xreg= X_pca, h=1)\n"
   ]
  },
  {
   "cell_type": "code",
   "execution_count": 26,
   "id": "cae9ea70",
   "metadata": {
    "vscode": {
     "languageId": "r"
    }
   },
   "outputs": [
    {
     "data": {
      "text/html": [
       "<style>\n",
       ".list-inline {list-style: none; margin:0; padding: 0}\n",
       ".list-inline>li {display: inline-block}\n",
       ".list-inline>li:not(:last-child)::after {content: \"\\00b7\"; padding: 0 .5ex}\n",
       "</style>\n",
       "<ol class=list-inline><li>-1.34434398855788</li><li>1.22473876088505</li><li>-0.294141646268841</li><li>-0.450689823388871</li><li>-0.58292328514932</li><li>-0.684400969033746</li><li>0.192992055694063</li><li>-0.441211178630169</li><li>0.572478534142391</li><li>-0.240242779431568</li><li>0.678940623402156</li><li>0.0723288518950369</li><li>0.549064414493557</li><li>0.274365853653109</li><li>0.726980038682257</li><li>-0.817503406032145</li><li>-0.420727553839413</li><li>0.339345932275307</li><li>0.144973859449891</li><li>0.333710690345015</li><li>0.00945074054557438</li><li>0.555053667876663</li><li>2.10004606650831</li><li>-0.1796580679096</li><li>-1.63067518748191</li><li>-0.717101515933351</li><li>-0.0785208772125259</li><li>0.289631965670779</li><li>0.72983752529602</li><li>-0.0111942621549161</li><li>0.398518491962477</li><li>-0.0245100269193017</li><li>0.480526857791617</li><li>-0.0434317696653608</li><li>0.266053363263822</li><li>0.151175362626518</li><li>0.947783594084299</li><li>0.0736163863064974</li><li>-0.856444645391036</li><li>-0.631124699382937</li><li>-0.185795516435221</li><li>-0.248720731413059</li><li>0.245073784671334</li><li>0.14561686288495</li><li>-0.0758286966201922</li><li>-0.00336365865136656</li><li>-0.0974569901254654</li><li>0.404657086453597</li><li>1.38612795381124</li><li>0.155953555261704</li><li>0.753527946887033</li><li>0.158486296291088</li><li>0.474610664419515</li><li>0.235148068166637</li><li>0.272905581955854</li><li>0.0556171154999276</li><li>0.129915377510045</li><li>0.0953839827127894</li><li>0.148889277960407</li><li>0.273362446082515</li><li>0.475512447006665</li><li>0.0883421071603152</li><li>-0.492109294870403</li><li>-0.234683841862093</li><li>-0.0333900491524588</li><li>0.258642807586128</li><li>-0.0589458851548272</li><li>-0.100953512554256</li><li>-0.0230530541281979</li><li>0.0115478690864563</li><li>0.062451866133614</li><li>0.0950205280697531</li><li>0.244286694158404</li><li>-0.0872791614472419</li><li>-0.0777929812140599</li><li>-0.00299515648011095</li><li>0.162912923325266</li><li>0.235201055261584</li><li>0.085195299448074</li><li>0.0551988848355336</li><li>0.0390886814916485</li><li>0.230379151722175</li><li>0.0666510288770183</li><li>-0.0425813292769703</li><li>0.256261937855314</li><li>0.0776054873963545</li><li>-0.186812747274303</li><li>0.340998362597091</li><li>0.228712971548958</li><li>0.511418430294626</li><li>0.247408156823283</li><li>-0.132938277626934</li><li>0.317304645195392</li><li>0.270156135069854</li><li>0.0953289512418394</li></ol>\n"
      ],
      "text/latex": [
       "\\begin{enumerate*}\n",
       "\\item -1.34434398855788\n",
       "\\item 1.22473876088505\n",
       "\\item -0.294141646268841\n",
       "\\item -0.450689823388871\n",
       "\\item -0.58292328514932\n",
       "\\item -0.684400969033746\n",
       "\\item 0.192992055694063\n",
       "\\item -0.441211178630169\n",
       "\\item 0.572478534142391\n",
       "\\item -0.240242779431568\n",
       "\\item 0.678940623402156\n",
       "\\item 0.0723288518950369\n",
       "\\item 0.549064414493557\n",
       "\\item 0.274365853653109\n",
       "\\item 0.726980038682257\n",
       "\\item -0.817503406032145\n",
       "\\item -0.420727553839413\n",
       "\\item 0.339345932275307\n",
       "\\item 0.144973859449891\n",
       "\\item 0.333710690345015\n",
       "\\item 0.00945074054557438\n",
       "\\item 0.555053667876663\n",
       "\\item 2.10004606650831\n",
       "\\item -0.1796580679096\n",
       "\\item -1.63067518748191\n",
       "\\item -0.717101515933351\n",
       "\\item -0.0785208772125259\n",
       "\\item 0.289631965670779\n",
       "\\item 0.72983752529602\n",
       "\\item -0.0111942621549161\n",
       "\\item 0.398518491962477\n",
       "\\item -0.0245100269193017\n",
       "\\item 0.480526857791617\n",
       "\\item -0.0434317696653608\n",
       "\\item 0.266053363263822\n",
       "\\item 0.151175362626518\n",
       "\\item 0.947783594084299\n",
       "\\item 0.0736163863064974\n",
       "\\item -0.856444645391036\n",
       "\\item -0.631124699382937\n",
       "\\item -0.185795516435221\n",
       "\\item -0.248720731413059\n",
       "\\item 0.245073784671334\n",
       "\\item 0.14561686288495\n",
       "\\item -0.0758286966201922\n",
       "\\item -0.00336365865136656\n",
       "\\item -0.0974569901254654\n",
       "\\item 0.404657086453597\n",
       "\\item 1.38612795381124\n",
       "\\item 0.155953555261704\n",
       "\\item 0.753527946887033\n",
       "\\item 0.158486296291088\n",
       "\\item 0.474610664419515\n",
       "\\item 0.235148068166637\n",
       "\\item 0.272905581955854\n",
       "\\item 0.0556171154999276\n",
       "\\item 0.129915377510045\n",
       "\\item 0.0953839827127894\n",
       "\\item 0.148889277960407\n",
       "\\item 0.273362446082515\n",
       "\\item 0.475512447006665\n",
       "\\item 0.0883421071603152\n",
       "\\item -0.492109294870403\n",
       "\\item -0.234683841862093\n",
       "\\item -0.0333900491524588\n",
       "\\item 0.258642807586128\n",
       "\\item -0.0589458851548272\n",
       "\\item -0.100953512554256\n",
       "\\item -0.0230530541281979\n",
       "\\item 0.0115478690864563\n",
       "\\item 0.062451866133614\n",
       "\\item 0.0950205280697531\n",
       "\\item 0.244286694158404\n",
       "\\item -0.0872791614472419\n",
       "\\item -0.0777929812140599\n",
       "\\item -0.00299515648011095\n",
       "\\item 0.162912923325266\n",
       "\\item 0.235201055261584\n",
       "\\item 0.085195299448074\n",
       "\\item 0.0551988848355336\n",
       "\\item 0.0390886814916485\n",
       "\\item 0.230379151722175\n",
       "\\item 0.0666510288770183\n",
       "\\item -0.0425813292769703\n",
       "\\item 0.256261937855314\n",
       "\\item 0.0776054873963545\n",
       "\\item -0.186812747274303\n",
       "\\item 0.340998362597091\n",
       "\\item 0.228712971548958\n",
       "\\item 0.511418430294626\n",
       "\\item 0.247408156823283\n",
       "\\item -0.132938277626934\n",
       "\\item 0.317304645195392\n",
       "\\item 0.270156135069854\n",
       "\\item 0.0953289512418394\n",
       "\\end{enumerate*}\n"
      ],
      "text/markdown": [
       "1. -1.34434398855788\n",
       "2. 1.22473876088505\n",
       "3. -0.294141646268841\n",
       "4. -0.450689823388871\n",
       "5. -0.58292328514932\n",
       "6. -0.684400969033746\n",
       "7. 0.192992055694063\n",
       "8. -0.441211178630169\n",
       "9. 0.572478534142391\n",
       "10. -0.240242779431568\n",
       "11. 0.678940623402156\n",
       "12. 0.0723288518950369\n",
       "13. 0.549064414493557\n",
       "14. 0.274365853653109\n",
       "15. 0.726980038682257\n",
       "16. -0.817503406032145\n",
       "17. -0.420727553839413\n",
       "18. 0.339345932275307\n",
       "19. 0.144973859449891\n",
       "20. 0.333710690345015\n",
       "21. 0.00945074054557438\n",
       "22. 0.555053667876663\n",
       "23. 2.10004606650831\n",
       "24. -0.1796580679096\n",
       "25. -1.63067518748191\n",
       "26. -0.717101515933351\n",
       "27. -0.0785208772125259\n",
       "28. 0.289631965670779\n",
       "29. 0.72983752529602\n",
       "30. -0.0111942621549161\n",
       "31. 0.398518491962477\n",
       "32. -0.0245100269193017\n",
       "33. 0.480526857791617\n",
       "34. -0.0434317696653608\n",
       "35. 0.266053363263822\n",
       "36. 0.151175362626518\n",
       "37. 0.947783594084299\n",
       "38. 0.0736163863064974\n",
       "39. -0.856444645391036\n",
       "40. -0.631124699382937\n",
       "41. -0.185795516435221\n",
       "42. -0.248720731413059\n",
       "43. 0.245073784671334\n",
       "44. 0.14561686288495\n",
       "45. -0.0758286966201922\n",
       "46. -0.00336365865136656\n",
       "47. -0.0974569901254654\n",
       "48. 0.404657086453597\n",
       "49. 1.38612795381124\n",
       "50. 0.155953555261704\n",
       "51. 0.753527946887033\n",
       "52. 0.158486296291088\n",
       "53. 0.474610664419515\n",
       "54. 0.235148068166637\n",
       "55. 0.272905581955854\n",
       "56. 0.0556171154999276\n",
       "57. 0.129915377510045\n",
       "58. 0.0953839827127894\n",
       "59. 0.148889277960407\n",
       "60. 0.273362446082515\n",
       "61. 0.475512447006665\n",
       "62. 0.0883421071603152\n",
       "63. -0.492109294870403\n",
       "64. -0.234683841862093\n",
       "65. -0.0333900491524588\n",
       "66. 0.258642807586128\n",
       "67. -0.0589458851548272\n",
       "68. -0.100953512554256\n",
       "69. -0.0230530541281979\n",
       "70. 0.0115478690864563\n",
       "71. 0.062451866133614\n",
       "72. 0.0950205280697531\n",
       "73. 0.244286694158404\n",
       "74. -0.0872791614472419\n",
       "75. -0.0777929812140599\n",
       "76. -0.00299515648011095\n",
       "77. 0.162912923325266\n",
       "78. 0.235201055261584\n",
       "79. 0.085195299448074\n",
       "80. 0.0551988848355336\n",
       "81. 0.0390886814916485\n",
       "82. 0.230379151722175\n",
       "83. 0.0666510288770183\n",
       "84. -0.0425813292769703\n",
       "85. 0.256261937855314\n",
       "86. 0.0776054873963545\n",
       "87. -0.186812747274303\n",
       "88. 0.340998362597091\n",
       "89. 0.228712971548958\n",
       "90. 0.511418430294626\n",
       "91. 0.247408156823283\n",
       "92. -0.132938277626934\n",
       "93. 0.317304645195392\n",
       "94. 0.270156135069854\n",
       "95. 0.0953289512418394\n",
       "\n",
       "\n"
      ],
      "text/plain": [
       " [1] -1.344343989  1.224738761 -0.294141646 -0.450689823 -0.582923285\n",
       " [6] -0.684400969  0.192992056 -0.441211179  0.572478534 -0.240242779\n",
       "[11]  0.678940623  0.072328852  0.549064414  0.274365854  0.726980039\n",
       "[16] -0.817503406 -0.420727554  0.339345932  0.144973859  0.333710690\n",
       "[21]  0.009450741  0.555053668  2.100046067 -0.179658068 -1.630675187\n",
       "[26] -0.717101516 -0.078520877  0.289631966  0.729837525 -0.011194262\n",
       "[31]  0.398518492 -0.024510027  0.480526858 -0.043431770  0.266053363\n",
       "[36]  0.151175363  0.947783594  0.073616386 -0.856444645 -0.631124699\n",
       "[41] -0.185795516 -0.248720731  0.245073785  0.145616863 -0.075828697\n",
       "[46] -0.003363659 -0.097456990  0.404657086  1.386127954  0.155953555\n",
       "[51]  0.753527947  0.158486296  0.474610664  0.235148068  0.272905582\n",
       "[56]  0.055617115  0.129915378  0.095383983  0.148889278  0.273362446\n",
       "[61]  0.475512447  0.088342107 -0.492109295 -0.234683842 -0.033390049\n",
       "[66]  0.258642808 -0.058945885 -0.100953513 -0.023053054  0.011547869\n",
       "[71]  0.062451866  0.095020528  0.244286694 -0.087279161 -0.077792981\n",
       "[76] -0.002995156  0.162912923  0.235201055  0.085195299  0.055198885\n",
       "[81]  0.039088681  0.230379152  0.066651029 -0.042581329  0.256261938\n",
       "[86]  0.077605487 -0.186812747  0.340998363  0.228712972  0.511418430\n",
       "[91]  0.247408157 -0.132938278  0.317304645  0.270156135  0.095328951"
      ]
     },
     "metadata": {},
     "output_type": "display_data"
    }
   ],
   "source": [
    "e[73:167]"
   ]
  },
  {
   "cell_type": "code",
   "execution_count": 27,
   "id": "2c6ef37c",
   "metadata": {
    "vscode": {
     "languageId": "r"
    }
   },
   "outputs": [
    {
     "data": {
      "text/html": [
       "<table class=\"dataframe\">\n",
       "<caption>A matrix: 1 × 1 of type dbl</caption>\n",
       "<tbody>\n",
       "\t<tr><td>0.9207541</td></tr>\n",
       "</tbody>\n",
       "</table>\n"
      ],
      "text/latex": [
       "A matrix: 1 × 1 of type dbl\n",
       "\\begin{tabular}{l}\n",
       "\t 0.9207541\\\\\n",
       "\\end{tabular}\n"
      ],
      "text/markdown": [
       "\n",
       "A matrix: 1 × 1 of type dbl\n",
       "\n",
       "| 0.9207541 |\n",
       "\n"
      ],
      "text/plain": [
       "     [,1]     \n",
       "[1,] 0.9207541"
      ]
     },
     "metadata": {},
     "output_type": "display_data"
    }
   ],
   "source": [
    "library(miscTools)\n",
    "rSquared(cpi_ts[73:167], e[73:167])"
   ]
  },
  {
   "cell_type": "code",
   "execution_count": 29,
   "id": "893b574c",
   "metadata": {
    "vscode": {
     "languageId": "r"
    }
   },
   "outputs": [
    {
     "data": {
      "text/html": [
       "<style>\n",
       ".list-inline {list-style: none; margin:0; padding: 0}\n",
       ".list-inline>li {display: inline-block}\n",
       ".list-inline>li:not(:last-child)::after {content: \"\\00b7\"; padding: 0 .5ex}\n",
       "</style>\n",
       "<ol class=list-inline><li>99.6556560114421</li><li>99.6247387608851</li><li>98.5058583537312</li><li>98.0493101766111</li><li>98.0170767148507</li><li>97.6155990309663</li><li>98.3929920556941</li><li>98.3587888213698</li><li>99.7724785341424</li><li>99.2597572205684</li><li>101.278940623402</li><li>101.972328851895</li><li>102.079064414494</li><li>102.974365853653</li><li>103.096980038682</li><li>101.992496593968</li><li>102.639272446161</li><li>103.289345932275</li><li>103.44497385945</li><li>103.813710690345</li><li>103.619450740546</li><li>104.925053667877</li><li>107.220046066508</li><li>104.41034193209</li><li>103.269324812518</li><li>104.182898484067</li><li>105.321479122787</li><li>105.589631965671</li><li>106.229837525296</li><li>106.388805737845</li><li>106.898518491962</li><li>106.175489973081</li><li>106.580526857792</li><li>105.456568230335</li><li>104.466053363264</li><li>104.251175362627</li><li>105.447783594084</li><li>103.273616386307</li><li>102.733555354609</li><li>102.738875300617</li><li>102.814204483565</li><li>101.901279268587</li><li>102.025073784671</li><li>102.195616862885</li><li>101.83417130338</li><li>101.696636341349</li><li>101.942543009875</li><li>102.924657086454</li><li>103.386127953811</li><li>103.375953555262</li><li>102.823527946887</li><li>102.548486296291</li><li>102.57461066442</li><li>102.905148068167</li><li>102.942905581956</li><li>102.6256171155</li><li>103.17991537751</li><li>103.305383982713</li><li>103.16888927796</li><li>102.773362446083</li><li>102.965512447007</li><li>102.03834210716</li><li>101.88789070513</li><li>101.565316158138</li><li>102.446609950848</li><li>102.598642807586</li><li>102.231054114845</li><li>101.889046487446</li><li>101.606946945872</li><li>101.611547869086</li><li>101.502451866134</li><li>101.60502052807</li><li>101.004286694158</li><li>101.342720838553</li><li>101.302207018786</li><li>101.50700484352</li><li>101.392912923325</li><li>101.625201055262</li><li>101.735195299448</li><li>102.015198884836</li><li>101.639088681492</li><li>101.500379151722</li><li>101.556651028877</li><li>101.597418670723</li><li>102.006261937855</li><li>102.357605487396</li><li>102.113187252726</li><li>102.670998362597</li><li>102.268712971549</li><li>102.391418430295</li><li>102.017408156823</li><li>101.207061722373</li><li>102.237304645195</li><li>102.37015613507</li><li>102.345328951242</li></ol>\n"
      ],
      "text/latex": [
       "\\begin{enumerate*}\n",
       "\\item 99.6556560114421\n",
       "\\item 99.6247387608851\n",
       "\\item 98.5058583537312\n",
       "\\item 98.0493101766111\n",
       "\\item 98.0170767148507\n",
       "\\item 97.6155990309663\n",
       "\\item 98.3929920556941\n",
       "\\item 98.3587888213698\n",
       "\\item 99.7724785341424\n",
       "\\item 99.2597572205684\n",
       "\\item 101.278940623402\n",
       "\\item 101.972328851895\n",
       "\\item 102.079064414494\n",
       "\\item 102.974365853653\n",
       "\\item 103.096980038682\n",
       "\\item 101.992496593968\n",
       "\\item 102.639272446161\n",
       "\\item 103.289345932275\n",
       "\\item 103.44497385945\n",
       "\\item 103.813710690345\n",
       "\\item 103.619450740546\n",
       "\\item 104.925053667877\n",
       "\\item 107.220046066508\n",
       "\\item 104.41034193209\n",
       "\\item 103.269324812518\n",
       "\\item 104.182898484067\n",
       "\\item 105.321479122787\n",
       "\\item 105.589631965671\n",
       "\\item 106.229837525296\n",
       "\\item 106.388805737845\n",
       "\\item 106.898518491962\n",
       "\\item 106.175489973081\n",
       "\\item 106.580526857792\n",
       "\\item 105.456568230335\n",
       "\\item 104.466053363264\n",
       "\\item 104.251175362627\n",
       "\\item 105.447783594084\n",
       "\\item 103.273616386307\n",
       "\\item 102.733555354609\n",
       "\\item 102.738875300617\n",
       "\\item 102.814204483565\n",
       "\\item 101.901279268587\n",
       "\\item 102.025073784671\n",
       "\\item 102.195616862885\n",
       "\\item 101.83417130338\n",
       "\\item 101.696636341349\n",
       "\\item 101.942543009875\n",
       "\\item 102.924657086454\n",
       "\\item 103.386127953811\n",
       "\\item 103.375953555262\n",
       "\\item 102.823527946887\n",
       "\\item 102.548486296291\n",
       "\\item 102.57461066442\n",
       "\\item 102.905148068167\n",
       "\\item 102.942905581956\n",
       "\\item 102.6256171155\n",
       "\\item 103.17991537751\n",
       "\\item 103.305383982713\n",
       "\\item 103.16888927796\n",
       "\\item 102.773362446083\n",
       "\\item 102.965512447007\n",
       "\\item 102.03834210716\n",
       "\\item 101.88789070513\n",
       "\\item 101.565316158138\n",
       "\\item 102.446609950848\n",
       "\\item 102.598642807586\n",
       "\\item 102.231054114845\n",
       "\\item 101.889046487446\n",
       "\\item 101.606946945872\n",
       "\\item 101.611547869086\n",
       "\\item 101.502451866134\n",
       "\\item 101.60502052807\n",
       "\\item 101.004286694158\n",
       "\\item 101.342720838553\n",
       "\\item 101.302207018786\n",
       "\\item 101.50700484352\n",
       "\\item 101.392912923325\n",
       "\\item 101.625201055262\n",
       "\\item 101.735195299448\n",
       "\\item 102.015198884836\n",
       "\\item 101.639088681492\n",
       "\\item 101.500379151722\n",
       "\\item 101.556651028877\n",
       "\\item 101.597418670723\n",
       "\\item 102.006261937855\n",
       "\\item 102.357605487396\n",
       "\\item 102.113187252726\n",
       "\\item 102.670998362597\n",
       "\\item 102.268712971549\n",
       "\\item 102.391418430295\n",
       "\\item 102.017408156823\n",
       "\\item 101.207061722373\n",
       "\\item 102.237304645195\n",
       "\\item 102.37015613507\n",
       "\\item 102.345328951242\n",
       "\\end{enumerate*}\n"
      ],
      "text/markdown": [
       "1. 99.6556560114421\n",
       "2. 99.6247387608851\n",
       "3. 98.5058583537312\n",
       "4. 98.0493101766111\n",
       "5. 98.0170767148507\n",
       "6. 97.6155990309663\n",
       "7. 98.3929920556941\n",
       "8. 98.3587888213698\n",
       "9. 99.7724785341424\n",
       "10. 99.2597572205684\n",
       "11. 101.278940623402\n",
       "12. 101.972328851895\n",
       "13. 102.079064414494\n",
       "14. 102.974365853653\n",
       "15. 103.096980038682\n",
       "16. 101.992496593968\n",
       "17. 102.639272446161\n",
       "18. 103.289345932275\n",
       "19. 103.44497385945\n",
       "20. 103.813710690345\n",
       "21. 103.619450740546\n",
       "22. 104.925053667877\n",
       "23. 107.220046066508\n",
       "24. 104.41034193209\n",
       "25. 103.269324812518\n",
       "26. 104.182898484067\n",
       "27. 105.321479122787\n",
       "28. 105.589631965671\n",
       "29. 106.229837525296\n",
       "30. 106.388805737845\n",
       "31. 106.898518491962\n",
       "32. 106.175489973081\n",
       "33. 106.580526857792\n",
       "34. 105.456568230335\n",
       "35. 104.466053363264\n",
       "36. 104.251175362627\n",
       "37. 105.447783594084\n",
       "38. 103.273616386307\n",
       "39. 102.733555354609\n",
       "40. 102.738875300617\n",
       "41. 102.814204483565\n",
       "42. 101.901279268587\n",
       "43. 102.025073784671\n",
       "44. 102.195616862885\n",
       "45. 101.83417130338\n",
       "46. 101.696636341349\n",
       "47. 101.942543009875\n",
       "48. 102.924657086454\n",
       "49. 103.386127953811\n",
       "50. 103.375953555262\n",
       "51. 102.823527946887\n",
       "52. 102.548486296291\n",
       "53. 102.57461066442\n",
       "54. 102.905148068167\n",
       "55. 102.942905581956\n",
       "56. 102.6256171155\n",
       "57. 103.17991537751\n",
       "58. 103.305383982713\n",
       "59. 103.16888927796\n",
       "60. 102.773362446083\n",
       "61. 102.965512447007\n",
       "62. 102.03834210716\n",
       "63. 101.88789070513\n",
       "64. 101.565316158138\n",
       "65. 102.446609950848\n",
       "66. 102.598642807586\n",
       "67. 102.231054114845\n",
       "68. 101.889046487446\n",
       "69. 101.606946945872\n",
       "70. 101.611547869086\n",
       "71. 101.502451866134\n",
       "72. 101.60502052807\n",
       "73. 101.004286694158\n",
       "74. 101.342720838553\n",
       "75. 101.302207018786\n",
       "76. 101.50700484352\n",
       "77. 101.392912923325\n",
       "78. 101.625201055262\n",
       "79. 101.735195299448\n",
       "80. 102.015198884836\n",
       "81. 101.639088681492\n",
       "82. 101.500379151722\n",
       "83. 101.556651028877\n",
       "84. 101.597418670723\n",
       "85. 102.006261937855\n",
       "86. 102.357605487396\n",
       "87. 102.113187252726\n",
       "88. 102.670998362597\n",
       "89. 102.268712971549\n",
       "90. 102.391418430295\n",
       "91. 102.017408156823\n",
       "92. 101.207061722373\n",
       "93. 102.237304645195\n",
       "94. 102.37015613507\n",
       "95. 102.345328951242\n",
       "\n",
       "\n"
      ],
      "text/plain": [
       " [1]  99.65566  99.62474  98.50586  98.04931  98.01708  97.61560  98.39299\n",
       " [8]  98.35879  99.77248  99.25976 101.27894 101.97233 102.07906 102.97437\n",
       "[15] 103.09698 101.99250 102.63927 103.28935 103.44497 103.81371 103.61945\n",
       "[22] 104.92505 107.22005 104.41034 103.26932 104.18290 105.32148 105.58963\n",
       "[29] 106.22984 106.38881 106.89852 106.17549 106.58053 105.45657 104.46605\n",
       "[36] 104.25118 105.44778 103.27362 102.73356 102.73888 102.81420 101.90128\n",
       "[43] 102.02507 102.19562 101.83417 101.69664 101.94254 102.92466 103.38613\n",
       "[50] 103.37595 102.82353 102.54849 102.57461 102.90515 102.94291 102.62562\n",
       "[57] 103.17992 103.30538 103.16889 102.77336 102.96551 102.03834 101.88789\n",
       "[64] 101.56532 102.44661 102.59864 102.23105 101.88905 101.60695 101.61155\n",
       "[71] 101.50245 101.60502 101.00429 101.34272 101.30221 101.50700 101.39291\n",
       "[78] 101.62520 101.73520 102.01520 101.63909 101.50038 101.55665 101.59742\n",
       "[85] 102.00626 102.35761 102.11319 102.67100 102.26871 102.39142 102.01741\n",
       "[92] 101.20706 102.23730 102.37016 102.34533"
      ]
     },
     "metadata": {},
     "output_type": "display_data"
    }
   ],
   "source": [
    "ts_pred <- cpi_ts[73:167] + e[73:167]\n",
    "ts_pred"
   ]
  },
  {
   "cell_type": "code",
   "execution_count": 35,
   "id": "5c56f89c",
   "metadata": {
    "vscode": {
     "languageId": "r"
    }
   },
   "outputs": [
    {
     "data": {
      "image/png": "[encoded data removed]",
      "text/plain": [
       "plot without title"
      ]
     },
     "metadata": {
      "image/png": {
       "height": 420,
       "width": 420
      }
     },
     "output_type": "display_data"
    }
   ],
   "source": [
    "# Plot the train and test data\n",
    "plot(cpi, type = \"l\", xlab = \"Time\", ylab = \"Value\")\n",
    "lines(x = 73:167, y = ts_pred, col = \"#ff009d\", type = \"o\")"
   ]
  },
  {
   "attachments": {},
   "cell_type": "markdown",
   "id": "3b9e650f-e6a2-435f-b8b3-352862c9e560",
   "metadata": {},
   "source": [
    "# Then I fit the neural network model to the dataset"
   ]
  },
  {
   "attachments": {},
   "cell_type": "markdown",
   "id": "a496d521-fdbe-4dd1-a025-6ee24a241e0a",
   "metadata": {},
   "source": [
    "* Recurrent Neural Networks (RNNs): RNNs are a type of neural network that are designed to handle sequential data, such as time series data. They can be used to model the complex nonlinear relationships between y and X while taking into account the temporal dependencies between them.\n",
    "\n",
    "* Long Short-Term Memory (LSTM) networks: LSTM networks are a type of RNN that are particularly suited for modeling long-term dependencies in time series data. They can be used to model the relationships between y and X while capturing the long-term dependencies between them.\n",
    "\n",
    "* As our model is a time series dataset, it is helpful for us to choose LSTM to fit our model."
   ]
  },
  {
   "cell_type": "code",
   "execution_count": 112,
   "id": "11264ecd-7000-499c-a50b-2236b0952698",
   "metadata": {
    "vscode": {
     "languageId": "r"
    }
   },
   "outputs": [
    {
     "name": "stderr",
     "output_type": "stream",
     "text": [
      "WARNING: Rtools is required to build R packages, but is not currently installed.\n",
      "\n",
      "Please download and install Rtools 4.2 from https://cran.r-project.org/bin/windows/Rtools/ or https://www.r-project.org/nosvn/winutf8/ucrt3/.\n",
      "\n",
      "Skipping install of 'keras' from a github remote, the SHA1 (bed1f6df) has not changed since last install.\n",
      "  Use `force = TRUE` to force installation\n",
      "\n"
     ]
    },
    {
     "ename": "ERROR",
     "evalue": "Error in tensorflow::install_tensorflow(method = method, conda = conda, : You should call install_tensorflow()/install_keras() only in a fresh R session that has not yet initialized Keras and TensorFlow (this is to avoid DLL in use errors during installation)\n",
     "output_type": "error",
     "traceback": [
      "Error in tensorflow::install_tensorflow(method = method, conda = conda, : You should call install_tensorflow()/install_keras() only in a fresh R session that has not yet initialized Keras and TensorFlow (this is to avoid DLL in use errors during installation)\nTraceback:\n",
      "1. install_keras()",
      "2. tensorflow::install_tensorflow(method = method, conda = conda, \n .     version = tensorflow, extra_packages = pkgs, pip_ignore_installed = pip_ignore_installed, \n .     ...)",
      "3. stop(\"You should call install_tensorflow()/install_keras() only in a fresh \", \n .     \"R session that has not yet initialized Keras and TensorFlow (this is \", \n .     \"to avoid DLL in use errors during installation)\")"
     ]
    }
   ],
   "source": [
    "devtools::install_github(\"rstudio/keras\")\n",
    "# then install Tensorflow backend as follows:\n",
    "library(keras)\n",
    "install_keras()"
   ]
  },
  {
   "cell_type": "code",
   "execution_count": 23,
   "id": "07b6392c-8c75-4b54-9bc2-d95739e22b53",
   "metadata": {
    "vscode": {
     "languageId": "r"
    }
   },
   "outputs": [
    {
     "data": {
      "text/html": [
       "<style>\n",
       ".list-inline {list-style: none; margin:0; padding: 0}\n",
       ".list-inline>li {display: inline-block}\n",
       ".list-inline>li:not(:last-child)::after {content: \"\\00b7\"; padding: 0 .5ex}\n",
       "</style>\n",
       "<ol class=list-inline><li>168</li><li>151</li></ol>\n"
      ],
      "text/latex": [
       "\\begin{enumerate*}\n",
       "\\item 168\n",
       "\\item 151\n",
       "\\end{enumerate*}\n"
      ],
      "text/markdown": [
       "1. 168\n",
       "2. 151\n",
       "\n",
       "\n"
      ],
      "text/plain": [
       "[1] 168 151"
      ]
     },
     "metadata": {},
     "output_type": "display_data"
    }
   ],
   "source": [
    "dim(X_ts)"
   ]
  },
  {
   "cell_type": "code",
   "execution_count": 42,
   "id": "b595f95e-0913-4453-a4fb-97a490c6a229",
   "metadata": {
    "vscode": {
     "languageId": "r"
    }
   },
   "outputs": [],
   "source": [
    "library(keras)\n",
    "library(tensorflow)"
   ]
  },
  {
   "cell_type": "code",
   "execution_count": 43,
   "id": "cf174305",
   "metadata": {
    "vscode": {
     "languageId": "r"
    }
   },
   "outputs": [],
   "source": [
    "# transforms the data into stationary\n",
    "# I tried the difference to be 1, but I found it is not so whitenoise like I set the difference to 2.\n",
    "\n",
    "cpi_diff <- diff(cpi_ts, difference = 1)\n",
    "X_diff <- diff(X_ts, difference = 1)\n",
    "X_pca_diff <- diff(X_pca, difference = 1)"
   ]
  },
  {
   "cell_type": "code",
   "execution_count": 44,
   "id": "92e2bb96",
   "metadata": {
    "vscode": {
     "languageId": "r"
    }
   },
   "outputs": [
    {
     "data": {
      "image/png": "[encoded data removed]",
      "text/plain": [
       "plot without title"
      ]
     },
     "metadata": {
      "image/png": {
       "height": 420,
       "width": 420
      }
     },
     "output_type": "display_data"
    }
   ],
   "source": [
    "autoplot(cpi_diff)"
   ]
  },
  {
   "cell_type": "code",
   "execution_count": 60,
   "id": "1ef4aab6",
   "metadata": {
    "vscode": {
     "languageId": "r"
    }
   },
   "outputs": [
    {
     "data": {
      "text/html": [
       "<table class=\"dataframe\">\n",
       "<caption>A data.frame: 6 × 2</caption>\n",
       "<thead>\n",
       "\t<tr><th></th><th scope=col>x</th><th scope=col>lagged</th></tr>\n",
       "\t<tr><th></th><th scope=col>&lt;dbl&gt;</th><th scope=col>&lt;dbl&gt;</th></tr>\n",
       "</thead>\n",
       "<tbody>\n",
       "\t<tr><th scope=row>1</th><td>-0.2</td><td> 0.0</td></tr>\n",
       "\t<tr><th scope=row>2</th><td> 0.7</td><td>-0.2</td></tr>\n",
       "\t<tr><th scope=row>3</th><td> 0.1</td><td> 0.7</td></tr>\n",
       "\t<tr><th scope=row>4</th><td>-0.3</td><td> 0.1</td></tr>\n",
       "\t<tr><th scope=row>5</th><td>-0.4</td><td>-0.3</td></tr>\n",
       "\t<tr><th scope=row>6</th><td> 0.2</td><td>-0.4</td></tr>\n",
       "</tbody>\n",
       "</table>\n"
      ],
      "text/latex": [
       "A data.frame: 6 × 2\n",
       "\\begin{tabular}{r|ll}\n",
       "  & x & lagged\\\\\n",
       "  & <dbl> & <dbl>\\\\\n",
       "\\hline\n",
       "\t1 & -0.2 &  0.0\\\\\n",
       "\t2 &  0.7 & -0.2\\\\\n",
       "\t3 &  0.1 &  0.7\\\\\n",
       "\t4 & -0.3 &  0.1\\\\\n",
       "\t5 & -0.4 & -0.3\\\\\n",
       "\t6 &  0.2 & -0.4\\\\\n",
       "\\end{tabular}\n"
      ],
      "text/markdown": [
       "\n",
       "A data.frame: 6 × 2\n",
       "\n",
       "| <!--/--> | x &lt;dbl&gt; | lagged &lt;dbl&gt; |\n",
       "|---|---|---|\n",
       "| 1 | -0.2 |  0.0 |\n",
       "| 2 |  0.7 | -0.2 |\n",
       "| 3 |  0.1 |  0.7 |\n",
       "| 4 | -0.3 |  0.1 |\n",
       "| 5 | -0.4 | -0.3 |\n",
       "| 6 |  0.2 | -0.4 |\n",
       "\n"
      ],
      "text/plain": [
       "  x    lagged\n",
       "1 -0.2  0.0  \n",
       "2  0.7 -0.2  \n",
       "3  0.1  0.7  \n",
       "4 -0.3  0.1  \n",
       "5 -0.4 -0.3  \n",
       "6  0.2 -0.4  "
      ]
     },
     "metadata": {},
     "output_type": "display_data"
    }
   ],
   "source": [
    "# Then we lag the response varibale into the dataset\n",
    "lag_transform <- function(x, k= k){\n",
    "    \n",
    "      lagged =  c(rep(NA, k), x[1:(length(x)-k)])\n",
    "      DF = as.data.frame(cbind(x, lagged))\n",
    "      colnames(DF) <- c('cpi', paste0('cpi-', k))\n",
    "      DF[is.na(DF)] <- 0\n",
    "      return(DF)\n",
    "}\n",
    "\n",
    "cpi_lag <- lag_transform(cpi_diff, 1)\n",
    "head(cpi_lag)"
   ]
  },
  {
   "cell_type": "code",
   "execution_count": 66,
   "id": "1978e3bb",
   "metadata": {
    "vscode": {
     "languageId": "r"
    }
   },
   "outputs": [],
   "source": [
    "# As the results are not so good, I think maybe I should include more lag terms into the dataset\n",
    "lag <- c(rep(0, length(cpi_diff)))\n",
    "cpi_laged <- cpi_diff\n",
    "for(i in 1:12){\n",
    "    cpi_lag <- lag_transform(cpi_diff, i)\n",
    "    lag <- cpi_lag[ , 2]\n",
    "    cpi_laged <- cbind(cpi_laged, lag)\n",
    "}"
   ]
  },
  {
   "cell_type": "code",
   "execution_count": 87,
   "id": "351dbbdb",
   "metadata": {
    "vscode": {
     "languageId": "r"
    }
   },
   "outputs": [
    {
     "data": {
      "text/html": [
       "<table class=\"dataframe\">\n",
       "<caption>A data.frame: 6 × 13</caption>\n",
       "<thead>\n",
       "\t<tr><th></th><th scope=col>cpi</th><th scope=col>cpi-1</th><th scope=col>cpi-2</th><th scope=col>cpi-3</th><th scope=col>cpi-4</th><th scope=col>cpi-5</th><th scope=col>cpi-6</th><th scope=col>cpi-7</th><th scope=col>cpi-8</th><th scope=col>cpi-9</th><th scope=col>cpi-10</th><th scope=col>cpi-11</th><th scope=col>cpi-12</th></tr>\n",
       "\t<tr><th></th><th scope=col>&lt;dbl&gt;</th><th scope=col>&lt;dbl&gt;</th><th scope=col>&lt;dbl&gt;</th><th scope=col>&lt;dbl&gt;</th><th scope=col>&lt;dbl&gt;</th><th scope=col>&lt;dbl&gt;</th><th scope=col>&lt;dbl&gt;</th><th scope=col>&lt;dbl&gt;</th><th scope=col>&lt;dbl&gt;</th><th scope=col>&lt;dbl&gt;</th><th scope=col>&lt;dbl&gt;</th><th scope=col>&lt;dbl&gt;</th><th scope=col>&lt;dbl&gt;</th></tr>\n",
       "</thead>\n",
       "<tbody>\n",
       "\t<tr><th scope=row>1</th><td>-0.2</td><td> 0.0</td><td> 0.0</td><td> 0.0</td><td> 0.0</td><td> 0.0</td><td>0</td><td>0</td><td>0</td><td>0</td><td>0</td><td>0</td><td>0</td></tr>\n",
       "\t<tr><th scope=row>2</th><td> 0.7</td><td>-0.2</td><td> 0.0</td><td> 0.0</td><td> 0.0</td><td> 0.0</td><td>0</td><td>0</td><td>0</td><td>0</td><td>0</td><td>0</td><td>0</td></tr>\n",
       "\t<tr><th scope=row>3</th><td> 0.1</td><td> 0.7</td><td>-0.2</td><td> 0.0</td><td> 0.0</td><td> 0.0</td><td>0</td><td>0</td><td>0</td><td>0</td><td>0</td><td>0</td><td>0</td></tr>\n",
       "\t<tr><th scope=row>4</th><td>-0.3</td><td> 0.1</td><td> 0.7</td><td>-0.2</td><td> 0.0</td><td> 0.0</td><td>0</td><td>0</td><td>0</td><td>0</td><td>0</td><td>0</td><td>0</td></tr>\n",
       "\t<tr><th scope=row>5</th><td>-0.4</td><td>-0.3</td><td> 0.1</td><td> 0.7</td><td>-0.2</td><td> 0.0</td><td>0</td><td>0</td><td>0</td><td>0</td><td>0</td><td>0</td><td>0</td></tr>\n",
       "\t<tr><th scope=row>6</th><td> 0.2</td><td>-0.4</td><td>-0.3</td><td> 0.1</td><td> 0.7</td><td>-0.2</td><td>0</td><td>0</td><td>0</td><td>0</td><td>0</td><td>0</td><td>0</td></tr>\n",
       "</tbody>\n",
       "</table>\n"
      ],
      "text/latex": [
       "A data.frame: 6 × 13\n",
       "\\begin{tabular}{r|lllllllllllll}\n",
       "  & cpi & cpi-1 & cpi-2 & cpi-3 & cpi-4 & cpi-5 & cpi-6 & cpi-7 & cpi-8 & cpi-9 & cpi-10 & cpi-11 & cpi-12\\\\\n",
       "  & <dbl> & <dbl> & <dbl> & <dbl> & <dbl> & <dbl> & <dbl> & <dbl> & <dbl> & <dbl> & <dbl> & <dbl> & <dbl>\\\\\n",
       "\\hline\n",
       "\t1 & -0.2 &  0.0 &  0.0 &  0.0 &  0.0 &  0.0 & 0 & 0 & 0 & 0 & 0 & 0 & 0\\\\\n",
       "\t2 &  0.7 & -0.2 &  0.0 &  0.0 &  0.0 &  0.0 & 0 & 0 & 0 & 0 & 0 & 0 & 0\\\\\n",
       "\t3 &  0.1 &  0.7 & -0.2 &  0.0 &  0.0 &  0.0 & 0 & 0 & 0 & 0 & 0 & 0 & 0\\\\\n",
       "\t4 & -0.3 &  0.1 &  0.7 & -0.2 &  0.0 &  0.0 & 0 & 0 & 0 & 0 & 0 & 0 & 0\\\\\n",
       "\t5 & -0.4 & -0.3 &  0.1 &  0.7 & -0.2 &  0.0 & 0 & 0 & 0 & 0 & 0 & 0 & 0\\\\\n",
       "\t6 &  0.2 & -0.4 & -0.3 &  0.1 &  0.7 & -0.2 & 0 & 0 & 0 & 0 & 0 & 0 & 0\\\\\n",
       "\\end{tabular}\n"
      ],
      "text/markdown": [
       "\n",
       "A data.frame: 6 × 13\n",
       "\n",
       "| <!--/--> | cpi &lt;dbl&gt; | cpi-1 &lt;dbl&gt; | cpi-2 &lt;dbl&gt; | cpi-3 &lt;dbl&gt; | cpi-4 &lt;dbl&gt; | cpi-5 &lt;dbl&gt; | cpi-6 &lt;dbl&gt; | cpi-7 &lt;dbl&gt; | cpi-8 &lt;dbl&gt; | cpi-9 &lt;dbl&gt; | cpi-10 &lt;dbl&gt; | cpi-11 &lt;dbl&gt; | cpi-12 &lt;dbl&gt; |\n",
       "|---|---|---|---|---|---|---|---|---|---|---|---|---|---|\n",
       "| 1 | -0.2 |  0.0 |  0.0 |  0.0 |  0.0 |  0.0 | 0 | 0 | 0 | 0 | 0 | 0 | 0 |\n",
       "| 2 |  0.7 | -0.2 |  0.0 |  0.0 |  0.0 |  0.0 | 0 | 0 | 0 | 0 | 0 | 0 | 0 |\n",
       "| 3 |  0.1 |  0.7 | -0.2 |  0.0 |  0.0 |  0.0 | 0 | 0 | 0 | 0 | 0 | 0 | 0 |\n",
       "| 4 | -0.3 |  0.1 |  0.7 | -0.2 |  0.0 |  0.0 | 0 | 0 | 0 | 0 | 0 | 0 | 0 |\n",
       "| 5 | -0.4 | -0.3 |  0.1 |  0.7 | -0.2 |  0.0 | 0 | 0 | 0 | 0 | 0 | 0 | 0 |\n",
       "| 6 |  0.2 | -0.4 | -0.3 |  0.1 |  0.7 | -0.2 | 0 | 0 | 0 | 0 | 0 | 0 | 0 |\n",
       "\n"
      ],
      "text/plain": [
       "  cpi  cpi-1 cpi-2 cpi-3 cpi-4 cpi-5 cpi-6 cpi-7 cpi-8 cpi-9 cpi-10 cpi-11\n",
       "1 -0.2  0.0   0.0   0.0   0.0   0.0  0     0     0     0     0      0     \n",
       "2  0.7 -0.2   0.0   0.0   0.0   0.0  0     0     0     0     0      0     \n",
       "3  0.1  0.7  -0.2   0.0   0.0   0.0  0     0     0     0     0      0     \n",
       "4 -0.3  0.1   0.7  -0.2   0.0   0.0  0     0     0     0     0      0     \n",
       "5 -0.4 -0.3   0.1   0.7  -0.2   0.0  0     0     0     0     0      0     \n",
       "6  0.2 -0.4  -0.3   0.1   0.7  -0.2  0     0     0     0     0      0     \n",
       "  cpi-12\n",
       "1 0     \n",
       "2 0     \n",
       "3 0     \n",
       "4 0     \n",
       "5 0     \n",
       "6 0     "
      ]
     },
     "metadata": {},
     "output_type": "display_data"
    }
   ],
   "source": [
    "cpi_laged <- as.data.frame(cpi_laged)\n",
    "colnames(cpi_laged) <- c(\"cpi\", \"cpi-1\", \"cpi-2\", \"cpi-3\", \"cpi-4\", \"cpi-5\", \"cpi-6\", \"cpi-7\", \"cpi-8\", \"cpi-9\", \"cpi-10\", \"cpi-11\", \"cpi-12\")\n",
    "head(cpi_laged)\n"
   ]
  },
  {
   "cell_type": "code",
   "execution_count": 92,
   "id": "32a72d1a",
   "metadata": {
    "vscode": {
     "languageId": "r"
    }
   },
   "outputs": [],
   "source": [
    "# then we bind X_diff and our cpi_lag together\n",
    "cpi_whole <- cbind(cpi_laged, X_diff)\n",
    "cpi_whole <- cpi_whole[-(1:12), ]\n"
   ]
  },
  {
   "cell_type": "code",
   "execution_count": 93,
   "id": "f72ef30f",
   "metadata": {
    "vscode": {
     "languageId": "r"
    }
   },
   "outputs": [
    {
     "data": {
      "text/html": [
       "<style>\n",
       ".list-inline {list-style: none; margin:0; padding: 0}\n",
       ".list-inline>li {display: inline-block}\n",
       ".list-inline>li:not(:last-child)::after {content: \"\\00b7\"; padding: 0 .5ex}\n",
       "</style>\n",
       "<ol class=list-inline><li>155</li><li>164</li></ol>\n"
      ],
      "text/latex": [
       "\\begin{enumerate*}\n",
       "\\item 155\n",
       "\\item 164\n",
       "\\end{enumerate*}\n"
      ],
      "text/markdown": [
       "1. 155\n",
       "2. 164\n",
       "\n",
       "\n"
      ],
      "text/plain": [
       "[1] 155 164"
      ]
     },
     "metadata": {},
     "output_type": "display_data"
    }
   ],
   "source": [
    "dim(cpi_whole)"
   ]
  },
  {
   "attachments": {},
   "cell_type": "markdown",
   "id": "30694415",
   "metadata": {},
   "source": [
    "## As I don't know the underlying split funciton in the tsCV function, to run the another cross-validation, I run the code following:"
   ]
  },
  {
   "cell_type": "code",
   "execution_count": 36,
   "id": "c0b17a88",
   "metadata": {
    "vscode": {
     "languageId": "r"
    }
   },
   "outputs": [],
   "source": [
    "library(forecast)\n",
    "\n",
    "# Define the number of observations in the initial training set\n",
    "train_window <- 84\n",
    "\n",
    "# Define the number of observations to forecast\n",
    "test_window <- 1\n",
    "\n",
    "my_data <- data.frame(cbind(cpi_ts, X_pca))\n",
    "\n",
    "# Define the total number of cross-validation iterations\n",
    "num_iterations <- nrow(my_data) - train_window - test_window + 1\n",
    "\n",
    "# Create an empty vector to store prediction values\n",
    "preds <- rep(NA, num_iterations)"
   ]
  },
  {
   "attachments": {},
   "cell_type": "markdown",
   "id": "f5e2e3f1",
   "metadata": {},
   "source": [
    "## When I set the pca to cover the 99% variance of the original data, the number of the columns will be over 70 and that will invalidatae the auto.arima model. Therefore, I should also change the train window to be bigger."
   ]
  },
  {
   "cell_type": "code",
   "execution_count": 37,
   "id": "0b647b4f",
   "metadata": {
    "vscode": {
     "languageId": "r"
    }
   },
   "outputs": [],
   "source": [
    "# Loop through each iteration of cross-validation\n",
    "for(i in 1:num_iterations) {\n",
    "  # Define the training set and test set for this iteration\n",
    "  train_data <- my_data[i:(i+train_window-1),]\n",
    "  test_data <- my_data[(i+train_window):(i+train_window+test_window-1),]\n",
    "  \n",
    "  # Fit the model on the training data\n",
    "  model <- auto.arima(train_data[,1], xreg = as.matrix(train_data[,-1]))\n",
    "  \n",
    "  # Make predictions on the test data\n",
    "  preds[i] <- forecast(model, h = test_window, xreg = as.matrix(test_data[,-1]))$mean\n",
    "}\n"
   ]
  },
  {
   "cell_type": "code",
   "execution_count": 38,
   "id": "03f2310d",
   "metadata": {
    "vscode": {
     "languageId": "r"
    }
   },
   "outputs": [
    {
     "data": {
      "text/html": [
       "84"
      ],
      "text/latex": [
       "84"
      ],
      "text/markdown": [
       "84"
      ],
      "text/plain": [
       "[1] 84"
      ]
     },
     "metadata": {},
     "output_type": "display_data"
    }
   ],
   "source": [
    "length(preds)"
   ]
  },
  {
   "cell_type": "code",
   "execution_count": 39,
   "id": "bee560f5",
   "metadata": {
    "vscode": {
     "languageId": "r"
    }
   },
   "outputs": [
    {
     "data": {
      "text/html": [
       "<style>\n",
       ".list-inline {list-style: none; margin:0; padding: 0}\n",
       ".list-inline>li {display: inline-block}\n",
       ".list-inline>li:not(:last-child)::after {content: \"\\00b7\"; padding: 0 .5ex}\n",
       "</style>\n",
       "<ol class=list-inline><li>101.457671148105</li><li>102.062245381339</li><li>102.0283230517</li><li>102.205794733188</li><li>103.543119097</li><li>103.69683846825</li><li>102.3914285178</li><li>103.616580022509</li><li>103.676784754547</li><li>105.466408306338</li><li>104.006983795981</li><li>105.74015726339</li><li>105.262657906195</li><li>106.513205921858</li><li>105.717524681271</li><li>105.730775295562</li><li>105.165161045525</li><li>107.593839598439</li><li>107.164905518877</li><li>105.721493388989</li><li>105.892079932506</li><li>105.157473256257</li><li>103.43080164091</li><li>103.650368710964</li><li>104.699994212626</li><li>103.006120770434</li><li>102.632637746881</li><li>102.839992392521</li><li>102.862105116995</li><li>103.051402855894</li><li>102.635358573053</li><li>101.858658384905</li><li>101.85256094492</li><li>101.878946350784</li><li>101.866010980802</li><li>102.723274694367</li><li>102.973891471419</li><li>102.660312624519</li><li>102.733453220512</li><li>102.409923489511</li><li>101.532525250366</li><li>101.846520813963</li><li>102.656656132502</li><li>103.186144535</li><li>102.899972384443</li><li>103.102635572795</li><li>102.466203334258</li><li>102.601972909589</li><li>102.146170433164</li><li>101.998442187428</li><li>102.558366096774</li><li>102.86336302866</li><li>102.893279871781</li><li>102.435795791376</li><li>102.044275755505</li><li>101.699243620703</li><li>101.526614796572</li><li>101.771516901434</li><li>101.114522954166</li><li>102.074278870938</li><li>100.959481932737</li><li>101.383673903415</li><li>101.616491888361</li><li>101.177666571805</li><li>101.039987208497</li><li>101.518882677317</li><li>102.621438260665</li><li>101.889555503828</li><li>101.507840569769</li><li>101.05527221536</li><li>102.122051341188</li><li>101.513404679084</li><li>101.771074192942</li><li>102.299003525016</li><li>102.805662635549</li><li>101.911727409772</li><li>101.934076402141</li><li>101.412592472498</li><li>101.084293346791</li><li>101.163074582322</li><li>102.210808118092</li><li>102.170630298666</li><li>102.533632298171</li><li>102.354291880218</li></ol>\n"
      ],
      "text/latex": [
       "\\begin{enumerate*}\n",
       "\\item 101.457671148105\n",
       "\\item 102.062245381339\n",
       "\\item 102.0283230517\n",
       "\\item 102.205794733188\n",
       "\\item 103.543119097\n",
       "\\item 103.69683846825\n",
       "\\item 102.3914285178\n",
       "\\item 103.616580022509\n",
       "\\item 103.676784754547\n",
       "\\item 105.466408306338\n",
       "\\item 104.006983795981\n",
       "\\item 105.74015726339\n",
       "\\item 105.262657906195\n",
       "\\item 106.513205921858\n",
       "\\item 105.717524681271\n",
       "\\item 105.730775295562\n",
       "\\item 105.165161045525\n",
       "\\item 107.593839598439\n",
       "\\item 107.164905518877\n",
       "\\item 105.721493388989\n",
       "\\item 105.892079932506\n",
       "\\item 105.157473256257\n",
       "\\item 103.43080164091\n",
       "\\item 103.650368710964\n",
       "\\item 104.699994212626\n",
       "\\item 103.006120770434\n",
       "\\item 102.632637746881\n",
       "\\item 102.839992392521\n",
       "\\item 102.862105116995\n",
       "\\item 103.051402855894\n",
       "\\item 102.635358573053\n",
       "\\item 101.858658384905\n",
       "\\item 101.85256094492\n",
       "\\item 101.878946350784\n",
       "\\item 101.866010980802\n",
       "\\item 102.723274694367\n",
       "\\item 102.973891471419\n",
       "\\item 102.660312624519\n",
       "\\item 102.733453220512\n",
       "\\item 102.409923489511\n",
       "\\item 101.532525250366\n",
       "\\item 101.846520813963\n",
       "\\item 102.656656132502\n",
       "\\item 103.186144535\n",
       "\\item 102.899972384443\n",
       "\\item 103.102635572795\n",
       "\\item 102.466203334258\n",
       "\\item 102.601972909589\n",
       "\\item 102.146170433164\n",
       "\\item 101.998442187428\n",
       "\\item 102.558366096774\n",
       "\\item 102.86336302866\n",
       "\\item 102.893279871781\n",
       "\\item 102.435795791376\n",
       "\\item 102.044275755505\n",
       "\\item 101.699243620703\n",
       "\\item 101.526614796572\n",
       "\\item 101.771516901434\n",
       "\\item 101.114522954166\n",
       "\\item 102.074278870938\n",
       "\\item 100.959481932737\n",
       "\\item 101.383673903415\n",
       "\\item 101.616491888361\n",
       "\\item 101.177666571805\n",
       "\\item 101.039987208497\n",
       "\\item 101.518882677317\n",
       "\\item 102.621438260665\n",
       "\\item 101.889555503828\n",
       "\\item 101.507840569769\n",
       "\\item 101.05527221536\n",
       "\\item 102.122051341188\n",
       "\\item 101.513404679084\n",
       "\\item 101.771074192942\n",
       "\\item 102.299003525016\n",
       "\\item 102.805662635549\n",
       "\\item 101.911727409772\n",
       "\\item 101.934076402141\n",
       "\\item 101.412592472498\n",
       "\\item 101.084293346791\n",
       "\\item 101.163074582322\n",
       "\\item 102.210808118092\n",
       "\\item 102.170630298666\n",
       "\\item 102.533632298171\n",
       "\\item 102.354291880218\n",
       "\\end{enumerate*}\n"
      ],
      "text/markdown": [
       "1. 101.457671148105\n",
       "2. 102.062245381339\n",
       "3. 102.0283230517\n",
       "4. 102.205794733188\n",
       "5. 103.543119097\n",
       "6. 103.69683846825\n",
       "7. 102.3914285178\n",
       "8. 103.616580022509\n",
       "9. 103.676784754547\n",
       "10. 105.466408306338\n",
       "11. 104.006983795981\n",
       "12. 105.74015726339\n",
       "13. 105.262657906195\n",
       "14. 106.513205921858\n",
       "15. 105.717524681271\n",
       "16. 105.730775295562\n",
       "17. 105.165161045525\n",
       "18. 107.593839598439\n",
       "19. 107.164905518877\n",
       "20. 105.721493388989\n",
       "21. 105.892079932506\n",
       "22. 105.157473256257\n",
       "23. 103.43080164091\n",
       "24. 103.650368710964\n",
       "25. 104.699994212626\n",
       "26. 103.006120770434\n",
       "27. 102.632637746881\n",
       "28. 102.839992392521\n",
       "29. 102.862105116995\n",
       "30. 103.051402855894\n",
       "31. 102.635358573053\n",
       "32. 101.858658384905\n",
       "33. 101.85256094492\n",
       "34. 101.878946350784\n",
       "35. 101.866010980802\n",
       "36. 102.723274694367\n",
       "37. 102.973891471419\n",
       "38. 102.660312624519\n",
       "39. 102.733453220512\n",
       "40. 102.409923489511\n",
       "41. 101.532525250366\n",
       "42. 101.846520813963\n",
       "43. 102.656656132502\n",
       "44. 103.186144535\n",
       "45. 102.899972384443\n",
       "46. 103.102635572795\n",
       "47. 102.466203334258\n",
       "48. 102.601972909589\n",
       "49. 102.146170433164\n",
       "50. 101.998442187428\n",
       "51. 102.558366096774\n",
       "52. 102.86336302866\n",
       "53. 102.893279871781\n",
       "54. 102.435795791376\n",
       "55. 102.044275755505\n",
       "56. 101.699243620703\n",
       "57. 101.526614796572\n",
       "58. 101.771516901434\n",
       "59. 101.114522954166\n",
       "60. 102.074278870938\n",
       "61. 100.959481932737\n",
       "62. 101.383673903415\n",
       "63. 101.616491888361\n",
       "64. 101.177666571805\n",
       "65. 101.039987208497\n",
       "66. 101.518882677317\n",
       "67. 102.621438260665\n",
       "68. 101.889555503828\n",
       "69. 101.507840569769\n",
       "70. 101.05527221536\n",
       "71. 102.122051341188\n",
       "72. 101.513404679084\n",
       "73. 101.771074192942\n",
       "74. 102.299003525016\n",
       "75. 102.805662635549\n",
       "76. 101.911727409772\n",
       "77. 101.934076402141\n",
       "78. 101.412592472498\n",
       "79. 101.084293346791\n",
       "80. 101.163074582322\n",
       "81. 102.210808118092\n",
       "82. 102.170630298666\n",
       "83. 102.533632298171\n",
       "84. 102.354291880218\n",
       "\n",
       "\n"
      ],
      "text/plain": [
       " [1] 101.4577 102.0622 102.0283 102.2058 103.5431 103.6968 102.3914 103.6166\n",
       " [9] 103.6768 105.4664 104.0070 105.7402 105.2627 106.5132 105.7175 105.7308\n",
       "[17] 105.1652 107.5938 107.1649 105.7215 105.8921 105.1575 103.4308 103.6504\n",
       "[25] 104.7000 103.0061 102.6326 102.8400 102.8621 103.0514 102.6354 101.8587\n",
       "[33] 101.8526 101.8789 101.8660 102.7233 102.9739 102.6603 102.7335 102.4099\n",
       "[41] 101.5325 101.8465 102.6567 103.1861 102.9000 103.1026 102.4662 102.6020\n",
       "[49] 102.1462 101.9984 102.5584 102.8634 102.8933 102.4358 102.0443 101.6992\n",
       "[57] 101.5266 101.7715 101.1145 102.0743 100.9595 101.3837 101.6165 101.1777\n",
       "[65] 101.0400 101.5189 102.6214 101.8896 101.5078 101.0553 102.1221 101.5134\n",
       "[73] 101.7711 102.2990 102.8057 101.9117 101.9341 101.4126 101.0843 101.1631\n",
       "[81] 102.2108 102.1706 102.5336 102.3543"
      ]
     },
     "metadata": {},
     "output_type": "display_data"
    }
   ],
   "source": [
    "preds"
   ]
  },
  {
   "cell_type": "code",
   "execution_count": 40,
   "id": "9b637d17",
   "metadata": {
    "vscode": {
     "languageId": "r"
    }
   },
   "outputs": [
    {
     "data": {
      "text/html": [
       "0.845560652199912"
      ],
      "text/latex": [
       "0.845560652199912"
      ],
      "text/markdown": [
       "0.845560652199912"
      ],
      "text/plain": [
       "[1] 0.8455607"
      ]
     },
     "metadata": {},
     "output_type": "display_data"
    }
   ],
   "source": [
    "# Calculate the out-of-sample R-squared value\n",
    "oos_rsq <- 1 - sum((cpi_ts[85:168] - preds)^2) / sum((cpi_ts[85:168]- mean(cpi_ts[85:168]))^2)\n",
    "oos_rsq "
   ]
  },
  {
   "cell_type": "code",
   "execution_count": 41,
   "id": "df250c91",
   "metadata": {
    "vscode": {
     "languageId": "r"
    }
   },
   "outputs": [
    {
     "data": {
      "image/png": "[encoded data removed]",
      "text/plain": [
       "Plot with title \"Cross-validation\""
      ]
     },
     "metadata": {
      "image/png": {
       "height": 420,
       "width": 420
      }
     },
     "output_type": "display_data"
    }
   ],
   "source": [
    "# Plot the train and test data\n",
    "plot(cpi, type = \"l\", xlab = \"Time\", ylab = \"Value\", main = \"Cross-validation\")\n",
    "lines(x = 85:168, y = preds, col = \"red\")"
   ]
  },
  {
   "cell_type": "code",
   "execution_count": 94,
   "id": "90592968",
   "metadata": {
    "vscode": {
     "languageId": "r"
    }
   },
   "outputs": [],
   "source": [
    "# then I set the data into training data and test data\n",
    "train = cpi_whole[1:132, ]\n",
    "test  = cpi_whole[133:155,  ]"
   ]
  },
  {
   "cell_type": "code",
   "execution_count": 95,
   "id": "a3940a0c",
   "metadata": {
    "vscode": {
     "languageId": "r"
    }
   },
   "outputs": [
    {
     "data": {
      "text/html": [
       "<style>\n",
       ".list-inline {list-style: none; margin:0; padding: 0}\n",
       ".list-inline>li {display: inline-block}\n",
       ".list-inline>li:not(:last-child)::after {content: \"\\00b7\"; padding: 0 .5ex}\n",
       "</style>\n",
       "<ol class=list-inline><li>132</li><li>164</li></ol>\n"
      ],
      "text/latex": [
       "\\begin{enumerate*}\n",
       "\\item 132\n",
       "\\item 164\n",
       "\\end{enumerate*}\n"
      ],
      "text/markdown": [
       "1. 132\n",
       "2. 164\n",
       "\n",
       "\n"
      ],
      "text/plain": [
       "[1] 132 164"
      ]
     },
     "metadata": {},
     "output_type": "display_data"
    }
   ],
   "source": [
    "dim(train)"
   ]
  },
  {
   "cell_type": "code",
   "execution_count": 96,
   "id": "10fd565e",
   "metadata": {
    "vscode": {
     "languageId": "r"
    }
   },
   "outputs": [],
   "source": [
    "## scale data\n",
    "scale_data = function(train, test, feature_range = c(0, 1)) {\n",
    "  x = train\n",
    "  fr_min = feature_range[1]\n",
    "  fr_max = feature_range[2]\n",
    "  std_train = ((x - min(x) ) / (max(x) - min(x)  ))\n",
    "  std_test  = ((test - min(x) ) / (max(x) - min(x)  ))\n",
    "  \n",
    "  scaled_train = std_train *(fr_max -fr_min) + fr_min\n",
    "  scaled_test = std_test *(fr_max -fr_min) + fr_min\n",
    "  \n",
    "  return( list(scaled_train = as.vector(scaled_train), scaled_test = as.vector(scaled_test) ,scaler= c(min =min(x), max = max(x))) )\n",
    "  \n",
    "}"
   ]
  },
  {
   "cell_type": "code",
   "execution_count": 97,
   "id": "e3395939",
   "metadata": {
    "vscode": {
     "languageId": "r"
    }
   },
   "outputs": [],
   "source": [
    "Scaled = scale_data(train, test, c(-1, 1))"
   ]
  },
  {
   "cell_type": "code",
   "execution_count": 99,
   "id": "3b5a26b5",
   "metadata": {
    "vscode": {
     "languageId": "r"
    }
   },
   "outputs": [],
   "source": [
    "# because the data after scaled became list, so I write the function here to change the type into data frame\n",
    "trans_data <- function(data){\n",
    "    data_transformed <- matrix(rep(0, length(data[[1]])), ncol = 1)\n",
    "    for(i in 1:length(data)){\n",
    "        vec <- as.vector(data[[i]])\n",
    "        data_transformed <- data.frame(cbind(data_transformed, vec))\n",
    "    }\n",
    "    \n",
    "    data_transformed <- data_transformed[, -1]\n",
    "    return(data_transformed)\n",
    "}"
   ]
  },
  {
   "cell_type": "code",
   "execution_count": 100,
   "id": "37609d71",
   "metadata": {
    "vscode": {
     "languageId": "r"
    }
   },
   "outputs": [],
   "source": [
    "scaled_train <- trans_data(Scaled$scaled_train)\n",
    "scaled_test <- trans_data(Scaled$scaled_test)"
   ]
  },
  {
   "cell_type": "code",
   "execution_count": 101,
   "id": "652ccb98",
   "metadata": {
    "vscode": {
     "languageId": "r"
    }
   },
   "outputs": [],
   "source": [
    "y_train = as.matrix(scaled_train[, 1])\n",
    "x_train = as.matrix(scaled_train[, 2:164])\n",
    "\n",
    "y_test = as.matrix(scaled_test[, 1])\n",
    "x_test = as.matrix(scaled_test[, 2:164])"
   ]
  },
  {
   "cell_type": "code",
   "execution_count": 102,
   "id": "ae9226b0",
   "metadata": {
    "vscode": {
     "languageId": "r"
    }
   },
   "outputs": [],
   "source": [
    "dim(x_train) <- c(132, 1, 163)\n",
    "# specify required arguments\n",
    "X_shape2 = dim(x_train)[2]\n",
    "X_shape3 = dim(x_train)[3]\n",
    "batch_size = 1                # must be a common factor of both the train and test samples\n",
    "units = 1                     # can adjust this, in model tuninig phase"
   ]
  },
  {
   "cell_type": "code",
   "execution_count": 103,
   "id": "7c82e9fa",
   "metadata": {
    "vscode": {
     "languageId": "r"
    }
   },
   "outputs": [],
   "source": [
    "model <- keras_model_sequential() \n",
    "model%>%\n",
    "  layer_lstm(units, batch_input_shape = c(batch_size, X_shape2, X_shape3), stateful= TRUE)%>%\n",
    "  layer_dense(units = 1)"
   ]
  },
  {
   "cell_type": "code",
   "execution_count": 104,
   "id": "e6e2e907-3896-4b45-8dd1-e41f2bae1cfa",
   "metadata": {
    "vscode": {
     "languageId": "r"
    }
   },
   "outputs": [],
   "source": [
    "# Compile the model\n",
    "model %>% compile(\n",
    "  loss = 'mse',\n",
    "  optimizer = optimizer_adam(),\n",
    "  metrics = c('accuracy')\n",
    ")"
   ]
  },
  {
   "cell_type": "code",
   "execution_count": 105,
   "id": "7f18eb8e",
   "metadata": {
    "vscode": {
     "languageId": "r"
    }
   },
   "outputs": [
    {
     "name": "stdout",
     "output_type": "stream",
     "text": [
      "Model: \"sequential\"\n",
      "________________________________________________________________________________\n",
      " Layer (type)                       Output Shape                    Param #     \n",
      "================================================================================\n",
      " lstm (LSTM)                        (1, 1)                          660         \n",
      " dense (Dense)                      (1, 1)                          2           \n",
      "================================================================================\n",
      "Total params: 662\n",
      "Trainable params: 662\n",
      "Non-trainable params: 0\n",
      "________________________________________________________________________________\n"
     ]
    }
   ],
   "source": [
    "summary(model)"
   ]
  },
  {
   "cell_type": "code",
   "execution_count": 106,
   "id": "8263661e-a121-4f00-89da-f9487574dd2f",
   "metadata": {
    "vscode": {
     "languageId": "r"
    }
   },
   "outputs": [],
   "source": [
    "# Train the model\n",
    "Epochs = 50  \n",
    "for(i in 1:Epochs ){\n",
    "  model %>% fit(x_train, y_train, epochs=1, batch_size=1, verbose=1, shuffle=FALSE)\n",
    "  model %>% reset_states()\n",
    "}"
   ]
  },
  {
   "cell_type": "code",
   "execution_count": 107,
   "id": "d1dc3c34",
   "metadata": {
    "vscode": {
     "languageId": "r"
    }
   },
   "outputs": [],
   "source": [
    "## inverse-transform\n",
    "invert_scaling = function(scaled, scaler, feature_range = c(0, 1)){\n",
    "  min = scaler[1]\n",
    "  max = scaler[2]\n",
    "  t = length(scaled)\n",
    "  mins = feature_range[1]\n",
    "  maxs = feature_range[2]\n",
    "  inverted_dfs = numeric(t)\n",
    "  \n",
    "  for( i in 1:t){\n",
    "    X = (scaled[i]- mins)/(maxs - mins)\n",
    "    rawValues = X *(max - min) + min\n",
    "    inverted_dfs[i] <- rawValues\n",
    "  }\n",
    "  return(inverted_dfs)\n",
    "}"
   ]
  },
  {
   "cell_type": "code",
   "execution_count": 109,
   "id": "5183f923-808c-4e0f-a28e-d554fda719a7",
   "metadata": {
    "vscode": {
     "languageId": "r"
    }
   },
   "outputs": [],
   "source": [
    "# make prediction\n",
    "L = nrow(x_test)\n",
    "scaler = Scaled$scaler\n",
    "predictions = numeric(L)\n",
    "\n",
    "for(i in 1:L){\n",
    "     X = x_test[i, ]\n",
    "     dim(X) = c(1,1,163)\n",
    "     yhat = model %>% predict(X, batch_size=batch_size)\n",
    "     # invert scaling\n",
    "     yhat = invert_scaling(yhat, scaler,  c(-1, 1))\n",
    "     # invert differencing\n",
    "     yhat  = yhat + cpi_ts[(132+i)]\n",
    "     # store\n",
    "     predictions[i] <- yhat\n",
    "}"
   ]
  },
  {
   "cell_type": "code",
   "execution_count": 110,
   "id": "38f42cfa",
   "metadata": {
    "vscode": {
     "languageId": "r"
    }
   },
   "outputs": [
    {
     "data": {
      "text/html": [
       "23"
      ],
      "text/latex": [
       "23"
      ],
      "text/markdown": [
       "23"
      ],
      "text/plain": [
       "[1] 23"
      ]
     },
     "metadata": {},
     "output_type": "display_data"
    },
    {
     "data": {
      "text/html": [
       "<style>\n",
       ".list-inline {list-style: none; margin:0; padding: 0}\n",
       ".list-inline>li {display: inline-block}\n",
       ".list-inline>li:not(:last-child)::after {content: \"\\00b7\"; padding: 0 .5ex}\n",
       "</style>\n",
       "<ol class=list-inline><li>100.829049427694</li><li>100.485041656633</li><li>101.833992250859</li><li>101.469149520098</li><li>102.660476862414</li><li>102.258277737283</li><li>102.348968473364</li><li>102.101766980373</li><li>102.025021906075</li><li>101.507021872661</li><li>101.82265408404</li><li>102.080098951625</li><li>100.738663082122</li><li>101.861800870987</li><li>101.976046066805</li><li>101.836225490383</li><li>101.239819523076</li><li>101.617518718307</li><li>101.776925512644</li><li>102.281550509901</li><li>101.874095455826</li><li>101.96214384931</li><li>101.895996536332</li></ol>\n"
      ],
      "text/latex": [
       "\\begin{enumerate*}\n",
       "\\item 100.829049427694\n",
       "\\item 100.485041656633\n",
       "\\item 101.833992250859\n",
       "\\item 101.469149520098\n",
       "\\item 102.660476862414\n",
       "\\item 102.258277737283\n",
       "\\item 102.348968473364\n",
       "\\item 102.101766980373\n",
       "\\item 102.025021906075\n",
       "\\item 101.507021872661\n",
       "\\item 101.82265408404\n",
       "\\item 102.080098951625\n",
       "\\item 100.738663082122\n",
       "\\item 101.861800870987\n",
       "\\item 101.976046066805\n",
       "\\item 101.836225490383\n",
       "\\item 101.239819523076\n",
       "\\item 101.617518718307\n",
       "\\item 101.776925512644\n",
       "\\item 102.281550509901\n",
       "\\item 101.874095455826\n",
       "\\item 101.96214384931\n",
       "\\item 101.895996536332\n",
       "\\end{enumerate*}\n"
      ],
      "text/markdown": [
       "1. 100.829049427694\n",
       "2. 100.485041656633\n",
       "3. 101.833992250859\n",
       "4. 101.469149520098\n",
       "5. 102.660476862414\n",
       "6. 102.258277737283\n",
       "7. 102.348968473364\n",
       "8. 102.101766980373\n",
       "9. 102.025021906075\n",
       "10. 101.507021872661\n",
       "11. 101.82265408404\n",
       "12. 102.080098951625\n",
       "13. 100.738663082122\n",
       "14. 101.861800870987\n",
       "15. 101.976046066805\n",
       "16. 101.836225490383\n",
       "17. 101.239819523076\n",
       "18. 101.617518718307\n",
       "19. 101.776925512644\n",
       "20. 102.281550509901\n",
       "21. 101.874095455826\n",
       "22. 101.96214384931\n",
       "23. 101.895996536332\n",
       "\n",
       "\n"
      ],
      "text/plain": [
       " [1] 100.8290 100.4850 101.8340 101.4691 102.6605 102.2583 102.3490 102.1018\n",
       " [9] 102.0250 101.5070 101.8227 102.0801 100.7387 101.8618 101.9760 101.8362\n",
       "[17] 101.2398 101.6175 101.7769 102.2816 101.8741 101.9621 101.8960"
      ]
     },
     "metadata": {},
     "output_type": "display_data"
    }
   ],
   "source": [
    "length(predictions)\n",
    "predictions"
   ]
  },
  {
   "cell_type": "code",
   "execution_count": 115,
   "id": "1adcafd0",
   "metadata": {
    "vscode": {
     "languageId": "r"
    }
   },
   "outputs": [
    {
     "data": {
      "text/html": [
       "0.0532702906547895"
      ],
      "text/latex": [
       "0.0532702906547895"
      ],
      "text/markdown": [
       "0.0532702906547895"
      ],
      "text/plain": [
       "[1] 0.05327029"
      ]
     },
     "metadata": {},
     "output_type": "display_data"
    },
    {
     "data": {
      "text/html": [
       "0.177443274853801"
      ],
      "text/latex": [
       "0.177443274853801"
      ],
      "text/markdown": [
       "0.177443274853801"
      ],
      "text/plain": [
       "[1] 0.1774433"
      ]
     },
     "metadata": {},
     "output_type": "display_data"
    },
    {
     "data": {
      "text/html": [
       "0.699789745772671"
      ],
      "text/latex": [
       "0.699789745772671"
      ],
      "text/markdown": [
       "0.699789745772671"
      ],
      "text/plain": [
       "[1] 0.6997897"
      ]
     },
     "metadata": {},
     "output_type": "display_data"
    }
   ],
   "source": [
    "# mean(sum((cpi_ts[137:166] - as.vector(predictions[5:34]))^2))\n",
    "\n",
    "# calculate the out-of-sample R squre\n",
    "# Calculate mean of test set y values\n",
    "y_mean <- mean(cpi_ts[137:155])\n",
    "\n",
    "# Calculate out-of-sample R-squared\n",
    "lstm_rss <- var(cpi_ts[137:155] - predictions[5:23])\n",
    "lstm_tss <- var(cpi_ts[137:155])\n",
    "lstm_rsq <- 1 - (lstm_rss / lstm_tss)\n",
    "lstm_rss\n",
    "lstm_tss\n",
    "lstm_rsq"
   ]
  },
  {
   "cell_type": "code",
   "execution_count": 116,
   "id": "d7887f77",
   "metadata": {
    "vscode": {
     "languageId": "r"
    }
   },
   "outputs": [
    {
     "data": {
      "image/png": "[encoded data removed]",
      "text/plain": [
       "plot without title"
      ]
     },
     "metadata": {
      "image/png": {
       "height": 420,
       "width": 420
      }
     },
     "output_type": "display_data"
    }
   ],
   "source": [
    "# Plot the train and test data\n",
    "plot(cpi, type = \"l\", xlab = \"Time\", ylab = \"Value\")\n",
    "lines(x = 137:155, y = predictions[5:23], col = \"red\")"
   ]
  }
 ],
 "metadata": {
  "kernelspec": {
   "display_name": "R",
   "language": "R",
   "name": "ir"
  },
  "language_info": {
   "codemirror_mode": "r",
   "file_extension": ".r",
   "mimetype": "text/x-r-source",
   "name": "R",
   "pygments_lexer": "r",
   "version": "4.2.3"
  }
 },
 "nbformat": 4,
 "nbformat_minor": 5
}
