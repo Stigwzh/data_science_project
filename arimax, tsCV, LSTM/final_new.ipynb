{
 "cells": [
  {
   "cell_type": "code",
   "execution_count": 2,
   "metadata": {
    "vscode": {
     "languageId": "r"
    }
   },
   "outputs": [],
   "source": [
    "load(url(\"https://github.com/zhentaoshi/Econ5821/raw/main/data_example/dataset_inf.Rdata\"))"
   ]
  },
  {
   "cell_type": "code",
   "execution_count": 3,
   "metadata": {
    "vscode": {
     "languageId": "r"
    }
   },
   "outputs": [
    {
     "name": "stderr",
     "output_type": "stream",
     "text": [
      "Registered S3 methods overwritten by 'ggfortify':\n",
      "  method                 from    \n",
      "  autoplot.Arima         forecast\n",
      "  autoplot.acf           forecast\n",
      "  autoplot.ar            forecast\n",
      "  autoplot.bats          forecast\n",
      "  autoplot.decomposed.ts forecast\n",
      "  autoplot.ets           forecast\n",
      "  autoplot.forecast      forecast\n",
      "  autoplot.stl           forecast\n",
      "  autoplot.ts            forecast\n",
      "  fitted.ar              forecast\n",
      "  fortify.ts             forecast\n",
      "  residuals.ar           forecast\n",
      "\n"
     ]
    }
   ],
   "source": [
    "library(ggplot2)\n",
    "library(ggfortify)\n",
    "library(forecast)"
   ]
  },
  {
   "cell_type": "code",
   "execution_count": 4,
   "metadata": {
    "vscode": {
     "languageId": "r"
    }
   },
   "outputs": [],
   "source": [
    "# calculate the inflation rate with two dataset\n",
    "lncpi <- ts(log(cpi[13:168,2])-log(cpi[1:156,2]))\n",
    "lnppi <- ts(log(ppi[13:168,2])-log(ppi[1:156,2]))\n",
    "X_ts <- ts(X[13:168, 2:152])"
   ]
  },
  {
   "cell_type": "code",
   "execution_count": 5,
   "metadata": {
    "vscode": {
     "languageId": "r"
    }
   },
   "outputs": [
    {
     "data": {
      "text/html": [
       "-0.0995509900689564"
      ],
      "text/latex": [
       "-0.0995509900689564"
      ],
      "text/markdown": [
       "-0.0995509900689564"
      ],
      "text/plain": [
       "[1] -0.09955099"
      ]
     },
     "metadata": {},
     "output_type": "display_data"
    },
    {
     "data": {
      "text/html": [
       "0.056779677192651"
      ],
      "text/latex": [
       "0.056779677192651"
      ],
      "text/markdown": [
       "0.056779677192651"
      ],
      "text/plain": [
       "[1] 0.05677968"
      ]
     },
     "metadata": {},
     "output_type": "display_data"
    },
    {
     "data": {
      "text/html": [
       "-0.180868068165972"
      ],
      "text/latex": [
       "-0.180868068165972"
      ],
      "text/markdown": [
       "-0.180868068165972"
      ],
      "text/plain": [
       "[1] -0.1808681"
      ]
     },
     "metadata": {},
     "output_type": "display_data"
    },
    {
     "data": {
      "text/html": [
       "0.143316337661548"
      ],
      "text/latex": [
       "0.143316337661548"
      ],
      "text/markdown": [
       "0.143316337661548"
      ],
      "text/plain": [
       "[1] 0.1433163"
      ]
     },
     "metadata": {},
     "output_type": "display_data"
    }
   ],
   "source": [
    "min(lncpi)\n",
    "max(lncpi)\n",
    "min(lnppi)\n",
    "max(lnppi)"
   ]
  },
  {
   "cell_type": "code",
   "execution_count": 6,
   "metadata": {
    "vscode": {
     "languageId": "r"
    }
   },
   "outputs": [],
   "source": [
    "# define a function to scale data\n",
    "scale_new <- function(data){\n",
    "    for(i in 1:ncol(data)){\n",
    "        min1 <- min(data[,i])\n",
    "        max1 <- max(data[,i])\n",
    "        range <- max1 - min1\n",
    "        for(j in 1:length(data[, i])){\n",
    "            data[j, i] <- (data[j, i] - min1)/range\n",
    "        }\n",
    "    }\n",
    "    return(data)\n",
    "}"
   ]
  },
  {
   "cell_type": "code",
   "execution_count": 7,
   "metadata": {
    "vscode": {
     "languageId": "r"
    }
   },
   "outputs": [
    {
     "data": {
      "text/html": [
       "<style>\n",
       ".list-inline {list-style: none; margin:0; padding: 0}\n",
       ".list-inline>li {display: inline-block}\n",
       ".list-inline>li:not(:last-child)::after {content: \"\\00b7\"; padding: 0 .5ex}\n",
       "</style>\n",
       "<ol class=list-inline><li>156</li><li>42</li></ol>\n"
      ],
      "text/latex": [
       "\\begin{enumerate*}\n",
       "\\item 156\n",
       "\\item 42\n",
       "\\end{enumerate*}\n"
      ],
      "text/markdown": [
       "1. 156\n",
       "2. 42\n",
       "\n",
       "\n"
      ],
      "text/plain": [
       "[1] 156  42"
      ]
     },
     "metadata": {},
     "output_type": "display_data"
    }
   ],
   "source": [
    "# load the required library\n",
    "library(stats)\n",
    "\n",
    "# assume your xreg matrix is called \"Xreg\"\n",
    "# perform PCA on the Xreg matrix\n",
    "\n",
    "X_ts_scale <- scale_new(X_ts)\n",
    "\n",
    "pca <- prcomp(X_ts_scale, center = TRUE, scale. = TRUE)\n",
    "\n",
    "# extract the loadings matrix\n",
    "loadings <- pca$rotation\n",
    "\n",
    "# determine the number of principal components to retain\n",
    "cum_var <- cumsum(pca$sdev^2 / sum(pca$sdev^2))\n",
    "n_pc <- min(which(cum_var >= 0.95))\n",
    "\n",
    "# transform the xreg matrix using the first n_pc principal components\n",
    "X_pca <- as.matrix(X_ts_scale) %*% loadings[, 1:n_pc]\n",
    "dim(X_pca)"
   ]
  },
  {
   "cell_type": "code",
   "execution_count": 8,
   "metadata": {
    "vscode": {
     "languageId": "r"
    }
   },
   "outputs": [
    {
     "data": {
      "text/html": [
       "<table class=\"dataframe\">\n",
       "<caption>A matrix: 6 × 42 of type dbl</caption>\n",
       "<thead>\n",
       "\t<tr><th scope=col>PC1</th><th scope=col>PC2</th><th scope=col>PC3</th><th scope=col>PC4</th><th scope=col>PC5</th><th scope=col>PC6</th><th scope=col>PC7</th><th scope=col>PC8</th><th scope=col>PC9</th><th scope=col>PC10</th><th scope=col>⋯</th><th scope=col>PC33</th><th scope=col>PC34</th><th scope=col>PC35</th><th scope=col>PC36</th><th scope=col>PC37</th><th scope=col>PC38</th><th scope=col>PC39</th><th scope=col>PC40</th><th scope=col>PC41</th><th scope=col>PC42</th></tr>\n",
       "</thead>\n",
       "<tbody>\n",
       "\t<tr><td>5.037423</td><td>1.2908741</td><td>-0.3610325</td><td>1.560041</td><td>1.167030</td><td> 0.28023847</td><td>0.9148679</td><td>-1.4692819</td><td>0.6037184</td><td>0.5912972</td><td>⋯</td><td>0.3669576</td><td>0.02063028</td><td> 0.014911177</td><td>0.3179233</td><td>-0.5663419</td><td>-0.3636451</td><td>-0.14470510</td><td>0.2025712</td><td>-0.01510187</td><td>-0.4571536</td></tr>\n",
       "\t<tr><td>5.578373</td><td>1.3192099</td><td>-0.8935275</td><td>1.510629</td><td>1.099699</td><td> 0.09096199</td><td>0.4365193</td><td>-1.2987744</td><td>0.1720185</td><td>0.5953047</td><td>⋯</td><td>0.1309729</td><td>0.36442827</td><td> 0.144184246</td><td>0.1847439</td><td>-0.5053991</td><td>-0.2464312</td><td>-0.12355537</td><td>0.4507196</td><td>-0.27852705</td><td>-0.2454107</td></tr>\n",
       "\t<tr><td>5.709323</td><td>1.3740884</td><td>-0.8364446</td><td>1.436580</td><td>1.525270</td><td>-0.12699939</td><td>0.3834865</td><td>-0.7748888</td><td>0.3234617</td><td>0.7457492</td><td>⋯</td><td>0.2144017</td><td>0.18324808</td><td> 0.003806233</td><td>0.5731177</td><td>-0.6897749</td><td>-0.3512968</td><td>-0.41494935</td><td>0.2069451</td><td> 0.20940824</td><td>-0.4915632</td></tr>\n",
       "\t<tr><td>5.873417</td><td>1.3456044</td><td>-0.3912217</td><td>0.858191</td><td>1.085932</td><td> 0.07718208</td><td>0.8398060</td><td>-0.9522476</td><td>0.1437396</td><td>0.3964865</td><td>⋯</td><td>0.1918561</td><td>0.09953200</td><td>-0.023732061</td><td>0.4493659</td><td>-0.5178117</td><td>-0.3185001</td><td>-0.04709513</td><td>0.3965042</td><td> 0.00747623</td><td>-0.3735715</td></tr>\n",
       "\t<tr><td>5.730675</td><td>1.0470445</td><td>-0.2428357</td><td>1.041766</td><td>1.178882</td><td> 0.14788283</td><td>0.8955820</td><td>-1.1150287</td><td>0.2499124</td><td>0.6184520</td><td>⋯</td><td>0.2438467</td><td>0.01849273</td><td>-0.104823243</td><td>0.5274221</td><td>-0.5657212</td><td>-0.4495463</td><td> 0.04455930</td><td>0.1947778</td><td>-0.05479858</td><td>-0.5582978</td></tr>\n",
       "\t<tr><td>5.633092</td><td>0.6238055</td><td>-0.2732935</td><td>1.409981</td><td>1.294176</td><td> 0.30875885</td><td>0.9888239</td><td>-1.0100862</td><td>0.4247290</td><td>0.9026871</td><td>⋯</td><td>0.1740565</td><td>0.11090181</td><td>-0.195096428</td><td>0.4393513</td><td>-0.1491464</td><td>-0.2355048</td><td>-0.15148501</td><td>0.2862532</td><td> 0.05931643</td><td>-0.3895992</td></tr>\n",
       "</tbody>\n",
       "</table>\n"
      ],
      "text/latex": [
       "A matrix: 6 × 42 of type dbl\n",
       "\\begin{tabular}{lllllllllllllllllllll}\n",
       " PC1 & PC2 & PC3 & PC4 & PC5 & PC6 & PC7 & PC8 & PC9 & PC10 & ⋯ & PC33 & PC34 & PC35 & PC36 & PC37 & PC38 & PC39 & PC40 & PC41 & PC42\\\\\n",
       "\\hline\n",
       "\t 5.037423 & 1.2908741 & -0.3610325 & 1.560041 & 1.167030 &  0.28023847 & 0.9148679 & -1.4692819 & 0.6037184 & 0.5912972 & ⋯ & 0.3669576 & 0.02063028 &  0.014911177 & 0.3179233 & -0.5663419 & -0.3636451 & -0.14470510 & 0.2025712 & -0.01510187 & -0.4571536\\\\\n",
       "\t 5.578373 & 1.3192099 & -0.8935275 & 1.510629 & 1.099699 &  0.09096199 & 0.4365193 & -1.2987744 & 0.1720185 & 0.5953047 & ⋯ & 0.1309729 & 0.36442827 &  0.144184246 & 0.1847439 & -0.5053991 & -0.2464312 & -0.12355537 & 0.4507196 & -0.27852705 & -0.2454107\\\\\n",
       "\t 5.709323 & 1.3740884 & -0.8364446 & 1.436580 & 1.525270 & -0.12699939 & 0.3834865 & -0.7748888 & 0.3234617 & 0.7457492 & ⋯ & 0.2144017 & 0.18324808 &  0.003806233 & 0.5731177 & -0.6897749 & -0.3512968 & -0.41494935 & 0.2069451 &  0.20940824 & -0.4915632\\\\\n",
       "\t 5.873417 & 1.3456044 & -0.3912217 & 0.858191 & 1.085932 &  0.07718208 & 0.8398060 & -0.9522476 & 0.1437396 & 0.3964865 & ⋯ & 0.1918561 & 0.09953200 & -0.023732061 & 0.4493659 & -0.5178117 & -0.3185001 & -0.04709513 & 0.3965042 &  0.00747623 & -0.3735715\\\\\n",
       "\t 5.730675 & 1.0470445 & -0.2428357 & 1.041766 & 1.178882 &  0.14788283 & 0.8955820 & -1.1150287 & 0.2499124 & 0.6184520 & ⋯ & 0.2438467 & 0.01849273 & -0.104823243 & 0.5274221 & -0.5657212 & -0.4495463 &  0.04455930 & 0.1947778 & -0.05479858 & -0.5582978\\\\\n",
       "\t 5.633092 & 0.6238055 & -0.2732935 & 1.409981 & 1.294176 &  0.30875885 & 0.9888239 & -1.0100862 & 0.4247290 & 0.9026871 & ⋯ & 0.1740565 & 0.11090181 & -0.195096428 & 0.4393513 & -0.1491464 & -0.2355048 & -0.15148501 & 0.2862532 &  0.05931643 & -0.3895992\\\\\n",
       "\\end{tabular}\n"
      ],
      "text/markdown": [
       "\n",
       "A matrix: 6 × 42 of type dbl\n",
       "\n",
       "| PC1 | PC2 | PC3 | PC4 | PC5 | PC6 | PC7 | PC8 | PC9 | PC10 | ⋯ | PC33 | PC34 | PC35 | PC36 | PC37 | PC38 | PC39 | PC40 | PC41 | PC42 |\n",
       "|---|---|---|---|---|---|---|---|---|---|---|---|---|---|---|---|---|---|---|---|---|\n",
       "| 5.037423 | 1.2908741 | -0.3610325 | 1.560041 | 1.167030 |  0.28023847 | 0.9148679 | -1.4692819 | 0.6037184 | 0.5912972 | ⋯ | 0.3669576 | 0.02063028 |  0.014911177 | 0.3179233 | -0.5663419 | -0.3636451 | -0.14470510 | 0.2025712 | -0.01510187 | -0.4571536 |\n",
       "| 5.578373 | 1.3192099 | -0.8935275 | 1.510629 | 1.099699 |  0.09096199 | 0.4365193 | -1.2987744 | 0.1720185 | 0.5953047 | ⋯ | 0.1309729 | 0.36442827 |  0.144184246 | 0.1847439 | -0.5053991 | -0.2464312 | -0.12355537 | 0.4507196 | -0.27852705 | -0.2454107 |\n",
       "| 5.709323 | 1.3740884 | -0.8364446 | 1.436580 | 1.525270 | -0.12699939 | 0.3834865 | -0.7748888 | 0.3234617 | 0.7457492 | ⋯ | 0.2144017 | 0.18324808 |  0.003806233 | 0.5731177 | -0.6897749 | -0.3512968 | -0.41494935 | 0.2069451 |  0.20940824 | -0.4915632 |\n",
       "| 5.873417 | 1.3456044 | -0.3912217 | 0.858191 | 1.085932 |  0.07718208 | 0.8398060 | -0.9522476 | 0.1437396 | 0.3964865 | ⋯ | 0.1918561 | 0.09953200 | -0.023732061 | 0.4493659 | -0.5178117 | -0.3185001 | -0.04709513 | 0.3965042 |  0.00747623 | -0.3735715 |\n",
       "| 5.730675 | 1.0470445 | -0.2428357 | 1.041766 | 1.178882 |  0.14788283 | 0.8955820 | -1.1150287 | 0.2499124 | 0.6184520 | ⋯ | 0.2438467 | 0.01849273 | -0.104823243 | 0.5274221 | -0.5657212 | -0.4495463 |  0.04455930 | 0.1947778 | -0.05479858 | -0.5582978 |\n",
       "| 5.633092 | 0.6238055 | -0.2732935 | 1.409981 | 1.294176 |  0.30875885 | 0.9888239 | -1.0100862 | 0.4247290 | 0.9026871 | ⋯ | 0.1740565 | 0.11090181 | -0.195096428 | 0.4393513 | -0.1491464 | -0.2355048 | -0.15148501 | 0.2862532 |  0.05931643 | -0.3895992 |\n",
       "\n"
      ],
      "text/plain": [
       "     PC1      PC2       PC3        PC4      PC5      PC6         PC7      \n",
       "[1,] 5.037423 1.2908741 -0.3610325 1.560041 1.167030  0.28023847 0.9148679\n",
       "[2,] 5.578373 1.3192099 -0.8935275 1.510629 1.099699  0.09096199 0.4365193\n",
       "[3,] 5.709323 1.3740884 -0.8364446 1.436580 1.525270 -0.12699939 0.3834865\n",
       "[4,] 5.873417 1.3456044 -0.3912217 0.858191 1.085932  0.07718208 0.8398060\n",
       "[5,] 5.730675 1.0470445 -0.2428357 1.041766 1.178882  0.14788283 0.8955820\n",
       "[6,] 5.633092 0.6238055 -0.2732935 1.409981 1.294176  0.30875885 0.9888239\n",
       "     PC8        PC9       PC10      ⋯ PC33      PC34       PC35        \n",
       "[1,] -1.4692819 0.6037184 0.5912972 ⋯ 0.3669576 0.02063028  0.014911177\n",
       "[2,] -1.2987744 0.1720185 0.5953047 ⋯ 0.1309729 0.36442827  0.144184246\n",
       "[3,] -0.7748888 0.3234617 0.7457492 ⋯ 0.2144017 0.18324808  0.003806233\n",
       "[4,] -0.9522476 0.1437396 0.3964865 ⋯ 0.1918561 0.09953200 -0.023732061\n",
       "[5,] -1.1150287 0.2499124 0.6184520 ⋯ 0.2438467 0.01849273 -0.104823243\n",
       "[6,] -1.0100862 0.4247290 0.9026871 ⋯ 0.1740565 0.11090181 -0.195096428\n",
       "     PC36      PC37       PC38       PC39        PC40      PC41       \n",
       "[1,] 0.3179233 -0.5663419 -0.3636451 -0.14470510 0.2025712 -0.01510187\n",
       "[2,] 0.1847439 -0.5053991 -0.2464312 -0.12355537 0.4507196 -0.27852705\n",
       "[3,] 0.5731177 -0.6897749 -0.3512968 -0.41494935 0.2069451  0.20940824\n",
       "[4,] 0.4493659 -0.5178117 -0.3185001 -0.04709513 0.3965042  0.00747623\n",
       "[5,] 0.5274221 -0.5657212 -0.4495463  0.04455930 0.1947778 -0.05479858\n",
       "[6,] 0.4393513 -0.1491464 -0.2355048 -0.15148501 0.2862532  0.05931643\n",
       "     PC42      \n",
       "[1,] -0.4571536\n",
       "[2,] -0.2454107\n",
       "[3,] -0.4915632\n",
       "[4,] -0.3735715\n",
       "[5,] -0.5582978\n",
       "[6,] -0.3895992"
      ]
     },
     "metadata": {},
     "output_type": "display_data"
    }
   ],
   "source": [
    "head(X_pca)"
   ]
  },
  {
   "attachments": {},
   "cell_type": "markdown",
   "metadata": {},
   "source": [
    "# First, I run the auto.arima function.\n",
    "## Here, I spilt the data to train and test dataset to check the performance of the this method."
   ]
  },
  {
   "cell_type": "code",
   "execution_count": 9,
   "metadata": {
    "vscode": {
     "languageId": "r"
    }
   },
   "outputs": [],
   "source": [
    "train_cpi <- lncpi[1:128]\n",
    "test_cpi <- lncpi[129:156]\n",
    "train_pca <- X_pca[1:128, ]\n",
    "test_pca <- X_pca[129:156, ]\n",
    "train_ppi <- lnppi[1:128]\n",
    "test_ppi <- lnppi[129:156]"
   ]
  },
  {
   "cell_type": "code",
   "execution_count": 10,
   "metadata": {
    "vscode": {
     "languageId": "r"
    }
   },
   "outputs": [],
   "source": [
    "# First, run the arimax model\n",
    "arimax_cpi <- auto.arima(train_cpi, xreg = train_pca)\n",
    "arimax_ppi <- auto.arima(train_ppi, xreg = train_pca)"
   ]
  },
  {
   "cell_type": "code",
   "execution_count": 11,
   "metadata": {
    "vscode": {
     "languageId": "r"
    }
   },
   "outputs": [],
   "source": [
    "# forcast\n",
    "arimax_cpi_fc <- forecast(arimax_cpi, xreg = test_pca, h = 28)\n",
    "arimax_ppi_fc <- forecast(arimax_ppi, xreg = test_pca, h = 28)"
   ]
  },
  {
   "cell_type": "code",
   "execution_count": 12,
   "metadata": {
    "vscode": {
     "languageId": "r"
    }
   },
   "outputs": [
    {
     "data": {
      "text/plain": [
       "Series: train_cpi \n",
       "Regression with ARIMA(1,0,0) errors \n",
       "\n",
       "Coefficients:\n",
       "         ar1  intercept     PC1      PC2     PC3     PC4      PC5      PC6\n",
       "      0.8993    -0.0840  0.0176  -0.0077  0.0130  0.0000  -0.0006  -0.0164\n",
       "s.e.  0.0529     0.0151  0.0022   0.0017  0.0031  0.0023   0.0019   0.0053\n",
       "          PC7      PC8     PC9     PC10     PC11     PC12    PC13    PC14\n",
       "      -0.0095  -0.0232  0.0017  -0.0053  -0.0049  -0.0017  0.0118  0.0018\n",
       "s.e.   0.0043   0.0039  0.0042   0.0040   0.0036   0.0028  0.0030  0.0035\n",
       "         PC15     PC16    PC17    PC18     PC19     PC20     PC21    PC22\n",
       "      -0.0083  -0.0177  0.0065  0.0038  -0.0028  -0.0046  -0.0028  0.0019\n",
       "s.e.   0.0029   0.0037  0.0033  0.0032   0.0041   0.0033   0.0031  0.0034\n",
       "         PC23     PC24    PC25     PC26    PC27    PC28     PC29     PC30\n",
       "      -0.0001  -0.0085  0.0109  -0.0062  0.0029  0.0026  -0.0034  -0.0050\n",
       "s.e.   0.0031   0.0041  0.0030   0.0028  0.0034  0.0036   0.0030   0.0044\n",
       "         PC31     PC32    PC33     PC34     PC35     PC36    PC37   PC38\n",
       "      -0.0033  -0.0129  0.0114  -0.0099  -0.0078  -0.0022  0.0043  0.001\n",
       "s.e.   0.0040   0.0039  0.0044   0.0041   0.0037   0.0043  0.0047  0.004\n",
       "         PC39    PC40    PC41     PC42\n",
       "      -0.0033  0.0099  0.0235  -0.0145\n",
       "s.e.   0.0043  0.0049  0.0048   0.0042\n",
       "\n",
       "sigma^2 = 4.458e-05:  log likelihood = 485.67\n",
       "AIC=-881.33   AICc=-830.85   BIC=-752.99"
      ]
     },
     "metadata": {},
     "output_type": "display_data"
    },
    {
     "data": {
      "text/plain": [
       "Series: train_ppi \n",
       "Regression with ARIMA(2,0,0) errors \n",
       "\n",
       "Coefficients:\n",
       "         ar1      ar2  intercept     PC1      PC2     PC3     PC4      PC5\n",
       "      1.7312  -0.7781    -0.1399  0.0383  -0.0234  0.0059  0.0009  -0.0100\n",
       "s.e.  0.0577   0.0590     0.0204  0.0046   0.0037  0.0044  0.0022   0.0021\n",
       "         PC6      PC7      PC8     PC9    PC10     PC11     PC12    PC13\n",
       "      0.0106  -0.0038  -0.0055  0.0026  0.0013  -0.0058  -0.0024  0.0030\n",
       "s.e.  0.0050   0.0045   0.0046  0.0054  0.0044   0.0033   0.0029  0.0023\n",
       "        PC14    PC15    PC16    PC17     PC18     PC19    PC20    PC21    PC22\n",
       "      0.0090  0.0059  0.0042  0.0038  -0.0071  -0.0068  0.0033  0.0143  -0.010\n",
       "s.e.  0.0032  0.0029  0.0034  0.0031   0.0032   0.0043  0.0029  0.0029   0.003\n",
       "         PC23     PC24     PC25    PC26    PC27    PC28     PC29    PC30\n",
       "      -0.0018  -0.0047  -0.0022  0.0021  0.0113  0.0021  -0.0021  0.0036\n",
       "s.e.   0.0028   0.0035   0.0026  0.0024  0.0032  0.0030   0.0025  0.0040\n",
       "        PC31     PC32     PC33     PC34     PC35     PC36    PC37    PC38\n",
       "      0.0058  -0.0120  -0.0041  -0.0033  -0.0007  -0.0038  0.0106  0.0015\n",
       "s.e.  0.0035   0.0037   0.0037   0.0035   0.0032   0.0039  0.0045  0.0035\n",
       "        PC39    PC40    PC41     PC42\n",
       "      0.0027  -0.003  0.0032  -0.0034\n",
       "s.e.  0.0035   0.004  0.0042   0.0034\n",
       "\n",
       "sigma^2 = 4.879e-05:  log likelihood = 479.08\n",
       "AIC=-866.15   AICc=-812.77   BIC=-734.96"
      ]
     },
     "metadata": {},
     "output_type": "display_data"
    }
   ],
   "source": [
    "arimax_cpi\n",
    "arimax_ppi"
   ]
  },
  {
   "cell_type": "code",
   "execution_count": 13,
   "metadata": {
    "vscode": {
     "languageId": "r"
    }
   },
   "outputs": [
    {
     "data": {
      "image/png": "[encoded data removed]",
      "text/plain": [
       "plot without title"
      ]
     },
     "metadata": {
      "image/png": {
       "height": 420,
       "width": 420
      }
     },
     "output_type": "display_data"
    },
    {
     "data": {
      "image/png": "[encoded data removed]",
      "text/plain": [
       "plot without title"
      ]
     },
     "metadata": {
      "image/png": {
       "height": 420,
       "width": 420
      }
     },
     "output_type": "display_data"
    }
   ],
   "source": [
    "autoplot(arimax_cpi_fc)\n",
    "autoplot(arimax_ppi_fc)"
   ]
  },
  {
   "cell_type": "code",
   "execution_count": 14,
   "metadata": {
    "vscode": {
     "languageId": "r"
    }
   },
   "outputs": [
    {
     "data": {
      "text/html": [
       "-0.0258767206476207"
      ],
      "text/latex": [
       "-0.0258767206476207"
      ],
      "text/markdown": [
       "-0.0258767206476207"
      ],
      "text/plain": [
       "[1] -0.02587672"
      ]
     },
     "metadata": {},
     "output_type": "display_data"
    },
    {
     "data": {
      "text/html": [
       "0.657948359320691"
      ],
      "text/latex": [
       "0.657948359320691"
      ],
      "text/markdown": [
       "0.657948359320691"
      ],
      "text/plain": [
       "[1] 0.6579484"
      ]
     },
     "metadata": {},
     "output_type": "display_data"
    }
   ],
   "source": [
    "# calculate the r-square\n",
    "arimax_rss_cpi <- var(test_cpi - arimax_cpi_fc$mean)\n",
    "arimax_tss_cpi <- var(test_cpi)\n",
    "arimax_rsq_cpi <- 1 - (arimax_rss_cpi / arimax_tss_cpi)\n",
    "arimax_rsq_cpi\n",
    "\n",
    "arimax_rss_ppi <- var(test_ppi - arimax_ppi_fc$mean)\n",
    "arimax_tss_ppi <- var(test_ppi)\n",
    "arimax_rsq_ppi <- 1 - (arimax_rss_ppi / arimax_tss_ppi)\n",
    "arimax_rsq_ppi"
   ]
  },
  {
   "attachments": {},
   "cell_type": "markdown",
   "metadata": {},
   "source": [
    "### The results is not so good, especially for the cpi dataset."
   ]
  },
  {
   "attachments": {},
   "cell_type": "markdown",
   "metadata": {},
   "source": [
    "# Then I use cross validation"
   ]
  },
  {
   "cell_type": "code",
   "execution_count": 15,
   "metadata": {
    "vscode": {
     "languageId": "r"
    }
   },
   "outputs": [
    {
     "data": {
      "text/html": [
       "<style>\n",
       ".list-inline {list-style: none; margin:0; padding: 0}\n",
       ".list-inline>li {display: inline-block}\n",
       ".list-inline>li:not(:last-child)::after {content: \"\\00b7\"; padding: 0 .5ex}\n",
       "</style>\n",
       "<ol class=list-inline><li>156</li><li>1</li></ol>\n"
      ],
      "text/latex": [
       "\\begin{enumerate*}\n",
       "\\item 156\n",
       "\\item 1\n",
       "\\end{enumerate*}\n"
      ],
      "text/markdown": [
       "1. 156\n",
       "2. 1\n",
       "\n",
       "\n"
      ],
      "text/plain": [
       "[1] 156   1"
      ]
     },
     "metadata": {},
     "output_type": "display_data"
    },
    {
     "data": {
      "text/html": [
       "<style>\n",
       ".list-inline {list-style: none; margin:0; padding: 0}\n",
       ".list-inline>li {display: inline-block}\n",
       ".list-inline>li:not(:last-child)::after {content: \"\\00b7\"; padding: 0 .5ex}\n",
       "</style>\n",
       "<ol class=list-inline><li>156</li><li>42</li></ol>\n"
      ],
      "text/latex": [
       "\\begin{enumerate*}\n",
       "\\item 156\n",
       "\\item 42\n",
       "\\end{enumerate*}\n"
      ],
      "text/markdown": [
       "1. 156\n",
       "2. 42\n",
       "\n",
       "\n"
      ],
      "text/plain": [
       "[1] 156  42"
      ]
     },
     "metadata": {},
     "output_type": "display_data"
    }
   ],
   "source": [
    "dim(lncpi)\n",
    "dim(X_pca)"
   ]
  },
  {
   "cell_type": "code",
   "execution_count": 86,
   "metadata": {
    "vscode": {
     "languageId": "r"
    }
   },
   "outputs": [],
   "source": [
    "library(forecast)\n",
    "\n",
    "\n",
    "fc <- function(y, h, xreg, newxreg) {\n",
    "  fit <- auto.arima(y, xreg=xreg)\n",
    "  forecast(fit, xreg=newxreg, h=h)\n",
    "}\n",
    "\n",
    "sq <- function(u){u^2}\n",
    "lncpi_train <- lncpi[1:128]\n",
    "X_pca_train <- X_pca[1:128,]\n",
    "lnppi_train <- lnppi[1:128]\n",
    "e_cpi <- tsCV(lncpi_train, fc, xreg= X_pca_train, newxreg = X_pca_test, h=4, window = 60, initial = 60)\n",
    "e_ppi <- tsCV(lnppi_train, fc, xreg= X_pca_train, newxreg = X_pca_test, h=4, window = 60, initial = 60)"
   ]
  },
  {
   "cell_type": "code",
   "execution_count": 87,
   "metadata": {
    "vscode": {
     "languageId": "r"
    }
   },
   "outputs": [
    {
     "data": {
      "text/html": [
       "<table class=\"dataframe\">\n",
       "<caption>A Time Series: 128 × 4</caption>\n",
       "<thead>\n",
       "\t<tr><th></th><th scope=col>h=1</th><th scope=col>h=2</th><th scope=col>h=3</th><th scope=col>h=4</th></tr>\n",
       "</thead>\n",
       "<tbody>\n",
       "\t<tr><th scope=row>  1</th><td>          NA</td><td>          NA</td><td>          NA</td><td>          NA</td></tr>\n",
       "\t<tr><th scope=row>  2</th><td>          NA</td><td>          NA</td><td>          NA</td><td>          NA</td></tr>\n",
       "\t<tr><th scope=row>  3</th><td>          NA</td><td>          NA</td><td>          NA</td><td>          NA</td></tr>\n",
       "\t<tr><th scope=row>  4</th><td>          NA</td><td>          NA</td><td>          NA</td><td>          NA</td></tr>\n",
       "\t<tr><th scope=row>  5</th><td>          NA</td><td>          NA</td><td>          NA</td><td>          NA</td></tr>\n",
       "\t<tr><th scope=row>  6</th><td>          NA</td><td>          NA</td><td>          NA</td><td>          NA</td></tr>\n",
       "\t<tr><th scope=row>  7</th><td>          NA</td><td>          NA</td><td>          NA</td><td>          NA</td></tr>\n",
       "\t<tr><th scope=row>  8</th><td>          NA</td><td>          NA</td><td>          NA</td><td>          NA</td></tr>\n",
       "\t<tr><th scope=row>  9</th><td>          NA</td><td>          NA</td><td>          NA</td><td>          NA</td></tr>\n",
       "\t<tr><th scope=row> 10</th><td>          NA</td><td>          NA</td><td>          NA</td><td>          NA</td></tr>\n",
       "\t<tr><th scope=row> 11</th><td>          NA</td><td>          NA</td><td>          NA</td><td>          NA</td></tr>\n",
       "\t<tr><th scope=row> 12</th><td>          NA</td><td>          NA</td><td>          NA</td><td>          NA</td></tr>\n",
       "\t<tr><th scope=row> 13</th><td>          NA</td><td>          NA</td><td>          NA</td><td>          NA</td></tr>\n",
       "\t<tr><th scope=row> 14</th><td>          NA</td><td>          NA</td><td>          NA</td><td>          NA</td></tr>\n",
       "\t<tr><th scope=row> 15</th><td>          NA</td><td>          NA</td><td>          NA</td><td>          NA</td></tr>\n",
       "\t<tr><th scope=row> 16</th><td>          NA</td><td>          NA</td><td>          NA</td><td>          NA</td></tr>\n",
       "\t<tr><th scope=row> 17</th><td>          NA</td><td>          NA</td><td>          NA</td><td>          NA</td></tr>\n",
       "\t<tr><th scope=row> 18</th><td>          NA</td><td>          NA</td><td>          NA</td><td>          NA</td></tr>\n",
       "\t<tr><th scope=row> 19</th><td>          NA</td><td>          NA</td><td>          NA</td><td>          NA</td></tr>\n",
       "\t<tr><th scope=row> 20</th><td>          NA</td><td>          NA</td><td>          NA</td><td>          NA</td></tr>\n",
       "\t<tr><th scope=row> 21</th><td>          NA</td><td>          NA</td><td>          NA</td><td>          NA</td></tr>\n",
       "\t<tr><th scope=row> 22</th><td>          NA</td><td>          NA</td><td>          NA</td><td>          NA</td></tr>\n",
       "\t<tr><th scope=row> 23</th><td>          NA</td><td>          NA</td><td>          NA</td><td>          NA</td></tr>\n",
       "\t<tr><th scope=row> 24</th><td>          NA</td><td>          NA</td><td>          NA</td><td>          NA</td></tr>\n",
       "\t<tr><th scope=row> 25</th><td>          NA</td><td>          NA</td><td>          NA</td><td>          NA</td></tr>\n",
       "\t<tr><th scope=row> 26</th><td>          NA</td><td>          NA</td><td>          NA</td><td>          NA</td></tr>\n",
       "\t<tr><th scope=row> 27</th><td>          NA</td><td>          NA</td><td>          NA</td><td>          NA</td></tr>\n",
       "\t<tr><th scope=row> 28</th><td>          NA</td><td>          NA</td><td>          NA</td><td>          NA</td></tr>\n",
       "\t<tr><th scope=row> 29</th><td>          NA</td><td>          NA</td><td>          NA</td><td>          NA</td></tr>\n",
       "\t<tr><th scope=row> 30</th><td>          NA</td><td>          NA</td><td>          NA</td><td>          NA</td></tr>\n",
       "\t<tr><th scope=row> 31</th><td>          NA</td><td>          NA</td><td>          NA</td><td>          NA</td></tr>\n",
       "\t<tr><th scope=row> 32</th><td>          NA</td><td>          NA</td><td>          NA</td><td>          NA</td></tr>\n",
       "\t<tr><th scope=row> 33</th><td>          NA</td><td>          NA</td><td>          NA</td><td>          NA</td></tr>\n",
       "\t<tr><th scope=row> 34</th><td>          NA</td><td>          NA</td><td>          NA</td><td>          NA</td></tr>\n",
       "\t<tr><th scope=row> 35</th><td>          NA</td><td>          NA</td><td>          NA</td><td>          NA</td></tr>\n",
       "\t<tr><th scope=row> 36</th><td>          NA</td><td>          NA</td><td>          NA</td><td>          NA</td></tr>\n",
       "\t<tr><th scope=row> 37</th><td>          NA</td><td>          NA</td><td>          NA</td><td>          NA</td></tr>\n",
       "\t<tr><th scope=row> 38</th><td>          NA</td><td>          NA</td><td>          NA</td><td>          NA</td></tr>\n",
       "\t<tr><th scope=row> 39</th><td>          NA</td><td>          NA</td><td>          NA</td><td>          NA</td></tr>\n",
       "\t<tr><th scope=row> 40</th><td>          NA</td><td>          NA</td><td>          NA</td><td>          NA</td></tr>\n",
       "\t<tr><th scope=row> 41</th><td>          NA</td><td>          NA</td><td>          NA</td><td>          NA</td></tr>\n",
       "\t<tr><th scope=row> 42</th><td>          NA</td><td>          NA</td><td>          NA</td><td>          NA</td></tr>\n",
       "\t<tr><th scope=row> 43</th><td>          NA</td><td>          NA</td><td>          NA</td><td>          NA</td></tr>\n",
       "\t<tr><th scope=row> 44</th><td>          NA</td><td>          NA</td><td>          NA</td><td>          NA</td></tr>\n",
       "\t<tr><th scope=row> 45</th><td>          NA</td><td>          NA</td><td>          NA</td><td>          NA</td></tr>\n",
       "\t<tr><th scope=row> 46</th><td>          NA</td><td>          NA</td><td>          NA</td><td>          NA</td></tr>\n",
       "\t<tr><th scope=row> 47</th><td>          NA</td><td>          NA</td><td>          NA</td><td>          NA</td></tr>\n",
       "\t<tr><th scope=row> 48</th><td>          NA</td><td>          NA</td><td>          NA</td><td>          NA</td></tr>\n",
       "\t<tr><th scope=row> 49</th><td>          NA</td><td>          NA</td><td>          NA</td><td>          NA</td></tr>\n",
       "\t<tr><th scope=row> 50</th><td>          NA</td><td>          NA</td><td>          NA</td><td>          NA</td></tr>\n",
       "\t<tr><th scope=row> 51</th><td>          NA</td><td>          NA</td><td>          NA</td><td>          NA</td></tr>\n",
       "\t<tr><th scope=row> 52</th><td>          NA</td><td>          NA</td><td>          NA</td><td>          NA</td></tr>\n",
       "\t<tr><th scope=row> 53</th><td>          NA</td><td>          NA</td><td>          NA</td><td>          NA</td></tr>\n",
       "\t<tr><th scope=row> 54</th><td>          NA</td><td>          NA</td><td>          NA</td><td>          NA</td></tr>\n",
       "\t<tr><th scope=row> 55</th><td>          NA</td><td>          NA</td><td>          NA</td><td>          NA</td></tr>\n",
       "\t<tr><th scope=row> 56</th><td>          NA</td><td>          NA</td><td>          NA</td><td>          NA</td></tr>\n",
       "\t<tr><th scope=row> 57</th><td>          NA</td><td>          NA</td><td>          NA</td><td>          NA</td></tr>\n",
       "\t<tr><th scope=row> 58</th><td>          NA</td><td>          NA</td><td>          NA</td><td>          NA</td></tr>\n",
       "\t<tr><th scope=row> 59</th><td>          NA</td><td>          NA</td><td>          NA</td><td>          NA</td></tr>\n",
       "\t<tr><th scope=row> 60</th><td>          NA</td><td>          NA</td><td>          NA</td><td>          NA</td></tr>\n",
       "\t<tr><th scope=row> 61</th><td>          NA</td><td>          NA</td><td>          NA</td><td>          NA</td></tr>\n",
       "\t<tr><th scope=row> 62</th><td>          NA</td><td>          NA</td><td>          NA</td><td>          NA</td></tr>\n",
       "\t<tr><th scope=row> 63</th><td>          NA</td><td>          NA</td><td>          NA</td><td>          NA</td></tr>\n",
       "\t<tr><th scope=row> 64</th><td>          NA</td><td>          NA</td><td>          NA</td><td>          NA</td></tr>\n",
       "\t<tr><th scope=row> 65</th><td>          NA</td><td>          NA</td><td>          NA</td><td>          NA</td></tr>\n",
       "\t<tr><th scope=row> 66</th><td>          NA</td><td>          NA</td><td>          NA</td><td>          NA</td></tr>\n",
       "\t<tr><th scope=row> 67</th><td>          NA</td><td>          NA</td><td>          NA</td><td>          NA</td></tr>\n",
       "\t<tr><th scope=row> 68</th><td>          NA</td><td>          NA</td><td>          NA</td><td>          NA</td></tr>\n",
       "\t<tr><th scope=row> 69</th><td>          NA</td><td>          NA</td><td>          NA</td><td>          NA</td></tr>\n",
       "\t<tr><th scope=row> 70</th><td>          NA</td><td>          NA</td><td>          NA</td><td>          NA</td></tr>\n",
       "\t<tr><th scope=row> 71</th><td>          NA</td><td>          NA</td><td>          NA</td><td>          NA</td></tr>\n",
       "\t<tr><th scope=row> 72</th><td>          NA</td><td>          NA</td><td>          NA</td><td>          NA</td></tr>\n",
       "\t<tr><th scope=row> 73</th><td>          NA</td><td>          NA</td><td>          NA</td><td>          NA</td></tr>\n",
       "\t<tr><th scope=row> 74</th><td>          NA</td><td>          NA</td><td>          NA</td><td>          NA</td></tr>\n",
       "\t<tr><th scope=row> 75</th><td>          NA</td><td>          NA</td><td>          NA</td><td>          NA</td></tr>\n",
       "\t<tr><th scope=row> 76</th><td>          NA</td><td>          NA</td><td>          NA</td><td>          NA</td></tr>\n",
       "\t<tr><th scope=row> 77</th><td>          NA</td><td>          NA</td><td>          NA</td><td>          NA</td></tr>\n",
       "\t<tr><th scope=row> 78</th><td>          NA</td><td>          NA</td><td>          NA</td><td>          NA</td></tr>\n",
       "\t<tr><th scope=row> 79</th><td>          NA</td><td>          NA</td><td>          NA</td><td>          NA</td></tr>\n",
       "\t<tr><th scope=row> 80</th><td>          NA</td><td>          NA</td><td>          NA</td><td>          NA</td></tr>\n",
       "\t<tr><th scope=row> 81</th><td>          NA</td><td>          NA</td><td>          NA</td><td>          NA</td></tr>\n",
       "\t<tr><th scope=row> 82</th><td>          NA</td><td>          NA</td><td>          NA</td><td>          NA</td></tr>\n",
       "\t<tr><th scope=row> 83</th><td>          NA</td><td>          NA</td><td>          NA</td><td>          NA</td></tr>\n",
       "\t<tr><th scope=row> 84</th><td>          NA</td><td>          NA</td><td>          NA</td><td>          NA</td></tr>\n",
       "\t<tr><th scope=row> 85</th><td>          NA</td><td>          NA</td><td>          NA</td><td>          NA</td></tr>\n",
       "\t<tr><th scope=row> 86</th><td>          NA</td><td>          NA</td><td>          NA</td><td>          NA</td></tr>\n",
       "\t<tr><th scope=row> 87</th><td>          NA</td><td>          NA</td><td>          NA</td><td>          NA</td></tr>\n",
       "\t<tr><th scope=row> 88</th><td>          NA</td><td>          NA</td><td>          NA</td><td>          NA</td></tr>\n",
       "\t<tr><th scope=row> 89</th><td>          NA</td><td>          NA</td><td>          NA</td><td>          NA</td></tr>\n",
       "\t<tr><th scope=row> 90</th><td>          NA</td><td>          NA</td><td>          NA</td><td>          NA</td></tr>\n",
       "\t<tr><th scope=row> 91</th><td>          NA</td><td>          NA</td><td>          NA</td><td>          NA</td></tr>\n",
       "\t<tr><th scope=row> 92</th><td>          NA</td><td>          NA</td><td>          NA</td><td>          NA</td></tr>\n",
       "\t<tr><th scope=row> 93</th><td>          NA</td><td>          NA</td><td>          NA</td><td>          NA</td></tr>\n",
       "\t<tr><th scope=row> 94</th><td>          NA</td><td>          NA</td><td>          NA</td><td>          NA</td></tr>\n",
       "\t<tr><th scope=row> 95</th><td>          NA</td><td>          NA</td><td>          NA</td><td>          NA</td></tr>\n",
       "\t<tr><th scope=row> 96</th><td>          NA</td><td>          NA</td><td>          NA</td><td>          NA</td></tr>\n",
       "\t<tr><th scope=row> 97</th><td>          NA</td><td>          NA</td><td>          NA</td><td>          NA</td></tr>\n",
       "\t<tr><th scope=row> 98</th><td>          NA</td><td>          NA</td><td>          NA</td><td>          NA</td></tr>\n",
       "\t<tr><th scope=row> 99</th><td>          NA</td><td>          NA</td><td>          NA</td><td>          NA</td></tr>\n",
       "\t<tr><th scope=row>100</th><td>          NA</td><td>          NA</td><td>          NA</td><td>          NA</td></tr>\n",
       "\t<tr><th scope=row>101</th><td>          NA</td><td>          NA</td><td>          NA</td><td>          NA</td></tr>\n",
       "\t<tr><th scope=row>102</th><td>          NA</td><td>          NA</td><td>          NA</td><td>          NA</td></tr>\n",
       "\t<tr><th scope=row>103</th><td>          NA</td><td>          NA</td><td>          NA</td><td>          NA</td></tr>\n",
       "\t<tr><th scope=row>104</th><td>          NA</td><td>          NA</td><td>          NA</td><td>          NA</td></tr>\n",
       "\t<tr><th scope=row>105</th><td>          NA</td><td>          NA</td><td>          NA</td><td>          NA</td></tr>\n",
       "\t<tr><th scope=row>106</th><td>          NA</td><td>          NA</td><td>          NA</td><td>          NA</td></tr>\n",
       "\t<tr><th scope=row>107</th><td>          NA</td><td>          NA</td><td>          NA</td><td>          NA</td></tr>\n",
       "\t<tr><th scope=row>108</th><td>          NA</td><td>          NA</td><td>          NA</td><td>          NA</td></tr>\n",
       "\t<tr><th scope=row>109</th><td>          NA</td><td>          NA</td><td>          NA</td><td>          NA</td></tr>\n",
       "\t<tr><th scope=row>110</th><td>          NA</td><td>          NA</td><td>          NA</td><td>          NA</td></tr>\n",
       "\t<tr><th scope=row>111</th><td>          NA</td><td>          NA</td><td>          NA</td><td>          NA</td></tr>\n",
       "\t<tr><th scope=row>112</th><td>          NA</td><td>          NA</td><td>          NA</td><td>          NA</td></tr>\n",
       "\t<tr><th scope=row>113</th><td>          NA</td><td>          NA</td><td>          NA</td><td>          NA</td></tr>\n",
       "\t<tr><th scope=row>114</th><td>          NA</td><td>          NA</td><td>          NA</td><td>          NA</td></tr>\n",
       "\t<tr><th scope=row>115</th><td>          NA</td><td>          NA</td><td>          NA</td><td>          NA</td></tr>\n",
       "\t<tr><th scope=row>116</th><td>          NA</td><td>          NA</td><td>          NA</td><td>          NA</td></tr>\n",
       "\t<tr><th scope=row>117</th><td>          NA</td><td>          NA</td><td>          NA</td><td>          NA</td></tr>\n",
       "\t<tr><th scope=row>118</th><td>          NA</td><td>          NA</td><td>          NA</td><td>          NA</td></tr>\n",
       "\t<tr><th scope=row>119</th><td>          NA</td><td>          NA</td><td>          NA</td><td>          NA</td></tr>\n",
       "\t<tr><th scope=row>120</th><td> 0.017472437</td><td> 0.001047897</td><td>-0.007708377</td><td>-0.013380948</td></tr>\n",
       "\t<tr><th scope=row>121</th><td>-0.007608371</td><td>-0.009930543</td><td>-0.016794095</td><td>-0.015018159</td></tr>\n",
       "\t<tr><th scope=row>122</th><td> 0.010230769</td><td> 0.009467238</td><td>-0.008773101</td><td>-0.008260477</td></tr>\n",
       "\t<tr><th scope=row>123</th><td>-0.002896052</td><td>-0.011311615</td><td>-0.013969244</td><td>-0.022470171</td></tr>\n",
       "\t<tr><th scope=row>124</th><td>-0.009174885</td><td>-0.013306138</td><td>-0.022104249</td><td>-0.027497925</td></tr>\n",
       "\t<tr><th scope=row>125</th><td>-0.010158445</td><td>-0.018376663</td><td>-0.022004105</td><td>          NA</td></tr>\n",
       "\t<tr><th scope=row>126</th><td>-0.020292973</td><td>-0.018940594</td><td>          NA</td><td>          NA</td></tr>\n",
       "\t<tr><th scope=row>127</th><td>-0.010483390</td><td>          NA</td><td>          NA</td><td>          NA</td></tr>\n",
       "\t<tr><th scope=row>128</th><td>          NA</td><td>          NA</td><td>          NA</td><td>          NA</td></tr>\n",
       "</tbody>\n",
       "</table>\n"
      ],
      "text/latex": [
       "A Time Series: 128 × 4\n",
       "\\begin{tabular}{r|llll}\n",
       "  & h=1 & h=2 & h=3 & h=4\\\\\n",
       "\\hline\n",
       "\t  1 &           NA &           NA &           NA &           NA\\\\\n",
       "\t  2 &           NA &           NA &           NA &           NA\\\\\n",
       "\t  3 &           NA &           NA &           NA &           NA\\\\\n",
       "\t  4 &           NA &           NA &           NA &           NA\\\\\n",
       "\t  5 &           NA &           NA &           NA &           NA\\\\\n",
       "\t  6 &           NA &           NA &           NA &           NA\\\\\n",
       "\t  7 &           NA &           NA &           NA &           NA\\\\\n",
       "\t  8 &           NA &           NA &           NA &           NA\\\\\n",
       "\t  9 &           NA &           NA &           NA &           NA\\\\\n",
       "\t 10 &           NA &           NA &           NA &           NA\\\\\n",
       "\t 11 &           NA &           NA &           NA &           NA\\\\\n",
       "\t 12 &           NA &           NA &           NA &           NA\\\\\n",
       "\t 13 &           NA &           NA &           NA &           NA\\\\\n",
       "\t 14 &           NA &           NA &           NA &           NA\\\\\n",
       "\t 15 &           NA &           NA &           NA &           NA\\\\\n",
       "\t 16 &           NA &           NA &           NA &           NA\\\\\n",
       "\t 17 &           NA &           NA &           NA &           NA\\\\\n",
       "\t 18 &           NA &           NA &           NA &           NA\\\\\n",
       "\t 19 &           NA &           NA &           NA &           NA\\\\\n",
       "\t 20 &           NA &           NA &           NA &           NA\\\\\n",
       "\t 21 &           NA &           NA &           NA &           NA\\\\\n",
       "\t 22 &           NA &           NA &           NA &           NA\\\\\n",
       "\t 23 &           NA &           NA &           NA &           NA\\\\\n",
       "\t 24 &           NA &           NA &           NA &           NA\\\\\n",
       "\t 25 &           NA &           NA &           NA &           NA\\\\\n",
       "\t 26 &           NA &           NA &           NA &           NA\\\\\n",
       "\t 27 &           NA &           NA &           NA &           NA\\\\\n",
       "\t 28 &           NA &           NA &           NA &           NA\\\\\n",
       "\t 29 &           NA &           NA &           NA &           NA\\\\\n",
       "\t 30 &           NA &           NA &           NA &           NA\\\\\n",
       "\t 31 &           NA &           NA &           NA &           NA\\\\\n",
       "\t 32 &           NA &           NA &           NA &           NA\\\\\n",
       "\t 33 &           NA &           NA &           NA &           NA\\\\\n",
       "\t 34 &           NA &           NA &           NA &           NA\\\\\n",
       "\t 35 &           NA &           NA &           NA &           NA\\\\\n",
       "\t 36 &           NA &           NA &           NA &           NA\\\\\n",
       "\t 37 &           NA &           NA &           NA &           NA\\\\\n",
       "\t 38 &           NA &           NA &           NA &           NA\\\\\n",
       "\t 39 &           NA &           NA &           NA &           NA\\\\\n",
       "\t 40 &           NA &           NA &           NA &           NA\\\\\n",
       "\t 41 &           NA &           NA &           NA &           NA\\\\\n",
       "\t 42 &           NA &           NA &           NA &           NA\\\\\n",
       "\t 43 &           NA &           NA &           NA &           NA\\\\\n",
       "\t 44 &           NA &           NA &           NA &           NA\\\\\n",
       "\t 45 &           NA &           NA &           NA &           NA\\\\\n",
       "\t 46 &           NA &           NA &           NA &           NA\\\\\n",
       "\t 47 &           NA &           NA &           NA &           NA\\\\\n",
       "\t 48 &           NA &           NA &           NA &           NA\\\\\n",
       "\t 49 &           NA &           NA &           NA &           NA\\\\\n",
       "\t 50 &           NA &           NA &           NA &           NA\\\\\n",
       "\t 51 &           NA &           NA &           NA &           NA\\\\\n",
       "\t 52 &           NA &           NA &           NA &           NA\\\\\n",
       "\t 53 &           NA &           NA &           NA &           NA\\\\\n",
       "\t 54 &           NA &           NA &           NA &           NA\\\\\n",
       "\t 55 &           NA &           NA &           NA &           NA\\\\\n",
       "\t 56 &           NA &           NA &           NA &           NA\\\\\n",
       "\t 57 &           NA &           NA &           NA &           NA\\\\\n",
       "\t 58 &           NA &           NA &           NA &           NA\\\\\n",
       "\t 59 &           NA &           NA &           NA &           NA\\\\\n",
       "\t 60 &           NA &           NA &           NA &           NA\\\\\n",
       "\t 61 &           NA &           NA &           NA &           NA\\\\\n",
       "\t 62 &           NA &           NA &           NA &           NA\\\\\n",
       "\t 63 &           NA &           NA &           NA &           NA\\\\\n",
       "\t 64 &           NA &           NA &           NA &           NA\\\\\n",
       "\t 65 &           NA &           NA &           NA &           NA\\\\\n",
       "\t 66 &           NA &           NA &           NA &           NA\\\\\n",
       "\t 67 &           NA &           NA &           NA &           NA\\\\\n",
       "\t 68 &           NA &           NA &           NA &           NA\\\\\n",
       "\t 69 &           NA &           NA &           NA &           NA\\\\\n",
       "\t 70 &           NA &           NA &           NA &           NA\\\\\n",
       "\t 71 &           NA &           NA &           NA &           NA\\\\\n",
       "\t 72 &           NA &           NA &           NA &           NA\\\\\n",
       "\t 73 &           NA &           NA &           NA &           NA\\\\\n",
       "\t 74 &           NA &           NA &           NA &           NA\\\\\n",
       "\t 75 &           NA &           NA &           NA &           NA\\\\\n",
       "\t 76 &           NA &           NA &           NA &           NA\\\\\n",
       "\t 77 &           NA &           NA &           NA &           NA\\\\\n",
       "\t 78 &           NA &           NA &           NA &           NA\\\\\n",
       "\t 79 &           NA &           NA &           NA &           NA\\\\\n",
       "\t 80 &           NA &           NA &           NA &           NA\\\\\n",
       "\t 81 &           NA &           NA &           NA &           NA\\\\\n",
       "\t 82 &           NA &           NA &           NA &           NA\\\\\n",
       "\t 83 &           NA &           NA &           NA &           NA\\\\\n",
       "\t 84 &           NA &           NA &           NA &           NA\\\\\n",
       "\t 85 &           NA &           NA &           NA &           NA\\\\\n",
       "\t 86 &           NA &           NA &           NA &           NA\\\\\n",
       "\t 87 &           NA &           NA &           NA &           NA\\\\\n",
       "\t 88 &           NA &           NA &           NA &           NA\\\\\n",
       "\t 89 &           NA &           NA &           NA &           NA\\\\\n",
       "\t 90 &           NA &           NA &           NA &           NA\\\\\n",
       "\t 91 &           NA &           NA &           NA &           NA\\\\\n",
       "\t 92 &           NA &           NA &           NA &           NA\\\\\n",
       "\t 93 &           NA &           NA &           NA &           NA\\\\\n",
       "\t 94 &           NA &           NA &           NA &           NA\\\\\n",
       "\t 95 &           NA &           NA &           NA &           NA\\\\\n",
       "\t 96 &           NA &           NA &           NA &           NA\\\\\n",
       "\t 97 &           NA &           NA &           NA &           NA\\\\\n",
       "\t 98 &           NA &           NA &           NA &           NA\\\\\n",
       "\t 99 &           NA &           NA &           NA &           NA\\\\\n",
       "\t100 &           NA &           NA &           NA &           NA\\\\\n",
       "\t101 &           NA &           NA &           NA &           NA\\\\\n",
       "\t102 &           NA &           NA &           NA &           NA\\\\\n",
       "\t103 &           NA &           NA &           NA &           NA\\\\\n",
       "\t104 &           NA &           NA &           NA &           NA\\\\\n",
       "\t105 &           NA &           NA &           NA &           NA\\\\\n",
       "\t106 &           NA &           NA &           NA &           NA\\\\\n",
       "\t107 &           NA &           NA &           NA &           NA\\\\\n",
       "\t108 &           NA &           NA &           NA &           NA\\\\\n",
       "\t109 &           NA &           NA &           NA &           NA\\\\\n",
       "\t110 &           NA &           NA &           NA &           NA\\\\\n",
       "\t111 &           NA &           NA &           NA &           NA\\\\\n",
       "\t112 &           NA &           NA &           NA &           NA\\\\\n",
       "\t113 &           NA &           NA &           NA &           NA\\\\\n",
       "\t114 &           NA &           NA &           NA &           NA\\\\\n",
       "\t115 &           NA &           NA &           NA &           NA\\\\\n",
       "\t116 &           NA &           NA &           NA &           NA\\\\\n",
       "\t117 &           NA &           NA &           NA &           NA\\\\\n",
       "\t118 &           NA &           NA &           NA &           NA\\\\\n",
       "\t119 &           NA &           NA &           NA &           NA\\\\\n",
       "\t120 &  0.017472437 &  0.001047897 & -0.007708377 & -0.013380948\\\\\n",
       "\t121 & -0.007608371 & -0.009930543 & -0.016794095 & -0.015018159\\\\\n",
       "\t122 &  0.010230769 &  0.009467238 & -0.008773101 & -0.008260477\\\\\n",
       "\t123 & -0.002896052 & -0.011311615 & -0.013969244 & -0.022470171\\\\\n",
       "\t124 & -0.009174885 & -0.013306138 & -0.022104249 & -0.027497925\\\\\n",
       "\t125 & -0.010158445 & -0.018376663 & -0.022004105 &           NA\\\\\n",
       "\t126 & -0.020292973 & -0.018940594 &           NA &           NA\\\\\n",
       "\t127 & -0.010483390 &           NA &           NA &           NA\\\\\n",
       "\t128 &           NA &           NA &           NA &           NA\\\\\n",
       "\\end{tabular}\n"
      ],
      "text/markdown": [
       "\n",
       "A Time Series: 128 × 4\n",
       "\n",
       "| <!--/--> | h=1 | h=2 | h=3 | h=4 |\n",
       "|---|---|---|---|---|\n",
       "|   1 |           NA |           NA |           NA |           NA |\n",
       "|   2 |           NA |           NA |           NA |           NA |\n",
       "|   3 |           NA |           NA |           NA |           NA |\n",
       "|   4 |           NA |           NA |           NA |           NA |\n",
       "|   5 |           NA |           NA |           NA |           NA |\n",
       "|   6 |           NA |           NA |           NA |           NA |\n",
       "|   7 |           NA |           NA |           NA |           NA |\n",
       "|   8 |           NA |           NA |           NA |           NA |\n",
       "|   9 |           NA |           NA |           NA |           NA |\n",
       "|  10 |           NA |           NA |           NA |           NA |\n",
       "|  11 |           NA |           NA |           NA |           NA |\n",
       "|  12 |           NA |           NA |           NA |           NA |\n",
       "|  13 |           NA |           NA |           NA |           NA |\n",
       "|  14 |           NA |           NA |           NA |           NA |\n",
       "|  15 |           NA |           NA |           NA |           NA |\n",
       "|  16 |           NA |           NA |           NA |           NA |\n",
       "|  17 |           NA |           NA |           NA |           NA |\n",
       "|  18 |           NA |           NA |           NA |           NA |\n",
       "|  19 |           NA |           NA |           NA |           NA |\n",
       "|  20 |           NA |           NA |           NA |           NA |\n",
       "|  21 |           NA |           NA |           NA |           NA |\n",
       "|  22 |           NA |           NA |           NA |           NA |\n",
       "|  23 |           NA |           NA |           NA |           NA |\n",
       "|  24 |           NA |           NA |           NA |           NA |\n",
       "|  25 |           NA |           NA |           NA |           NA |\n",
       "|  26 |           NA |           NA |           NA |           NA |\n",
       "|  27 |           NA |           NA |           NA |           NA |\n",
       "|  28 |           NA |           NA |           NA |           NA |\n",
       "|  29 |           NA |           NA |           NA |           NA |\n",
       "|  30 |           NA |           NA |           NA |           NA |\n",
       "|  31 |           NA |           NA |           NA |           NA |\n",
       "|  32 |           NA |           NA |           NA |           NA |\n",
       "|  33 |           NA |           NA |           NA |           NA |\n",
       "|  34 |           NA |           NA |           NA |           NA |\n",
       "|  35 |           NA |           NA |           NA |           NA |\n",
       "|  36 |           NA |           NA |           NA |           NA |\n",
       "|  37 |           NA |           NA |           NA |           NA |\n",
       "|  38 |           NA |           NA |           NA |           NA |\n",
       "|  39 |           NA |           NA |           NA |           NA |\n",
       "|  40 |           NA |           NA |           NA |           NA |\n",
       "|  41 |           NA |           NA |           NA |           NA |\n",
       "|  42 |           NA |           NA |           NA |           NA |\n",
       "|  43 |           NA |           NA |           NA |           NA |\n",
       "|  44 |           NA |           NA |           NA |           NA |\n",
       "|  45 |           NA |           NA |           NA |           NA |\n",
       "|  46 |           NA |           NA |           NA |           NA |\n",
       "|  47 |           NA |           NA |           NA |           NA |\n",
       "|  48 |           NA |           NA |           NA |           NA |\n",
       "|  49 |           NA |           NA |           NA |           NA |\n",
       "|  50 |           NA |           NA |           NA |           NA |\n",
       "|  51 |           NA |           NA |           NA |           NA |\n",
       "|  52 |           NA |           NA |           NA |           NA |\n",
       "|  53 |           NA |           NA |           NA |           NA |\n",
       "|  54 |           NA |           NA |           NA |           NA |\n",
       "|  55 |           NA |           NA |           NA |           NA |\n",
       "|  56 |           NA |           NA |           NA |           NA |\n",
       "|  57 |           NA |           NA |           NA |           NA |\n",
       "|  58 |           NA |           NA |           NA |           NA |\n",
       "|  59 |           NA |           NA |           NA |           NA |\n",
       "|  60 |           NA |           NA |           NA |           NA |\n",
       "|  61 |           NA |           NA |           NA |           NA |\n",
       "|  62 |           NA |           NA |           NA |           NA |\n",
       "|  63 |           NA |           NA |           NA |           NA |\n",
       "|  64 |           NA |           NA |           NA |           NA |\n",
       "|  65 |           NA |           NA |           NA |           NA |\n",
       "|  66 |           NA |           NA |           NA |           NA |\n",
       "|  67 |           NA |           NA |           NA |           NA |\n",
       "|  68 |           NA |           NA |           NA |           NA |\n",
       "|  69 |           NA |           NA |           NA |           NA |\n",
       "|  70 |           NA |           NA |           NA |           NA |\n",
       "|  71 |           NA |           NA |           NA |           NA |\n",
       "|  72 |           NA |           NA |           NA |           NA |\n",
       "|  73 |           NA |           NA |           NA |           NA |\n",
       "|  74 |           NA |           NA |           NA |           NA |\n",
       "|  75 |           NA |           NA |           NA |           NA |\n",
       "|  76 |           NA |           NA |           NA |           NA |\n",
       "|  77 |           NA |           NA |           NA |           NA |\n",
       "|  78 |           NA |           NA |           NA |           NA |\n",
       "|  79 |           NA |           NA |           NA |           NA |\n",
       "|  80 |           NA |           NA |           NA |           NA |\n",
       "|  81 |           NA |           NA |           NA |           NA |\n",
       "|  82 |           NA |           NA |           NA |           NA |\n",
       "|  83 |           NA |           NA |           NA |           NA |\n",
       "|  84 |           NA |           NA |           NA |           NA |\n",
       "|  85 |           NA |           NA |           NA |           NA |\n",
       "|  86 |           NA |           NA |           NA |           NA |\n",
       "|  87 |           NA |           NA |           NA |           NA |\n",
       "|  88 |           NA |           NA |           NA |           NA |\n",
       "|  89 |           NA |           NA |           NA |           NA |\n",
       "|  90 |           NA |           NA |           NA |           NA |\n",
       "|  91 |           NA |           NA |           NA |           NA |\n",
       "|  92 |           NA |           NA |           NA |           NA |\n",
       "|  93 |           NA |           NA |           NA |           NA |\n",
       "|  94 |           NA |           NA |           NA |           NA |\n",
       "|  95 |           NA |           NA |           NA |           NA |\n",
       "|  96 |           NA |           NA |           NA |           NA |\n",
       "|  97 |           NA |           NA |           NA |           NA |\n",
       "|  98 |           NA |           NA |           NA |           NA |\n",
       "|  99 |           NA |           NA |           NA |           NA |\n",
       "| 100 |           NA |           NA |           NA |           NA |\n",
       "| 101 |           NA |           NA |           NA |           NA |\n",
       "| 102 |           NA |           NA |           NA |           NA |\n",
       "| 103 |           NA |           NA |           NA |           NA |\n",
       "| 104 |           NA |           NA |           NA |           NA |\n",
       "| 105 |           NA |           NA |           NA |           NA |\n",
       "| 106 |           NA |           NA |           NA |           NA |\n",
       "| 107 |           NA |           NA |           NA |           NA |\n",
       "| 108 |           NA |           NA |           NA |           NA |\n",
       "| 109 |           NA |           NA |           NA |           NA |\n",
       "| 110 |           NA |           NA |           NA |           NA |\n",
       "| 111 |           NA |           NA |           NA |           NA |\n",
       "| 112 |           NA |           NA |           NA |           NA |\n",
       "| 113 |           NA |           NA |           NA |           NA |\n",
       "| 114 |           NA |           NA |           NA |           NA |\n",
       "| 115 |           NA |           NA |           NA |           NA |\n",
       "| 116 |           NA |           NA |           NA |           NA |\n",
       "| 117 |           NA |           NA |           NA |           NA |\n",
       "| 118 |           NA |           NA |           NA |           NA |\n",
       "| 119 |           NA |           NA |           NA |           NA |\n",
       "| 120 |  0.017472437 |  0.001047897 | -0.007708377 | -0.013380948 |\n",
       "| 121 | -0.007608371 | -0.009930543 | -0.016794095 | -0.015018159 |\n",
       "| 122 |  0.010230769 |  0.009467238 | -0.008773101 | -0.008260477 |\n",
       "| 123 | -0.002896052 | -0.011311615 | -0.013969244 | -0.022470171 |\n",
       "| 124 | -0.009174885 | -0.013306138 | -0.022104249 | -0.027497925 |\n",
       "| 125 | -0.010158445 | -0.018376663 | -0.022004105 |           NA |\n",
       "| 126 | -0.020292973 | -0.018940594 |           NA |           NA |\n",
       "| 127 | -0.010483390 |           NA |           NA |           NA |\n",
       "| 128 |           NA |           NA |           NA |           NA |\n",
       "\n"
      ],
      "text/plain": [
       "    h=1          h=2          h=3          h=4         \n",
       "  1           NA           NA           NA           NA\n",
       "  2           NA           NA           NA           NA\n",
       "  3           NA           NA           NA           NA\n",
       "  4           NA           NA           NA           NA\n",
       "  5           NA           NA           NA           NA\n",
       "  6           NA           NA           NA           NA\n",
       "  7           NA           NA           NA           NA\n",
       "  8           NA           NA           NA           NA\n",
       "  9           NA           NA           NA           NA\n",
       " 10           NA           NA           NA           NA\n",
       " 11           NA           NA           NA           NA\n",
       " 12           NA           NA           NA           NA\n",
       " 13           NA           NA           NA           NA\n",
       " 14           NA           NA           NA           NA\n",
       " 15           NA           NA           NA           NA\n",
       " 16           NA           NA           NA           NA\n",
       " 17           NA           NA           NA           NA\n",
       " 18           NA           NA           NA           NA\n",
       " 19           NA           NA           NA           NA\n",
       " 20           NA           NA           NA           NA\n",
       " 21           NA           NA           NA           NA\n",
       " 22           NA           NA           NA           NA\n",
       " 23           NA           NA           NA           NA\n",
       " 24           NA           NA           NA           NA\n",
       " 25           NA           NA           NA           NA\n",
       " 26           NA           NA           NA           NA\n",
       " 27           NA           NA           NA           NA\n",
       " 28           NA           NA           NA           NA\n",
       " 29           NA           NA           NA           NA\n",
       " 30           NA           NA           NA           NA\n",
       " 31           NA           NA           NA           NA\n",
       " 32           NA           NA           NA           NA\n",
       " 33           NA           NA           NA           NA\n",
       " 34           NA           NA           NA           NA\n",
       " 35           NA           NA           NA           NA\n",
       " 36           NA           NA           NA           NA\n",
       " 37           NA           NA           NA           NA\n",
       " 38           NA           NA           NA           NA\n",
       " 39           NA           NA           NA           NA\n",
       " 40           NA           NA           NA           NA\n",
       " 41           NA           NA           NA           NA\n",
       " 42           NA           NA           NA           NA\n",
       " 43           NA           NA           NA           NA\n",
       " 44           NA           NA           NA           NA\n",
       " 45           NA           NA           NA           NA\n",
       " 46           NA           NA           NA           NA\n",
       " 47           NA           NA           NA           NA\n",
       " 48           NA           NA           NA           NA\n",
       " 49           NA           NA           NA           NA\n",
       " 50           NA           NA           NA           NA\n",
       " 51           NA           NA           NA           NA\n",
       " 52           NA           NA           NA           NA\n",
       " 53           NA           NA           NA           NA\n",
       " 54           NA           NA           NA           NA\n",
       " 55           NA           NA           NA           NA\n",
       " 56           NA           NA           NA           NA\n",
       " 57           NA           NA           NA           NA\n",
       " 58           NA           NA           NA           NA\n",
       " 59           NA           NA           NA           NA\n",
       " 60           NA           NA           NA           NA\n",
       " 61           NA           NA           NA           NA\n",
       " 62           NA           NA           NA           NA\n",
       " 63           NA           NA           NA           NA\n",
       " 64           NA           NA           NA           NA\n",
       " 65           NA           NA           NA           NA\n",
       " 66           NA           NA           NA           NA\n",
       " 67           NA           NA           NA           NA\n",
       " 68           NA           NA           NA           NA\n",
       " 69           NA           NA           NA           NA\n",
       " 70           NA           NA           NA           NA\n",
       " 71           NA           NA           NA           NA\n",
       " 72           NA           NA           NA           NA\n",
       " 73           NA           NA           NA           NA\n",
       " 74           NA           NA           NA           NA\n",
       " 75           NA           NA           NA           NA\n",
       " 76           NA           NA           NA           NA\n",
       " 77           NA           NA           NA           NA\n",
       " 78           NA           NA           NA           NA\n",
       " 79           NA           NA           NA           NA\n",
       " 80           NA           NA           NA           NA\n",
       " 81           NA           NA           NA           NA\n",
       " 82           NA           NA           NA           NA\n",
       " 83           NA           NA           NA           NA\n",
       " 84           NA           NA           NA           NA\n",
       " 85           NA           NA           NA           NA\n",
       " 86           NA           NA           NA           NA\n",
       " 87           NA           NA           NA           NA\n",
       " 88           NA           NA           NA           NA\n",
       " 89           NA           NA           NA           NA\n",
       " 90           NA           NA           NA           NA\n",
       " 91           NA           NA           NA           NA\n",
       " 92           NA           NA           NA           NA\n",
       " 93           NA           NA           NA           NA\n",
       " 94           NA           NA           NA           NA\n",
       " 95           NA           NA           NA           NA\n",
       " 96           NA           NA           NA           NA\n",
       " 97           NA           NA           NA           NA\n",
       " 98           NA           NA           NA           NA\n",
       " 99           NA           NA           NA           NA\n",
       "100           NA           NA           NA           NA\n",
       "101           NA           NA           NA           NA\n",
       "102           NA           NA           NA           NA\n",
       "103           NA           NA           NA           NA\n",
       "104           NA           NA           NA           NA\n",
       "105           NA           NA           NA           NA\n",
       "106           NA           NA           NA           NA\n",
       "107           NA           NA           NA           NA\n",
       "108           NA           NA           NA           NA\n",
       "109           NA           NA           NA           NA\n",
       "110           NA           NA           NA           NA\n",
       "111           NA           NA           NA           NA\n",
       "112           NA           NA           NA           NA\n",
       "113           NA           NA           NA           NA\n",
       "114           NA           NA           NA           NA\n",
       "115           NA           NA           NA           NA\n",
       "116           NA           NA           NA           NA\n",
       "117           NA           NA           NA           NA\n",
       "118           NA           NA           NA           NA\n",
       "119           NA           NA           NA           NA\n",
       "120  0.017472437  0.001047897 -0.007708377 -0.013380948\n",
       "121 -0.007608371 -0.009930543 -0.016794095 -0.015018159\n",
       "122  0.010230769  0.009467238 -0.008773101 -0.008260477\n",
       "123 -0.002896052 -0.011311615 -0.013969244 -0.022470171\n",
       "124 -0.009174885 -0.013306138 -0.022104249 -0.027497925\n",
       "125 -0.010158445 -0.018376663 -0.022004105           NA\n",
       "126 -0.020292973 -0.018940594           NA           NA\n",
       "127 -0.010483390           NA           NA           NA\n",
       "128           NA           NA           NA           NA"
      ]
     },
     "metadata": {},
     "output_type": "display_data"
    }
   ],
   "source": [
    "e_cpi "
   ]
  },
  {
   "cell_type": "code",
   "execution_count": 88,
   "metadata": {
    "vscode": {
     "languageId": "r"
    }
   },
   "outputs": [],
   "source": [
    "e_cpi_fc <- colMeans(e_cpi, na.rm=TRUE)\n",
    "e_ppi_fc <- colMeans(e_cpi, na.rm=TRUE)"
   ]
  },
  {
   "cell_type": "code",
   "execution_count": 89,
   "metadata": {
    "vscode": {
     "languageId": "r"
    }
   },
   "outputs": [
    {
     "data": {
      "text/html": [
       "<style>\n",
       ".dl-inline {width: auto; margin:0; padding: 0}\n",
       ".dl-inline>dt, .dl-inline>dd {float: none; width: auto; display: inline-block}\n",
       ".dl-inline>dt::after {content: \":\\0020\"; padding-right: .5ex}\n",
       ".dl-inline>dt:not(:first-of-type) {padding-left: .5ex}\n",
       "</style><dl class=dl-inline><dt>h=1</dt><dd>-0.00411386387137265</dd><dt>h=2</dt><dd>-0.00876434548087821</dd><dt>h=3</dt><dd>-0.0152255285795949</dd><dt>h=4</dt><dd>-0.0173255361833261</dd></dl>\n"
      ],
      "text/latex": [
       "\\begin{description*}\n",
       "\\item[h=1] -0.00411386387137265\n",
       "\\item[h=2] -0.00876434548087821\n",
       "\\item[h=3] -0.0152255285795949\n",
       "\\item[h=4] -0.0173255361833261\n",
       "\\end{description*}\n"
      ],
      "text/markdown": [
       "h=1\n",
       ":   -0.00411386387137265h=2\n",
       ":   -0.00876434548087821h=3\n",
       ":   -0.0152255285795949h=4\n",
       ":   -0.0173255361833261\n",
       "\n"
      ],
      "text/plain": [
       "         h=1          h=2          h=3          h=4 \n",
       "-0.004113864 -0.008764345 -0.015225529 -0.017325536 "
      ]
     },
     "metadata": {},
     "output_type": "display_data"
    },
    {
     "data": {
      "text/html": [
       "<style>\n",
       ".dl-inline {width: auto; margin:0; padding: 0}\n",
       ".dl-inline>dt, .dl-inline>dd {float: none; width: auto; display: inline-block}\n",
       ".dl-inline>dt::after {content: \":\\0020\"; padding-right: .5ex}\n",
       ".dl-inline>dt:not(:first-of-type) {padding-left: .5ex}\n",
       "</style><dl class=dl-inline><dt>h=1</dt><dd>-0.00411386387137265</dd><dt>h=2</dt><dd>-0.00876434548087821</dd><dt>h=3</dt><dd>-0.0152255285795949</dd><dt>h=4</dt><dd>-0.0173255361833261</dd></dl>\n"
      ],
      "text/latex": [
       "\\begin{description*}\n",
       "\\item[h=1] -0.00411386387137265\n",
       "\\item[h=2] -0.00876434548087821\n",
       "\\item[h=3] -0.0152255285795949\n",
       "\\item[h=4] -0.0173255361833261\n",
       "\\end{description*}\n"
      ],
      "text/markdown": [
       "h=1\n",
       ":   -0.00411386387137265h=2\n",
       ":   -0.00876434548087821h=3\n",
       ":   -0.0152255285795949h=4\n",
       ":   -0.0173255361833261\n",
       "\n"
      ],
      "text/plain": [
       "         h=1          h=2          h=3          h=4 \n",
       "-0.004113864 -0.008764345 -0.015225529 -0.017325536 "
      ]
     },
     "metadata": {},
     "output_type": "display_data"
    }
   ],
   "source": [
    "e_cpi_fc\n",
    "e_ppi_fc"
   ]
  },
  {
   "cell_type": "code",
   "execution_count": 90,
   "metadata": {
    "vscode": {
     "languageId": "r"
    }
   },
   "outputs": [
    {
     "data": {
      "text/html": [
       "-5.24500450127218"
      ],
      "text/latex": [
       "-5.24500450127218"
      ],
      "text/markdown": [
       "-5.24500450127218"
      ],
      "text/plain": [
       "[1] -5.245005"
      ]
     },
     "metadata": {},
     "output_type": "display_data"
    },
    {
     "data": {
      "text/html": [
       "0.931494659198315"
      ],
      "text/latex": [
       "0.931494659198315"
      ],
      "text/markdown": [
       "0.931494659198315"
      ],
      "text/plain": [
       "[1] 0.9314947"
      ]
     },
     "metadata": {},
     "output_type": "display_data"
    }
   ],
   "source": [
    "tscv_rss_cpi <- var(e_cpi_fc)\n",
    "tscv_tss_cpi <- var(lncpi[(length(lncpi) - length(e_cpi_fc) + 1):156])\n",
    "tscv_rsq_cpi <- 1 - (tscv_rss_cpi / tscv_tss_cpi)\n",
    "tscv_rsq_cpi\n",
    "\n",
    "tscv_rss_ppi <- var(e_ppi_fc)\n",
    "tscv_tss_ppi <- var(lnppi[(length(lnppi) - length(e_ppi_fc) + 1):156])\n",
    "tscv_rsq_ppi <- 1 - (tscv_rss_ppi / tscv_tss_ppi)\n",
    "tscv_rsq_ppi"
   ]
  },
  {
   "attachments": {},
   "cell_type": "markdown",
   "metadata": {},
   "source": [
    "### It is evident that tsCV fucntion can give a better prediction power than only use auto.arima function."
   ]
  },
  {
   "attachments": {},
   "cell_type": "markdown",
   "metadata": {},
   "source": [
    "# I use another way to run cross validation"
   ]
  },
  {
   "cell_type": "code",
   "execution_count": 98,
   "metadata": {
    "vscode": {
     "languageId": "r"
    }
   },
   "outputs": [],
   "source": [
    "library(forecast)\n",
    "\n",
    "# Define the number of observations in the initial training set\n",
    "train_window <- 72\n",
    "\n",
    "# Define the number of observations to forecast\n",
    "test_window <- 12\n",
    "\n",
    "my_data <- data.frame(cbind(lncpi, X_pca))\n",
    "\n",
    "# Define the total number of cross-validation iterations\n",
    "num_iterations <- nrow(my_data) - train_window - test_window + 1\n",
    "\n",
    "# Create an empty vector to store prediction values\n",
    "preds <- matrix(, nrow = num_iterations, ncol = test_window)"
   ]
  },
  {
   "cell_type": "code",
   "execution_count": 99,
   "metadata": {
    "vscode": {
     "languageId": "r"
    }
   },
   "outputs": [],
   "source": [
    "# Loop through each iteration of cross-validation\n",
    "for(i in 1:num_iterations) {\n",
    "  # Define the training set and test set for this iteration\n",
    "  train_data <- my_data[i:(i+train_window-1),]\n",
    "  test_data <- my_data[(i+train_window):(i+train_window+test_window-1),]\n",
    "  \n",
    "  # Fit the model on the training data\n",
    "  model <- auto.arima(train_data[,1], xreg = as.matrix(train_data[,-1]))\n",
    "  \n",
    "  # Make predictions on the test data\n",
    "  preds[i,] <- forecast(model, h = test_window, xreg = as.matrix(test_data[,-1]))$mean\n",
    "}"
   ]
  },
  {
   "cell_type": "code",
   "execution_count": 100,
   "metadata": {
    "vscode": {
     "languageId": "r"
    }
   },
   "outputs": [
    {
     "data": {
      "text/html": [
       "876"
      ],
      "text/latex": [
       "876"
      ],
      "text/markdown": [
       "876"
      ],
      "text/plain": [
       "[1] 876"
      ]
     },
     "metadata": {},
     "output_type": "display_data"
    },
    {
     "data": {
      "text/html": [
       "0"
      ],
      "text/latex": [
       "0"
      ],
      "text/markdown": [
       "0"
      ],
      "text/plain": [
       "[1] 0"
      ]
     },
     "metadata": {},
     "output_type": "display_data"
    },
    {
     "data": {
      "text/html": [
       "156"
      ],
      "text/latex": [
       "156"
      ],
      "text/markdown": [
       "156"
      ],
      "text/plain": [
       "[1] 156"
      ]
     },
     "metadata": {},
     "output_type": "display_data"
    }
   ],
   "source": [
    "length(preds)\n",
    "sum(is.na(preds))\n",
    "nrow(my_data)"
   ]
  },
  {
   "cell_type": "code",
   "execution_count": 101,
   "metadata": {
    "vscode": {
     "languageId": "r"
    }
   },
   "outputs": [
    {
     "data": {
      "text/html": [
       "<style>\n",
       ".list-inline {list-style: none; margin:0; padding: 0}\n",
       ".list-inline>li {display: inline-block}\n",
       ".list-inline>li:not(:last-child)::after {content: \"\\00b7\"; padding: 0 .5ex}\n",
       "</style>\n",
       "<ol class=list-inline><li>0.00181524065140387</li><li>0.000881579975287114</li><li>0.000625676063567994</li><li>0.000127029116816289</li><li>0.00033914374187227</li><li>0.00235115287446384</li><li>0.001168678597736</li><li>0.000436763367655943</li><li>0.00188661587393514</li><li>0.000641432654618373</li><li>-0.000775934458384704</li><li>-9.11495912634962e-06</li></ol>\n"
      ],
      "text/latex": [
       "\\begin{enumerate*}\n",
       "\\item 0.00181524065140387\n",
       "\\item 0.000881579975287114\n",
       "\\item 0.000625676063567994\n",
       "\\item 0.000127029116816289\n",
       "\\item 0.00033914374187227\n",
       "\\item 0.00235115287446384\n",
       "\\item 0.001168678597736\n",
       "\\item 0.000436763367655943\n",
       "\\item 0.00188661587393514\n",
       "\\item 0.000641432654618373\n",
       "\\item -0.000775934458384704\n",
       "\\item -9.11495912634962e-06\n",
       "\\end{enumerate*}\n"
      ],
      "text/markdown": [
       "1. 0.00181524065140387\n",
       "2. 0.000881579975287114\n",
       "3. 0.000625676063567994\n",
       "4. 0.000127029116816289\n",
       "5. 0.00033914374187227\n",
       "6. 0.00235115287446384\n",
       "7. 0.001168678597736\n",
       "8. 0.000436763367655943\n",
       "9. 0.00188661587393514\n",
       "10. 0.000641432654618373\n",
       "11. -0.000775934458384704\n",
       "12. -9.11495912634962e-06\n",
       "\n",
       "\n"
      ],
      "text/plain": [
       " [1]  1.815241e-03  8.815800e-04  6.256761e-04  1.270291e-04  3.391437e-04\n",
       " [6]  2.351153e-03  1.168679e-03  4.367634e-04  1.886616e-03  6.414327e-04\n",
       "[11] -7.759345e-04 -9.114959e-06"
      ]
     },
     "metadata": {},
     "output_type": "display_data"
    }
   ],
   "source": [
    "preds_average <- colMeans(preds)\n",
    "preds_average"
   ]
  },
  {
   "cell_type": "code",
   "execution_count": 102,
   "metadata": {
    "vscode": {
     "languageId": "r"
    }
   },
   "outputs": [
    {
     "data": {
      "text/html": [
       "-0.0611184620199934"
      ],
      "text/latex": [
       "-0.0611184620199934"
      ],
      "text/markdown": [
       "-0.0611184620199934"
      ],
      "text/plain": [
       "[1] -0.06111846"
      ]
     },
     "metadata": {},
     "output_type": "display_data"
    }
   ],
   "source": [
    "cv_rss_cpi <- var(lncpi[145:156] - preds_average)\n",
    "cv_tss_cpi <- var(lncpi[145:156])\n",
    "cv_rsq_cpi <- 1 - (cv_rss_cpi / cv_tss_cpi)\n",
    "cv_rsq_cpi"
   ]
  },
  {
   "cell_type": "code",
   "execution_count": 103,
   "metadata": {
    "vscode": {
     "languageId": "r"
    }
   },
   "outputs": [],
   "source": [
    "my_data2 <- data.frame(cbind(lnppi, X_pca))\n",
    "\n",
    "# Define the total number of cross-validation iterations\n",
    "num_iterations2 <- nrow(my_data2) - train_window - test_window + 1\n",
    "\n",
    "# Create an empty vector to store prediction values\n",
    "preds2 <- matrix(, nrow = num_iterations, ncol = test_window)"
   ]
  },
  {
   "cell_type": "code",
   "execution_count": 104,
   "metadata": {
    "vscode": {
     "languageId": "r"
    }
   },
   "outputs": [],
   "source": [
    "# Loop through each iteration of cross-validation\n",
    "for(i in 1:num_iterations2) {\n",
    "  # Define the training set and test set for this iteration\n",
    "  train_data <- my_data2[i:(i+train_window-1),]\n",
    "  test_data <- my_data2[(i+train_window):(i+train_window+test_window-1),]\n",
    "  \n",
    "  # Fit the model on the training data\n",
    "  model2 <- auto.arima(train_data[,1], xreg = as.matrix(train_data[,-1]))\n",
    "  \n",
    "  # Make predictions on the test data\n",
    "  preds2[i,] <- forecast(model2, h = test_window, xreg = as.matrix(test_data[,-1]))$mean\n",
    "}"
   ]
  },
  {
   "cell_type": "code",
   "execution_count": 105,
   "metadata": {
    "vscode": {
     "languageId": "r"
    }
   },
   "outputs": [
    {
     "data": {
      "text/html": [
       "<style>\n",
       ".list-inline {list-style: none; margin:0; padding: 0}\n",
       ".list-inline>li {display: inline-block}\n",
       ".list-inline>li:not(:last-child)::after {content: \"\\00b7\"; padding: 0 .5ex}\n",
       "</style>\n",
       "<ol class=list-inline><li>-0.00236304412645202</li><li>-0.00488138719098552</li><li>-0.00674032035177122</li><li>-0.00975097804268302</li><li>-0.0130263076186283</li><li>-0.0167351838248182</li><li>-0.0191662254484761</li><li>-0.0208008837101251</li><li>-0.0232337943229074</li><li>-0.0240789940429398</li><li>-0.0259924493765433</li><li>-0.0269949660218506</li></ol>\n"
      ],
      "text/latex": [
       "\\begin{enumerate*}\n",
       "\\item -0.00236304412645202\n",
       "\\item -0.00488138719098552\n",
       "\\item -0.00674032035177122\n",
       "\\item -0.00975097804268302\n",
       "\\item -0.0130263076186283\n",
       "\\item -0.0167351838248182\n",
       "\\item -0.0191662254484761\n",
       "\\item -0.0208008837101251\n",
       "\\item -0.0232337943229074\n",
       "\\item -0.0240789940429398\n",
       "\\item -0.0259924493765433\n",
       "\\item -0.0269949660218506\n",
       "\\end{enumerate*}\n"
      ],
      "text/markdown": [
       "1. -0.00236304412645202\n",
       "2. -0.00488138719098552\n",
       "3. -0.00674032035177122\n",
       "4. -0.00975097804268302\n",
       "5. -0.0130263076186283\n",
       "6. -0.0167351838248182\n",
       "7. -0.0191662254484761\n",
       "8. -0.0208008837101251\n",
       "9. -0.0232337943229074\n",
       "10. -0.0240789940429398\n",
       "11. -0.0259924493765433\n",
       "12. -0.0269949660218506\n",
       "\n",
       "\n"
      ],
      "text/plain": [
       " [1] -0.002363044 -0.004881387 -0.006740320 -0.009750978 -0.013026308\n",
       " [6] -0.016735184 -0.019166225 -0.020800884 -0.023233794 -0.024078994\n",
       "[11] -0.025992449 -0.026994966"
      ]
     },
     "metadata": {},
     "output_type": "display_data"
    }
   ],
   "source": [
    "preds_average2 <- colMeans(preds2)\n",
    "preds_average2"
   ]
  },
  {
   "cell_type": "code",
   "execution_count": 106,
   "metadata": {
    "vscode": {
     "languageId": "r"
    }
   },
   "outputs": [
    {
     "data": {
      "text/html": [
       "-0.459121695119305"
      ],
      "text/latex": [
       "-0.459121695119305"
      ],
      "text/markdown": [
       "-0.459121695119305"
      ],
      "text/plain": [
       "[1] -0.4591217"
      ]
     },
     "metadata": {},
     "output_type": "display_data"
    }
   ],
   "source": [
    "cv_rss_ppi <- var(lnppi[145:156] - preds_average2)\n",
    "cv_tss_ppi <- var(lnppi[145:156])\n",
    "cv_rsq_ppi <- 1 - (cv_rss_ppi / cv_tss_ppi)\n",
    "cv_rsq_ppi"
   ]
  },
  {
   "attachments": {},
   "cell_type": "markdown",
   "metadata": {},
   "source": [
    "# Then I fit neural network"
   ]
  },
  {
   "cell_type": "code",
   "execution_count": 107,
   "metadata": {
    "vscode": {
     "languageId": "r"
    }
   },
   "outputs": [],
   "source": [
    "library(keras)\n",
    "library(tensorflow)"
   ]
  },
  {
   "attachments": {},
   "cell_type": "markdown",
   "metadata": {},
   "source": [
    "### Though I tried several times, the results from differenced is not better than not differenced, I skip the stationary procedure"
   ]
  },
  {
   "cell_type": "code",
   "execution_count": 129,
   "metadata": {
    "vscode": {
     "languageId": "r"
    }
   },
   "outputs": [],
   "source": [
    "# transforms the data into stationary\n",
    "# I tried the difference to be 1, but I found it is not so whitenoise like I set the difference to 2.\n",
    "\n",
    "# cpi_diff <- diff(lncpi, difference = 1)\n",
    "# X_diff <- diff(X_ts, difference = 1)"
   ]
  },
  {
   "cell_type": "code",
   "execution_count": 130,
   "metadata": {
    "vscode": {
     "languageId": "r"
    }
   },
   "outputs": [
    {
     "data": {
      "image/png": "[encoded data removed]",
      "text/plain": [
       "plot without title"
      ]
     },
     "metadata": {
      "image/png": {
       "height": 420,
       "width": 420
      }
     },
     "output_type": "display_data"
    }
   ],
   "source": [
    "# autoplot(cpi_diff)"
   ]
  },
  {
   "cell_type": "code",
   "execution_count": 108,
   "metadata": {
    "vscode": {
     "languageId": "r"
    }
   },
   "outputs": [
    {
     "data": {
      "text/html": [
       "<table class=\"dataframe\">\n",
       "<caption>A data.frame: 6 × 2</caption>\n",
       "<thead>\n",
       "\t<tr><th></th><th scope=col>cpi</th><th scope=col>cpi-1</th></tr>\n",
       "\t<tr><th></th><th scope=col>&lt;dbl&gt;</th><th scope=col>&lt;dbl&gt;</th></tr>\n",
       "</thead>\n",
       "<tbody>\n",
       "\t<tr><th scope=row>1</th><td>0.02750665</td><td>0.00000000</td></tr>\n",
       "\t<tr><th scope=row>2</th><td>0.01878454</td><td>0.02750665</td></tr>\n",
       "\t<tr><th scope=row>3</th><td>0.02059906</td><td>0.01878454</td></tr>\n",
       "\t<tr><th scope=row>4</th><td>0.02734545</td><td>0.02059906</td></tr>\n",
       "\t<tr><th scope=row>5</th><td>0.03608388</td><td>0.02734545</td></tr>\n",
       "\t<tr><th scope=row>6</th><td>0.04579466</td><td>0.03608388</td></tr>\n",
       "</tbody>\n",
       "</table>\n"
      ],
      "text/latex": [
       "A data.frame: 6 × 2\n",
       "\\begin{tabular}{r|ll}\n",
       "  & cpi & cpi-1\\\\\n",
       "  & <dbl> & <dbl>\\\\\n",
       "\\hline\n",
       "\t1 & 0.02750665 & 0.00000000\\\\\n",
       "\t2 & 0.01878454 & 0.02750665\\\\\n",
       "\t3 & 0.02059906 & 0.01878454\\\\\n",
       "\t4 & 0.02734545 & 0.02059906\\\\\n",
       "\t5 & 0.03608388 & 0.02734545\\\\\n",
       "\t6 & 0.04579466 & 0.03608388\\\\\n",
       "\\end{tabular}\n"
      ],
      "text/markdown": [
       "\n",
       "A data.frame: 6 × 2\n",
       "\n",
       "| <!--/--> | cpi &lt;dbl&gt; | cpi-1 &lt;dbl&gt; |\n",
       "|---|---|---|\n",
       "| 1 | 0.02750665 | 0.00000000 |\n",
       "| 2 | 0.01878454 | 0.02750665 |\n",
       "| 3 | 0.02059906 | 0.01878454 |\n",
       "| 4 | 0.02734545 | 0.02059906 |\n",
       "| 5 | 0.03608388 | 0.02734545 |\n",
       "| 6 | 0.04579466 | 0.03608388 |\n",
       "\n"
      ],
      "text/plain": [
       "  cpi        cpi-1     \n",
       "1 0.02750665 0.00000000\n",
       "2 0.01878454 0.02750665\n",
       "3 0.02059906 0.01878454\n",
       "4 0.02734545 0.02059906\n",
       "5 0.03608388 0.02734545\n",
       "6 0.04579466 0.03608388"
      ]
     },
     "metadata": {},
     "output_type": "display_data"
    }
   ],
   "source": [
    "# Then we lag the response varibale into the dataset\n",
    "lag_transform <- function(x, k= k){\n",
    "    \n",
    "      lagged =  c(rep(NA, k), x[1:(length(x)-k)])\n",
    "      DF = as.data.frame(cbind(x, lagged))\n",
    "      colnames(DF) <- c('cpi', paste0('cpi-', k))\n",
    "      DF[is.na(DF)] <- 0\n",
    "      return(DF)\n",
    "}\n",
    "\n",
    "cpi_lag <- lag_transform(lncpi, 1)\n",
    "head(cpi_lag)"
   ]
  },
  {
   "cell_type": "code",
   "execution_count": 109,
   "metadata": {
    "vscode": {
     "languageId": "r"
    }
   },
   "outputs": [
    {
     "data": {
      "text/html": [
       "<table class=\"dataframe\">\n",
       "<caption>A data.frame: 6 × 153</caption>\n",
       "<thead>\n",
       "\t<tr><th></th><th scope=col>cpi</th><th scope=col>cpi-1</th><th scope=col>规模以上工业增加值_当期同比实际增速</th><th scope=col>发电量_当期同比增速</th><th scope=col>原煤产量_当期同比增速</th><th scope=col>焦炭产量_当期同比增速</th><th scope=col>粗钢产量_当期同比增速</th><th scope=col>钢材产量_当期同比增速</th><th scope=col>原油产量_当期同比增速</th><th scope=col>乙烯产量_当期同比增速</th><th scope=col>⋯</th><th scope=col>美国联邦基金利率日_一阶差分</th><th scope=col>美国标准普尔500指数收盘价收益率</th><th scope=col>美国纳斯达克综合指数收盘价收益率</th><th scope=col>美国道琼斯工业平均指数收盘价收益率</th><th scope=col>CRB现货指数食品收益率</th><th scope=col>CRB现货指数家畜收益率</th><th scope=col>CRB现货指数金属收益率</th><th scope=col>CRB现货指数工业原料收益率</th><th scope=col>CRB现货指数纺织品收益率</th><th scope=col>波罗的海干散货指数BDI收益率</th></tr>\n",
       "\t<tr><th></th><th scope=col>&lt;dbl&gt;</th><th scope=col>&lt;dbl&gt;</th><th scope=col>&lt;dbl&gt;</th><th scope=col>&lt;dbl&gt;</th><th scope=col>&lt;dbl&gt;</th><th scope=col>&lt;dbl&gt;</th><th scope=col>&lt;dbl&gt;</th><th scope=col>&lt;dbl&gt;</th><th scope=col>&lt;dbl&gt;</th><th scope=col>&lt;dbl&gt;</th><th scope=col>⋯</th><th scope=col>&lt;dbl&gt;</th><th scope=col>&lt;dbl&gt;</th><th scope=col>&lt;dbl&gt;</th><th scope=col>&lt;dbl&gt;</th><th scope=col>&lt;dbl&gt;</th><th scope=col>&lt;dbl&gt;</th><th scope=col>&lt;dbl&gt;</th><th scope=col>&lt;dbl&gt;</th><th scope=col>&lt;dbl&gt;</th><th scope=col>&lt;dbl&gt;</th></tr>\n",
       "</thead>\n",
       "<tbody>\n",
       "\t<tr><th scope=row>1</th><td>0.8127493</td><td>0.6367976</td><td>0.1011236</td><td>0.6759259</td><td>0.3010721</td><td>0.6046590</td><td>0.7153445</td><td>0.6785168</td><td>0.5930736</td><td>0.3818722</td><td>⋯</td><td>0.8078925</td><td>0.7041852</td><td>0.7254387</td><td>0.6378073</td><td>0.6809099</td><td>0.5953677</td><td>0.8559139</td><td>0.8110996</td><td>0.6576389</td><td>0.6661959</td></tr>\n",
       "\t<tr><th scope=row>2</th><td>0.7569566</td><td>0.8127493</td><td>1.0000000</td><td>0.6759259</td><td>0.6021442</td><td>0.6404973</td><td>0.8164056</td><td>0.8520156</td><td>0.7229437</td><td>0.3893016</td><td>⋯</td><td>0.8056006</td><td>0.6868418</td><td>0.5694799</td><td>0.6618528</td><td>0.7699654</td><td>0.4616773</td><td>0.8181850</td><td>0.6116240</td><td>0.4318110</td><td>0.6164788</td></tr>\n",
       "\t<tr><th scope=row>3</th><td>0.7685635</td><td>0.7569566</td><td>0.7865169</td><td>0.5037037</td><td>0.4831840</td><td>0.6270579</td><td>0.6749200</td><td>0.6632080</td><td>0.4848485</td><td>0.4056464</td><td>⋯</td><td>0.7924986</td><td>0.5874150</td><td>0.5696253</td><td>0.5353413</td><td>0.7628707</td><td>0.6782992</td><td>0.7788514</td><td>0.7744567</td><td>0.5380705</td><td>0.5570397</td></tr>\n",
       "\t<tr><th scope=row>4</th><td>0.8117182</td><td>0.7685635</td><td>0.7696629</td><td>0.5185185</td><td>0.5169628</td><td>0.5934595</td><td>0.6328112</td><td>0.6087770</td><td>0.5194805</td><td>0.4294205</td><td>⋯</td><td>0.7991567</td><td>0.5858900</td><td>0.5049422</td><td>0.5714665</td><td>0.5758365</td><td>0.6519408</td><td>0.6473289</td><td>0.6803439</td><td>0.4300238</td><td>0.5140660</td></tr>\n",
       "\t<tr><th scope=row>5</th><td>0.8676152</td><td>0.8117182</td><td>0.6797753</td><td>0.5259259</td><td>0.4684976</td><td>0.5867398</td><td>0.5098535</td><td>0.4488859</td><td>0.5324675</td><td>0.4249629</td><td>⋯</td><td>0.7976024</td><td>0.6864115</td><td>0.7358220</td><td>0.6093801</td><td>0.5627348</td><td>0.5991673</td><td>0.5664200</td><td>0.5655612</td><td>0.6134795</td><td>0.4625258</td></tr>\n",
       "\t<tr><th scope=row>6</th><td>0.9297321</td><td>0.8676152</td><td>0.6067416</td><td>0.4833333</td><td>0.4244382</td><td>0.5441819</td><td>0.5182752</td><td>0.5050179</td><td>0.5930736</td><td>0.3937593</td><td>⋯</td><td>0.8147441</td><td>0.7066179</td><td>0.7235458</td><td>0.7230849</td><td>0.4800029</td><td>0.6382363</td><td>0.5834909</td><td>0.5867737</td><td>0.3468443</td><td>0.4668408</td></tr>\n",
       "</tbody>\n",
       "</table>\n"
      ],
      "text/latex": [
       "A data.frame: 6 × 153\n",
       "\\begin{tabular}{r|lllllllllllllllllllll}\n",
       "  & cpi & cpi-1 & 规模以上工业增加值\\_当期同比实际增速 & 发电量\\_当期同比增速 & 原煤产量\\_当期同比增速 & 焦炭产量\\_当期同比增速 & 粗钢产量\\_当期同比增速 & 钢材产量\\_当期同比增速 & 原油产量\\_当期同比增速 & 乙烯产量\\_当期同比增速 & ⋯ & 美国联邦基金利率日\\_一阶差分 & 美国标准普尔500指数收盘价收益率 & 美国纳斯达克综合指数收盘价收益率 & 美国道琼斯工业平均指数收盘价收益率 & CRB现货指数食品收益率 & CRB现货指数家畜收益率 & CRB现货指数金属收益率 & CRB现货指数工业原料收益率 & CRB现货指数纺织品收益率 & 波罗的海干散货指数BDI收益率\\\\\n",
       "  & <dbl> & <dbl> & <dbl> & <dbl> & <dbl> & <dbl> & <dbl> & <dbl> & <dbl> & <dbl> & ⋯ & <dbl> & <dbl> & <dbl> & <dbl> & <dbl> & <dbl> & <dbl> & <dbl> & <dbl> & <dbl>\\\\\n",
       "\\hline\n",
       "\t1 & 0.8127493 & 0.6367976 & 0.1011236 & 0.6759259 & 0.3010721 & 0.6046590 & 0.7153445 & 0.6785168 & 0.5930736 & 0.3818722 & ⋯ & 0.8078925 & 0.7041852 & 0.7254387 & 0.6378073 & 0.6809099 & 0.5953677 & 0.8559139 & 0.8110996 & 0.6576389 & 0.6661959\\\\\n",
       "\t2 & 0.7569566 & 0.8127493 & 1.0000000 & 0.6759259 & 0.6021442 & 0.6404973 & 0.8164056 & 0.8520156 & 0.7229437 & 0.3893016 & ⋯ & 0.8056006 & 0.6868418 & 0.5694799 & 0.6618528 & 0.7699654 & 0.4616773 & 0.8181850 & 0.6116240 & 0.4318110 & 0.6164788\\\\\n",
       "\t3 & 0.7685635 & 0.7569566 & 0.7865169 & 0.5037037 & 0.4831840 & 0.6270579 & 0.6749200 & 0.6632080 & 0.4848485 & 0.4056464 & ⋯ & 0.7924986 & 0.5874150 & 0.5696253 & 0.5353413 & 0.7628707 & 0.6782992 & 0.7788514 & 0.7744567 & 0.5380705 & 0.5570397\\\\\n",
       "\t4 & 0.8117182 & 0.7685635 & 0.7696629 & 0.5185185 & 0.5169628 & 0.5934595 & 0.6328112 & 0.6087770 & 0.5194805 & 0.4294205 & ⋯ & 0.7991567 & 0.5858900 & 0.5049422 & 0.5714665 & 0.5758365 & 0.6519408 & 0.6473289 & 0.6803439 & 0.4300238 & 0.5140660\\\\\n",
       "\t5 & 0.8676152 & 0.8117182 & 0.6797753 & 0.5259259 & 0.4684976 & 0.5867398 & 0.5098535 & 0.4488859 & 0.5324675 & 0.4249629 & ⋯ & 0.7976024 & 0.6864115 & 0.7358220 & 0.6093801 & 0.5627348 & 0.5991673 & 0.5664200 & 0.5655612 & 0.6134795 & 0.4625258\\\\\n",
       "\t6 & 0.9297321 & 0.8676152 & 0.6067416 & 0.4833333 & 0.4244382 & 0.5441819 & 0.5182752 & 0.5050179 & 0.5930736 & 0.3937593 & ⋯ & 0.8147441 & 0.7066179 & 0.7235458 & 0.7230849 & 0.4800029 & 0.6382363 & 0.5834909 & 0.5867737 & 0.3468443 & 0.4668408\\\\\n",
       "\\end{tabular}\n"
      ],
      "text/markdown": [
       "\n",
       "A data.frame: 6 × 153\n",
       "\n",
       "| <!--/--> | cpi &lt;dbl&gt; | cpi-1 &lt;dbl&gt; | 规模以上工业增加值_当期同比实际增速 &lt;dbl&gt; | 发电量_当期同比增速 &lt;dbl&gt; | 原煤产量_当期同比增速 &lt;dbl&gt; | 焦炭产量_当期同比增速 &lt;dbl&gt; | 粗钢产量_当期同比增速 &lt;dbl&gt; | 钢材产量_当期同比增速 &lt;dbl&gt; | 原油产量_当期同比增速 &lt;dbl&gt; | 乙烯产量_当期同比增速 &lt;dbl&gt; | ⋯ ⋯ | 美国联邦基金利率日_一阶差分 &lt;dbl&gt; | 美国标准普尔500指数收盘价收益率 &lt;dbl&gt; | 美国纳斯达克综合指数收盘价收益率 &lt;dbl&gt; | 美国道琼斯工业平均指数收盘价收益率 &lt;dbl&gt; | CRB现货指数食品收益率 &lt;dbl&gt; | CRB现货指数家畜收益率 &lt;dbl&gt; | CRB现货指数金属收益率 &lt;dbl&gt; | CRB现货指数工业原料收益率 &lt;dbl&gt; | CRB现货指数纺织品收益率 &lt;dbl&gt; | 波罗的海干散货指数BDI收益率 &lt;dbl&gt; |\n",
       "|---|---|---|---|---|---|---|---|---|---|---|---|---|---|---|---|---|---|---|---|---|---|\n",
       "| 1 | 0.8127493 | 0.6367976 | 0.1011236 | 0.6759259 | 0.3010721 | 0.6046590 | 0.7153445 | 0.6785168 | 0.5930736 | 0.3818722 | ⋯ | 0.8078925 | 0.7041852 | 0.7254387 | 0.6378073 | 0.6809099 | 0.5953677 | 0.8559139 | 0.8110996 | 0.6576389 | 0.6661959 |\n",
       "| 2 | 0.7569566 | 0.8127493 | 1.0000000 | 0.6759259 | 0.6021442 | 0.6404973 | 0.8164056 | 0.8520156 | 0.7229437 | 0.3893016 | ⋯ | 0.8056006 | 0.6868418 | 0.5694799 | 0.6618528 | 0.7699654 | 0.4616773 | 0.8181850 | 0.6116240 | 0.4318110 | 0.6164788 |\n",
       "| 3 | 0.7685635 | 0.7569566 | 0.7865169 | 0.5037037 | 0.4831840 | 0.6270579 | 0.6749200 | 0.6632080 | 0.4848485 | 0.4056464 | ⋯ | 0.7924986 | 0.5874150 | 0.5696253 | 0.5353413 | 0.7628707 | 0.6782992 | 0.7788514 | 0.7744567 | 0.5380705 | 0.5570397 |\n",
       "| 4 | 0.8117182 | 0.7685635 | 0.7696629 | 0.5185185 | 0.5169628 | 0.5934595 | 0.6328112 | 0.6087770 | 0.5194805 | 0.4294205 | ⋯ | 0.7991567 | 0.5858900 | 0.5049422 | 0.5714665 | 0.5758365 | 0.6519408 | 0.6473289 | 0.6803439 | 0.4300238 | 0.5140660 |\n",
       "| 5 | 0.8676152 | 0.8117182 | 0.6797753 | 0.5259259 | 0.4684976 | 0.5867398 | 0.5098535 | 0.4488859 | 0.5324675 | 0.4249629 | ⋯ | 0.7976024 | 0.6864115 | 0.7358220 | 0.6093801 | 0.5627348 | 0.5991673 | 0.5664200 | 0.5655612 | 0.6134795 | 0.4625258 |\n",
       "| 6 | 0.9297321 | 0.8676152 | 0.6067416 | 0.4833333 | 0.4244382 | 0.5441819 | 0.5182752 | 0.5050179 | 0.5930736 | 0.3937593 | ⋯ | 0.8147441 | 0.7066179 | 0.7235458 | 0.7230849 | 0.4800029 | 0.6382363 | 0.5834909 | 0.5867737 | 0.3468443 | 0.4668408 |\n",
       "\n"
      ],
      "text/plain": [
       "  cpi       cpi-1     规模以上工业增加值_当期同比实际增速 发电量_当期同比增速\n",
       "1 0.8127493 0.6367976 0.1011236                           0.6759259          \n",
       "2 0.7569566 0.8127493 1.0000000                           0.6759259          \n",
       "3 0.7685635 0.7569566 0.7865169                           0.5037037          \n",
       "4 0.8117182 0.7685635 0.7696629                           0.5185185          \n",
       "5 0.8676152 0.8117182 0.6797753                           0.5259259          \n",
       "6 0.9297321 0.8676152 0.6067416                           0.4833333          \n",
       "  原煤产量_当期同比增速 焦炭产量_当期同比增速 粗钢产量_当期同比增速\n",
       "1 0.3010721             0.6046590             0.7153445            \n",
       "2 0.6021442             0.6404973             0.8164056            \n",
       "3 0.4831840             0.6270579             0.6749200            \n",
       "4 0.5169628             0.5934595             0.6328112            \n",
       "5 0.4684976             0.5867398             0.5098535            \n",
       "6 0.4244382             0.5441819             0.5182752            \n",
       "  钢材产量_当期同比增速 原油产量_当期同比增速 乙烯产量_当期同比增速 ⋯\n",
       "1 0.6785168             0.5930736             0.3818722             ⋯\n",
       "2 0.8520156             0.7229437             0.3893016             ⋯\n",
       "3 0.6632080             0.4848485             0.4056464             ⋯\n",
       "4 0.6087770             0.5194805             0.4294205             ⋯\n",
       "5 0.4488859             0.5324675             0.4249629             ⋯\n",
       "6 0.5050179             0.5930736             0.3937593             ⋯\n",
       "  美国联邦基金利率日_一阶差分 美国标准普尔500指数收盘价收益率\n",
       "1 0.8078925                   0.7041852                      \n",
       "2 0.8056006                   0.6868418                      \n",
       "3 0.7924986                   0.5874150                      \n",
       "4 0.7991567                   0.5858900                      \n",
       "5 0.7976024                   0.6864115                      \n",
       "6 0.8147441                   0.7066179                      \n",
       "  美国纳斯达克综合指数收盘价收益率 美国道琼斯工业平均指数收盘价收益率\n",
       "1 0.7254387                        0.6378073                         \n",
       "2 0.5694799                        0.6618528                         \n",
       "3 0.5696253                        0.5353413                         \n",
       "4 0.5049422                        0.5714665                         \n",
       "5 0.7358220                        0.6093801                         \n",
       "6 0.7235458                        0.7230849                         \n",
       "  CRB现货指数食品收益率 CRB现货指数家畜收益率 CRB现货指数金属收益率\n",
       "1 0.6809099             0.5953677             0.8559139            \n",
       "2 0.7699654             0.4616773             0.8181850            \n",
       "3 0.7628707             0.6782992             0.7788514            \n",
       "4 0.5758365             0.6519408             0.6473289            \n",
       "5 0.5627348             0.5991673             0.5664200            \n",
       "6 0.4800029             0.6382363             0.5834909            \n",
       "  CRB现货指数工业原料收益率 CRB现货指数纺织品收益率 波罗的海干散货指数BDI收益率\n",
       "1 0.8110996                 0.6576389               0.6661959                  \n",
       "2 0.6116240                 0.4318110               0.6164788                  \n",
       "3 0.7744567                 0.5380705               0.5570397                  \n",
       "4 0.6803439                 0.4300238               0.5140660                  \n",
       "5 0.5655612                 0.6134795               0.4625258                  \n",
       "6 0.5867737                 0.3468443               0.4668408                  "
      ]
     },
     "metadata": {},
     "output_type": "display_data"
    }
   ],
   "source": [
    "cpi_scale <- scale_new(cpi_lag)\n",
    "cpi_whole <- cbind(cpi_scale, X_ts_scale)\n",
    "head(cpi_whole)\n"
   ]
  },
  {
   "cell_type": "code",
   "execution_count": 110,
   "metadata": {
    "vscode": {
     "languageId": "r"
    }
   },
   "outputs": [
    {
     "data": {
      "text/html": [
       "<style>\n",
       ".list-inline {list-style: none; margin:0; padding: 0}\n",
       ".list-inline>li {display: inline-block}\n",
       ".list-inline>li:not(:last-child)::after {content: \"\\00b7\"; padding: 0 .5ex}\n",
       "</style>\n",
       "<ol class=list-inline><li>156</li><li>153</li></ol>\n"
      ],
      "text/latex": [
       "\\begin{enumerate*}\n",
       "\\item 156\n",
       "\\item 153\n",
       "\\end{enumerate*}\n"
      ],
      "text/markdown": [
       "1. 156\n",
       "2. 153\n",
       "\n",
       "\n"
      ],
      "text/plain": [
       "[1] 156 153"
      ]
     },
     "metadata": {},
     "output_type": "display_data"
    },
    {
     "data": {
      "text/html": [
       "153"
      ],
      "text/latex": [
       "153"
      ],
      "text/markdown": [
       "153"
      ],
      "text/plain": [
       "[1] 153"
      ]
     },
     "metadata": {},
     "output_type": "display_data"
    }
   ],
   "source": [
    "dim(cpi_whole)\n",
    "length(cpi_whole)"
   ]
  },
  {
   "cell_type": "code",
   "execution_count": 111,
   "metadata": {
    "vscode": {
     "languageId": "r"
    }
   },
   "outputs": [],
   "source": [
    "# then I set the data into training data and test data\n",
    "train = cpi_whole[1:132, ]\n",
    "test  = cpi_whole[133:nrow(cpi_whole),  ]"
   ]
  },
  {
   "cell_type": "code",
   "execution_count": 112,
   "metadata": {
    "vscode": {
     "languageId": "r"
    }
   },
   "outputs": [
    {
     "data": {
      "text/html": [
       "<style>\n",
       ".list-inline {list-style: none; margin:0; padding: 0}\n",
       ".list-inline>li {display: inline-block}\n",
       ".list-inline>li:not(:last-child)::after {content: \"\\00b7\"; padding: 0 .5ex}\n",
       "</style>\n",
       "<ol class=list-inline><li>132</li><li>153</li></ol>\n"
      ],
      "text/latex": [
       "\\begin{enumerate*}\n",
       "\\item 132\n",
       "\\item 153\n",
       "\\end{enumerate*}\n"
      ],
      "text/markdown": [
       "1. 132\n",
       "2. 153\n",
       "\n",
       "\n"
      ],
      "text/plain": [
       "[1] 132 153"
      ]
     },
     "metadata": {},
     "output_type": "display_data"
    }
   ],
   "source": [
    "dim(train)"
   ]
  },
  {
   "cell_type": "code",
   "execution_count": 113,
   "metadata": {
    "vscode": {
     "languageId": "r"
    }
   },
   "outputs": [],
   "source": [
    "y_train = as.matrix(train[, 1])\n",
    "x_train = as.matrix(train[, 2:153])\n",
    "\n",
    "y_test = as.matrix(test[, 1])\n",
    "x_test = as.matrix(test[, 2:length(test)])"
   ]
  },
  {
   "cell_type": "code",
   "execution_count": 114,
   "metadata": {
    "vscode": {
     "languageId": "r"
    }
   },
   "outputs": [
    {
     "data": {
      "text/html": [
       "TRUE"
      ],
      "text/latex": [
       "TRUE"
      ],
      "text/markdown": [
       "TRUE"
      ],
      "text/plain": [
       "[1] TRUE"
      ]
     },
     "metadata": {},
     "output_type": "display_data"
    }
   ],
   "source": [
    "is.matrix(x_train)"
   ]
  },
  {
   "cell_type": "code",
   "execution_count": 115,
   "metadata": {
    "vscode": {
     "languageId": "r"
    }
   },
   "outputs": [
    {
     "data": {
      "text/html": [
       "<table class=\"dataframe\">\n",
       "<caption>A matrix: 6 × 152 of type dbl</caption>\n",
       "<thead>\n",
       "\t<tr><th></th><th scope=col>cpi-1</th><th scope=col>规模以上工业增加值_当期同比实际增速</th><th scope=col>发电量_当期同比增速</th><th scope=col>原煤产量_当期同比增速</th><th scope=col>焦炭产量_当期同比增速</th><th scope=col>粗钢产量_当期同比增速</th><th scope=col>钢材产量_当期同比增速</th><th scope=col>原油产量_当期同比增速</th><th scope=col>乙烯产量_当期同比增速</th><th scope=col>十种有色金属产量_当期同比增速</th><th scope=col>⋯</th><th scope=col>美国联邦基金利率日_一阶差分</th><th scope=col>美国标准普尔500指数收盘价收益率</th><th scope=col>美国纳斯达克综合指数收盘价收益率</th><th scope=col>美国道琼斯工业平均指数收盘价收益率</th><th scope=col>CRB现货指数食品收益率</th><th scope=col>CRB现货指数家畜收益率</th><th scope=col>CRB现货指数金属收益率</th><th scope=col>CRB现货指数工业原料收益率</th><th scope=col>CRB现货指数纺织品收益率</th><th scope=col>波罗的海干散货指数BDI收益率</th></tr>\n",
       "</thead>\n",
       "<tbody>\n",
       "\t<tr><th scope=row>1</th><td>0.6367976</td><td>0.1011236</td><td>0.6759259</td><td>0.3010721</td><td>0.6046590</td><td>0.7153445</td><td>0.6785168</td><td>0.5930736</td><td>0.3818722</td><td>0.5303293</td><td>⋯</td><td>0.8078925</td><td>0.7041852</td><td>0.7254387</td><td>0.6378073</td><td>0.6809099</td><td>0.5953677</td><td>0.8559139</td><td>0.8110996</td><td>0.6576389</td><td>0.6661959</td></tr>\n",
       "\t<tr><th scope=row>2</th><td>0.8127493</td><td>1.0000000</td><td>0.6759259</td><td>0.6021442</td><td>0.6404973</td><td>0.8164056</td><td>0.8520156</td><td>0.7229437</td><td>0.3893016</td><td>0.6221837</td><td>⋯</td><td>0.8056006</td><td>0.6868418</td><td>0.5694799</td><td>0.6618528</td><td>0.7699654</td><td>0.4616773</td><td>0.8181850</td><td>0.6116240</td><td>0.4318110</td><td>0.6164788</td></tr>\n",
       "\t<tr><th scope=row>3</th><td>0.7569566</td><td>0.7865169</td><td>0.5037037</td><td>0.4831840</td><td>0.6270579</td><td>0.6749200</td><td>0.6632080</td><td>0.4848485</td><td>0.4056464</td><td>0.6568458</td><td>⋯</td><td>0.7924986</td><td>0.5874150</td><td>0.5696253</td><td>0.5353413</td><td>0.7628707</td><td>0.6782992</td><td>0.7788514</td><td>0.7744567</td><td>0.5380705</td><td>0.5570397</td></tr>\n",
       "\t<tr><th scope=row>4</th><td>0.7685635</td><td>0.7696629</td><td>0.5185185</td><td>0.5169628</td><td>0.5934595</td><td>0.6328112</td><td>0.6087770</td><td>0.5194805</td><td>0.4294205</td><td>0.6187175</td><td>⋯</td><td>0.7991567</td><td>0.5858900</td><td>0.5049422</td><td>0.5714665</td><td>0.5758365</td><td>0.6519408</td><td>0.6473289</td><td>0.6803439</td><td>0.4300238</td><td>0.5140660</td></tr>\n",
       "\t<tr><th scope=row>5</th><td>0.8117182</td><td>0.6797753</td><td>0.5259259</td><td>0.4684976</td><td>0.5867398</td><td>0.5098535</td><td>0.4488859</td><td>0.5324675</td><td>0.4249629</td><td>0.5701906</td><td>⋯</td><td>0.7976024</td><td>0.6864115</td><td>0.7358220</td><td>0.6093801</td><td>0.5627348</td><td>0.5991673</td><td>0.5664200</td><td>0.5655612</td><td>0.6134795</td><td>0.4625258</td></tr>\n",
       "\t<tr><th scope=row>6</th><td>0.8676152</td><td>0.6067416</td><td>0.4833333</td><td>0.4244382</td><td>0.5441819</td><td>0.5182752</td><td>0.5050179</td><td>0.5930736</td><td>0.3937593</td><td>0.4384749</td><td>⋯</td><td>0.8147441</td><td>0.7066179</td><td>0.7235458</td><td>0.7230849</td><td>0.4800029</td><td>0.6382363</td><td>0.5834909</td><td>0.5867737</td><td>0.3468443</td><td>0.4668408</td></tr>\n",
       "</tbody>\n",
       "</table>\n"
      ],
      "text/latex": [
       "A matrix: 6 × 152 of type dbl\n",
       "\\begin{tabular}{r|lllllllllllllllllllll}\n",
       "  & cpi-1 & 规模以上工业增加值\\_当期同比实际增速 & 发电量\\_当期同比增速 & 原煤产量\\_当期同比增速 & 焦炭产量\\_当期同比增速 & 粗钢产量\\_当期同比增速 & 钢材产量\\_当期同比增速 & 原油产量\\_当期同比增速 & 乙烯产量\\_当期同比增速 & 十种有色金属产量\\_当期同比增速 & ⋯ & 美国联邦基金利率日\\_一阶差分 & 美国标准普尔500指数收盘价收益率 & 美国纳斯达克综合指数收盘价收益率 & 美国道琼斯工业平均指数收盘价收益率 & CRB现货指数食品收益率 & CRB现货指数家畜收益率 & CRB现货指数金属收益率 & CRB现货指数工业原料收益率 & CRB现货指数纺织品收益率 & 波罗的海干散货指数BDI收益率\\\\\n",
       "\\hline\n",
       "\t1 & 0.6367976 & 0.1011236 & 0.6759259 & 0.3010721 & 0.6046590 & 0.7153445 & 0.6785168 & 0.5930736 & 0.3818722 & 0.5303293 & ⋯ & 0.8078925 & 0.7041852 & 0.7254387 & 0.6378073 & 0.6809099 & 0.5953677 & 0.8559139 & 0.8110996 & 0.6576389 & 0.6661959\\\\\n",
       "\t2 & 0.8127493 & 1.0000000 & 0.6759259 & 0.6021442 & 0.6404973 & 0.8164056 & 0.8520156 & 0.7229437 & 0.3893016 & 0.6221837 & ⋯ & 0.8056006 & 0.6868418 & 0.5694799 & 0.6618528 & 0.7699654 & 0.4616773 & 0.8181850 & 0.6116240 & 0.4318110 & 0.6164788\\\\\n",
       "\t3 & 0.7569566 & 0.7865169 & 0.5037037 & 0.4831840 & 0.6270579 & 0.6749200 & 0.6632080 & 0.4848485 & 0.4056464 & 0.6568458 & ⋯ & 0.7924986 & 0.5874150 & 0.5696253 & 0.5353413 & 0.7628707 & 0.6782992 & 0.7788514 & 0.7744567 & 0.5380705 & 0.5570397\\\\\n",
       "\t4 & 0.7685635 & 0.7696629 & 0.5185185 & 0.5169628 & 0.5934595 & 0.6328112 & 0.6087770 & 0.5194805 & 0.4294205 & 0.6187175 & ⋯ & 0.7991567 & 0.5858900 & 0.5049422 & 0.5714665 & 0.5758365 & 0.6519408 & 0.6473289 & 0.6803439 & 0.4300238 & 0.5140660\\\\\n",
       "\t5 & 0.8117182 & 0.6797753 & 0.5259259 & 0.4684976 & 0.5867398 & 0.5098535 & 0.4488859 & 0.5324675 & 0.4249629 & 0.5701906 & ⋯ & 0.7976024 & 0.6864115 & 0.7358220 & 0.6093801 & 0.5627348 & 0.5991673 & 0.5664200 & 0.5655612 & 0.6134795 & 0.4625258\\\\\n",
       "\t6 & 0.8676152 & 0.6067416 & 0.4833333 & 0.4244382 & 0.5441819 & 0.5182752 & 0.5050179 & 0.5930736 & 0.3937593 & 0.4384749 & ⋯ & 0.8147441 & 0.7066179 & 0.7235458 & 0.7230849 & 0.4800029 & 0.6382363 & 0.5834909 & 0.5867737 & 0.3468443 & 0.4668408\\\\\n",
       "\\end{tabular}\n"
      ],
      "text/markdown": [
       "\n",
       "A matrix: 6 × 152 of type dbl\n",
       "\n",
       "| <!--/--> | cpi-1 | 规模以上工业增加值_当期同比实际增速 | 发电量_当期同比增速 | 原煤产量_当期同比增速 | 焦炭产量_当期同比增速 | 粗钢产量_当期同比增速 | 钢材产量_当期同比增速 | 原油产量_当期同比增速 | 乙烯产量_当期同比增速 | 十种有色金属产量_当期同比增速 | ⋯ | 美国联邦基金利率日_一阶差分 | 美国标准普尔500指数收盘价收益率 | 美国纳斯达克综合指数收盘价收益率 | 美国道琼斯工业平均指数收盘价收益率 | CRB现货指数食品收益率 | CRB现货指数家畜收益率 | CRB现货指数金属收益率 | CRB现货指数工业原料收益率 | CRB现货指数纺织品收益率 | 波罗的海干散货指数BDI收益率 |\n",
       "|---|---|---|---|---|---|---|---|---|---|---|---|---|---|---|---|---|---|---|---|---|---|\n",
       "| 1 | 0.6367976 | 0.1011236 | 0.6759259 | 0.3010721 | 0.6046590 | 0.7153445 | 0.6785168 | 0.5930736 | 0.3818722 | 0.5303293 | ⋯ | 0.8078925 | 0.7041852 | 0.7254387 | 0.6378073 | 0.6809099 | 0.5953677 | 0.8559139 | 0.8110996 | 0.6576389 | 0.6661959 |\n",
       "| 2 | 0.8127493 | 1.0000000 | 0.6759259 | 0.6021442 | 0.6404973 | 0.8164056 | 0.8520156 | 0.7229437 | 0.3893016 | 0.6221837 | ⋯ | 0.8056006 | 0.6868418 | 0.5694799 | 0.6618528 | 0.7699654 | 0.4616773 | 0.8181850 | 0.6116240 | 0.4318110 | 0.6164788 |\n",
       "| 3 | 0.7569566 | 0.7865169 | 0.5037037 | 0.4831840 | 0.6270579 | 0.6749200 | 0.6632080 | 0.4848485 | 0.4056464 | 0.6568458 | ⋯ | 0.7924986 | 0.5874150 | 0.5696253 | 0.5353413 | 0.7628707 | 0.6782992 | 0.7788514 | 0.7744567 | 0.5380705 | 0.5570397 |\n",
       "| 4 | 0.7685635 | 0.7696629 | 0.5185185 | 0.5169628 | 0.5934595 | 0.6328112 | 0.6087770 | 0.5194805 | 0.4294205 | 0.6187175 | ⋯ | 0.7991567 | 0.5858900 | 0.5049422 | 0.5714665 | 0.5758365 | 0.6519408 | 0.6473289 | 0.6803439 | 0.4300238 | 0.5140660 |\n",
       "| 5 | 0.8117182 | 0.6797753 | 0.5259259 | 0.4684976 | 0.5867398 | 0.5098535 | 0.4488859 | 0.5324675 | 0.4249629 | 0.5701906 | ⋯ | 0.7976024 | 0.6864115 | 0.7358220 | 0.6093801 | 0.5627348 | 0.5991673 | 0.5664200 | 0.5655612 | 0.6134795 | 0.4625258 |\n",
       "| 6 | 0.8676152 | 0.6067416 | 0.4833333 | 0.4244382 | 0.5441819 | 0.5182752 | 0.5050179 | 0.5930736 | 0.3937593 | 0.4384749 | ⋯ | 0.8147441 | 0.7066179 | 0.7235458 | 0.7230849 | 0.4800029 | 0.6382363 | 0.5834909 | 0.5867737 | 0.3468443 | 0.4668408 |\n",
       "\n"
      ],
      "text/plain": [
       "  cpi-1     规模以上工业增加值_当期同比实际增速 发电量_当期同比增速\n",
       "1 0.6367976 0.1011236                           0.6759259          \n",
       "2 0.8127493 1.0000000                           0.6759259          \n",
       "3 0.7569566 0.7865169                           0.5037037          \n",
       "4 0.7685635 0.7696629                           0.5185185          \n",
       "5 0.8117182 0.6797753                           0.5259259          \n",
       "6 0.8676152 0.6067416                           0.4833333          \n",
       "  原煤产量_当期同比增速 焦炭产量_当期同比增速 粗钢产量_当期同比增速\n",
       "1 0.3010721             0.6046590             0.7153445            \n",
       "2 0.6021442             0.6404973             0.8164056            \n",
       "3 0.4831840             0.6270579             0.6749200            \n",
       "4 0.5169628             0.5934595             0.6328112            \n",
       "5 0.4684976             0.5867398             0.5098535            \n",
       "6 0.4244382             0.5441819             0.5182752            \n",
       "  钢材产量_当期同比增速 原油产量_当期同比增速 乙烯产量_当期同比增速\n",
       "1 0.6785168             0.5930736             0.3818722            \n",
       "2 0.8520156             0.7229437             0.3893016            \n",
       "3 0.6632080             0.4848485             0.4056464            \n",
       "4 0.6087770             0.5194805             0.4294205            \n",
       "5 0.4488859             0.5324675             0.4249629            \n",
       "6 0.5050179             0.5930736             0.3937593            \n",
       "  十种有色金属产量_当期同比增速 ⋯ 美国联邦基金利率日_一阶差分\n",
       "1 0.5303293                     ⋯ 0.8078925                  \n",
       "2 0.6221837                     ⋯ 0.8056006                  \n",
       "3 0.6568458                     ⋯ 0.7924986                  \n",
       "4 0.6187175                     ⋯ 0.7991567                  \n",
       "5 0.5701906                     ⋯ 0.7976024                  \n",
       "6 0.4384749                     ⋯ 0.8147441                  \n",
       "  美国标准普尔500指数收盘价收益率 美国纳斯达克综合指数收盘价收益率\n",
       "1 0.7041852                       0.7254387                       \n",
       "2 0.6868418                       0.5694799                       \n",
       "3 0.5874150                       0.5696253                       \n",
       "4 0.5858900                       0.5049422                       \n",
       "5 0.6864115                       0.7358220                       \n",
       "6 0.7066179                       0.7235458                       \n",
       "  美国道琼斯工业平均指数收盘价收益率 CRB现货指数食品收益率\n",
       "1 0.6378073                          0.6809099            \n",
       "2 0.6618528                          0.7699654            \n",
       "3 0.5353413                          0.7628707            \n",
       "4 0.5714665                          0.5758365            \n",
       "5 0.6093801                          0.5627348            \n",
       "6 0.7230849                          0.4800029            \n",
       "  CRB现货指数家畜收益率 CRB现货指数金属收益率 CRB现货指数工业原料收益率\n",
       "1 0.5953677             0.8559139             0.8110996                \n",
       "2 0.4616773             0.8181850             0.6116240                \n",
       "3 0.6782992             0.7788514             0.7744567                \n",
       "4 0.6519408             0.6473289             0.6803439                \n",
       "5 0.5991673             0.5664200             0.5655612                \n",
       "6 0.6382363             0.5834909             0.5867737                \n",
       "  CRB现货指数纺织品收益率 波罗的海干散货指数BDI收益率\n",
       "1 0.6576389               0.6661959                  \n",
       "2 0.4318110               0.6164788                  \n",
       "3 0.5380705               0.5570397                  \n",
       "4 0.4300238               0.5140660                  \n",
       "5 0.6134795               0.4625258                  \n",
       "6 0.3468443               0.4668408                  "
      ]
     },
     "metadata": {},
     "output_type": "display_data"
    }
   ],
   "source": [
    "head(x_train)"
   ]
  },
  {
   "cell_type": "code",
   "execution_count": 116,
   "metadata": {
    "vscode": {
     "languageId": "r"
    }
   },
   "outputs": [],
   "source": [
    "m <- ncol(x_train)\n",
    "dim(x_train) <- c(132, 1, m)"
   ]
  },
  {
   "cell_type": "code",
   "execution_count": 117,
   "metadata": {
    "vscode": {
     "languageId": "r"
    }
   },
   "outputs": [],
   "source": [
    "\n",
    "# specify required arguments\n",
    "X_shape2 = dim(x_train)[2]\n",
    "X_shape3 = dim(x_train)[3]\n",
    "batch_size = 1                # must be a common factor of both the train and test samples\n",
    "units = 1 "
   ]
  },
  {
   "cell_type": "code",
   "execution_count": 118,
   "metadata": {
    "vscode": {
     "languageId": "r"
    }
   },
   "outputs": [],
   "source": [
    "model <- keras_model_sequential() \n",
    "model%>%\n",
    "  layer_lstm(units, batch_input_shape = c(batch_size, X_shape2, X_shape3), stateful= TRUE)%>%\n",
    "  layer_dense(units = 1)"
   ]
  },
  {
   "cell_type": "code",
   "execution_count": 119,
   "metadata": {
    "vscode": {
     "languageId": "r"
    }
   },
   "outputs": [],
   "source": [
    "# Compile the model\n",
    "model %>% compile(\n",
    "  loss = 'mse',\n",
    "  optimizer = optimizer_adam(),\n",
    "  metrics = c('accuracy')\n",
    ")"
   ]
  },
  {
   "cell_type": "code",
   "execution_count": 120,
   "metadata": {
    "vscode": {
     "languageId": "r"
    }
   },
   "outputs": [
    {
     "name": "stdout",
     "output_type": "stream",
     "text": [
      "Model: \"sequential\"\n",
      "________________________________________________________________________________\n",
      " Layer (type)                       Output Shape                    Param #     \n",
      "================================================================================\n",
      " lstm (LSTM)                        (1, 1)                          616         \n",
      " dense (Dense)                      (1, 1)                          2           \n",
      "================================================================================\n",
      "Total params: 618\n",
      "Trainable params: 618\n",
      "Non-trainable params: 0\n",
      "________________________________________________________________________________\n"
     ]
    }
   ],
   "source": [
    "summary(model)"
   ]
  },
  {
   "cell_type": "code",
   "execution_count": 121,
   "metadata": {
    "vscode": {
     "languageId": "r"
    }
   },
   "outputs": [],
   "source": [
    "# Train the model\n",
    "Epochs = 50  \n",
    "for(i in 1:Epochs ){\n",
    "  model %>% fit(x_train, y_train, epochs=1, batch_size=1, verbose=1, shuffle=FALSE)\n",
    "  model %>% reset_states()\n",
    "}"
   ]
  },
  {
   "cell_type": "code",
   "execution_count": 122,
   "metadata": {
    "vscode": {
     "languageId": "r"
    }
   },
   "outputs": [],
   "source": [
    "## inverse-transform\n",
    "invert_scaling = function(scaled, scaler, feature_range = c(0, 1)){\n",
    "  min = scaler[1]\n",
    "  max = scaler[2]\n",
    "  t = length(scaled)\n",
    "  mins = feature_range[1]\n",
    "  maxs = feature_range[2]\n",
    "  inverted_dfs = numeric(t)\n",
    "  \n",
    "  for( i in 1:t){\n",
    "    X = (scaled[i]- mins)/(maxs - mins)\n",
    "    rawValues = X *(max - min) + min\n",
    "    inverted_dfs[i] <- rawValues\n",
    "  }\n",
    "  return(inverted_dfs)\n",
    "}"
   ]
  },
  {
   "cell_type": "code",
   "execution_count": 124,
   "metadata": {
    "vscode": {
     "languageId": "r"
    }
   },
   "outputs": [
    {
     "ename": "ERROR",
     "evalue": "Error in eval(expr, envir, enclos): object 'Scaled' not found\n",
     "output_type": "error",
     "traceback": [
      "Error in eval(expr, envir, enclos): object 'Scaled' not found\nTraceback:\n"
     ]
    }
   ],
   "source": [
    "# make prediction\n",
    "L = nrow(x_test)\n",
    "scaler = Scaled$scaler\n",
    "predictions = numeric(L)\n",
    "\n",
    "for(i in 1:L){\n",
    "     X = x_test[i, ]\n",
    "     dim(X) = c(1,1,m)\n",
    "     yhat = model %>% predict(X, batch_size=batch_size)\n",
    "     # invert scaling\n",
    "     yhat = invert_scaling(yhat, scaler,  c(-1, 1))\n",
    "     # invert differencing\n",
    "     yhat  = yhat + lncpi[(132+i)]\n",
    "     # store\n",
    "     predictions[i] <- yhat\n",
    "}"
   ]
  },
  {
   "attachments": {},
   "cell_type": "markdown",
   "metadata": {},
   "source": [
    "### Becuse the results is not so good, I delete parts of the code, here I delete the inverse function and the original function to run the scale."
   ]
  },
  {
   "cell_type": "code",
   "execution_count": 405,
   "metadata": {
    "vscode": {
     "languageId": "r"
    }
   },
   "outputs": [
    {
     "data": {
      "text/html": [
       "24"
      ],
      "text/latex": [
       "24"
      ],
      "text/markdown": [
       "24"
      ],
      "text/plain": [
       "[1] 24"
      ]
     },
     "metadata": {},
     "output_type": "display_data"
    },
    {
     "data": {
      "text/html": [
       "<style>\n",
       ".list-inline {list-style: none; margin:0; padding: 0}\n",
       ".list-inline>li {display: inline-block}\n",
       ".list-inline>li:not(:last-child)::after {content: \"\\00b7\"; padding: 0 .5ex}\n",
       "</style>\n",
       "<ol class=list-inline><li>0.485366314649582</li><li>0.587453603744507</li><li>0.541047930717468</li><li>0.566519737243652</li><li>0.572055578231812</li><li>0.574461460113525</li><li>0.589122891426086</li><li>0.639560103416443</li><li>0.636150002479553</li><li>0.52457195520401</li><li>0.508241295814514</li><li>0.621506810188293</li><li>0.711626410484314</li><li>0.712368011474609</li><li>0.760763049125671</li><li>0.811660408973694</li><li>0.810354471206665</li><li>0.755965948104858</li><li>0.736271023750305</li><li>0.676610112190247</li><li>0.766443848609924</li><li>0.813578009605408</li><li>0.853045701980591</li><li>0.825695157051086</li></ol>\n"
      ],
      "text/latex": [
       "\\begin{enumerate*}\n",
       "\\item 0.485366314649582\n",
       "\\item 0.587453603744507\n",
       "\\item 0.541047930717468\n",
       "\\item 0.566519737243652\n",
       "\\item 0.572055578231812\n",
       "\\item 0.574461460113525\n",
       "\\item 0.589122891426086\n",
       "\\item 0.639560103416443\n",
       "\\item 0.636150002479553\n",
       "\\item 0.52457195520401\n",
       "\\item 0.508241295814514\n",
       "\\item 0.621506810188293\n",
       "\\item 0.711626410484314\n",
       "\\item 0.712368011474609\n",
       "\\item 0.760763049125671\n",
       "\\item 0.811660408973694\n",
       "\\item 0.810354471206665\n",
       "\\item 0.755965948104858\n",
       "\\item 0.736271023750305\n",
       "\\item 0.676610112190247\n",
       "\\item 0.766443848609924\n",
       "\\item 0.813578009605408\n",
       "\\item 0.853045701980591\n",
       "\\item 0.825695157051086\n",
       "\\end{enumerate*}\n"
      ],
      "text/markdown": [
       "1. 0.485366314649582\n",
       "2. 0.587453603744507\n",
       "3. 0.541047930717468\n",
       "4. 0.566519737243652\n",
       "5. 0.572055578231812\n",
       "6. 0.574461460113525\n",
       "7. 0.589122891426086\n",
       "8. 0.639560103416443\n",
       "9. 0.636150002479553\n",
       "10. 0.52457195520401\n",
       "11. 0.508241295814514\n",
       "12. 0.621506810188293\n",
       "13. 0.711626410484314\n",
       "14. 0.712368011474609\n",
       "15. 0.760763049125671\n",
       "16. 0.811660408973694\n",
       "17. 0.810354471206665\n",
       "18. 0.755965948104858\n",
       "19. 0.736271023750305\n",
       "20. 0.676610112190247\n",
       "21. 0.766443848609924\n",
       "22. 0.813578009605408\n",
       "23. 0.853045701980591\n",
       "24. 0.825695157051086\n",
       "\n",
       "\n"
      ],
      "text/plain": [
       " [1] 0.4853663 0.5874536 0.5410479 0.5665197 0.5720556 0.5744615 0.5891229\n",
       " [8] 0.6395601 0.6361500 0.5245720 0.5082413 0.6215068 0.7116264 0.7123680\n",
       "[15] 0.7607630 0.8116604 0.8103545 0.7559659 0.7362710 0.6766101 0.7664438\n",
       "[22] 0.8135780 0.8530457 0.8256952"
      ]
     },
     "metadata": {},
     "output_type": "display_data"
    }
   ],
   "source": [
    "length(predictions)\n",
    "predictions"
   ]
  },
  {
   "cell_type": "code",
   "execution_count": 407,
   "metadata": {
    "vscode": {
     "languageId": "r"
    }
   },
   "outputs": [
    {
     "data": {
      "text/html": [
       "24"
      ],
      "text/latex": [
       "24"
      ],
      "text/markdown": [
       "24"
      ],
      "text/plain": [
       "[1] 24"
      ]
     },
     "metadata": {},
     "output_type": "display_data"
    }
   ],
   "source": [
    "length(y_test)"
   ]
  },
  {
   "cell_type": "code",
   "execution_count": 408,
   "metadata": {
    "vscode": {
     "languageId": "r"
    }
   },
   "outputs": [
    {
     "data": {
      "text/html": [
       "<table class=\"dataframe\">\n",
       "<caption>A matrix: 1 × 1 of type dbl</caption>\n",
       "<tbody>\n",
       "\t<tr><td>0.006355774</td></tr>\n",
       "</tbody>\n",
       "</table>\n"
      ],
      "text/latex": [
       "A matrix: 1 × 1 of type dbl\n",
       "\\begin{tabular}{l}\n",
       "\t 0.006355774\\\\\n",
       "\\end{tabular}\n"
      ],
      "text/markdown": [
       "\n",
       "A matrix: 1 × 1 of type dbl\n",
       "\n",
       "| 0.006355774 |\n",
       "\n"
      ],
      "text/plain": [
       "     [,1]       \n",
       "[1,] 0.006355774"
      ]
     },
     "metadata": {},
     "output_type": "display_data"
    },
    {
     "data": {
      "text/html": [
       "<table class=\"dataframe\">\n",
       "<caption>A matrix: 1 × 1 of type dbl</caption>\n",
       "<tbody>\n",
       "\t<tr><td>0.002308742</td></tr>\n",
       "</tbody>\n",
       "</table>\n"
      ],
      "text/latex": [
       "A matrix: 1 × 1 of type dbl\n",
       "\\begin{tabular}{l}\n",
       "\t 0.002308742\\\\\n",
       "\\end{tabular}\n"
      ],
      "text/markdown": [
       "\n",
       "A matrix: 1 × 1 of type dbl\n",
       "\n",
       "| 0.002308742 |\n",
       "\n"
      ],
      "text/plain": [
       "     [,1]       \n",
       "[1,] 0.002308742"
      ]
     },
     "metadata": {},
     "output_type": "display_data"
    },
    {
     "data": {
      "text/html": [
       "<table class=\"dataframe\">\n",
       "<caption>A matrix: 1 × 1 of type dbl</caption>\n",
       "<tbody>\n",
       "\t<tr><td>-1.752916</td></tr>\n",
       "</tbody>\n",
       "</table>\n"
      ],
      "text/latex": [
       "A matrix: 1 × 1 of type dbl\n",
       "\\begin{tabular}{l}\n",
       "\t -1.752916\\\\\n",
       "\\end{tabular}\n"
      ],
      "text/markdown": [
       "\n",
       "A matrix: 1 × 1 of type dbl\n",
       "\n",
       "| -1.752916 |\n",
       "\n"
      ],
      "text/plain": [
       "     [,1]     \n",
       "[1,] -1.752916"
      ]
     },
     "metadata": {},
     "output_type": "display_data"
    }
   ],
   "source": [
    "lstm_rss <- var(y_test - predictions)\n",
    "lstm_tss <- var(y_test)\n",
    "lstm_rsq <- 1 - (lstm_rss / lstm_tss)\n",
    "lstm_rss\n",
    "lstm_tss\n",
    "lstm_rsq"
   ]
  },
  {
   "cell_type": "code",
   "execution_count": 409,
   "metadata": {
    "vscode": {
     "languageId": "r"
    }
   },
   "outputs": [
    {
     "data": {
      "text/html": [
       "<style>\n",
       ".list-inline {list-style: none; margin:0; padding: 0}\n",
       ".list-inline>li {display: inline-block}\n",
       ".list-inline>li:not(:last-child)::after {content: \"\\00b7\"; padding: 0 .5ex}\n",
       "</style>\n",
       "<ol class=list-inline><li>-0.0170237813590619</li><li>-0.00511359163255953</li><li>-0.00981554798523376</li><li>-0.00285278832008196</li><li>-0.0122725019778187</li><li>-0.00932613641245794</li><li>-0.00627637639456058</li><li>-0.000294189754511898</li><li>-0.000295232005293578</li><li>-0.00325331780018789</li><li>0.000492780771811141</li><li>0.00127984265562286</li><li>0.00977737283829505</li><li>0.00834524503508138</li><li>0.00903383991337758</li><li>0.00804556930232359</li><li>0.00796973766295039</li><li>0.00482118314676772</li><li>0.00117982512948434</li><li>-0.00609937946015116</li><li>0.0031446566794715</li><li>0.0081625078264258</li><li>0.00746052346218473</li><li>0.00431966114451665</li></ol>\n"
      ],
      "text/latex": [
       "\\begin{enumerate*}\n",
       "\\item -0.0170237813590619\n",
       "\\item -0.00511359163255953\n",
       "\\item -0.00981554798523376\n",
       "\\item -0.00285278832008196\n",
       "\\item -0.0122725019778187\n",
       "\\item -0.00932613641245794\n",
       "\\item -0.00627637639456058\n",
       "\\item -0.000294189754511898\n",
       "\\item -0.000295232005293578\n",
       "\\item -0.00325331780018789\n",
       "\\item 0.000492780771811141\n",
       "\\item 0.00127984265562286\n",
       "\\item 0.00977737283829505\n",
       "\\item 0.00834524503508138\n",
       "\\item 0.00903383991337758\n",
       "\\item 0.00804556930232359\n",
       "\\item 0.00796973766295039\n",
       "\\item 0.00482118314676772\n",
       "\\item 0.00117982512948434\n",
       "\\item -0.00609937946015116\n",
       "\\item 0.0031446566794715\n",
       "\\item 0.0081625078264258\n",
       "\\item 0.00746052346218473\n",
       "\\item 0.00431966114451665\n",
       "\\end{enumerate*}\n"
      ],
      "text/markdown": [
       "1. -0.0170237813590619\n",
       "2. -0.00511359163255953\n",
       "3. -0.00981554798523376\n",
       "4. -0.00285278832008196\n",
       "5. -0.0122725019778187\n",
       "6. -0.00932613641245794\n",
       "7. -0.00627637639456058\n",
       "8. -0.000294189754511898\n",
       "9. -0.000295232005293578\n",
       "10. -0.00325331780018789\n",
       "11. 0.000492780771811141\n",
       "12. 0.00127984265562286\n",
       "13. 0.00977737283829505\n",
       "14. 0.00834524503508138\n",
       "15. 0.00903383991337758\n",
       "16. 0.00804556930232359\n",
       "17. 0.00796973766295039\n",
       "18. 0.00482118314676772\n",
       "19. 0.00117982512948434\n",
       "20. -0.00609937946015116\n",
       "21. 0.0031446566794715\n",
       "22. 0.0081625078264258\n",
       "23. 0.00746052346218473\n",
       "24. 0.00431966114451665\n",
       "\n",
       "\n"
      ],
      "text/plain": [
       " [1] -0.0170237814 -0.0051135916 -0.0098155480 -0.0028527883 -0.0122725020\n",
       " [6] -0.0093261364 -0.0062763764 -0.0002941898 -0.0002952320 -0.0032533178\n",
       "[11]  0.0004927808  0.0012798427  0.0097773728  0.0083452450  0.0090338399\n",
       "[16]  0.0080455693  0.0079697377  0.0048211831  0.0011798251 -0.0060993795\n",
       "[21]  0.0031446567  0.0081625078  0.0074605235  0.0043196611"
      ]
     },
     "metadata": {},
     "output_type": "display_data"
    }
   ],
   "source": [
    "lncpi[(length(lncpi) - length(predictions) + 1):length(lncpi)]"
   ]
  },
  {
   "attachments": {},
   "cell_type": "markdown",
   "metadata": {},
   "source": [
    "## But I found a written package to do LSTM in R, I run LSTM later by the code following:"
   ]
  },
  {
   "cell_type": "code",
   "execution_count": 128,
   "metadata": {
    "vscode": {
     "languageId": "r"
    }
   },
   "outputs": [],
   "source": [
    "library(TSLSTM)"
   ]
  },
  {
   "cell_type": "code",
   "execution_count": 129,
   "metadata": {
    "vscode": {
     "languageId": "r"
    }
   },
   "outputs": [
    {
     "data": {
      "text/html": [
       "<table class=\"dataframe\">\n",
       "<caption>A tibble: 6 × 28</caption>\n",
       "<thead>\n",
       "\t<tr><th scope=col>month</th><th scope=col>规模以上工业增加值_当期同比实际增速</th><th scope=col>发电量_当期同比增速</th><th scope=col>原煤产量_当期同比增速</th><th scope=col>焦炭产量_当期同比增速</th><th scope=col>粗钢产量_当期同比增速</th><th scope=col>钢材产量_当期同比增速</th><th scope=col>原油产量_当期同比增速</th><th scope=col>乙烯产量_当期同比增速</th><th scope=col>十种有色金属产量_当期同比增速</th><th scope=col>⋯</th><th scope=col>房地产开发企业新增固定资产_当期实际同比增速</th><th scope=col>房地产开发投资_住宅_当期实际同比增速</th><th scope=col>房地产开发企业房屋施工面积_当期同比增速</th><th scope=col>房地产开发企业房屋竣工面积_当期同比增速</th><th scope=col>房地产开发企业商品房销售面积_当期同比增速</th><th scope=col>房地产开发企业商品房销售额_当期实际同比增速</th><th scope=col>房地产开发企业购置土地面积_当期同比增速</th><th scope=col>国房景气指数_当期</th><th scope=col>消费者预期指数_当期_一阶差分</th><th scope=col>消费者满意指数_当期_一阶差分</th></tr>\n",
       "\t<tr><th scope=col>&lt;int&gt;</th><th scope=col>&lt;dbl&gt;</th><th scope=col>&lt;dbl&gt;</th><th scope=col>&lt;dbl&gt;</th><th scope=col>&lt;dbl&gt;</th><th scope=col>&lt;dbl&gt;</th><th scope=col>&lt;dbl&gt;</th><th scope=col>&lt;dbl&gt;</th><th scope=col>&lt;dbl&gt;</th><th scope=col>&lt;dbl&gt;</th><th scope=col>⋯</th><th scope=col>&lt;dbl&gt;</th><th scope=col>&lt;dbl&gt;</th><th scope=col>&lt;dbl&gt;</th><th scope=col>&lt;dbl&gt;</th><th scope=col>&lt;dbl&gt;</th><th scope=col>&lt;dbl&gt;</th><th scope=col>&lt;dbl&gt;</th><th scope=col>&lt;dbl&gt;</th><th scope=col>&lt;dbl&gt;</th><th scope=col>&lt;dbl&gt;</th></tr>\n",
       "</thead>\n",
       "<tbody>\n",
       "\t<tr><td>1</td><td>14.8</td><td>10.74</td><td>10.81</td><td>16.7</td><td>14.82</td><td>15.9</td><td>0.7</td><td>25.9</td><td>12.7</td><td>⋯</td><td>10.27205</td><td>-1.718617</td><td> 5.85296</td><td>11.15378</td><td> 7.948743</td><td> 6.838611</td><td> 31.192800</td><td>103.65</td><td>  0.5</td><td> 0.0</td></tr>\n",
       "\t<tr><td>2</td><td>19.8</td><td>23.00</td><td>16.11</td><td>22.6</td><td>19.02</td><td>19.8</td><td>1.3</td><td>16.9</td><td>17.9</td><td>⋯</td><td>10.27205</td><td>-1.718617</td><td> 5.85296</td><td>11.15378</td><td> 7.948743</td><td> 6.838611</td><td> 31.192800</td><td>103.94</td><td>  0.1</td><td> 0.2</td></tr>\n",
       "\t<tr><td>3</td><td>16.9</td><td>16.22</td><td>16.86</td><td>12.4</td><td>18.53</td><td>14.9</td><td>1.8</td><td>13.1</td><td>17.0</td><td>⋯</td><td>52.52615</td><td>35.634300</td><td>22.67980</td><td>25.74326</td><td>27.351880</td><td>32.452130</td><td> 14.470640</td><td>104.15</td><td> -0.4</td><td>-0.1</td></tr>\n",
       "\t<tr><td>4</td><td>14.9</td><td>14.14</td><td>14.88</td><td>23.2</td><td>21.78</td><td>16.4</td><td>3.0</td><td> 9.7</td><td>14.9</td><td>⋯</td><td>33.75165</td><td>18.972630</td><td>12.43416</td><td>24.99733</td><td>22.836230</td><td>33.408450</td><td>  9.018992</td><td>104.30</td><td>-12.0</td><td>-8.1</td></tr>\n",
       "\t<tr><td>5</td><td>13.7</td><td>13.38</td><td>18.68</td><td>19.5</td><td>20.93</td><td>15.6</td><td>2.4</td><td>18.9</td><td>17.2</td><td>⋯</td><td>13.73498</td><td>16.935470</td><td>46.32653</td><td>52.32079</td><td>43.511140</td><td>48.758230</td><td>194.722400</td><td>104.46</td><td> -4.2</td><td>-2.5</td></tr>\n",
       "\t<tr><td>6</td><td>16.9</td><td>13.05</td><td>21.39</td><td>24.2</td><td>23.45</td><td>19.8</td><td>2.7</td><td>10.5</td><td>23.7</td><td>⋯</td><td>34.29339</td><td>32.410120</td><td>26.53339</td><td>36.84499</td><td>36.376030</td><td>36.551270</td><td> 48.902440</td><td>104.62</td><td>  3.6</td><td> 3.4</td></tr>\n",
       "</tbody>\n",
       "</table>\n"
      ],
      "text/latex": [
       "A tibble: 6 × 28\n",
       "\\begin{tabular}{lllllllllllllllllllll}\n",
       " month & 规模以上工业增加值\\_当期同比实际增速 & 发电量\\_当期同比增速 & 原煤产量\\_当期同比增速 & 焦炭产量\\_当期同比增速 & 粗钢产量\\_当期同比增速 & 钢材产量\\_当期同比增速 & 原油产量\\_当期同比增速 & 乙烯产量\\_当期同比增速 & 十种有色金属产量\\_当期同比增速 & ⋯ & 房地产开发企业新增固定资产\\_当期实际同比增速 & 房地产开发投资\\_住宅\\_当期实际同比增速 & 房地产开发企业房屋施工面积\\_当期同比增速 & 房地产开发企业房屋竣工面积\\_当期同比增速 & 房地产开发企业商品房销售面积\\_当期同比增速 & 房地产开发企业商品房销售额\\_当期实际同比增速 & 房地产开发企业购置土地面积\\_当期同比增速 & 国房景气指数\\_当期 & 消费者预期指数\\_当期\\_一阶差分 & 消费者满意指数\\_当期\\_一阶差分\\\\\n",
       " <int> & <dbl> & <dbl> & <dbl> & <dbl> & <dbl> & <dbl> & <dbl> & <dbl> & <dbl> & ⋯ & <dbl> & <dbl> & <dbl> & <dbl> & <dbl> & <dbl> & <dbl> & <dbl> & <dbl> & <dbl>\\\\\n",
       "\\hline\n",
       "\t 1 & 14.8 & 10.74 & 10.81 & 16.7 & 14.82 & 15.9 & 0.7 & 25.9 & 12.7 & ⋯ & 10.27205 & -1.718617 &  5.85296 & 11.15378 &  7.948743 &  6.838611 &  31.192800 & 103.65 &   0.5 &  0.0\\\\\n",
       "\t 2 & 19.8 & 23.00 & 16.11 & 22.6 & 19.02 & 19.8 & 1.3 & 16.9 & 17.9 & ⋯ & 10.27205 & -1.718617 &  5.85296 & 11.15378 &  7.948743 &  6.838611 &  31.192800 & 103.94 &   0.1 &  0.2\\\\\n",
       "\t 3 & 16.9 & 16.22 & 16.86 & 12.4 & 18.53 & 14.9 & 1.8 & 13.1 & 17.0 & ⋯ & 52.52615 & 35.634300 & 22.67980 & 25.74326 & 27.351880 & 32.452130 &  14.470640 & 104.15 &  -0.4 & -0.1\\\\\n",
       "\t 4 & 14.9 & 14.14 & 14.88 & 23.2 & 21.78 & 16.4 & 3.0 &  9.7 & 14.9 & ⋯ & 33.75165 & 18.972630 & 12.43416 & 24.99733 & 22.836230 & 33.408450 &   9.018992 & 104.30 & -12.0 & -8.1\\\\\n",
       "\t 5 & 13.7 & 13.38 & 18.68 & 19.5 & 20.93 & 15.6 & 2.4 & 18.9 & 17.2 & ⋯ & 13.73498 & 16.935470 & 46.32653 & 52.32079 & 43.511140 & 48.758230 & 194.722400 & 104.46 &  -4.2 & -2.5\\\\\n",
       "\t 6 & 16.9 & 13.05 & 21.39 & 24.2 & 23.45 & 19.8 & 2.7 & 10.5 & 23.7 & ⋯ & 34.29339 & 32.410120 & 26.53339 & 36.84499 & 36.376030 & 36.551270 &  48.902440 & 104.62 &   3.6 &  3.4\\\\\n",
       "\\end{tabular}\n"
      ],
      "text/markdown": [
       "\n",
       "A tibble: 6 × 28\n",
       "\n",
       "| month &lt;int&gt; | 规模以上工业增加值_当期同比实际增速 &lt;dbl&gt; | 发电量_当期同比增速 &lt;dbl&gt; | 原煤产量_当期同比增速 &lt;dbl&gt; | 焦炭产量_当期同比增速 &lt;dbl&gt; | 粗钢产量_当期同比增速 &lt;dbl&gt; | 钢材产量_当期同比增速 &lt;dbl&gt; | 原油产量_当期同比增速 &lt;dbl&gt; | 乙烯产量_当期同比增速 &lt;dbl&gt; | 十种有色金属产量_当期同比增速 &lt;dbl&gt; | ⋯ ⋯ | 房地产开发企业新增固定资产_当期实际同比增速 &lt;dbl&gt; | 房地产开发投资_住宅_当期实际同比增速 &lt;dbl&gt; | 房地产开发企业房屋施工面积_当期同比增速 &lt;dbl&gt; | 房地产开发企业房屋竣工面积_当期同比增速 &lt;dbl&gt; | 房地产开发企业商品房销售面积_当期同比增速 &lt;dbl&gt; | 房地产开发企业商品房销售额_当期实际同比增速 &lt;dbl&gt; | 房地产开发企业购置土地面积_当期同比增速 &lt;dbl&gt; | 国房景气指数_当期 &lt;dbl&gt; | 消费者预期指数_当期_一阶差分 &lt;dbl&gt; | 消费者满意指数_当期_一阶差分 &lt;dbl&gt; |\n",
       "|---|---|---|---|---|---|---|---|---|---|---|---|---|---|---|---|---|---|---|---|---|\n",
       "| 1 | 14.8 | 10.74 | 10.81 | 16.7 | 14.82 | 15.9 | 0.7 | 25.9 | 12.7 | ⋯ | 10.27205 | -1.718617 |  5.85296 | 11.15378 |  7.948743 |  6.838611 |  31.192800 | 103.65 |   0.5 |  0.0 |\n",
       "| 2 | 19.8 | 23.00 | 16.11 | 22.6 | 19.02 | 19.8 | 1.3 | 16.9 | 17.9 | ⋯ | 10.27205 | -1.718617 |  5.85296 | 11.15378 |  7.948743 |  6.838611 |  31.192800 | 103.94 |   0.1 |  0.2 |\n",
       "| 3 | 16.9 | 16.22 | 16.86 | 12.4 | 18.53 | 14.9 | 1.8 | 13.1 | 17.0 | ⋯ | 52.52615 | 35.634300 | 22.67980 | 25.74326 | 27.351880 | 32.452130 |  14.470640 | 104.15 |  -0.4 | -0.1 |\n",
       "| 4 | 14.9 | 14.14 | 14.88 | 23.2 | 21.78 | 16.4 | 3.0 |  9.7 | 14.9 | ⋯ | 33.75165 | 18.972630 | 12.43416 | 24.99733 | 22.836230 | 33.408450 |   9.018992 | 104.30 | -12.0 | -8.1 |\n",
       "| 5 | 13.7 | 13.38 | 18.68 | 19.5 | 20.93 | 15.6 | 2.4 | 18.9 | 17.2 | ⋯ | 13.73498 | 16.935470 | 46.32653 | 52.32079 | 43.511140 | 48.758230 | 194.722400 | 104.46 |  -4.2 | -2.5 |\n",
       "| 6 | 16.9 | 13.05 | 21.39 | 24.2 | 23.45 | 19.8 | 2.7 | 10.5 | 23.7 | ⋯ | 34.29339 | 32.410120 | 26.53339 | 36.84499 | 36.376030 | 36.551270 |  48.902440 | 104.62 |   3.6 |  3.4 |\n",
       "\n"
      ],
      "text/plain": [
       "  month 规模以上工业增加值_当期同比实际增速 发电量_当期同比增速\n",
       "1 1     14.8                                10.74              \n",
       "2 2     19.8                                23.00              \n",
       "3 3     16.9                                16.22              \n",
       "4 4     14.9                                14.14              \n",
       "5 5     13.7                                13.38              \n",
       "6 6     16.9                                13.05              \n",
       "  原煤产量_当期同比增速 焦炭产量_当期同比增速 粗钢产量_当期同比增速\n",
       "1 10.81                 16.7                  14.82                \n",
       "2 16.11                 22.6                  19.02                \n",
       "3 16.86                 12.4                  18.53                \n",
       "4 14.88                 23.2                  21.78                \n",
       "5 18.68                 19.5                  20.93                \n",
       "6 21.39                 24.2                  23.45                \n",
       "  钢材产量_当期同比增速 原油产量_当期同比增速 乙烯产量_当期同比增速\n",
       "1 15.9                  0.7                   25.9                 \n",
       "2 19.8                  1.3                   16.9                 \n",
       "3 14.9                  1.8                   13.1                 \n",
       "4 16.4                  3.0                    9.7                 \n",
       "5 15.6                  2.4                   18.9                 \n",
       "6 19.8                  2.7                   10.5                 \n",
       "  十种有色金属产量_当期同比增速 ⋯ 房地产开发企业新增固定资产_当期实际同比增速\n",
       "1 12.7                          ⋯ 10.27205                                   \n",
       "2 17.9                          ⋯ 10.27205                                   \n",
       "3 17.0                          ⋯ 52.52615                                   \n",
       "4 14.9                          ⋯ 33.75165                                   \n",
       "5 17.2                          ⋯ 13.73498                                   \n",
       "6 23.7                          ⋯ 34.29339                                   \n",
       "  房地产开发投资_住宅_当期实际同比增速 房地产开发企业房屋施工面积_当期同比增速\n",
       "1 -1.718617                             5.85296                               \n",
       "2 -1.718617                             5.85296                               \n",
       "3 35.634300                            22.67980                               \n",
       "4 18.972630                            12.43416                               \n",
       "5 16.935470                            46.32653                               \n",
       "6 32.410120                            26.53339                               \n",
       "  房地产开发企业房屋竣工面积_当期同比增速\n",
       "1 11.15378                               \n",
       "2 11.15378                               \n",
       "3 25.74326                               \n",
       "4 24.99733                               \n",
       "5 52.32079                               \n",
       "6 36.84499                               \n",
       "  房地产开发企业商品房销售面积_当期同比增速\n",
       "1  7.948743                                \n",
       "2  7.948743                                \n",
       "3 27.351880                                \n",
       "4 22.836230                                \n",
       "5 43.511140                                \n",
       "6 36.376030                                \n",
       "  房地产开发企业商品房销售额_当期实际同比增速\n",
       "1  6.838611                                  \n",
       "2  6.838611                                  \n",
       "3 32.452130                                  \n",
       "4 33.408450                                  \n",
       "5 48.758230                                  \n",
       "6 36.551270                                  \n",
       "  房地产开发企业购置土地面积_当期同比增速 国房景气指数_当期\n",
       "1  31.192800                              103.65           \n",
       "2  31.192800                              103.94           \n",
       "3  14.470640                              104.15           \n",
       "4   9.018992                              104.30           \n",
       "5 194.722400                              104.46           \n",
       "6  48.902440                              104.62           \n",
       "  消费者预期指数_当期_一阶差分 消费者满意指数_当期_一阶差分\n",
       "1   0.5                         0.0                        \n",
       "2   0.1                         0.2                        \n",
       "3  -0.4                        -0.1                        \n",
       "4 -12.0                        -8.1                        \n",
       "5  -4.2                        -2.5                        \n",
       "6   3.6                         3.4                        "
      ]
     },
     "metadata": {},
     "output_type": "display_data"
    }
   ],
   "source": [
    "head(X[, 1:28])"
   ]
  },
  {
   "cell_type": "code",
   "execution_count": 130,
   "metadata": {
    "vscode": {
     "languageId": "r"
    }
   },
   "outputs": [],
   "source": [
    "x_scale <- scale_new(X)\n",
    "lncpi_scale <- scale_new(lncpi)"
   ]
  },
  {
   "cell_type": "code",
   "execution_count": 131,
   "metadata": {
    "vscode": {
     "languageId": "r"
    }
   },
   "outputs": [
    {
     "data": {
      "text/html": [
       "<style>\n",
       ".list-inline {list-style: none; margin:0; padding: 0}\n",
       ".list-inline>li {display: inline-block}\n",
       ".list-inline>li:not(:last-child)::after {content: \"\\00b7\"; padding: 0 .5ex}\n",
       "</style>\n",
       "<ol class=list-inline><li>132</li><li>1</li></ol>\n"
      ],
      "text/latex": [
       "\\begin{enumerate*}\n",
       "\\item 132\n",
       "\\item 1\n",
       "\\end{enumerate*}\n"
      ],
      "text/markdown": [
       "1. 132\n",
       "2. 1\n",
       "\n",
       "\n"
      ],
      "text/plain": [
       "[1] 132   1"
      ]
     },
     "metadata": {},
     "output_type": "display_data"
    },
    {
     "data": {
      "text/html": [
       "<style>\n",
       ".list-inline {list-style: none; margin:0; padding: 0}\n",
       ".list-inline>li {display: inline-block}\n",
       ".list-inline>li:not(:last-child)::after {content: \"\\00b7\"; padding: 0 .5ex}\n",
       "</style>\n",
       "<ol class=list-inline><li>132</li><li>152</li></ol>\n"
      ],
      "text/latex": [
       "\\begin{enumerate*}\n",
       "\\item 132\n",
       "\\item 152\n",
       "\\end{enumerate*}\n"
      ],
      "text/markdown": [
       "1. 132\n",
       "2. 152\n",
       "\n",
       "\n"
      ],
      "text/plain": [
       "[1] 132 152"
      ]
     },
     "metadata": {},
     "output_type": "display_data"
    }
   ],
   "source": [
    "y_train = as.matrix(train[, 1])\n",
    "x_train = as.matrix(train[, 2:153])\n",
    "\n",
    "y_test = as.matrix(test[, 1])\n",
    "x_test = as.matrix(test[, 2:length(test)])\n",
    "\n",
    "dim(y_train)\n",
    "dim(x_train)"
   ]
  },
  {
   "cell_type": "code",
   "execution_count": 136,
   "metadata": {
    "vscode": {
     "languageId": "r"
    }
   },
   "outputs": [
    {
     "data": {
      "text/html": [
       "<style>\n",
       ".list-inline {list-style: none; margin:0; padding: 0}\n",
       ".list-inline>li {display: inline-block}\n",
       ".list-inline>li:not(:last-child)::after {content: \"\\00b7\"; padding: 0 .5ex}\n",
       "</style>\n",
       "<ol class=list-inline><li>132</li><li>153</li></ol>\n"
      ],
      "text/latex": [
       "\\begin{enumerate*}\n",
       "\\item 132\n",
       "\\item 153\n",
       "\\end{enumerate*}\n"
      ],
      "text/markdown": [
       "1. 132\n",
       "2. 153\n",
       "\n",
       "\n"
      ],
      "text/plain": [
       "[1] 132 153"
      ]
     },
     "metadata": {},
     "output_type": "display_data"
    },
    {
     "data": {
      "text/html": [
       "<style>\n",
       ".list-inline {list-style: none; margin:0; padding: 0}\n",
       ".list-inline>li {display: inline-block}\n",
       ".list-inline>li:not(:last-child)::after {content: \"\\00b7\"; padding: 0 .5ex}\n",
       "</style>\n",
       "<ol class=list-inline><li>24</li><li>153</li></ol>\n"
      ],
      "text/latex": [
       "\\begin{enumerate*}\n",
       "\\item 24\n",
       "\\item 153\n",
       "\\end{enumerate*}\n"
      ],
      "text/markdown": [
       "1. 24\n",
       "2. 153\n",
       "\n",
       "\n"
      ],
      "text/plain": [
       "[1]  24 153"
      ]
     },
     "metadata": {},
     "output_type": "display_data"
    }
   ],
   "source": [
    "dim(train)\n",
    "dim(test)"
   ]
  },
  {
   "cell_type": "code",
   "execution_count": 146,
   "metadata": {
    "vscode": {
     "languageId": "r"
    }
   },
   "outputs": [
    {
     "name": "stdout",
     "output_type": "stream",
     "text": [
      "Model: \"sequential_5\"\n",
      "________________________________________________________________________________\n",
      " Layer (type)                       Output Shape                    Param #     \n",
      "================================================================================\n",
      " lstm_5 (LSTM)                      (None, 1, 20)                   5120        \n",
      " dense_5 (Dense)                    (None, 1, 1)                    21          \n",
      "================================================================================\n",
      "Total params: 5,141\n",
      "Trainable params: 5,141\n",
      "Non-trainable params: 0\n",
      "________________________________________________________________________________\n"
     ]
    }
   ],
   "source": [
    "lncpi_scale <- scale(lncpi)\n",
    "cpi_tslm <-ts.lstm(ts=lncpi_scale ,xreg = X_pca, tsLag=1, xregLag = 0, LSTMUnits=20, Epochs=50, SplitRatio = 0.84)"
   ]
  },
  {
   "cell_type": "code",
   "execution_count": 147,
   "metadata": {
    "vscode": {
     "languageId": "r"
    }
   },
   "outputs": [
    {
     "data": {
      "text/html": [
       "<style>\n",
       ".list-inline {list-style: none; margin:0; padding: 0}\n",
       ".list-inline>li {display: inline-block}\n",
       ".list-inline>li:not(:last-child)::after {content: \"\\00b7\"; padding: 0 .5ex}\n",
       "</style>\n",
       "<ol class=list-inline><li>-0.731589956495002</li><li>-0.672095414982338</li><li>-0.124067117611861</li><li>-0.721001078438905</li><li>-0.318048983895098</li><li>-0.348633590861524</li><li>-0.670761636110791</li><li>-0.31554705309466</li><li>0.0759918261229</li><li>-0.066040726035333</li><li>-0.507624063481848</li><li>-0.30599648362352</li><li>-0.20118150313522</li><li>0.269755193370675</li><li>0.0221180846641795</li><li>0.233678023083685</li><li>0.260962359859411</li><li>0.433780199247923</li><li>0.278515018337812</li><li>0.106422198476059</li><li>-0.178091588351729</li><li>-0.00340920438654532</li><li>0.0507353239784222</li><li>0.179990648449329</li></ol>\n"
      ],
      "text/latex": [
       "\\begin{enumerate*}\n",
       "\\item -0.731589956495002\n",
       "\\item -0.672095414982338\n",
       "\\item -0.124067117611861\n",
       "\\item -0.721001078438905\n",
       "\\item -0.318048983895098\n",
       "\\item -0.348633590861524\n",
       "\\item -0.670761636110791\n",
       "\\item -0.31554705309466\n",
       "\\item 0.0759918261229\n",
       "\\item -0.066040726035333\n",
       "\\item -0.507624063481848\n",
       "\\item -0.30599648362352\n",
       "\\item -0.20118150313522\n",
       "\\item 0.269755193370675\n",
       "\\item 0.0221180846641795\n",
       "\\item 0.233678023083685\n",
       "\\item 0.260962359859411\n",
       "\\item 0.433780199247923\n",
       "\\item 0.278515018337812\n",
       "\\item 0.106422198476059\n",
       "\\item -0.178091588351729\n",
       "\\item -0.00340920438654532\n",
       "\\item 0.0507353239784222\n",
       "\\item 0.179990648449329\n",
       "\\end{enumerate*}\n"
      ],
      "text/markdown": [
       "1. -0.731589956495002\n",
       "2. -0.672095414982338\n",
       "3. -0.124067117611861\n",
       "4. -0.721001078438905\n",
       "5. -0.318048983895098\n",
       "6. -0.348633590861524\n",
       "7. -0.670761636110791\n",
       "8. -0.31554705309466\n",
       "9. 0.0759918261229\n",
       "10. -0.066040726035333\n",
       "11. -0.507624063481848\n",
       "12. -0.30599648362352\n",
       "13. -0.20118150313522\n",
       "14. 0.269755193370675\n",
       "15. 0.0221180846641795\n",
       "16. 0.233678023083685\n",
       "17. 0.260962359859411\n",
       "18. 0.433780199247923\n",
       "19. 0.278515018337812\n",
       "20. 0.106422198476059\n",
       "21. -0.178091588351729\n",
       "22. -0.00340920438654532\n",
       "23. 0.0507353239784222\n",
       "24. 0.179990648449329\n",
       "\n",
       "\n"
      ],
      "text/plain": [
       ", , 1\n",
       "\n",
       "              [,1]\n",
       " [1,] -0.731589956\n",
       " [2,] -0.672095415\n",
       " [3,] -0.124067118\n",
       " [4,] -0.721001078\n",
       " [5,] -0.318048984\n",
       " [6,] -0.348633591\n",
       " [7,] -0.670761636\n",
       " [8,] -0.315547053\n",
       " [9,]  0.075991826\n",
       "[10,] -0.066040726\n",
       "[11,] -0.507624063\n",
       "[12,] -0.305996484\n",
       "[13,] -0.201181503\n",
       "[14,]  0.269755193\n",
       "[15,]  0.022118085\n",
       "[16,]  0.233678023\n",
       "[17,]  0.260962360\n",
       "[18,]  0.433780199\n",
       "[19,]  0.278515018\n",
       "[20,]  0.106422198\n",
       "[21,] -0.178091588\n",
       "[22,] -0.003409204\n",
       "[23,]  0.050735324\n",
       "[24,]  0.179990648\n"
      ]
     },
     "metadata": {},
     "output_type": "display_data"
    },
    {
     "data": {
      "text/html": [
       "24"
      ],
      "text/latex": [
       "24"
      ],
      "text/markdown": [
       "24"
      ],
      "text/plain": [
       "[1] 24"
      ]
     },
     "metadata": {},
     "output_type": "display_data"
    }
   ],
   "source": [
    "cpi_tslm$TestPredictedValue\n",
    "length(cpi_tslm$TestPredictedValue)"
   ]
  },
  {
   "cell_type": "code",
   "execution_count": 148,
   "metadata": {
    "vscode": {
     "languageId": "r"
    }
   },
   "outputs": [
    {
     "data": {
      "text/html": [
       "0.0757223059577626"
      ],
      "text/latex": [
       "0.0757223059577626"
      ],
      "text/markdown": [
       "0.0757223059577626"
      ],
      "text/plain": [
       "[1] 0.07572231"
      ]
     },
     "metadata": {},
     "output_type": "display_data"
    },
    {
     "data": {
      "text/html": [
       "0.0554512241840516"
      ],
      "text/latex": [
       "0.0554512241840516"
      ],
      "text/markdown": [
       "0.0554512241840516"
      ],
      "text/plain": [
       "[1] 0.05545122"
      ]
     },
     "metadata": {},
     "output_type": "display_data"
    },
    {
     "data": {
      "text/html": [
       "-0.365565991950474"
      ],
      "text/latex": [
       "-0.365565991950474"
      ],
      "text/markdown": [
       "-0.365565991950474"
      ],
      "text/plain": [
       "[1] -0.365566"
      ]
     },
     "metadata": {},
     "output_type": "display_data"
    }
   ],
   "source": [
    "lstm_rss <- var(lncpi_scale[133:156] - cpi_tslm$TestPredictedValue)\n",
    "lstm_tss <- var(lncpi_scale[133:156])\n",
    "lstm_rsq <- 1 - (lstm_rss / lstm_tss)\n",
    "lstm_rss\n",
    "lstm_tss\n",
    "lstm_rsq"
   ]
  }
 ],
 "metadata": {
  "kernelspec": {
   "display_name": "R",
   "language": "R",
   "name": "ir"
  },
  "language_info": {
   "codemirror_mode": "r",
   "file_extension": ".r",
   "mimetype": "text/x-r-source",
   "name": "R",
   "pygments_lexer": "r",
   "version": "4.2.3"
  },
  "orig_nbformat": 4
 },
 "nbformat": 4,
 "nbformat_minor": 2
}
