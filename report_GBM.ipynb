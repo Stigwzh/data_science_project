{
 "cells": [
  {
   "cell_type": "markdown",
   "id": "238afc82",
   "metadata": {},
   "source": [
    "## Gradient Boosting Machine"
   ]
  },
  {
   "cell_type": "markdown",
   "id": "c561ef29",
   "metadata": {},
   "source": [
    "### Introduction\n",
    "Gradient boosting gives a prediction model in the form of an ensemble of weak prediction models, which are typically decision trees.When a decision tree is the weak learner, the resulting algorithm is called gradient-boosted trees, it usually outperforms random forest.We implement this algorithm mainly through the package **gbm**."
   ]
  },
  {
   "cell_type": "markdown",
   "id": "4a552bb2",
   "metadata": {},
   "source": [
    "### Process\n",
    "(1) Use the original data $d^0(x_i,y_i)$ to grow a shallow tree $\\hat{r}^0(d^0)$. Save the prediction $f^0_i=\\alpha\\cdot\\hat{r}^0(d^0,x_i)$, where $\\alpha\\in[0,1]$ is a shrinkage tuning parameter. Save the residual $e^0_i=y_i-f^0_i$, set $𝑚=1$.\n",
    "\n",
    "(2) In the m-th iteration, use the data $d^m=(x_i,e^{m-1}_i)$ to grow a shallow tree $\\hat{r}^m(d^m)$. Save the prediction $f^m_i=f^{m-1}+\\alpha\\cdot\\hat{r}^m(d,x_i)$. Save the residual $e^m_i=y_i-f^m_i$. Update $𝑚=𝑚+1$.\n",
    "\n",
    "(3) Repeat step (2) until $𝑚>𝑀$.\n",
    "\n",
    "There are three tuning parameters: the tree depth, the hrinkage level $\\alpha$, and the number of iterations $M$.The algorithm can be sensitive to any of the three tuning parameters."
   ]
  },
  {
   "cell_type": "code",
   "execution_count": 1,
   "id": "9b90bbe9",
   "metadata": {},
   "outputs": [],
   "source": [
    "load(url(\"https://github.com/zhentaoshi/Econ5821/raw/main/data_example/dataset_inf.Rdata\"))"
   ]
  },
  {
   "cell_type": "code",
   "execution_count": null,
   "id": "aa39064a",
   "metadata": {},
   "outputs": [],
   "source": [
    "library(ggplot2)\n",
    "library(caret)"
   ]
  },
  {
   "cell_type": "markdown",
   "id": "63ba0996",
   "metadata": {},
   "source": [
    "We first calculate the infaltion rate by CPI and PPI respectively, y is CPI or PPI\n",
    "\\begin{aligned}\n",
    "inflation\\_rate_t=logy_t-logy_{t-12}\n",
    "\\end{aligned}\n",
    "This process is finished only by using the true data (i.e.the variable X), thus there is no inflation data for the first 12 months, that leaves 156 months of valid samples."
   ]
  },
  {
   "cell_type": "code",
   "execution_count": 7,
   "id": "e6ba71d6",
   "metadata": {},
   "outputs": [],
   "source": [
    "lncpi=log(cpi[13:168,2])-log(cpi[1:156,2])\n",
    "lnppi=log(ppi[13:168,2])-log(ppi[1:156,2])\n",
    "data=list()\n",
    "for (i in 1:12){\n",
    "  j=1\n",
    "  data[[i]]=cbind(lnppi,X[12:167,-1])\n",
    "  data[[i]]=cbind(lncpi,data[[i]])\n",
    "  while (j<i){\n",
    "    a=12-j\n",
    "    b=167-j\n",
    "    data[[i]]=cbind(data[[i]],X[a:b,-1])\n",
    "    j=j+1\n",
    "  }\n",
    "}"
   ]
  },
  {
   "cell_type": "markdown",
   "id": "b822361c",
   "metadata": {},
   "source": [
    "### Model and cross-validation\n",
    "We chose 12 models for predicting inflation, using the previous month's data to predict this month's inflation, the previous two months'data to predict this month's inflation, and so on, until we used the previous 12 months' data (i.e. the previous year) to predict this month's inflation rate.\n",
    "\n",
    "In addition, we choose ten ways of cross validation. After calculating the inflation rate, the remaining effective samples are 168-12=156. Then, we scroll forward 10 training sets and test sets, that is, 1\\~119 is the first training set, 120\\~147 is the first test set, and so on, 10\\~128 is the tenth training set. 129\\~156 are the tenth test set.\n",
    "\n",
    "We want to find the optimal combination of the 12 kinds of model and 10 kinds of CV way which maximize the out-of-sample R-squared, so we must carry on the $12\\times10\\times2=240$ gradient boosting (because we predict inflation rate by CPI and PPI respectively). This process is very time consuming, therefore, after testing the 240 groups of data, we directly saved the $OOSR^2$ of each group into csv format, and then imported it again. The test results are shown as follows"
   ]
  },
  {
   "cell_type": "code",
   "execution_count": 3,
   "id": "c0a6f02b",
   "metadata": {},
   "outputs": [],
   "source": [
    "oosr2_cpi120 <- read.csv(\"oosr2_cpi120.csv\")\n",
    "oosr2_ppi120 <- read.csv(\"oosr2_ppi120.csv\")"
   ]
  },
  {
   "cell_type": "code",
   "execution_count": 4,
   "id": "7c9570b9",
   "metadata": {
    "scrolled": true
   },
   "outputs": [
    {
     "name": "stdout",
     "output_type": "stream",
     "text": [
      "           X1         X2         X3         X4         X5         X6         X7\n",
      "1  -2.1270952 -1.2645598 -1.4995397 -1.2668101 -0.8747479 -1.4328229 -1.5503644\n",
      "2  -2.3154038 -1.4903361 -1.7096985 -1.5786795 -1.6738299 -1.1281805 -1.8695058\n",
      "3  -3.0684543 -2.2195160 -2.1414251 -2.3413812 -2.3035555 -2.4125904 -2.9506426\n",
      "4  -4.1376336 -2.5537516 -2.7002909 -2.5250023 -2.5182187 -2.3678646 -2.5301269\n",
      "5  -3.8336805 -3.0200669 -3.0871249 -2.6072330 -2.8560092 -2.5116202 -2.7337069\n",
      "6  -4.1075939 -3.0093585 -2.6219677 -2.7585321 -2.5439862 -2.5807481 -3.1238324\n",
      "7  -2.4465449 -2.5565635 -1.8468409 -1.6290394 -1.5637518 -1.4402715 -1.7569179\n",
      "8  -2.3455807 -2.0104842 -1.8003079 -1.3138605 -1.2679463 -1.0735196 -1.3142001\n",
      "9  -2.8070677 -1.7416703 -1.4196684 -1.3394062 -1.3100710 -1.1164167 -1.0853617\n",
      "10 -2.1976207 -1.9451709 -1.6226080 -1.1008767 -1.2507020 -0.9610143 -1.2229302\n",
      "11 -2.1002124 -1.3769110 -1.5897562 -0.8319165 -0.9313446 -0.9234934 -1.2720540\n",
      "12 -0.8252072 -0.4795412 -0.4728869 -0.5311110 -0.4870482 -0.3039588 -0.7388897\n",
      "           X8         X9        X10\n",
      "1  -1.4434758 -1.3816727 -1.2786238\n",
      "2  -1.7676040 -1.9806270 -1.8085441\n",
      "3  -2.8618966 -2.3988088 -2.4988161\n",
      "4  -2.7115372 -3.0921268 -2.3058741\n",
      "5  -2.7711079 -2.7471015 -2.4293002\n",
      "6  -2.3089703 -2.3202804 -1.9776205\n",
      "7  -1.4709147 -1.7399107 -1.1554981\n",
      "8  -1.1417701 -1.0464936 -0.9969826\n",
      "9  -1.0657958 -0.8736878 -0.9528853\n",
      "10 -0.9879734 -0.6512937 -0.7428287\n",
      "11 -1.0030309 -0.7961383 -0.6502278\n",
      "12 -0.5828769 -0.5226143 -0.3315259\n",
      "            X1          X2          X3         X4          X5        X6\n",
      "1  -0.69113318 -0.37988954 -0.09270072  0.1209994 -0.02468912 0.1409335\n",
      "2  -0.82177288 -0.38312370 -0.30422218 -0.1189016  0.11536652 0.2069004\n",
      "3  -0.43141572 -0.20273370 -0.12051979  0.1773155  0.33955401 0.4354983\n",
      "4  -0.28895014 -0.02103221  0.28926084  0.4521657  0.59477653 0.6125408\n",
      "5   0.01683965  0.17045916  0.49161559  0.6389073  0.61634822 0.6812648\n",
      "6   0.35011486  0.31543181  0.50704500  0.6658907  0.62731498 0.6872704\n",
      "7   0.25704082  0.49016959  0.59941319  0.6987534  0.67558916 0.6828131\n",
      "8   0.46686503  0.54964710  0.68468833  0.7929955  0.68038262 0.5911228\n",
      "9   0.66613353  0.71510834  0.64882507  0.7638126  0.75967505 0.6685723\n",
      "10  0.75647866  0.74373773  0.75814275  0.7868653  0.67228913 0.5341364\n",
      "11  0.75312726  0.71615513  0.68333052  0.6802799  0.53527996 0.4262591\n",
      "12  0.64634699  0.71341425  0.61690133  0.6267994  0.45370897 0.3376533\n",
      "             X7          X8         X9        X10\n",
      "1  -0.046646992 -0.06388970 0.01984774 0.17543108\n",
      "2  -0.009963983 -0.10745509 0.02539278 0.07982812\n",
      "3   0.247894411  0.02803283 0.05300055 0.15706034\n",
      "4   0.453341155  0.30115877 0.22859498 0.25144181\n",
      "5   0.621360119  0.46753486 0.27760478 0.36177286\n",
      "6   0.682188041  0.59495063 0.57088151 0.45446805\n",
      "7   0.601351597  0.57341040 0.39425507 0.46752060\n",
      "8   0.499893761  0.44904615 0.37591324 0.52359475\n",
      "9   0.533625120  0.42482922 0.34202943 0.42180841\n",
      "10  0.364588287  0.35169407 0.29777966 0.34292857\n",
      "11  0.315614569  0.23365795 0.26616238 0.31824508\n",
      "12  0.206970837  0.21506013 0.18655414 0.30340529\n"
     ]
    }
   ],
   "source": [
    "print(oosr2_cpi120)\n",
    "print(oosr2_ppi120)"
   ]
  },
  {
   "cell_type": "markdown",
   "id": "872114aa",
   "metadata": {},
   "source": [
    "We can see that the forecasts for inflation rate calculated by CPI are poor, while some combinations of forecasts for inflation rate by PPI  are OK, so we only forecast for inflation rate by PPI, and we're going to find the combination that makes the out-of-sample R squared the biggest."
   ]
  },
  {
   "cell_type": "code",
   "execution_count": 14,
   "id": "b7d6a7c5",
   "metadata": {},
   "outputs": [
    {
     "name": "stdout",
     "output_type": "stream",
     "text": [
      "The maximum of OOSR2 of forecast by PPI is 0.7929955 \n",
      "The index of this result is [8,4]"
     ]
    }
   ],
   "source": [
    "t=10 #CV number\n",
    "s=12 #model number\n",
    "\n",
    "topnr2 <- function(x,n) {\n",
    "  tempvec <- c(rep(0,120))\n",
    "  for (i in 1:t) {\n",
    "    tempvec[(12*i-11):(12*i)] <- as.vector(x[,i])\n",
    "  }\n",
    "  return(tail(sort(tempvec),n))\n",
    "  rm(tempvec)\n",
    "}\n",
    "\n",
    "top1r2_ppi <- topnr2(oosr2_ppi120,1)\n",
    "cat(\"The maximum of OOSR2 of forecast by PPI is\",top1r2_ppi,\"\\n\")\n",
    "cat(\"The index of this result is [8,4]\")"
   ]
  },
  {
   "cell_type": "code",
   "execution_count": null,
   "id": "1fb436fd-6264-4e47-8220-a0dfe82f0887",
   "metadata": {},
   "outputs": [],
   "source": [
    "install.packages(\"doParallel\")\n",
    "install.packages(\"gbm\")\n",
    "library(doParallel)\n",
    "library(gbm)"
   ]
  },
  {
   "cell_type": "markdown",
   "id": "d70aad8f",
   "metadata": {},
   "source": [
    "### Result of the chosen optimal group\n",
    "Finally, we choose to use the data of the previous 8 months to predict this month's PPI inflation rate, and then scroll forward 4 groups to make cross-validation."
   ]
  },
  {
   "cell_type": "code",
   "execution_count": null,
   "id": "d138c5ce",
   "metadata": {},
   "outputs": [],
   "source": [
    "gbmGrid <- expand.grid(\n",
    "  interaction.depth = seq(from = 10, to = 50, by = 30),\n",
    "  n.trees = seq(from = 1000, to = 10000, by = 4000),\n",
    "  shrinkage = c(0.01),\n",
    "  n.minobsinnode = 20\n",
    ")\n",
    "\n",
    "formula_ppi.GBM <- lnppi ~ .\n",
    "\n",
    "gbmControl=trainControl(method=\"repeatedcv\",number=5,repeats=1)"
   ]
  },
  {
   "cell_type": "code",
   "execution_count": 19,
   "id": "6986e60a",
   "metadata": {},
   "outputs": [],
   "source": [
    "backscale <- function(x,y) {\n",
    "  mean <- y$mean[2]\n",
    "  std <- y$std[2]\n",
    "  for (i in 1:length(x)) {\n",
    "    x[i] <- (x[i] * std) + mean\n",
    "  }\n",
    "  return(x)\n",
    "}"
   ]
  },
  {
   "cell_type": "code",
   "execution_count": 20,
   "id": "e09faf1a",
   "metadata": {},
   "outputs": [],
   "source": [
    "spec.boosting <- function(j,i) {\n",
    "  gbm_optimal <- list()\n",
    "  e=i+118\n",
    "  train_d <- data[[j]][i:e,]\n",
    "  f=e+1\n",
    "  g=i+146\n",
    "  test_d <- data[[j]][f:g,]\n",
    "  \n",
    "  scal <- preProcess(train_d,method = c(\"center\",\"scale\"))\n",
    "  \n",
    "  train_data <- predict(scal,train_d)\n",
    "  test_data <- predict(scal,test_d)\n",
    "  \n",
    "  c=151*j+2\n",
    "  train_ppi = train_data[,c(2,4:c)]\n",
    "  test_ppi = test_data[,c(2,4:c)]\n",
    "  \n",
    "  registerDoParallel(8)\n",
    "  boostingReg_ppi=train(formula_ppi.GBM, \n",
    "                        data = train_ppi,\n",
    "                        method=\"gbm\",\n",
    "                        distribution=\"gaussian\",\n",
    "                        trControl=gbmControl,\n",
    "                        tuneGrid=gbmGrid,\n",
    "                        metric=\"Rsquared\",\n",
    "                        verbose=F)\n",
    "  doParallel::stopImplicitCluster()\n",
    "  \n",
    "  pred_lnppi.boosting <- predict(boostingReg_ppi,newdata=test_ppi)\n",
    "  \n",
    "  gbm_optimal$result <- data.frame(cbind(c(1:nrow(test_data)), test_d$lnppi, backscale(pred_lnppi.boosting,scal)))\n",
    "  names(gbm_optimal$result) <- c(\"Month\", \"Inflation_rate\", \"Forecast\")\n",
    "  \n",
    "  gbm_optimal$oors2 <- 1-var(test_data$lnppi-pred_lnppi.boosting)/var(test_data$lnppi)\n",
    "  \n",
    "  p = ggplot(data = gbm_optimal$result, aes(Month)) + \n",
    "    geom_line(aes(y = Forecast, color = \"Forecast by PPI\"), linetype = \"dashed\") +\n",
    "    geom_line(aes(y = Inflation_rate, color = \"Real\")) +\n",
    "    scale_color_manual('',\n",
    "                       breaks=c('Forecast by PPI', 'Real'),\n",
    "                       values=c('Forecast by PPI'='blue', 'Real'='red')) +\n",
    "    labs(title=\"Forecast of inflation rate by PPI\", x = \"Month\", y = \"Inflation rate (by PPI)\") +\n",
    "    theme(plot.title = element_text(hjust = 0.5)) +\n",
    "    scale_y_continuous(labels=percent)\n",
    "  \n",
    "  gbm_optimal$graph <- p\n",
    "  return(gbm_optimal)\n",
    "}"
   ]
  },
  {
   "cell_type": "code",
   "execution_count": null,
   "id": "b51af545",
   "metadata": {},
   "outputs": [],
   "source": [
    "gbm_optimal <- spec.boosting(8,4)"
   ]
  },
  {
   "cell_type": "code",
   "execution_count": 47,
   "id": "17c668b4",
   "metadata": {},
   "outputs": [
    {
     "name": "stdout",
     "output_type": "stream",
     "text": [
      "The best tuning parameters for GBM are: \n",
      "  n.trees interaction.depth shrinkage n.minobsinnode\n",
      "3    9000                10      0.01             20\n"
     ]
    }
   ],
   "source": [
    "cat(\"The best tuning parameters for GBM are: \\n\");\n",
    "print(boostingReg_ppi$bestTune)"
   ]
  },
  {
   "cell_type": "code",
   "execution_count": 3,
   "id": "6f25019d",
   "metadata": {},
   "outputs": [
    {
     "data": {
      "image/png": "[encoded data removed]",
      "text/plain": [
       "plot without title"
      ]
     },
     "metadata": {
      "image/png": {
       "height": 420,
       "width": 420
      }
     },
     "output_type": "display_data"
    }
   ],
   "source": [
    "print(gbm_optimal$graph)"
   ]
  },
  {
   "cell_type": "code",
   "execution_count": 6,
   "id": "26e5be0a-9076-4d99-bfc5-6146cacd143d",
   "metadata": {},
   "outputs": [
    {
     "name": "stdout",
     "output_type": "stream",
     "text": [
      "The out-of-sample R-squared of [8,4] combination is 0.770423"
     ]
    }
   ],
   "source": [
    "cat(\"The out-of-sample R-squared of [8,4] combination is\",gbm_optimal$oors2)"
   ]
  }
 ],
 "metadata": {
  "kernelspec": {
   "display_name": "R",
   "language": "R",
   "name": "ir"
  },
  "language_info": {
   "codemirror_mode": "r",
   "file_extension": ".r",
   "mimetype": "text/x-r-source",
   "name": "R",
   "pygments_lexer": "r",
   "version": "3.6.1"
  }
 },
 "nbformat": 4,
 "nbformat_minor": 5
}
